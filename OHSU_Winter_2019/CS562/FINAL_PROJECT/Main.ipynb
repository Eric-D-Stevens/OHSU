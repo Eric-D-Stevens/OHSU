{
 "cells": [
  {
   "cell_type": "code",
   "execution_count": 1,
   "metadata": {},
   "outputs": [],
   "source": [
    "\n",
    "\n",
    "import pandas as pd\n",
    "import numpy as np\n",
    "import matplotlib.pyplot as plt\n",
    "import matplotlib.dates as mdates\n",
    "from collections import Counter, defaultdict\n",
    "import random\n",
    "import datetime as dt\n",
    "import matplotlib\n"
   ]
  },
  {
   "cell_type": "markdown",
   "metadata": {},
   "source": [
    "## Data Analysis"
   ]
  },
  {
   "cell_type": "code",
   "execution_count": 2,
   "metadata": {},
   "outputs": [
    {
     "data": {
      "text/html": [
       "<div>\n",
       "<style scoped>\n",
       "    .dataframe tbody tr th:only-of-type {\n",
       "        vertical-align: middle;\n",
       "    }\n",
       "\n",
       "    .dataframe tbody tr th {\n",
       "        vertical-align: top;\n",
       "    }\n",
       "\n",
       "    .dataframe thead th {\n",
       "        text-align: right;\n",
       "    }\n",
       "</style>\n",
       "<table border=\"1\" class=\"dataframe\">\n",
       "  <thead>\n",
       "    <tr style=\"text-align: right;\">\n",
       "      <th></th>\n",
       "      <th>Date</th>\n",
       "      <th>Open</th>\n",
       "      <th>High</th>\n",
       "      <th>Low</th>\n",
       "      <th>Close</th>\n",
       "      <th>Volume</th>\n",
       "      <th>Adj Close</th>\n",
       "    </tr>\n",
       "  </thead>\n",
       "  <tbody>\n",
       "    <tr>\n",
       "      <th>0</th>\n",
       "      <td>2016-07-01</td>\n",
       "      <td>17924.240234</td>\n",
       "      <td>18002.380859</td>\n",
       "      <td>17916.910156</td>\n",
       "      <td>17949.369141</td>\n",
       "      <td>82160000</td>\n",
       "      <td>17949.369141</td>\n",
       "    </tr>\n",
       "    <tr>\n",
       "      <th>1</th>\n",
       "      <td>2016-06-30</td>\n",
       "      <td>17712.759766</td>\n",
       "      <td>17930.609375</td>\n",
       "      <td>17711.800781</td>\n",
       "      <td>17929.990234</td>\n",
       "      <td>133030000</td>\n",
       "      <td>17929.990234</td>\n",
       "    </tr>\n",
       "    <tr>\n",
       "      <th>2</th>\n",
       "      <td>2016-06-29</td>\n",
       "      <td>17456.019531</td>\n",
       "      <td>17704.509766</td>\n",
       "      <td>17456.019531</td>\n",
       "      <td>17694.679688</td>\n",
       "      <td>106380000</td>\n",
       "      <td>17694.679688</td>\n",
       "    </tr>\n",
       "    <tr>\n",
       "      <th>3</th>\n",
       "      <td>2016-06-28</td>\n",
       "      <td>17190.509766</td>\n",
       "      <td>17409.720703</td>\n",
       "      <td>17190.509766</td>\n",
       "      <td>17409.720703</td>\n",
       "      <td>112190000</td>\n",
       "      <td>17409.720703</td>\n",
       "    </tr>\n",
       "    <tr>\n",
       "      <th>4</th>\n",
       "      <td>2016-06-27</td>\n",
       "      <td>17355.210938</td>\n",
       "      <td>17355.210938</td>\n",
       "      <td>17063.080078</td>\n",
       "      <td>17140.240234</td>\n",
       "      <td>138740000</td>\n",
       "      <td>17140.240234</td>\n",
       "    </tr>\n",
       "  </tbody>\n",
       "</table>\n",
       "</div>"
      ],
      "text/plain": [
       "         Date          Open          High           Low         Close  \\\n",
       "0  2016-07-01  17924.240234  18002.380859  17916.910156  17949.369141   \n",
       "1  2016-06-30  17712.759766  17930.609375  17711.800781  17929.990234   \n",
       "2  2016-06-29  17456.019531  17704.509766  17456.019531  17694.679688   \n",
       "3  2016-06-28  17190.509766  17409.720703  17190.509766  17409.720703   \n",
       "4  2016-06-27  17355.210938  17355.210938  17063.080078  17140.240234   \n",
       "\n",
       "      Volume     Adj Close  \n",
       "0   82160000  17949.369141  \n",
       "1  133030000  17929.990234  \n",
       "2  106380000  17694.679688  \n",
       "3  112190000  17409.720703  \n",
       "4  138740000  17140.240234  "
      ]
     },
     "execution_count": 2,
     "metadata": {},
     "output_type": "execute_result"
    }
   ],
   "source": [
    "News = pd.read_csv('./data/RedditNews.csv', error_bad_lines=True)\n",
    "Stock = pd.read_csv('./data/DJIA_table.csv', error_bad_lines=True)\n",
    "Stock.head()"
   ]
  },
  {
   "cell_type": "markdown",
   "metadata": {},
   "source": [
    "### News Data"
   ]
  },
  {
   "cell_type": "code",
   "execution_count": 3,
   "metadata": {},
   "outputs": [
    {
     "data": {
      "text/html": [
       "<div>\n",
       "<style scoped>\n",
       "    .dataframe tbody tr th:only-of-type {\n",
       "        vertical-align: middle;\n",
       "    }\n",
       "\n",
       "    .dataframe tbody tr th {\n",
       "        vertical-align: top;\n",
       "    }\n",
       "\n",
       "    .dataframe thead th {\n",
       "        text-align: right;\n",
       "    }\n",
       "</style>\n",
       "<table border=\"1\" class=\"dataframe\">\n",
       "  <thead>\n",
       "    <tr style=\"text-align: right;\">\n",
       "      <th></th>\n",
       "      <th>Date</th>\n",
       "      <th>News</th>\n",
       "    </tr>\n",
       "  </thead>\n",
       "  <tbody>\n",
       "    <tr>\n",
       "      <th>0</th>\n",
       "      <td>2016-07-01</td>\n",
       "      <td>A 117-year-old woman in Mexico City finally re...</td>\n",
       "    </tr>\n",
       "    <tr>\n",
       "      <th>1</th>\n",
       "      <td>2016-07-01</td>\n",
       "      <td>IMF chief backs Athens as permanent Olympic host</td>\n",
       "    </tr>\n",
       "    <tr>\n",
       "      <th>2</th>\n",
       "      <td>2016-07-01</td>\n",
       "      <td>The president of France says if Brexit won, so...</td>\n",
       "    </tr>\n",
       "    <tr>\n",
       "      <th>3</th>\n",
       "      <td>2016-07-01</td>\n",
       "      <td>British Man Who Must Give Police 24 Hours' Not...</td>\n",
       "    </tr>\n",
       "    <tr>\n",
       "      <th>4</th>\n",
       "      <td>2016-07-01</td>\n",
       "      <td>100+ Nobel laureates urge Greenpeace to stop o...</td>\n",
       "    </tr>\n",
       "  </tbody>\n",
       "</table>\n",
       "</div>"
      ],
      "text/plain": [
       "         Date                                               News\n",
       "0  2016-07-01  A 117-year-old woman in Mexico City finally re...\n",
       "1  2016-07-01   IMF chief backs Athens as permanent Olympic host\n",
       "2  2016-07-01  The president of France says if Brexit won, so...\n",
       "3  2016-07-01  British Man Who Must Give Police 24 Hours' Not...\n",
       "4  2016-07-01  100+ Nobel laureates urge Greenpeace to stop o..."
      ]
     },
     "execution_count": 3,
     "metadata": {},
     "output_type": "execute_result"
    }
   ],
   "source": [
    "News.head()"
   ]
  },
  {
   "cell_type": "markdown",
   "metadata": {},
   "source": [
    "##### Word counts"
   ]
  },
  {
   "cell_type": "code",
   "execution_count": 4,
   "metadata": {},
   "outputs": [],
   "source": [
    "# counts of words\n",
    "counts = Counter()\n",
    "for story in News['News']:\n",
    "    list_of_words = story.split(' ')\n",
    "    for word in list_of_words:\n",
    "        counts[word] += 1"
   ]
  },
  {
   "cell_type": "code",
   "execution_count": 89,
   "metadata": {},
   "outputs": [
    {
     "data": {
      "image/png": "[encoded data removed]",
      "text/plain": [
       "<Figure size 432x288 with 1 Axes>"
      ]
     },
     "metadata": {},
     "output_type": "display_data"
    }
   ],
   "source": [
    "# sparsity of all words\n",
    "\n",
    "count_vals = list(counts.values())\n",
    "count_vals.sort()\n",
    "count_vals.reverse()\n",
    "plt.yscale('log')\n",
    "plt.ylabel('Word Count')\n",
    "plt.xlabel('Individual Words')\n",
    "plt.plot(count_vals)\n",
    "plt.savefig('foo.png', dpi=150)"
   ]
  },
  {
   "cell_type": "code",
   "execution_count": 6,
   "metadata": {},
   "outputs": [
    {
     "data": {
      "text/plain": [
       "[<matplotlib.lines.Line2D at 0x11627d6d8>]"
      ]
     },
     "execution_count": 6,
     "metadata": {},
     "output_type": "execute_result"
    },
    {
     "data": {
      "image/png": "[encoded data removed]",
      "text/plain": [
       "<Figure size 432x288 with 1 Axes>"
      ]
     },
     "metadata": {},
     "output_type": "display_data"
    }
   ],
   "source": [
    "plt.yscale('log')\n",
    "plt.ylabel('Word Count')\n",
    "plt.xlabel('Individual Words')\n",
    "plt.plot(count_vals[:20000])"
   ]
  },
  {
   "cell_type": "markdown",
   "metadata": {},
   "source": [
    "### Stock Data"
   ]
  },
  {
   "cell_type": "code",
   "execution_count": 18,
   "metadata": {},
   "outputs": [
    {
     "data": {
      "text/html": [
       "<div>\n",
       "<style scoped>\n",
       "    .dataframe tbody tr th:only-of-type {\n",
       "        vertical-align: middle;\n",
       "    }\n",
       "\n",
       "    .dataframe tbody tr th {\n",
       "        vertical-align: top;\n",
       "    }\n",
       "\n",
       "    .dataframe thead th {\n",
       "        text-align: right;\n",
       "    }\n",
       "</style>\n",
       "<table border=\"1\" class=\"dataframe\">\n",
       "  <thead>\n",
       "    <tr style=\"text-align: right;\">\n",
       "      <th></th>\n",
       "      <th>Date</th>\n",
       "      <th>Open</th>\n",
       "      <th>High</th>\n",
       "      <th>Low</th>\n",
       "      <th>Close</th>\n",
       "      <th>Volume</th>\n",
       "      <th>Adj Close</th>\n",
       "    </tr>\n",
       "  </thead>\n",
       "  <tbody>\n",
       "    <tr>\n",
       "      <th>0</th>\n",
       "      <td>2016-07-01</td>\n",
       "      <td>17924.240234</td>\n",
       "      <td>18002.380859</td>\n",
       "      <td>17916.910156</td>\n",
       "      <td>17949.369141</td>\n",
       "      <td>82160000</td>\n",
       "      <td>17949.369141</td>\n",
       "    </tr>\n",
       "    <tr>\n",
       "      <th>1</th>\n",
       "      <td>2016-06-30</td>\n",
       "      <td>17712.759766</td>\n",
       "      <td>17930.609375</td>\n",
       "      <td>17711.800781</td>\n",
       "      <td>17929.990234</td>\n",
       "      <td>133030000</td>\n",
       "      <td>17929.990234</td>\n",
       "    </tr>\n",
       "    <tr>\n",
       "      <th>2</th>\n",
       "      <td>2016-06-29</td>\n",
       "      <td>17456.019531</td>\n",
       "      <td>17704.509766</td>\n",
       "      <td>17456.019531</td>\n",
       "      <td>17694.679688</td>\n",
       "      <td>106380000</td>\n",
       "      <td>17694.679688</td>\n",
       "    </tr>\n",
       "    <tr>\n",
       "      <th>3</th>\n",
       "      <td>2016-06-28</td>\n",
       "      <td>17190.509766</td>\n",
       "      <td>17409.720703</td>\n",
       "      <td>17190.509766</td>\n",
       "      <td>17409.720703</td>\n",
       "      <td>112190000</td>\n",
       "      <td>17409.720703</td>\n",
       "    </tr>\n",
       "    <tr>\n",
       "      <th>4</th>\n",
       "      <td>2016-06-27</td>\n",
       "      <td>17355.210938</td>\n",
       "      <td>17355.210938</td>\n",
       "      <td>17063.080078</td>\n",
       "      <td>17140.240234</td>\n",
       "      <td>138740000</td>\n",
       "      <td>17140.240234</td>\n",
       "    </tr>\n",
       "  </tbody>\n",
       "</table>\n",
       "</div>"
      ],
      "text/plain": [
       "         Date          Open          High           Low         Close  \\\n",
       "0  2016-07-01  17924.240234  18002.380859  17916.910156  17949.369141   \n",
       "1  2016-06-30  17712.759766  17930.609375  17711.800781  17929.990234   \n",
       "2  2016-06-29  17456.019531  17704.509766  17456.019531  17694.679688   \n",
       "3  2016-06-28  17190.509766  17409.720703  17190.509766  17409.720703   \n",
       "4  2016-06-27  17355.210938  17355.210938  17063.080078  17140.240234   \n",
       "\n",
       "      Volume     Adj Close  \n",
       "0   82160000  17949.369141  \n",
       "1  133030000  17929.990234  \n",
       "2  106380000  17694.679688  \n",
       "3  112190000  17409.720703  \n",
       "4  138740000  17140.240234  "
      ]
     },
     "execution_count": 18,
     "metadata": {},
     "output_type": "execute_result"
    }
   ],
   "source": [
    "Stock.head()"
   ]
  },
  {
   "cell_type": "code",
   "execution_count": 21,
   "metadata": {},
   "outputs": [
    {
     "data": {
      "image/png": "[encoded data removed]",
      "text/plain": [
       "<Figure size 432x288 with 1 Axes>"
      ]
     },
     "metadata": {},
     "output_type": "display_data"
    }
   ],
   "source": [
    "dates = list(Stock.Date)\n",
    "prices = list(Stock['Adj Close'])\n",
    "\n",
    "\n",
    "date_objs = [dt.datetime.strptime(d,'%Y-%m-%d').date() for d in dates]\n",
    "plt.ylabel('Adj. Closing Price')\n",
    "plt.xlabel('Date')\n",
    "plt.plot(date_objs, prices)\n",
    "plt.savefig('foo.png', dpi=150)"
   ]
  },
  {
   "cell_type": "code",
   "execution_count": 49,
   "metadata": {},
   "outputs": [
    {
     "name": "stdout",
     "output_type": "stream",
     "text": [
      "923 1065\n",
      "1988\n"
     ]
    }
   ],
   "source": [
    "custom_labels = []\n",
    "is_0=0\n",
    "is_1=0\n",
    "for i in range(len(prices)-1):\n",
    "    custom_labels.append(int(prices[i]<=prices[i+1]))\n",
    "    if prices[i]<=prices[i+1]: is_1 +=1\n",
    "    else: is_0 +=1\n",
    "print(is_1,is_0)\n",
    "print(len(custom_labels))"
   ]
  },
  {
   "cell_type": "markdown",
   "metadata": {},
   "source": [
    "At first I though about normalizing this but then realized that this is not a good idea and thought that this could be a model built for a bull market."
   ]
  },
  {
   "cell_type": "code",
   "execution_count": 48,
   "metadata": {},
   "outputs": [
    {
     "data": {
      "text/plain": [
       "Text(0, 0.5, 'Count')"
      ]
     },
     "execution_count": 48,
     "metadata": {},
     "output_type": "execute_result"
    },
    {
     "data": {
      "image/png": "[encoded data removed]",
      "text/plain": [
       "<Figure size 1152x576 with 1 Axes>"
      ]
     },
     "metadata": {},
     "output_type": "display_data"
    }
   ],
   "source": [
    "Comb = pd.read_csv('data/Combined_News_DJIA.csv')\n",
    "fig = pd.value_counts(Comb['Label']).plot.bar(figsize=(16, 8))\n",
    "fig.set_xlabel('Label')\n",
    "fig.set_ylabel('Count')\n"
   ]
  },
  {
   "cell_type": "markdown",
   "metadata": {},
   "source": [
    "### Totally Naieve "
   ]
  },
  {
   "cell_type": "code",
   "execution_count": 68,
   "metadata": {},
   "outputs": [
    {
     "name": "stdout",
     "output_type": "stream",
     "text": [
      "Run 0 accuracy: 0.5\n",
      "Run 1 accuracy: 0.5606060606060606\n",
      "Run 2 accuracy: 0.5505050505050505\n",
      "Run 3 accuracy: 0.5454545454545454\n",
      "Run 4 accuracy: 0.46464646464646464\n",
      "Run 5 accuracy: 0.5505050505050505\n",
      "Run 6 accuracy: 0.47474747474747475\n",
      "Run 7 accuracy: 0.48484848484848486\n",
      "Run 8 accuracy: 0.5454545454545454\n",
      "Run 9 accuracy: 0.5353535353535354\n",
      "\n",
      "Average accuracy: 0.5212121212121212\n"
     ]
    }
   ],
   "source": [
    "# load data and shift labels\n",
    "DataSet = pd.merge(Stock[['Date', 'Adj Close']],Comb,on='Date', copy=True)\n",
    "#Stock['Date','Adj Close']\n",
    "DataSet.Label = DataSet.Label.shift(1)\n",
    "DataSet = DataSet[1:]\n",
    "\n",
    "# randomize\n",
    "Random_Data = DataSet.sample(frac=1)\n",
    "\n",
    "TRAIN_SPLIT = 0.9\n",
    "\n",
    "average_acc = 0.0\n",
    "for _ in range(10):\n",
    "    Random_Data = DataSet.sample(frac=1)\n",
    "    Train = Random_Data[:int(len(Random_Data)*TRAIN_SPLIT)].reset_index(drop=True)\n",
    "    Test = Random_Data[-(int(len(Random_Data)*(1-TRAIN_SPLIT))):].reset_index(drop=True)\n",
    "    \n",
    "    ones = sum(list(Test.Label))\n",
    "    print('Run',_,'accuracy:',ones/len(Test))\n",
    "    average_acc += ones/len(Test)\n",
    "print()\n",
    "print('Average accuracy:', average_acc/10)\n",
    "\n"
   ]
  },
  {
   "cell_type": "markdown",
   "metadata": {},
   "source": [
    "## Data Preprocessing"
   ]
  },
  {
   "cell_type": "markdown",
   "metadata": {},
   "source": [
    "##### Realignment\n",
    "\n",
    "The provided labels align with the current day when they should actually align with the previous day, since we are trying to guess if there is a information in the news that can detect stock market movement on the following day."
   ]
  },
  {
   "cell_type": "code",
   "execution_count": 69,
   "metadata": {},
   "outputs": [
    {
     "data": {
      "text/html": [
       "<div>\n",
       "<style scoped>\n",
       "    .dataframe tbody tr th:only-of-type {\n",
       "        vertical-align: middle;\n",
       "    }\n",
       "\n",
       "    .dataframe tbody tr th {\n",
       "        vertical-align: top;\n",
       "    }\n",
       "\n",
       "    .dataframe thead th {\n",
       "        text-align: right;\n",
       "    }\n",
       "</style>\n",
       "<table border=\"1\" class=\"dataframe\">\n",
       "  <thead>\n",
       "    <tr style=\"text-align: right;\">\n",
       "      <th></th>\n",
       "      <th>Date</th>\n",
       "      <th>Adj Close</th>\n",
       "      <th>Label</th>\n",
       "      <th>Top1</th>\n",
       "      <th>Top2</th>\n",
       "      <th>Top3</th>\n",
       "      <th>Top4</th>\n",
       "      <th>Top5</th>\n",
       "      <th>Top6</th>\n",
       "      <th>Top7</th>\n",
       "      <th>...</th>\n",
       "      <th>Top16</th>\n",
       "      <th>Top17</th>\n",
       "      <th>Top18</th>\n",
       "      <th>Top19</th>\n",
       "      <th>Top20</th>\n",
       "      <th>Top21</th>\n",
       "      <th>Top22</th>\n",
       "      <th>Top23</th>\n",
       "      <th>Top24</th>\n",
       "      <th>Top25</th>\n",
       "    </tr>\n",
       "  </thead>\n",
       "  <tbody>\n",
       "    <tr>\n",
       "      <th>1</th>\n",
       "      <td>2016-06-30</td>\n",
       "      <td>17929.990234</td>\n",
       "      <td>1.0</td>\n",
       "      <td>Jamaica proposes marijuana dispensers for tour...</td>\n",
       "      <td>Stephen Hawking says pollution and 'stupidity'...</td>\n",
       "      <td>Boris Johnson says he will not run for Tory pa...</td>\n",
       "      <td>Six gay men in Ivory Coast were abused and for...</td>\n",
       "      <td>Switzerland denies citizenship to Muslim immig...</td>\n",
       "      <td>Palestinian terrorist stabs israeli teen girl ...</td>\n",
       "      <td>Puerto Rico will default on $1 billion of debt...</td>\n",
       "      <td>...</td>\n",
       "      <td>Googles free wifi at Indian railway stations i...</td>\n",
       "      <td>Mounting evidence suggests 'hobbits' were wipe...</td>\n",
       "      <td>The men who carried out Tuesday's terror attac...</td>\n",
       "      <td>Calls to suspend Saudi Arabia from UN Human Ri...</td>\n",
       "      <td>More Than 100 Nobel Laureates Call Out Greenpe...</td>\n",
       "      <td>British pedophile sentenced to 85 years in US ...</td>\n",
       "      <td>US permitted 1,200 offshore fracks in Gulf of ...</td>\n",
       "      <td>We will be swimming in ridicule - French beach...</td>\n",
       "      <td>UEFA says no minutes of silence for Istanbul v...</td>\n",
       "      <td>Law Enforcement Sources: Gun Used in Paris Ter...</td>\n",
       "    </tr>\n",
       "    <tr>\n",
       "      <th>2</th>\n",
       "      <td>2016-06-29</td>\n",
       "      <td>17694.679688</td>\n",
       "      <td>1.0</td>\n",
       "      <td>Explosion At Airport In Istanbul</td>\n",
       "      <td>Yemeni former president: Terrorism is the offs...</td>\n",
       "      <td>UK must accept freedom of movement to access E...</td>\n",
       "      <td>Devastated: scientists too late to captive bre...</td>\n",
       "      <td>British Labor Party leader Jeremy Corbyn loses...</td>\n",
       "      <td>A Muslim Shop in the UK Was Just Firebombed Wh...</td>\n",
       "      <td>Mexican Authorities Sexually Torture Women in ...</td>\n",
       "      <td>...</td>\n",
       "      <td>Escape Tunnel, Dug by Hand, Is Found at Holoca...</td>\n",
       "      <td>The land under Beijing is sinking by as much a...</td>\n",
       "      <td>Car bomb and Anti-Islamic attack on Mosque in ...</td>\n",
       "      <td>Emaciated lions in Taiz Zoo are trapped in blo...</td>\n",
       "      <td>Rupert Murdoch describes Brexit as 'wonderful'...</td>\n",
       "      <td>More than 40 killed in Yemen suicide attacks</td>\n",
       "      <td>Google Found Disastrous Symantec and Norton Vu...</td>\n",
       "      <td>Extremist violence on the rise in Germany: Dom...</td>\n",
       "      <td>BBC News: Labour MPs pass Corbyn no-confidence...</td>\n",
       "      <td>Tiny New Zealand town with 'too many jobs' lau...</td>\n",
       "    </tr>\n",
       "    <tr>\n",
       "      <th>3</th>\n",
       "      <td>2016-06-28</td>\n",
       "      <td>17409.720703</td>\n",
       "      <td>1.0</td>\n",
       "      <td>2,500 Scientists To Australia: If You Want To ...</td>\n",
       "      <td>The personal details of 112,000 French police ...</td>\n",
       "      <td>S&amp;amp;P cuts United Kingdom sovereign credit r...</td>\n",
       "      <td>Huge helium deposit found in Africa</td>\n",
       "      <td>CEO of the South African state broadcaster qui...</td>\n",
       "      <td>Brexit cost investors $2 trillion, the worst o...</td>\n",
       "      <td>Hong Kong democracy activists call for return ...</td>\n",
       "      <td>...</td>\n",
       "      <td>US, Canada and Mexico pledge 50% of power from...</td>\n",
       "      <td>There is increasing evidence that Australia is...</td>\n",
       "      <td>Richard Branson, the founder of Virgin Group, ...</td>\n",
       "      <td>37,000-yr-old skull from Borneo reveals surpri...</td>\n",
       "      <td>Palestinians stone Western Wall worshipers; po...</td>\n",
       "      <td>Jean-Claude Juncker asks Farage: Why are you h...</td>\n",
       "      <td>\"Romanians for Remainians\" offering a new home...</td>\n",
       "      <td>Brexit: Gibraltar in talks with Scotland to st...</td>\n",
       "      <td>8 Suicide Bombers Strike Lebanon</td>\n",
       "      <td>Mexico's security forces routinely use 'sexual...</td>\n",
       "    </tr>\n",
       "    <tr>\n",
       "      <th>4</th>\n",
       "      <td>2016-06-27</td>\n",
       "      <td>17140.240234</td>\n",
       "      <td>1.0</td>\n",
       "      <td>Barclays and RBS shares suspended from trading...</td>\n",
       "      <td>Pope says Church should ask forgiveness from g...</td>\n",
       "      <td>Poland 'shocked' by xenophobic abuse of Poles ...</td>\n",
       "      <td>There will be no second referendum, cabinet ag...</td>\n",
       "      <td>Scotland welcome to join EU, Merkel ally says</td>\n",
       "      <td>Sterling dips below Friday's 31-year low amid ...</td>\n",
       "      <td>No negative news about South African President...</td>\n",
       "      <td>...</td>\n",
       "      <td>German lawyers to probe Erdogan over alleged w...</td>\n",
       "      <td>Boris Johnson says the UK will continue to \"in...</td>\n",
       "      <td>Richard Branson is calling on the UK governmen...</td>\n",
       "      <td>Turkey 'sorry for downing Russian jet'</td>\n",
       "      <td>Edward Snowden lawyer vows new push for pardon...</td>\n",
       "      <td>Brexit opinion poll reveals majority don't wan...</td>\n",
       "      <td>Conservative MP Leave Campaigner: \"The leave c...</td>\n",
       "      <td>Economists predict UK recession, further weake...</td>\n",
       "      <td>New EU 'superstate plan by France, Germany: Cr...</td>\n",
       "      <td>Pakistani clerics declare transgender marriage...</td>\n",
       "    </tr>\n",
       "    <tr>\n",
       "      <th>5</th>\n",
       "      <td>2016-06-24</td>\n",
       "      <td>17400.750000</td>\n",
       "      <td>0.0</td>\n",
       "      <td>David Cameron to Resign as PM After EU Referendum</td>\n",
       "      <td>BBC forecasts UK votes to Leave the European U...</td>\n",
       "      <td>Nicola Sturgeon says a second independence ref...</td>\n",
       "      <td>It's official. Britain votes to leave the Euro...</td>\n",
       "      <td>World's Largest Tibetan Buddhist Institute Ord...</td>\n",
       "      <td>Not a single place in Scotland voted to leave ...</td>\n",
       "      <td>Rich Getting Richer at the Expense of the Poor...</td>\n",
       "      <td>...</td>\n",
       "      <td>Sinn Fein calls for a referendum on Irish reun...</td>\n",
       "      <td>$70 billion wiped off the Australian sharemark...</td>\n",
       "      <td>Nigel Farage disowns Vote Leave '350m for the ...</td>\n",
       "      <td>Top EU leader: we want Britain out as soon as ...</td>\n",
       "      <td>Nigel Farage: 350 million pledge to fund the N...</td>\n",
       "      <td>Thousands of London banking job cuts to start ...</td>\n",
       "      <td>Google says there was a large spike in searche...</td>\n",
       "      <td>EU referendum; Gibraltar backs Remain with 94%...</td>\n",
       "      <td>After Brexit, U.K. Residents Google 'What Is T...</td>\n",
       "      <td>A Turkish man has been found guilty of insulti...</td>\n",
       "    </tr>\n",
       "  </tbody>\n",
       "</table>\n",
       "<p>5 rows × 28 columns</p>\n",
       "</div>"
      ],
      "text/plain": [
       "         Date     Adj Close  Label  \\\n",
       "1  2016-06-30  17929.990234    1.0   \n",
       "2  2016-06-29  17694.679688    1.0   \n",
       "3  2016-06-28  17409.720703    1.0   \n",
       "4  2016-06-27  17140.240234    1.0   \n",
       "5  2016-06-24  17400.750000    0.0   \n",
       "\n",
       "                                                Top1  \\\n",
       "1  Jamaica proposes marijuana dispensers for tour...   \n",
       "2                   Explosion At Airport In Istanbul   \n",
       "3  2,500 Scientists To Australia: If You Want To ...   \n",
       "4  Barclays and RBS shares suspended from trading...   \n",
       "5  David Cameron to Resign as PM After EU Referendum   \n",
       "\n",
       "                                                Top2  \\\n",
       "1  Stephen Hawking says pollution and 'stupidity'...   \n",
       "2  Yemeni former president: Terrorism is the offs...   \n",
       "3  The personal details of 112,000 French police ...   \n",
       "4  Pope says Church should ask forgiveness from g...   \n",
       "5  BBC forecasts UK votes to Leave the European U...   \n",
       "\n",
       "                                                Top3  \\\n",
       "1  Boris Johnson says he will not run for Tory pa...   \n",
       "2  UK must accept freedom of movement to access E...   \n",
       "3  S&amp;P cuts United Kingdom sovereign credit r...   \n",
       "4  Poland 'shocked' by xenophobic abuse of Poles ...   \n",
       "5  Nicola Sturgeon says a second independence ref...   \n",
       "\n",
       "                                                Top4  \\\n",
       "1  Six gay men in Ivory Coast were abused and for...   \n",
       "2  Devastated: scientists too late to captive bre...   \n",
       "3                Huge helium deposit found in Africa   \n",
       "4  There will be no second referendum, cabinet ag...   \n",
       "5  It's official. Britain votes to leave the Euro...   \n",
       "\n",
       "                                                Top5  \\\n",
       "1  Switzerland denies citizenship to Muslim immig...   \n",
       "2  British Labor Party leader Jeremy Corbyn loses...   \n",
       "3  CEO of the South African state broadcaster qui...   \n",
       "4      Scotland welcome to join EU, Merkel ally says   \n",
       "5  World's Largest Tibetan Buddhist Institute Ord...   \n",
       "\n",
       "                                                Top6  \\\n",
       "1  Palestinian terrorist stabs israeli teen girl ...   \n",
       "2  A Muslim Shop in the UK Was Just Firebombed Wh...   \n",
       "3  Brexit cost investors $2 trillion, the worst o...   \n",
       "4  Sterling dips below Friday's 31-year low amid ...   \n",
       "5  Not a single place in Scotland voted to leave ...   \n",
       "\n",
       "                                                Top7  \\\n",
       "1  Puerto Rico will default on $1 billion of debt...   \n",
       "2  Mexican Authorities Sexually Torture Women in ...   \n",
       "3  Hong Kong democracy activists call for return ...   \n",
       "4  No negative news about South African President...   \n",
       "5  Rich Getting Richer at the Expense of the Poor...   \n",
       "\n",
       "                         ...                          \\\n",
       "1                        ...                           \n",
       "2                        ...                           \n",
       "3                        ...                           \n",
       "4                        ...                           \n",
       "5                        ...                           \n",
       "\n",
       "                                               Top16  \\\n",
       "1  Googles free wifi at Indian railway stations i...   \n",
       "2  Escape Tunnel, Dug by Hand, Is Found at Holoca...   \n",
       "3  US, Canada and Mexico pledge 50% of power from...   \n",
       "4  German lawyers to probe Erdogan over alleged w...   \n",
       "5  Sinn Fein calls for a referendum on Irish reun...   \n",
       "\n",
       "                                               Top17  \\\n",
       "1  Mounting evidence suggests 'hobbits' were wipe...   \n",
       "2  The land under Beijing is sinking by as much a...   \n",
       "3  There is increasing evidence that Australia is...   \n",
       "4  Boris Johnson says the UK will continue to \"in...   \n",
       "5  $70 billion wiped off the Australian sharemark...   \n",
       "\n",
       "                                               Top18  \\\n",
       "1  The men who carried out Tuesday's terror attac...   \n",
       "2  Car bomb and Anti-Islamic attack on Mosque in ...   \n",
       "3  Richard Branson, the founder of Virgin Group, ...   \n",
       "4  Richard Branson is calling on the UK governmen...   \n",
       "5  Nigel Farage disowns Vote Leave '350m for the ...   \n",
       "\n",
       "                                               Top19  \\\n",
       "1  Calls to suspend Saudi Arabia from UN Human Ri...   \n",
       "2  Emaciated lions in Taiz Zoo are trapped in blo...   \n",
       "3  37,000-yr-old skull from Borneo reveals surpri...   \n",
       "4             Turkey 'sorry for downing Russian jet'   \n",
       "5  Top EU leader: we want Britain out as soon as ...   \n",
       "\n",
       "                                               Top20  \\\n",
       "1  More Than 100 Nobel Laureates Call Out Greenpe...   \n",
       "2  Rupert Murdoch describes Brexit as 'wonderful'...   \n",
       "3  Palestinians stone Western Wall worshipers; po...   \n",
       "4  Edward Snowden lawyer vows new push for pardon...   \n",
       "5  Nigel Farage: 350 million pledge to fund the N...   \n",
       "\n",
       "                                               Top21  \\\n",
       "1  British pedophile sentenced to 85 years in US ...   \n",
       "2       More than 40 killed in Yemen suicide attacks   \n",
       "3  Jean-Claude Juncker asks Farage: Why are you h...   \n",
       "4  Brexit opinion poll reveals majority don't wan...   \n",
       "5  Thousands of London banking job cuts to start ...   \n",
       "\n",
       "                                               Top22  \\\n",
       "1  US permitted 1,200 offshore fracks in Gulf of ...   \n",
       "2  Google Found Disastrous Symantec and Norton Vu...   \n",
       "3  \"Romanians for Remainians\" offering a new home...   \n",
       "4  Conservative MP Leave Campaigner: \"The leave c...   \n",
       "5  Google says there was a large spike in searche...   \n",
       "\n",
       "                                               Top23  \\\n",
       "1  We will be swimming in ridicule - French beach...   \n",
       "2  Extremist violence on the rise in Germany: Dom...   \n",
       "3  Brexit: Gibraltar in talks with Scotland to st...   \n",
       "4  Economists predict UK recession, further weake...   \n",
       "5  EU referendum; Gibraltar backs Remain with 94%...   \n",
       "\n",
       "                                               Top24  \\\n",
       "1  UEFA says no minutes of silence for Istanbul v...   \n",
       "2  BBC News: Labour MPs pass Corbyn no-confidence...   \n",
       "3                   8 Suicide Bombers Strike Lebanon   \n",
       "4  New EU 'superstate plan by France, Germany: Cr...   \n",
       "5  After Brexit, U.K. Residents Google 'What Is T...   \n",
       "\n",
       "                                               Top25  \n",
       "1  Law Enforcement Sources: Gun Used in Paris Ter...  \n",
       "2  Tiny New Zealand town with 'too many jobs' lau...  \n",
       "3  Mexico's security forces routinely use 'sexual...  \n",
       "4  Pakistani clerics declare transgender marriage...  \n",
       "5  A Turkish man has been found guilty of insulti...  \n",
       "\n",
       "[5 rows x 28 columns]"
      ]
     },
     "execution_count": 69,
     "metadata": {},
     "output_type": "execute_result"
    }
   ],
   "source": [
    "DataSet = pd.merge(Stock[['Date', 'Adj Close']],Comb,on='Date', copy=True)\n",
    "#Stock['Date','Adj Close']\n",
    "DataSet.Label = DataSet.Label.shift(1)\n",
    "DataSet = DataSet[1:]\n",
    "DataSet.head()"
   ]
  },
  {
   "cell_type": "markdown",
   "metadata": {},
   "source": [
    "#### All in one"
   ]
  },
  {
   "cell_type": "code",
   "execution_count": 70,
   "metadata": {},
   "outputs": [],
   "source": [
    "# turn 'nan's to 'str'\n",
    "for i in range(1,26):\n",
    "    DataSet.loc[:,\"Top\"+str(i)] = DataSet[\"Top\"+str(i)].apply(lambda x : str(x))"
   ]
  },
  {
   "cell_type": "code",
   "execution_count": 71,
   "metadata": {},
   "outputs": [
    {
     "name": "stdout",
     "output_type": "stream",
     "text": [
      "['i', 'me', 'my', 'myself', 'we', 'our', 'ours', 'ourselves', 'you', \"you're\", \"you've\", \"you'll\", \"you'd\", 'your', 'yours', 'yourself', 'yourselves', 'he', 'him', 'his', 'himself', 'she', \"she's\", 'her', 'hers', 'herself', 'it', \"it's\", 'its', 'itself', 'they', 'them', 'their', 'theirs', 'themselves', 'what', 'which', 'who', 'whom', 'this', 'that', \"that'll\", 'these', 'those', 'am', 'is', 'are', 'was', 'were', 'be', 'been', 'being', 'have', 'has', 'had', 'having', 'do', 'does', 'did', 'doing', 'a', 'an', 'the', 'and', 'but', 'if', 'or', 'because', 'as', 'until', 'while', 'of', 'at', 'by', 'for', 'with', 'about', 'against', 'between', 'into', 'through', 'during', 'before', 'after', 'above', 'below', 'to', 'from', 'up', 'down', 'in', 'out', 'on', 'off', 'over', 'under', 'again', 'further', 'then', 'once', 'here', 'there', 'when', 'where', 'why', 'how', 'all', 'any', 'both', 'each', 'few', 'more', 'most', 'other', 'some', 'such', 'no', 'nor', 'not', 'only', 'own', 'same', 'so', 'than', 'too', 'very', 's', 't', 'can', 'will', 'just', 'don', \"don't\", 'should', \"should've\", 'now', 'd', 'll', 'm', 'o', 're', 've', 'y', 'ain', 'aren', \"aren't\", 'couldn', \"couldn't\", 'didn', \"didn't\", 'doesn', \"doesn't\", 'hadn', \"hadn't\", 'hasn', \"hasn't\", 'haven', \"haven't\", 'isn', \"isn't\", 'ma', 'mightn', \"mightn't\", 'mustn', \"mustn't\", 'needn', \"needn't\", 'shan', \"shan't\", 'shouldn', \"shouldn't\", 'wasn', \"wasn't\", 'weren', \"weren't\", 'won', \"won't\", 'wouldn', \"wouldn't\", '!', '\"', '#', '$', '%', '&', \"'\", '(', ')', '*', '+', ',', '-', '.', '/', ':', ';', '<', '=', '>', '?', '@', '[', '\\\\', ']', '^', '_', '`', '{', '|', '}', '~', 'b', '``', \"'s\", \"''\"]\n"
     ]
    }
   ],
   "source": [
    "# lower case, no punct, remove stops, tokenize\n",
    "\n",
    "import string\n",
    "from nltk import word_tokenize\n",
    "from nltk.corpus import stopwords\n",
    "\n",
    "stop = stopwords.words('english') + list(string.punctuation) + ['b','``','\\'s',\"\\'\\'\"]\n",
    "\n",
    "\n",
    "for i in range(1,26):\n",
    "    DataSet.loc[:,\"Top\"+str(i)] = DataSet[\"Top\"+str(i)].apply(lambda x : [i for i in word_tokenize(x.lower()) if i not in stop])"
   ]
  },
  {
   "cell_type": "code",
   "execution_count": 77,
   "metadata": {},
   "outputs": [],
   "source": [
    "#DataSet.head()"
   ]
  },
  {
   "cell_type": "markdown",
   "metadata": {},
   "source": [
    "##### View updated sparsity"
   ]
  },
  {
   "cell_type": "code",
   "execution_count": 73,
   "metadata": {},
   "outputs": [],
   "source": [
    "# counts of words\n",
    "counts = Counter()\n",
    "for i in range(1,26):\n",
    "    for list_of_words in DataSet['Top'+str(i)]:\n",
    "        for word in list_of_words:\n",
    "            counts[word] += 1"
   ]
  },
  {
   "cell_type": "code",
   "execution_count": 74,
   "metadata": {},
   "outputs": [
    {
     "data": {
      "text/plain": [
       "[<matplotlib.lines.Line2D at 0x11438afd0>]"
      ]
     },
     "execution_count": 74,
     "metadata": {},
     "output_type": "execute_result"
    },
    {
     "data": {
      "image/png": "[encoded data removed]",
      "text/plain": [
       "<Figure size 432x288 with 1 Axes>"
      ]
     },
     "metadata": {},
     "output_type": "display_data"
    }
   ],
   "source": [
    "count_vals = list(counts.values())\n",
    "count_vals.sort()\n",
    "count_vals.reverse()\n",
    "plt.yscale('log')\n",
    "plt.plot(count_vals)"
   ]
  },
  {
   "cell_type": "code",
   "execution_count": 78,
   "metadata": {},
   "outputs": [
    {
     "name": "stdout",
     "output_type": "stream",
     "text": [
      "Least Common\n",
      "('dispensers', 1)\n",
      "('desks', 1)\n",
      "('competed', 1)\n",
      "('jo', 1)\n",
      "('flip-flopping', 1)\n",
      "(\"'labour\", 1)\n",
      "('bear-inhabited', 1)\n",
      "('freezer', 1)\n",
      "('aristotle', 1)\n",
      "('ms804', 1)\n",
      "('paris-cairo', 1)\n",
      "('100,000th', 1)\n",
      "('hypertension', 1)\n",
      "('lobbys', 1)\n",
      "('1.4gb', 1)\n",
      "('poo-poos', 1)\n",
      "(\"'boaty\", 1)\n",
      "('christen', 1)\n",
      "('boaty', 1)\n",
      "('starshot', 1)\n",
      "\n",
      "MostCommon\n",
      "('country', 1207)\n",
      "('iran', 1229)\n",
      "('uk', 1257)\n",
      "('first', 1285)\n",
      "('killed', 1302)\n",
      "('one', 1306)\n",
      "('u.s.', 1352)\n",
      "('president', 1370)\n",
      "('war', 1521)\n",
      "('years', 1534)\n",
      "('russia', 1572)\n",
      "('people', 1871)\n",
      "('israel', 1879)\n",
      "('police', 1905)\n",
      "('china', 1974)\n",
      "('government', 1999)\n",
      "('world', 2179)\n",
      "('new', 2350)\n",
      "('says', 2561)\n",
      "('us', 2811)\n"
     ]
    }
   ],
   "source": [
    "# print most common / least common\n",
    "\n",
    "sorted_words = sorted(counts.items(), key=lambda x: x[1])\n",
    "\n",
    "number_of = 20\n",
    "# least\n",
    "print('Least Common')\n",
    "for i in sorted_words[:number_of]: print(i)\n",
    "print('\\nMostCommon')\n",
    "for i in sorted_words[-number_of:]: print(i)"
   ]
  },
  {
   "cell_type": "markdown",
   "metadata": {},
   "source": [
    "##### Removal of sparse words"
   ]
  },
  {
   "cell_type": "code",
   "execution_count": 90,
   "metadata": {},
   "outputs": [
    {
     "data": {
      "text/html": [
       "<div>\n",
       "<style scoped>\n",
       "    .dataframe tbody tr th:only-of-type {\n",
       "        vertical-align: middle;\n",
       "    }\n",
       "\n",
       "    .dataframe tbody tr th {\n",
       "        vertical-align: top;\n",
       "    }\n",
       "\n",
       "    .dataframe thead th {\n",
       "        text-align: right;\n",
       "    }\n",
       "</style>\n",
       "<table border=\"1\" class=\"dataframe\">\n",
       "  <thead>\n",
       "    <tr style=\"text-align: right;\">\n",
       "      <th></th>\n",
       "      <th>Date</th>\n",
       "      <th>Adj Close</th>\n",
       "      <th>Label</th>\n",
       "      <th>Top1</th>\n",
       "      <th>Top2</th>\n",
       "      <th>Top3</th>\n",
       "      <th>Top4</th>\n",
       "      <th>Top5</th>\n",
       "      <th>Top6</th>\n",
       "      <th>Top7</th>\n",
       "      <th>...</th>\n",
       "      <th>Top16</th>\n",
       "      <th>Top17</th>\n",
       "      <th>Top18</th>\n",
       "      <th>Top19</th>\n",
       "      <th>Top20</th>\n",
       "      <th>Top21</th>\n",
       "      <th>Top22</th>\n",
       "      <th>Top23</th>\n",
       "      <th>Top24</th>\n",
       "      <th>Top25</th>\n",
       "    </tr>\n",
       "  </thead>\n",
       "  <tbody>\n",
       "    <tr>\n",
       "      <th>1</th>\n",
       "      <td>2016-06-30</td>\n",
       "      <td>17929.990234</td>\n",
       "      <td>1.0</td>\n",
       "      <td>[marijuana, following, would, give, people, 2,...</td>\n",
       "      <td>[says, pollution, still, biggest, threats, bec...</td>\n",
       "      <td>[says, run, party]</td>\n",
       "      <td>[six, gay, men, ivory, coast, forced, homes, v...</td>\n",
       "      <td>[switzerland, denies, muslim, girls, report]</td>\n",
       "      <td>[palestinian, terrorist, israeli, girl, death]</td>\n",
       "      <td>[1, billion, debt, friday]</td>\n",
       "      <td>...</td>\n",
       "      <td>[free, indian, better, countrys, paid, services]</td>\n",
       "      <td>[evidence, suggests, years, ago]</td>\n",
       "      <td>[men, tuesday, terror, attack, airport, russia...</td>\n",
       "      <td>[calls, saudi, arabia, un, human, rights, coun...</td>\n",
       "      <td>[100, nobel, call, world]</td>\n",
       "      <td>[british, sentenced, years, us, child, abuse, ...</td>\n",
       "      <td>[us, gulf, mexico, 2010, 2014, allowed, billio...</td>\n",
       "      <td>[french, police, police, first, time, amid, fe...</td>\n",
       "      <td>[says, victims, euro, already]</td>\n",
       "      <td>[law, used, paris, terrorist, attacks]</td>\n",
       "    </tr>\n",
       "    <tr>\n",
       "      <th>2</th>\n",
       "      <td>2016-06-29</td>\n",
       "      <td>17694.679688</td>\n",
       "      <td>1.0</td>\n",
       "      <td>[explosion, airport]</td>\n",
       "      <td>[former, president, terrorism, al, regime]</td>\n",
       "      <td>[uk, must, freedom, access, eu, market]</td>\n",
       "      <td>[scientists, lost, climate, change, australian...</td>\n",
       "      <td>[british, party, leader, vote, refuses]</td>\n",
       "      <td>[muslim, uk, people, inside]</td>\n",
       "      <td>[mexican, authorities, torture, women, prison]</td>\n",
       "      <td>...</td>\n",
       "      <td>[hand, found, massacre, site]</td>\n",
       "      <td>[land, beijing, much, four, per, year, accordi...</td>\n",
       "      <td>[car, bomb, attack, mosque, australia]</td>\n",
       "      <td>[left, months, due, civil, war]</td>\n",
       "      <td>[murdoch, media, leaving, eu, prison, break, a...</td>\n",
       "      <td>[40, killed, yemen, suicide, attacks]</td>\n",
       "      <td>[google, found, bad, gets]</td>\n",
       "      <td>[violence, rise, germany, intelligence, agency...</td>\n",
       "      <td>[bbc, news]</td>\n",
       "      <td>[new, zealand, town, many, jobs, launches]</td>\n",
       "    </tr>\n",
       "    <tr>\n",
       "      <th>3</th>\n",
       "      <td>2016-06-28</td>\n",
       "      <td>17409.720703</td>\n",
       "      <td>1.0</td>\n",
       "      <td>[scientists, australia, want, save, great, sto...</td>\n",
       "      <td>[personal, french, police, officers, google, s...</td>\n",
       "      <td>[amp, cuts, united]</td>\n",
       "      <td>[huge, found, africa]</td>\n",
       "      <td>[south, african, state, news, president, banned]</td>\n",
       "      <td>[cost, 2, worst, one, day, drop, ever]</td>\n",
       "      <td>[hong, kong, democracy, activists, call, retur...</td>\n",
       "      <td>...</td>\n",
       "      <td>[us, canada, mexico, 50, power, clean, energy]</td>\n",
       "      <td>[evidence, australia, refugees, medical, exper...</td>\n",
       "      <td>[founder, group, said, tuesday, company, lost,...</td>\n",
       "      <td>[reveals, scientists, study, human, discovered...</td>\n",
       "      <td>[palestinians, western, wall, police, shut]</td>\n",
       "      <td>[asks]</td>\n",
       "      <td>[new, home, stay, eu, newspaper, families, all...</td>\n",
       "      <td>[talks, scotland, stay, eu]</td>\n",
       "      <td>[8, suicide, strike, lebanon]</td>\n",
       "      <td>[mexico, security, forces, use, torture, women...</td>\n",
       "    </tr>\n",
       "    <tr>\n",
       "      <th>4</th>\n",
       "      <td>2016-06-27</td>\n",
       "      <td>17140.240234</td>\n",
       "      <td>1.0</td>\n",
       "      <td>[8]</td>\n",
       "      <td>[pope, says, church, past, treatment]</td>\n",
       "      <td>[poland, abuse, uk]</td>\n",
       "      <td>[second, referendum]</td>\n",
       "      <td>[scotland, join, eu, merkel, says]</td>\n",
       "      <td>[friday, low, amid]</td>\n",
       "      <td>[news, south, african, president, allowed, state]</td>\n",
       "      <td>...</td>\n",
       "      <td>[german, probe, erdogan, alleged, war, crimes]</td>\n",
       "      <td>[says, uk, continue, eu, tells, leave, must, r...</td>\n",
       "      <td>[calling, uk, government, hold, second, eu, re...</td>\n",
       "      <td>[turkey, russian]</td>\n",
       "      <td>[edward, snowden, lawyer, vows, new, push, obama]</td>\n",
       "      <td>[poll, reveals, n't, want, second, eu, referen...</td>\n",
       "      <td>[mp, leave, leave, campaign, n't, plan, ...]</td>\n",
       "      <td>[uk, following]</td>\n",
       "      <td>[new, eu, plan, france, germany, european, pow...</td>\n",
       "      <td>[pakistani, legal, islamic, law]</td>\n",
       "    </tr>\n",
       "    <tr>\n",
       "      <th>5</th>\n",
       "      <td>2016-06-24</td>\n",
       "      <td>17400.750000</td>\n",
       "      <td>0.0</td>\n",
       "      <td>[david, cameron, pm, eu, referendum]</td>\n",
       "      <td>[bbc, uk, votes, leave, european, union]</td>\n",
       "      <td>[says, second, independence, referendum, scotl...</td>\n",
       "      <td>[official, britain, votes, leave, european, un...</td>\n",
       "      <td>[world, largest, ordered, chinese, government]</td>\n",
       "      <td>[single, place, scotland, leave, eu, ...]</td>\n",
       "      <td>[rich, getting, poor, warns]</td>\n",
       "      <td>...</td>\n",
       "      <td>[calls, referendum, irish]</td>\n",
       "      <td>[70, billion, australian, result]</td>\n",
       "      <td>[vote, leave, hours, result]</td>\n",
       "      <td>[top, eu, leader, want, britain, soon, possible]</td>\n",
       "      <td>[million, fund, let, give, million, eu, takes,...</td>\n",
       "      <td>[thousands, london, job, cuts, start, next, week]</td>\n",
       "      <td>[google, says, large, irish, news]</td>\n",
       "      <td>[eu, referendum, first, result, night]</td>\n",
       "      <td>[residents, google, eu]</td>\n",
       "      <td>[turkish, man, found, guilty, president, erdog...</td>\n",
       "    </tr>\n",
       "  </tbody>\n",
       "</table>\n",
       "<p>5 rows × 28 columns</p>\n",
       "</div>"
      ],
      "text/plain": [
       "         Date     Adj Close  Label  \\\n",
       "1  2016-06-30  17929.990234    1.0   \n",
       "2  2016-06-29  17694.679688    1.0   \n",
       "3  2016-06-28  17409.720703    1.0   \n",
       "4  2016-06-27  17140.240234    1.0   \n",
       "5  2016-06-24  17400.750000    0.0   \n",
       "\n",
       "                                                Top1  \\\n",
       "1  [marijuana, following, would, give, people, 2,...   \n",
       "2                               [explosion, airport]   \n",
       "3  [scientists, australia, want, save, great, sto...   \n",
       "4                                                [8]   \n",
       "5               [david, cameron, pm, eu, referendum]   \n",
       "\n",
       "                                                Top2  \\\n",
       "1  [says, pollution, still, biggest, threats, bec...   \n",
       "2         [former, president, terrorism, al, regime]   \n",
       "3  [personal, french, police, officers, google, s...   \n",
       "4              [pope, says, church, past, treatment]   \n",
       "5           [bbc, uk, votes, leave, european, union]   \n",
       "\n",
       "                                                Top3  \\\n",
       "1                                 [says, run, party]   \n",
       "2            [uk, must, freedom, access, eu, market]   \n",
       "3                                [amp, cuts, united]   \n",
       "4                                [poland, abuse, uk]   \n",
       "5  [says, second, independence, referendum, scotl...   \n",
       "\n",
       "                                                Top4  \\\n",
       "1  [six, gay, men, ivory, coast, forced, homes, v...   \n",
       "2  [scientists, lost, climate, change, australian...   \n",
       "3                              [huge, found, africa]   \n",
       "4                               [second, referendum]   \n",
       "5  [official, britain, votes, leave, european, un...   \n",
       "\n",
       "                                               Top5  \\\n",
       "1      [switzerland, denies, muslim, girls, report]   \n",
       "2           [british, party, leader, vote, refuses]   \n",
       "3  [south, african, state, news, president, banned]   \n",
       "4                [scotland, join, eu, merkel, says]   \n",
       "5    [world, largest, ordered, chinese, government]   \n",
       "\n",
       "                                             Top6  \\\n",
       "1  [palestinian, terrorist, israeli, girl, death]   \n",
       "2                    [muslim, uk, people, inside]   \n",
       "3          [cost, 2, worst, one, day, drop, ever]   \n",
       "4                             [friday, low, amid]   \n",
       "5       [single, place, scotland, leave, eu, ...]   \n",
       "\n",
       "                                                Top7  \\\n",
       "1                         [1, billion, debt, friday]   \n",
       "2     [mexican, authorities, torture, women, prison]   \n",
       "3  [hong, kong, democracy, activists, call, retur...   \n",
       "4  [news, south, african, president, allowed, state]   \n",
       "5                       [rich, getting, poor, warns]   \n",
       "\n",
       "                         ...                          \\\n",
       "1                        ...                           \n",
       "2                        ...                           \n",
       "3                        ...                           \n",
       "4                        ...                           \n",
       "5                        ...                           \n",
       "\n",
       "                                              Top16  \\\n",
       "1  [free, indian, better, countrys, paid, services]   \n",
       "2                     [hand, found, massacre, site]   \n",
       "3    [us, canada, mexico, 50, power, clean, energy]   \n",
       "4    [german, probe, erdogan, alleged, war, crimes]   \n",
       "5                        [calls, referendum, irish]   \n",
       "\n",
       "                                               Top17  \\\n",
       "1                   [evidence, suggests, years, ago]   \n",
       "2  [land, beijing, much, four, per, year, accordi...   \n",
       "3  [evidence, australia, refugees, medical, exper...   \n",
       "4  [says, uk, continue, eu, tells, leave, must, r...   \n",
       "5                  [70, billion, australian, result]   \n",
       "\n",
       "                                               Top18  \\\n",
       "1  [men, tuesday, terror, attack, airport, russia...   \n",
       "2             [car, bomb, attack, mosque, australia]   \n",
       "3  [founder, group, said, tuesday, company, lost,...   \n",
       "4  [calling, uk, government, hold, second, eu, re...   \n",
       "5                       [vote, leave, hours, result]   \n",
       "\n",
       "                                               Top19  \\\n",
       "1  [calls, saudi, arabia, un, human, rights, coun...   \n",
       "2                    [left, months, due, civil, war]   \n",
       "3  [reveals, scientists, study, human, discovered...   \n",
       "4                                  [turkey, russian]   \n",
       "5   [top, eu, leader, want, britain, soon, possible]   \n",
       "\n",
       "                                               Top20  \\\n",
       "1                          [100, nobel, call, world]   \n",
       "2  [murdoch, media, leaving, eu, prison, break, a...   \n",
       "3        [palestinians, western, wall, police, shut]   \n",
       "4  [edward, snowden, lawyer, vows, new, push, obama]   \n",
       "5  [million, fund, let, give, million, eu, takes,...   \n",
       "\n",
       "                                               Top21  \\\n",
       "1  [british, sentenced, years, us, child, abuse, ...   \n",
       "2              [40, killed, yemen, suicide, attacks]   \n",
       "3                                             [asks]   \n",
       "4  [poll, reveals, n't, want, second, eu, referen...   \n",
       "5  [thousands, london, job, cuts, start, next, week]   \n",
       "\n",
       "                                               Top22  \\\n",
       "1  [us, gulf, mexico, 2010, 2014, allowed, billio...   \n",
       "2                         [google, found, bad, gets]   \n",
       "3  [new, home, stay, eu, newspaper, families, all...   \n",
       "4       [mp, leave, leave, campaign, n't, plan, ...]   \n",
       "5                 [google, says, large, irish, news]   \n",
       "\n",
       "                                               Top23  \\\n",
       "1  [french, police, police, first, time, amid, fe...   \n",
       "2  [violence, rise, germany, intelligence, agency...   \n",
       "3                        [talks, scotland, stay, eu]   \n",
       "4                                    [uk, following]   \n",
       "5             [eu, referendum, first, result, night]   \n",
       "\n",
       "                                               Top24  \\\n",
       "1                     [says, victims, euro, already]   \n",
       "2                                        [bbc, news]   \n",
       "3                      [8, suicide, strike, lebanon]   \n",
       "4  [new, eu, plan, france, germany, european, pow...   \n",
       "5                            [residents, google, eu]   \n",
       "\n",
       "                                               Top25  \n",
       "1             [law, used, paris, terrorist, attacks]  \n",
       "2         [new, zealand, town, many, jobs, launches]  \n",
       "3  [mexico, security, forces, use, torture, women...  \n",
       "4                   [pakistani, legal, islamic, law]  \n",
       "5  [turkish, man, found, guilty, president, erdog...  \n",
       "\n",
       "[5 rows x 28 columns]"
      ]
     },
     "execution_count": 90,
     "metadata": {},
     "output_type": "execute_result"
    }
   ],
   "source": [
    "limit = 100\n",
    "for i in range(1,26):\n",
    "    DataSet.loc[:,\"Top\"+str(i)] = DataSet[\"Top\"+str(i)].apply(lambda x : [i for i in x if counts[i] >= limit])\n",
    "DataSet.head()"
   ]
  },
  {
   "cell_type": "code",
   "execution_count": 88,
   "metadata": {},
   "outputs": [
    {
     "data": {
      "image/png": "[encoded data removed]",
      "text/plain": [
       "<Figure size 432x288 with 1 Axes>"
      ]
     },
     "metadata": {},
     "output_type": "display_data"
    }
   ],
   "source": [
    "# counts of words\n",
    "new_counts = Counter()\n",
    "for i in range(1,26):\n",
    "    for list_of_words in DataSet['Top'+str(i)]:\n",
    "        for word in list_of_words:\n",
    "            new_counts[word] += 1\n",
    "new_count_vals = list(new_counts.values())\n",
    "new_count_vals.sort()\n",
    "new_count_vals.reverse()\n",
    "plt.yscale('log')\n",
    "plt.ylabel('Word Count')\n",
    "plt.xlabel('Individual Words')\n",
    "plt.plot(new_count_vals)\n",
    "plt.savefig('foo.png', dpi=150)\n"
   ]
  },
  {
   "cell_type": "code",
   "execution_count": 87,
   "metadata": {},
   "outputs": [
    {
     "name": "stdout",
     "output_type": "stream",
     "text": [
      "Least Common\n",
      "('qatar', 100)\n",
      "('countrys', 100)\n",
      "('push', 100)\n",
      "('meat', 100)\n",
      "('drop', 100)\n",
      "('forest', 100)\n",
      "('disease', 100)\n",
      "('early', 100)\n",
      "('hands', 100)\n",
      "('offers', 100)\n",
      "('tens', 100)\n",
      "('daily', 100)\n",
      "('towards', 100)\n",
      "('thailand', 101)\n",
      "('hiv', 101)\n",
      "('suggests', 101)\n",
      "('conditions', 101)\n",
      "('showing', 101)\n",
      "('500', 101)\n",
      "('reactor', 101)\n",
      "\n",
      "MostCommon\n",
      "('country', 1207)\n",
      "('iran', 1229)\n",
      "('uk', 1257)\n",
      "('first', 1285)\n",
      "('killed', 1302)\n",
      "('one', 1306)\n",
      "('u.s.', 1352)\n",
      "('president', 1370)\n",
      "('war', 1521)\n",
      "('years', 1534)\n",
      "('russia', 1572)\n",
      "('people', 1871)\n",
      "('israel', 1879)\n",
      "('police', 1905)\n",
      "('china', 1974)\n",
      "('government', 1999)\n",
      "('world', 2179)\n",
      "('new', 2350)\n",
      "('says', 2561)\n",
      "('us', 2811)\n"
     ]
    }
   ],
   "source": [
    "# print most common / least common\n",
    "\n",
    "sorted_words = sorted(new_counts.items(), key=lambda x: x[1])\n",
    "\n",
    "number_of = 20\n",
    "# least\n",
    "print('Least Common')\n",
    "for i in sorted_words[:number_of]: print(i)\n",
    "print('\\nMostCommon')\n",
    "for i in sorted_words[-number_of:]: print(i)"
   ]
  },
  {
   "cell_type": "markdown",
   "metadata": {},
   "source": [
    "## Model Building\n",
    "\n",
    "First we need to create a test train split for the dataset"
   ]
  },
  {
   "cell_type": "code",
   "execution_count": 91,
   "metadata": {},
   "outputs": [
    {
     "name": "stdout",
     "output_type": "stream",
     "text": [
      "1789\n",
      "198\n"
     ]
    }
   ],
   "source": [
    "# randomize\n",
    "Random_Data = DataSet.sample(frac=1)\n",
    "\n",
    "TRAIN_SPLIT = 0.9\n",
    "\n",
    "Train = Random_Data[:int(len(Random_Data)*TRAIN_SPLIT)].reset_index(drop=True)\n",
    "Test = Random_Data[-(int(len(Random_Data)*(1-TRAIN_SPLIT))):].reset_index(drop=True)\n",
    "\n",
    "print(len(Train))\n",
    "print(len(Test))\n"
   ]
  },
  {
   "cell_type": "markdown",
   "metadata": {},
   "source": [
    "## Baseline Model\n",
    "\n",
    "The baseline model will be an MLE.\n",
    "\n",
    "Dicts will be made for each word that hold the likellihood of a stock gain on the next day given that words appearance and likelihood of a stock loss on the next given that words appearance.\n",
    "\n",
    "For each word in a sentence "
   ]
  },
  {
   "cell_type": "code",
   "execution_count": null,
   "metadata": {},
   "outputs": [],
   "source": []
  },
  {
   "cell_type": "code",
   "execution_count": 105,
   "metadata": {},
   "outputs": [],
   "source": [
    "class Unigram_Probability_Model(object):\n",
    "    \n",
    "    def __init__(self, Train, Test):\n",
    "        self.model = defaultdict(float)\n",
    "        self.training_data = Train\n",
    "        self.test_data = Test\n",
    "\n",
    "    def train(self):\n",
    "        #print(len(self.training_data))\n",
    "        counts = defaultdict(lambda: defaultdict(float))\n",
    "        \n",
    "        for index, row in self.training_data.iterrows():\n",
    "            \n",
    "            # get the label for the observation\n",
    "            label = int(row['Label'])\n",
    "            \n",
    "            # build counts for the observation\n",
    "            for i in range(1,26):\n",
    "                for word in row['Top'+str(i)]:\n",
    "                    counts[word][label] += 1.0\n",
    "        \n",
    "        #print(len(counts))\n",
    "        for word in counts:\n",
    "            self.model[word] = counts[word][1]/(counts[word][1]+counts[word][0])\n",
    "            \n",
    "            \n",
    "    def test(self):\n",
    "        \n",
    "        self.predicted = []\n",
    "        self.probability = []\n",
    "\n",
    "        for index, row in self.test_data.iterrows():\n",
    "            \n",
    "            score = 0.0\n",
    "            count = 0.0\n",
    "            \n",
    "            for i in range(1,26):\n",
    "                for word in row['Top'+str(i)]:\n",
    "                    if self.model[word] > 0.0:\n",
    "                        score += self.model[word]\n",
    "                        count += 1.0\n",
    "            \n",
    "            self.probability.append(score/count)\n",
    "            if (score/count) < 0.500:\n",
    "                self.predicted.append(0.0)\n",
    "            else:\n",
    "                self.predicted.append(1.0)\n",
    "\n",
    "\n",
    "        y = list(self.test_data['Label'])\n",
    "        assert len(y) == len(self.predicted)\n",
    "        \n",
    "        self.results = defaultdict(float)\n",
    "        \n",
    "        for i in range(len(y)):\n",
    "            self.results[(y[i],self.predicted[i])] += 1.0\n",
    "            \n",
    "        \n",
    "                    \n",
    "            \n",
    "            "
   ]
  },
  {
   "cell_type": "code",
   "execution_count": 106,
   "metadata": {},
   "outputs": [],
   "source": [
    "Base = Unigram_Probability_Model(Train, Test)"
   ]
  },
  {
   "cell_type": "code",
   "execution_count": 124,
   "metadata": {},
   "outputs": [
    {
     "name": "stdout",
     "output_type": "stream",
     "text": [
      "Run 0 accuracy: 0.5151515151515151\n",
      "Run 1 accuracy: 0.5454545454545454\n",
      "Run 2 accuracy: 0.5757575757575758\n",
      "Run 3 accuracy: 0.6060606060606061\n",
      "Run 4 accuracy: 0.5303030303030303\n",
      "Run 5 accuracy: 0.51010101010101\n",
      "Run 6 accuracy: 0.5353535353535354\n",
      "Run 7 accuracy: 0.494949494949495\n",
      "Run 8 accuracy: 0.5353535353535354\n",
      "Run 9 accuracy: 0.494949494949495\n",
      "\n",
      "Average accuracy: 0.5343434343434343\n"
     ]
    }
   ],
   "source": [
    "# test unigram probability model 10 times\n",
    "average_acc = 0.0\n",
    "\n",
    "for _ in range(10):\n",
    "    # randomize\n",
    "    Random_Data = DataSet.sample(frac=1)\n",
    "\n",
    "    # data split\n",
    "    TRAIN_SPLIT = 0.9\n",
    "\n",
    "    Train = Random_Data[:int(len(Random_Data)*TRAIN_SPLIT)].reset_index(drop=True)\n",
    "    Test = Random_Data[-(int(len(Random_Data)*(1-TRAIN_SPLIT))):].reset_index(drop=True)\n",
    "    Base = Unigram_Probability_Model(Train, Test)\n",
    "    Base.train()\n",
    "    Base.test()\n",
    "    accurate = Base.results[(1.0,1.0)] + Base.results[(0.0,0.0)]\n",
    "    total =  sum(list(Base.results.values()))\n",
    "    print('Run',_,'accuracy:',accurate/total)\n",
    "    average_acc += accurate/total\n",
    "print() \n",
    "print('Average accuracy:', average_acc/10)"
   ]
  },
  {
   "cell_type": "code",
   "execution_count": 123,
   "metadata": {},
   "outputs": [
    {
     "data": {
      "image/png": "[encoded data removed]",
      "text/plain": [
       "<Figure size 432x288 with 1 Axes>"
      ]
     },
     "metadata": {},
     "output_type": "display_data"
    }
   ],
   "source": [
    "plt.ylabel('Probability of \\'1\\' label')\n",
    "plt.xlabel('Test Observation')\n",
    "plt.plot(Base.probability)\n",
    "plt.savefig('foo.png', dpi=150)"
   ]
  },
  {
   "cell_type": "code",
   "execution_count": 115,
   "metadata": {},
   "outputs": [
    {
     "name": "stdout",
     "output_type": "stream",
     "text": [
      "Run 0 accuracy: 0.5377305757406372\n",
      "Run 1 accuracy: 0.538848518725545\n",
      "Run 2 accuracy: 0.5399664617104528\n",
      "Run 3 accuracy: 0.5382895472330911\n",
      "Run 4 accuracy: 0.5354946897708217\n",
      "Run 5 accuracy: 0.5304639463387367\n",
      "Run 6 accuracy: 0.5321408608160983\n",
      "Run 7 accuracy: 0.5399664617104528\n",
      "Run 8 accuracy: 0.5332588038010061\n",
      "Run 9 accuracy: 0.5349357182783678\n",
      "\n",
      "Average accuracy: 0.536109558412521\n"
     ]
    }
   ],
   "source": [
    "# test unigram probability model 10 times on the training data iself\n",
    "average_acc = 0.0\n",
    "\n",
    "for _ in range(10):\n",
    "    # randomize\n",
    "    Random_Data = DataSet.sample(frac=1)\n",
    "\n",
    "    # data split\n",
    "    TRAIN_SPLIT = 0.9\n",
    "\n",
    "    Train = Random_Data[:int(len(Random_Data)*TRAIN_SPLIT)].reset_index(drop=True)\n",
    "    #Test = Random_Data[-(int(len(Random_Data)*(1-TRAIN_SPLIT))):].reset_index(drop=True)\n",
    "    Base = Unigram_Probability_Model(Train, Train)\n",
    "    Base.train()\n",
    "    Base.test()\n",
    "    accurate = Base.results[(1.0,1.0)] + Base.results[(0.0,0.0)]\n",
    "    total =  sum(list(Base.results.values()))\n",
    "    print('Run',_,'accuracy:',accurate/total)\n",
    "    average_acc += accurate/total\n",
    "print()\n",
    "print('Average accuracy:', average_acc/10)"
   ]
  },
  {
   "cell_type": "code",
   "execution_count": 116,
   "metadata": {},
   "outputs": [
    {
     "data": {
      "text/plain": [
       "[<matplotlib.lines.Line2D at 0x129d7ba90>]"
      ]
     },
     "execution_count": 116,
     "metadata": {},
     "output_type": "execute_result"
    },
    {
     "data": {
      "image/png": "[encoded data removed]",
      "text/plain": [
       "<Figure size 432x288 with 1 Axes>"
      ]
     },
     "metadata": {},
     "output_type": "display_data"
    }
   ],
   "source": [
    "plt.plot(Base.probability)"
   ]
  },
  {
   "cell_type": "code",
   "execution_count": 125,
   "metadata": {},
   "outputs": [
    {
     "data": {
      "image/png": "[encoded data removed]",
      "text/plain": [
       "<Figure size 432x288 with 1 Axes>"
      ]
     },
     "metadata": {},
     "output_type": "display_data"
    }
   ],
   "source": [
    "model_values = list(Base.model.values())\n",
    "model_values.sort()\n",
    "\n",
    "plt.ylabel('Probability of \\'1\\' label')\n",
    "plt.xlabel('Words')\n",
    "plt.plot(model_values)\n",
    "plt.savefig('foo.png', dpi=150)"
   ]
  },
  {
   "cell_type": "code",
   "execution_count": null,
   "metadata": {},
   "outputs": [],
   "source": []
  },
  {
   "cell_type": "code",
   "execution_count": null,
   "metadata": {},
   "outputs": [],
   "source": []
  },
  {
   "cell_type": "code",
   "execution_count": null,
   "metadata": {},
   "outputs": [],
   "source": []
  },
  {
   "cell_type": "code",
   "execution_count": 137,
   "metadata": {},
   "outputs": [],
   "source": [
    "class Normalized_Unigram_Probability_Model(object):\n",
    "    \n",
    "    def __init__(self, Train, Test):\n",
    "        self.model = defaultdict(float)\n",
    "        self.training_data = Train\n",
    "        self.test_data = Test\n",
    "\n",
    "    def train(self):\n",
    "        #print(len(self.training_data))\n",
    "        counts = defaultdict(lambda: defaultdict(float))\n",
    "        \n",
    "        for index, row in self.training_data.iterrows():\n",
    "            \n",
    "            # get the label for the observation\n",
    "            label = int(row['Label'])\n",
    "            \n",
    "            # build counts for the observation\n",
    "            for i in range(1,26):\n",
    "                for word in row['Top'+str(i)]:\n",
    "                    counts[word][label] += 1.0\n",
    "        \n",
    "        #print(len(counts))\n",
    "        for word in counts:\n",
    "            self.model[word] = counts[word][1]/(counts[word][1]+counts[word][0])\n",
    "            \n",
    "            \n",
    "    def test(self):\n",
    "        \n",
    "        self.predicted = []\n",
    "        self.probability = []\n",
    "\n",
    "        for index, row in self.test_data.iterrows():\n",
    "            score = 0.0\n",
    "            count = 0.0\n",
    "            for i in range(1,26):\n",
    "                for word in row['Top'+str(i)]:\n",
    "                    if self.model[word] > 0.0:\n",
    "                        score += self.model[word]\n",
    "                        count += 1.0\n",
    "            self.probability.append(score/count)\n",
    "            if (score/count) < 0.500:\n",
    "                self.predicted.append(0.0)\n",
    "            #else:\n",
    "            #    self.predicted.append(1.0)\n",
    "        \n",
    "        self.normalized_prob = np.array(self.probability) - np.min(self.probability)\n",
    "        self.normalized_prob = np.array(self.normalized_prob)/np.max(self.normalized_prob)\n",
    "        \n",
    "        for i in self.normalized_prob:\n",
    "\n",
    "            if i > 0.5:\n",
    "                self.predicted.append(1.0)\n",
    "            else:\n",
    "                self.predicted.append(0.0)\n",
    "        \n",
    "                    \n",
    "        y = list(self.test_data['Label'])\n",
    "        assert len(y) == len(self.predicted)\n",
    "        \n",
    "        self.results = defaultdict(float)\n",
    "        \n",
    "        for i in range(len(y)):\n",
    "            self.results[(y[i],self.predicted[i])] += 1.0\n",
    "            \n",
    "        \n",
    "                    \n",
    "            "
   ]
  },
  {
   "cell_type": "code",
   "execution_count": 144,
   "metadata": {},
   "outputs": [
    {
     "name": "stdout",
     "output_type": "stream",
     "text": [
      "Run 0 accuracy: 0.48484848484848486\n",
      "Run 1 accuracy: 0.5\n",
      "Run 2 accuracy: 0.5202020202020202\n",
      "Run 3 accuracy: 0.4696969696969697\n",
      "Run 4 accuracy: 0.4494949494949495\n",
      "Run 5 accuracy: 0.5151515151515151\n",
      "Run 6 accuracy: 0.5505050505050505\n",
      "Run 7 accuracy: 0.4393939393939394\n",
      "Run 8 accuracy: 0.4797979797979798\n",
      "Run 9 accuracy: 0.5050505050505051\n",
      "\n",
      "Average accuracy: 0.4914141414141414\n"
     ]
    }
   ],
   "source": [
    "# test unigram probability model 10 times\n",
    "average_acc = 0.0\n",
    "\n",
    "for _ in range(10):\n",
    "    # randomize\n",
    "    Random_Data = DataSet.sample(frac=1)\n",
    "\n",
    "    # data split\n",
    "    TRAIN_SPLIT = 0.9\n",
    "\n",
    "    Train = Random_Data[:int(len(Random_Data)*TRAIN_SPLIT)].reset_index(drop=True)\n",
    "    Test = Random_Data[-(int(len(Random_Data)*(1-TRAIN_SPLIT))):].reset_index(drop=True)\n",
    "    Base = Normalized_Unigram_Probability_Model(Train, Test)\n",
    "    Base.train()\n",
    "    Base.test()\n",
    "    accurate = Base.results[(1.0,1.0)] + Base.results[(0.0,0.0)]\n",
    "    total =  sum(list(Base.results.values()))\n",
    "    print('Run',_,'accuracy:',accurate/total)\n",
    "    average_acc += accurate/total\n",
    "print() \n",
    "print('Average accuracy:', average_acc/10)"
   ]
  },
  {
   "cell_type": "code",
   "execution_count": 142,
   "metadata": {},
   "outputs": [
    {
     "data": {
      "image/png": "[encoded data removed]",
      "text/plain": [
       "<Figure size 432x288 with 1 Axes>"
      ]
     },
     "metadata": {},
     "output_type": "display_data"
    }
   ],
   "source": [
    "plt.ylabel('Probability of \\'1\\' label')\n",
    "plt.xlabel('Test Observation')\n",
    "plt.plot(Base.normalized_prob)\n",
    "plt.savefig('foo.png', dpi=150)"
   ]
  },
  {
   "cell_type": "code",
   "execution_count": 143,
   "metadata": {},
   "outputs": [
    {
     "data": {
      "text/plain": [
       "defaultdict(float,\n",
       "            {(1.0, 0.0): 65.0,\n",
       "             (1.0, 1.0): 54.0,\n",
       "             (0.0, 0.0): 42.0,\n",
       "             (0.0, 1.0): 37.0})"
      ]
     },
     "execution_count": 143,
     "metadata": {},
     "output_type": "execute_result"
    }
   ],
   "source": [
    "Base.results"
   ]
  },
  {
   "cell_type": "markdown",
   "metadata": {},
   "source": [
    "## Better Model"
   ]
  },
  {
   "cell_type": "code",
   "execution_count": 2,
   "metadata": {},
   "outputs": [],
   "source": [
    "data = pd.read_csv('./data/Combined_News_DJIA.csv')\n",
    "train = data[data['Date'] < '2015-01-01']\n",
    "test = data[data['Date'] > '2014-12-31']"
   ]
  },
  {
   "cell_type": "code",
   "execution_count": 145,
   "metadata": {},
   "outputs": [],
   "source": [
    "# randomize\n",
    "Random_Data = DataSet.sample(frac=1)\n",
    "\n",
    "# data split\n",
    "TRAIN_SPLIT = 0.9\n",
    "\n",
    "train = Random_Data[:int(len(Random_Data)*TRAIN_SPLIT)].reset_index(drop=True)\n",
    "test = Random_Data[-(int(len(Random_Data)*(1-TRAIN_SPLIT))):].reset_index(drop=True)\n"
   ]
  },
  {
   "cell_type": "code",
   "execution_count": 146,
   "metadata": {},
   "outputs": [],
   "source": [
    "\n",
    "trainheadlines = []\n",
    "for row in range(0,len(train.index)):\n",
    "    trainheadlines.append(' '.join(str(x) for x in train.iloc[row,2:27]))"
   ]
  },
  {
   "cell_type": "code",
   "execution_count": 147,
   "metadata": {},
   "outputs": [
    {
     "data": {
      "text/plain": [
       "'1.0 [\\'country\\', \\'5\\', \\'high\\', \\'life\\', \\'low\\', \\'near\\', \\'top\\', \\'low\\', \\'crime\\', \\'drug\\', \\'abuse\\', \\'us\\', \\'china\\'] [\\'saudi\\', \\'found\\', \\'guilty\\', \\'london\\'] [\\'saudi\\', \\'king\\', \\'newspaper\\', \\'40\\', \\'women\\', \\'sex\\', \\'public\\', \\'since\\', \\'king\\', \\'power\\', \\'muslim\\', \\'female\\'] [\\'get\\', \\'porn\\', \\'enter\\', \\'australia\\', \"n\\'t\", \\'give\\', \"n\\'t\"] [\\'parliament\\', \\'attacked\\'] [\\'nobel\\', \\'peace\\', \\'prize\\', \\'chinese\\', \\'young\\', \\'people\\', \\'even\\', \\'party\\', \\'calling\\', \\'freedom\\'] [\\'first\\', \\'time\\', \\'ice\\', \\'train\\', \\'german\\', \\'london\\', \\'tuesday\\', \\'test\\', \\'run\\', \\'sign\\', \\'come\\', \\'france\\'] [\\'6\\', \\'10\\', \\'chinese\\', \\'demand\\', \\'norway\\', \\'percent\\', \\'year\\', \\'nobel\\', \\'peace\\', \\'prize\\'] [\\'two\\', \\'chinese\\', \\'arrested\\', \\'workers\\', \\'poor\\', \\'working\\', \\'conditions\\'] [] [\\'bin\\', \\'laden\\', \\'living\\', \\'pakistan\\', \\'says\\', \\'nato\\', \\'official\\'] [\\'ahmadinejad\\', \\'visit\\', \\'lebanon\\', \\'power\\', \\'middle\\', \\'east\\', \\'likely\\', \\'see\\', \\'even\\', \\'leaders\\', \\'region\\', \\'take\\', \\'western\\', \\'governments\\'] [\\'china\\', \\'united\\', \\'states\\', \\'rare\\', \\'industry\\', \\'due\\', \\'us\\', \\'probe\\'] [\\'raped\\', \\'women\\', \\'used\\', \\'congo\\', \\'war\\'] [\\'man\\', \\'detained\\', \\'police\\', \\'egypt\\', \\'tv\\', \\'debate\\'] [\\'biggest\\', \\'mexican\\', \\'history\\'] [\\'united\\', \\'nations\\', \\'israeli\\', \\'settlement\\', \\'construction\\', \\'international\\', \\'law\\'] [\\'parliament\\'] [\\'iran\\', \\'tells\\', \\'iraqi\\', \\'prime\\', \\'minister\\', \\'america\\', \\'iran\\', \\'hold\\', \\'future\\', \\'iraqi\\', \\'prime\\', \\'minister\\', \\'get\\', \\'america\\', \\'second\\', \\'office\\'] [\\'uk\\', \\'prime\\', \\'minister\\', \\'cameron\\', \\'announces\\', \\'8\\', \\'cut\\', \\'defense\\'] [\\'israel\\'] [\\'vatican\\', \\'newspaper\\', \\'catholic\\'] [\\'central\\', \\'many\\', \\'middle\\', \\'east\\', \\'years\\', \\'since\\', \\'people\\', \\'islam\\', \\'behind\\', \\'west\\'] [\\'top\\', \\'un\\', \\'iraqi\\']'"
      ]
     },
     "execution_count": 147,
     "metadata": {},
     "output_type": "execute_result"
    }
   ],
   "source": [
    "trainheadlines[100]"
   ]
  },
  {
   "cell_type": "code",
   "execution_count": 6,
   "metadata": {},
   "outputs": [
    {
     "name": "stdout",
     "output_type": "stream",
     "text": [
      "(1611, 31675)\n",
      "[[0 1 0 ... 0 0 0]\n",
      " [0 0 0 ... 0 0 0]\n",
      " [0 0 0 ... 0 0 0]\n",
      " ...\n",
      " [0 2 0 ... 0 0 0]\n",
      " [0 2 0 ... 0 0 0]\n",
      " [0 0 0 ... 0 0 0]]\n"
     ]
    }
   ],
   "source": [
    "from sklearn.feature_extraction.text import CountVectorizer\n",
    "basicvectorizer = CountVectorizer()\n",
    "basictrain = basicvectorizer.fit_transform(trainheadlines)\n",
    "print(basictrain.shape)\n",
    "print(basictrain.toarray())\n"
   ]
  },
  {
   "cell_type": "markdown",
   "metadata": {},
   "source": [
    "### Logistic Regression"
   ]
  },
  {
   "cell_type": "code",
   "execution_count": 7,
   "metadata": {},
   "outputs": [],
   "source": [
    "from sklearn.linear_model import LogisticRegression"
   ]
  },
  {
   "cell_type": "code",
   "execution_count": 8,
   "metadata": {},
   "outputs": [],
   "source": [
    "basicmodel = LogisticRegression()\n",
    "basicmodel = basicmodel.fit(basictrain, train[\"Label\"])"
   ]
  },
  {
   "cell_type": "code",
   "execution_count": 10,
   "metadata": {},
   "outputs": [],
   "source": [
    "from sklearn.metrics import accuracy_score\n",
    "testheadlines = []\n",
    "for row in range(0,len(test.index)):\n",
    "    testheadlines.append(' '.join(str(x) for x in test.iloc[row,2:27]))\n",
    "basictest = basicvectorizer.transform(testheadlines)\n",
    "preds1 = basicmodel.predict(basictest)\n",
    "acc1=accuracy_score(test['Label'], preds1)"
   ]
  },
  {
   "cell_type": "code",
   "execution_count": 11,
   "metadata": {},
   "outputs": [
    {
     "name": "stdout",
     "output_type": "stream",
     "text": [
      "Logic Regression 1 accuracy:  0.42592592592592593\n"
     ]
    }
   ],
   "source": [
    "print('Logic Regression 1 accuracy: ',acc1 )"
   ]
  },
  {
   "cell_type": "code",
   "execution_count": 12,
   "metadata": {},
   "outputs": [
    {
     "data": {
      "text/html": [
       "<div>\n",
       "<style scoped>\n",
       "    .dataframe tbody tr th:only-of-type {\n",
       "        vertical-align: middle;\n",
       "    }\n",
       "\n",
       "    .dataframe tbody tr th {\n",
       "        vertical-align: top;\n",
       "    }\n",
       "\n",
       "    .dataframe thead th {\n",
       "        text-align: right;\n",
       "    }\n",
       "</style>\n",
       "<table border=\"1\" class=\"dataframe\">\n",
       "  <thead>\n",
       "    <tr style=\"text-align: right;\">\n",
       "      <th></th>\n",
       "      <th>Word</th>\n",
       "      <th>Coefficient</th>\n",
       "    </tr>\n",
       "  </thead>\n",
       "  <tbody>\n",
       "    <tr>\n",
       "      <th>19419</th>\n",
       "      <td>nigeria</td>\n",
       "      <td>0.497924</td>\n",
       "    </tr>\n",
       "    <tr>\n",
       "      <th>25261</th>\n",
       "      <td>self</td>\n",
       "      <td>0.452526</td>\n",
       "    </tr>\n",
       "    <tr>\n",
       "      <th>29286</th>\n",
       "      <td>tv</td>\n",
       "      <td>0.428011</td>\n",
       "    </tr>\n",
       "    <tr>\n",
       "      <th>15998</th>\n",
       "      <td>korea</td>\n",
       "      <td>0.425863</td>\n",
       "    </tr>\n",
       "    <tr>\n",
       "      <th>20135</th>\n",
       "      <td>olympics</td>\n",
       "      <td>0.425716</td>\n",
       "    </tr>\n",
       "  </tbody>\n",
       "</table>\n",
       "</div>"
      ],
      "text/plain": [
       "           Word  Coefficient\n",
       "19419   nigeria     0.497924\n",
       "25261      self     0.452526\n",
       "29286        tv     0.428011\n",
       "15998     korea     0.425863\n",
       "20135  olympics     0.425716"
      ]
     },
     "execution_count": 12,
     "metadata": {},
     "output_type": "execute_result"
    }
   ],
   "source": [
    "basicwords = basicvectorizer.get_feature_names()\n",
    "basiccoeffs = basicmodel.coef_.tolist()[0]\n",
    "coeffdf = pd.DataFrame({'Word' : basicwords, \n",
    "                        'Coefficient' : basiccoeffs})\n",
    "coeffdf = coeffdf.sort_values(['Coefficient', 'Word'], ascending=[0, 1])\n",
    "coeffdf.head(5)"
   ]
  },
  {
   "cell_type": "markdown",
   "metadata": {},
   "source": [
    "### Logistic Regression 2: Tf-idf"
   ]
  },
  {
   "cell_type": "code",
   "execution_count": 76,
   "metadata": {},
   "outputs": [],
   "source": [
    "from sklearn.feature_extraction.text import TfidfVectorizer\n",
    "advancedvectorizer = TfidfVectorizer( min_df=0.0039, max_df=0.1, max_features = 200000, ngram_range = (4, 4))\n",
    "advancedtrain = advancedvectorizer.fit_transform(trainheadlines)"
   ]
  },
  {
   "cell_type": "code",
   "execution_count": 77,
   "metadata": {},
   "outputs": [
    {
     "name": "stdout",
     "output_type": "stream",
     "text": [
      "(1611, 313)\n"
     ]
    }
   ],
   "source": [
    "print(advancedtrain.shape)"
   ]
  },
  {
   "cell_type": "code",
   "execution_count": 78,
   "metadata": {},
   "outputs": [],
   "source": [
    "advancedmodel = LogisticRegression()\n",
    "advancedmodel = advancedmodel.fit(advancedtrain, train[\"Label\"])"
   ]
  },
  {
   "cell_type": "code",
   "execution_count": 79,
   "metadata": {},
   "outputs": [],
   "source": [
    "testheadlines = []\n",
    "for row in range(0,len(test.index)):\n",
    "    testheadlines.append(' '.join(str(x) for x in test.iloc[row,2:27]))\n",
    "advancedtest = advancedvectorizer.transform(testheadlines)\n",
    "preds2 = advancedmodel.predict(advancedtest)\n",
    "acc2=accuracy_score(test['Label'], preds2)"
   ]
  },
  {
   "cell_type": "code",
   "execution_count": 80,
   "metadata": {},
   "outputs": [
    {
     "name": "stdout",
     "output_type": "stream",
     "text": [
      "Logic Regression 2 accuracy:  0.5238095238095238\n"
     ]
    }
   ],
   "source": [
    "print('Logic Regression 2 accuracy: ', acc2)"
   ]
  },
  {
   "cell_type": "code",
   "execution_count": 81,
   "metadata": {},
   "outputs": [
    {
     "data": {
      "text/html": [
       "<div>\n",
       "<style scoped>\n",
       "    .dataframe tbody tr th:only-of-type {\n",
       "        vertical-align: middle;\n",
       "    }\n",
       "\n",
       "    .dataframe tbody tr th {\n",
       "        vertical-align: top;\n",
       "    }\n",
       "\n",
       "    .dataframe thead th {\n",
       "        text-align: right;\n",
       "    }\n",
       "</style>\n",
       "<table border=\"1\" class=\"dataframe\">\n",
       "  <thead>\n",
       "    <tr style=\"text-align: right;\">\n",
       "      <th></th>\n",
       "      <th>Words</th>\n",
       "      <th>Coefficient</th>\n",
       "    </tr>\n",
       "  </thead>\n",
       "  <tbody>\n",
       "    <tr>\n",
       "      <th>261</th>\n",
       "      <td>the united states to</td>\n",
       "      <td>1.336406</td>\n",
       "    </tr>\n",
       "    <tr>\n",
       "      <th>86</th>\n",
       "      <td>have the right to</td>\n",
       "      <td>1.299840</td>\n",
       "    </tr>\n",
       "    <tr>\n",
       "      <th>290</th>\n",
       "      <td>turn out to be</td>\n",
       "      <td>1.280977</td>\n",
       "    </tr>\n",
       "    <tr>\n",
       "      <th>35</th>\n",
       "      <td>bolivian president evo morales</td>\n",
       "      <td>1.199137</td>\n",
       "    </tr>\n",
       "    <tr>\n",
       "      <th>199</th>\n",
       "      <td>sentenced to death for</td>\n",
       "      <td>1.150593</td>\n",
       "    </tr>\n",
       "  </tbody>\n",
       "</table>\n",
       "</div>"
      ],
      "text/plain": [
       "                              Words  Coefficient\n",
       "261            the united states to     1.336406\n",
       "86                have the right to     1.299840\n",
       "290                  turn out to be     1.280977\n",
       "35   bolivian president evo morales     1.199137\n",
       "199          sentenced to death for     1.150593"
      ]
     },
     "execution_count": 81,
     "metadata": {},
     "output_type": "execute_result"
    }
   ],
   "source": [
    "advwords = advancedvectorizer.get_feature_names()\n",
    "advcoeffs = advancedmodel.coef_.tolist()[0]\n",
    "advcoeffdf = pd.DataFrame({'Words' : advwords, \n",
    "                        'Coefficient' : advcoeffs})\n",
    "advcoeffdf = advcoeffdf.sort_values(['Coefficient', 'Words'], ascending=[0, 1])\n",
    "advcoeffdf.head(5)"
   ]
  },
  {
   "cell_type": "code",
   "execution_count": 82,
   "metadata": {},
   "outputs": [
    {
     "data": {
      "text/html": [
       "<div>\n",
       "<style scoped>\n",
       "    .dataframe tbody tr th:only-of-type {\n",
       "        vertical-align: middle;\n",
       "    }\n",
       "\n",
       "    .dataframe tbody tr th {\n",
       "        vertical-align: top;\n",
       "    }\n",
       "\n",
       "    .dataframe thead th {\n",
       "        text-align: right;\n",
       "    }\n",
       "</style>\n",
       "<table border=\"1\" class=\"dataframe\">\n",
       "  <thead>\n",
       "    <tr style=\"text-align: right;\">\n",
       "      <th></th>\n",
       "      <th>Words</th>\n",
       "      <th>Coefficient</th>\n",
       "    </tr>\n",
       "  </thead>\n",
       "  <tbody>\n",
       "    <tr>\n",
       "      <th>253</th>\n",
       "      <td>the times of india</td>\n",
       "      <td>-0.906070</td>\n",
       "    </tr>\n",
       "    <tr>\n",
       "      <th>259</th>\n",
       "      <td>the united states has</td>\n",
       "      <td>-0.935390</td>\n",
       "    </tr>\n",
       "    <tr>\n",
       "      <th>276</th>\n",
       "      <td>to get rid of</td>\n",
       "      <td>-0.967044</td>\n",
       "    </tr>\n",
       "    <tr>\n",
       "      <th>122</th>\n",
       "      <td>in the us and</td>\n",
       "      <td>-0.980515</td>\n",
       "    </tr>\n",
       "    <tr>\n",
       "      <th>311</th>\n",
       "      <td>years in jail for</td>\n",
       "      <td>-1.277151</td>\n",
       "    </tr>\n",
       "  </tbody>\n",
       "</table>\n",
       "</div>"
      ],
      "text/plain": [
       "                     Words  Coefficient\n",
       "253     the times of india    -0.906070\n",
       "259  the united states has    -0.935390\n",
       "276          to get rid of    -0.967044\n",
       "122          in the us and    -0.980515\n",
       "311      years in jail for    -1.277151"
      ]
     },
     "execution_count": 82,
     "metadata": {},
     "output_type": "execute_result"
    }
   ],
   "source": [
    "advcoeffdf.tail(5)"
   ]
  },
  {
   "cell_type": "code",
   "execution_count": 120,
   "metadata": {},
   "outputs": [],
   "source": [
    "advancedvectorizer = TfidfVectorizer( min_df=0.001, max_df=0.99, max_features = 8000000, ngram_range = (3, 3))\n",
    "advancedtrain = advancedvectorizer.fit_transform(trainheadlines)"
   ]
  },
  {
   "cell_type": "code",
   "execution_count": 121,
   "metadata": {},
   "outputs": [
    {
     "name": "stdout",
     "output_type": "stream",
     "text": [
      "(1611, 35212)\n"
     ]
    }
   ],
   "source": [
    "print(advancedtrain.shape)"
   ]
  },
  {
   "cell_type": "code",
   "execution_count": 122,
   "metadata": {},
   "outputs": [],
   "source": [
    "from sklearn.ensemble import RandomForestClassifier\n",
    "advancedmodel = RandomForestClassifier()\n",
    "advancedmodel = advancedmodel.fit(advancedtrain, train[\"Label\"])\n",
    "testheadlines = []\n",
    "for row in range(0,len(test.index)):\n",
    "    testheadlines.append(' '.join(str(x) for x in test.iloc[row,2:27]))\n",
    "advancedtest = advancedvectorizer.transform(testheadlines)\n",
    "preds6 = advancedmodel.predict(advancedtest)\n",
    "acc6 = accuracy_score(test['Label'], preds6)"
   ]
  },
  {
   "cell_type": "code",
   "execution_count": 123,
   "metadata": {},
   "outputs": [
    {
     "name": "stdout",
     "output_type": "stream",
     "text": [
      "RF 1 accuracy:  0.5211640211640212\n"
     ]
    }
   ],
   "source": [
    "print('RF 1 accuracy: ', acc6)"
   ]
  },
  {
   "cell_type": "markdown",
   "metadata": {},
   "source": [
    "## LSTM"
   ]
  },
  {
   "cell_type": "code",
   "execution_count": 131,
   "metadata": {},
   "outputs": [
    {
     "name": "stdout",
     "output_type": "stream",
     "text": [
      "(1611, 401)\n"
     ]
    }
   ],
   "source": [
    "batch_size = 32\n",
    "nb_classes = 2\n",
    "advancedvectorizer = TfidfVectorizer( min_df=0.04, max_df=0.3, max_features = 200000, ngram_range = (2, 2))\n",
    "advancedtrain = advancedvectorizer.fit_transform(trainheadlines)\n",
    "testheadlines = []\n",
    "for row in range(0,len(test.index)):\n",
    "    testheadlines.append(' '.join(str(x) for x in test.iloc[row,2:27]))\n",
    "advancedtest = advancedvectorizer.transform(testheadlines)\n",
    "print(advancedtrain.shape)"
   ]
  },
  {
   "cell_type": "code",
   "execution_count": 132,
   "metadata": {},
   "outputs": [
    {
     "name": "stdout",
     "output_type": "stream",
     "text": [
      "X_train shape: (1611, 401)\n",
      "X_test shape: (378, 401)\n"
     ]
    }
   ],
   "source": [
    "X_train = advancedtrain.toarray()\n",
    "X_test = advancedtest.toarray()\n",
    "\n",
    "print('X_train shape:', X_train.shape)\n",
    "print('X_test shape:', X_test.shape)\n",
    "y_train = np.array(train[\"Label\"])\n",
    "y_test = np.array(test[\"Label\"])"
   ]
  },
  {
   "cell_type": "code",
   "execution_count": 133,
   "metadata": {},
   "outputs": [],
   "source": [
    "max_features = 10000\n",
    "EMBEDDING_DIM = 100\n",
    "VALIDATION_SPLIT = 0.1\n",
    "maxlen = 200\n",
    "batch_size = 32\n",
    "nb_classes = 2"
   ]
  },
  {
   "cell_type": "code",
   "execution_count": 134,
   "metadata": {},
   "outputs": [
    {
     "name": "stderr",
     "output_type": "stream",
     "text": [
      "/Library/Frameworks/Python.framework/Versions/3.6/lib/python3.6/site-packages/keras/preprocessing/text.py:172: UserWarning: The `nb_words` argument in `Tokenizer` has been renamed `num_words`.\n",
      "  warnings.warn('The `nb_words` argument in `Tokenizer` '\n"
     ]
    }
   ],
   "source": [
    "from keras.preprocessing.text import Tokenizer\n",
    "\n",
    "# vectorize the text samples into a 2D integer tensor\n",
    "tokenizer = Tokenizer(nb_words=max_features)\n",
    "tokenizer.fit_on_texts(trainheadlines)\n",
    "sequences_train = tokenizer.texts_to_sequences(trainheadlines)\n",
    "sequences_test = tokenizer.texts_to_sequences(testheadlines)"
   ]
  },
  {
   "cell_type": "code",
   "execution_count": 135,
   "metadata": {},
   "outputs": [
    {
     "name": "stdout",
     "output_type": "stream",
     "text": [
      "Pad sequences (samples x time)\n",
      "X_train shape: (1611, 200)\n",
      "X_test shape: (378, 200)\n"
     ]
    }
   ],
   "source": [
    "from keras.preprocessing import sequence\n",
    "from keras.utils import np_utils\n",
    "\n",
    "print('Pad sequences (samples x time)')\n",
    "X_train = sequence.pad_sequences(sequences_train, maxlen=maxlen)\n",
    "X_test = sequence.pad_sequences(sequences_test, maxlen=maxlen)\n",
    "\n",
    "Y_train = np_utils.to_categorical(y_train, nb_classes)\n",
    "Y_test = np_utils.to_categorical(y_test, nb_classes)\n",
    "\n",
    "\n",
    "print('X_train shape:', X_train.shape)\n",
    "print('X_test shape:', X_test.shape)"
   ]
  },
  {
   "cell_type": "code",
   "execution_count": 141,
   "metadata": {},
   "outputs": [
    {
     "name": "stdout",
     "output_type": "stream",
     "text": [
      "Build model...\n"
     ]
    },
    {
     "name": "stderr",
     "output_type": "stream",
     "text": [
      "/Library/Frameworks/Python.framework/Versions/3.6/lib/python3.6/site-packages/ipykernel_launcher.py:8: UserWarning: The `dropout` argument is no longer support in `Embedding`. You can apply a `keras.layers.SpatialDropout1D` layer right after the `Embedding` layer to get the same behavior.\n",
      "  \n",
      "/Library/Frameworks/Python.framework/Versions/3.6/lib/python3.6/site-packages/ipykernel_launcher.py:9: UserWarning: Update your `LSTM` call to the Keras 2 API: `LSTM(128, dropout=0.2, recurrent_dropout=0.2)`\n",
      "  if __name__ == '__main__':\n"
     ]
    },
    {
     "name": "stdout",
     "output_type": "stream",
     "text": [
      "Train...\n"
     ]
    },
    {
     "name": "stderr",
     "output_type": "stream",
     "text": [
      "/Library/Frameworks/Python.framework/Versions/3.6/lib/python3.6/site-packages/keras/models.py:981: UserWarning: The `nb_epoch` argument in `fit` has been renamed `epochs`.\n",
      "  warnings.warn('The `nb_epoch` argument in `fit` '\n"
     ]
    },
    {
     "name": "stdout",
     "output_type": "stream",
     "text": [
      "Train on 1611 samples, validate on 378 samples\n",
      "Epoch 1/10\n",
      "1611/1611 [==============================] - 14s 9ms/step - loss: 0.6918 - acc: 0.5289 - val_loss: 0.6973 - val_acc: 0.5079\n",
      "Epoch 2/10\n",
      "1611/1611 [==============================] - 13s 8ms/step - loss: 0.6196 - acc: 0.6511 - val_loss: 0.7099 - val_acc: 0.5794\n",
      "Epoch 3/10\n",
      "1611/1611 [==============================] - 15s 9ms/step - loss: 0.2629 - acc: 0.8951 - val_loss: 0.9444 - val_acc: 0.5185\n",
      "Epoch 4/10\n",
      "1611/1611 [==============================] - 15s 9ms/step - loss: 0.0649 - acc: 0.9851 - val_loss: 1.3301 - val_acc: 0.5370\n",
      "Epoch 5/10\n",
      "1611/1611 [==============================] - 14s 9ms/step - loss: 0.0143 - acc: 0.9963 - val_loss: 1.4155 - val_acc: 0.5344\n",
      "Epoch 6/10\n",
      "1611/1611 [==============================] - 14s 9ms/step - loss: 0.0045 - acc: 1.0000 - val_loss: 1.6761 - val_acc: 0.5635\n",
      "Epoch 7/10\n",
      "1611/1611 [==============================] - 14s 9ms/step - loss: 0.0033 - acc: 0.9994 - val_loss: 1.8303 - val_acc: 0.5582\n",
      "Epoch 8/10\n",
      "1611/1611 [==============================] - 15s 9ms/step - loss: 0.0011 - acc: 1.0000 - val_loss: 1.8914 - val_acc: 0.5556\n",
      "Epoch 9/10\n",
      "1611/1611 [==============================] - 14s 9ms/step - loss: 0.0083 - acc: 0.9975 - val_loss: 1.5082 - val_acc: 0.5450\n",
      "Epoch 10/10\n",
      "1611/1611 [==============================] - 14s 9ms/step - loss: 0.0093 - acc: 0.9988 - val_loss: 1.9239 - val_acc: 0.5291\n",
      "378/378 [==============================] - 1s 2ms/step\n",
      "Test score: 1.9239365114736808\n",
      "Test accuracy: 0.5291005287851606\n",
      "Generating test predictions...\n"
     ]
    }
   ],
   "source": [
    "from keras.models import Sequential\n",
    "from keras.layers.embeddings import Embedding\n",
    "from keras.layers.recurrent import LSTM\n",
    "from keras.layers.core import Dense, Activation\n",
    "\n",
    "print('Build model...')\n",
    "model = Sequential()\n",
    "model.add(Embedding(max_features, 128, dropout=0.2))\n",
    "model.add(LSTM(128, dropout_W=0.2, dropout_U=0.2)) \n",
    "model.add(Dense(nb_classes))\n",
    "model.add(Activation('softmax'))\n",
    "\n",
    "model.compile(loss='binary_crossentropy',\n",
    "              optimizer='adam',\n",
    "              metrics=['accuracy'])\n",
    "\n",
    "print('Train...')\n",
    "model.fit(X_train, Y_train, batch_size=batch_size, nb_epoch=10,\n",
    "          validation_data=(X_test, Y_test))\n",
    "score, acc = model.evaluate(X_test, Y_test,\n",
    "                            batch_size=batch_size)\n",
    "print('Test score:', score)\n",
    "print('Test accuracy:', acc)\n",
    "\n",
    "\n",
    "print(\"Generating test predictions...\")\n",
    "preds15 = model.predict_classes(X_test, verbose=0)\n",
    "acc15 = accuracy_score(test['Label'], preds15)"
   ]
  },
  {
   "cell_type": "code",
   "execution_count": null,
   "metadata": {},
   "outputs": [],
   "source": []
  },
  {
   "cell_type": "code",
   "execution_count": null,
   "metadata": {},
   "outputs": [],
   "source": []
  },
  {
   "cell_type": "code",
   "execution_count": null,
   "metadata": {},
   "outputs": [],
   "source": []
  },
  {
   "cell_type": "code",
   "execution_count": null,
   "metadata": {},
   "outputs": [],
   "source": []
  },
  {
   "cell_type": "code",
   "execution_count": null,
   "metadata": {},
   "outputs": [],
   "source": []
  },
  {
   "cell_type": "code",
   "execution_count": null,
   "metadata": {},
   "outputs": [],
   "source": []
  },
  {
   "cell_type": "code",
   "execution_count": null,
   "metadata": {},
   "outputs": [],
   "source": []
  },
  {
   "cell_type": "code",
   "execution_count": null,
   "metadata": {},
   "outputs": [],
   "source": []
  },
  {
   "cell_type": "code",
   "execution_count": null,
   "metadata": {},
   "outputs": [],
   "source": []
  },
  {
   "cell_type": "code",
   "execution_count": null,
   "metadata": {},
   "outputs": [],
   "source": []
  },
  {
   "cell_type": "code",
   "execution_count": null,
   "metadata": {},
   "outputs": [],
   "source": []
  },
  {
   "cell_type": "code",
   "execution_count": null,
   "metadata": {},
   "outputs": [],
   "source": []
  },
  {
   "cell_type": "code",
   "execution_count": null,
   "metadata": {},
   "outputs": [],
   "source": []
  },
  {
   "cell_type": "code",
   "execution_count": null,
   "metadata": {},
   "outputs": [],
   "source": []
  },
  {
   "cell_type": "code",
   "execution_count": null,
   "metadata": {},
   "outputs": [],
   "source": []
  },
  {
   "cell_type": "code",
   "execution_count": null,
   "metadata": {},
   "outputs": [],
   "source": []
  },
  {
   "cell_type": "code",
   "execution_count": null,
   "metadata": {},
   "outputs": [],
   "source": []
  },
  {
   "cell_type": "code",
   "execution_count": null,
   "metadata": {},
   "outputs": [],
   "source": []
  },
  {
   "cell_type": "code",
   "execution_count": null,
   "metadata": {},
   "outputs": [],
   "source": []
  },
  {
   "cell_type": "code",
   "execution_count": null,
   "metadata": {},
   "outputs": [],
   "source": []
  },
  {
   "cell_type": "code",
   "execution_count": null,
   "metadata": {},
   "outputs": [],
   "source": []
  },
  {
   "cell_type": "code",
   "execution_count": null,
   "metadata": {},
   "outputs": [],
   "source": []
  },
  {
   "cell_type": "code",
   "execution_count": null,
   "metadata": {},
   "outputs": [],
   "source": []
  },
  {
   "cell_type": "code",
   "execution_count": null,
   "metadata": {},
   "outputs": [],
   "source": []
  },
  {
   "cell_type": "code",
   "execution_count": null,
   "metadata": {},
   "outputs": [],
   "source": []
  },
  {
   "cell_type": "code",
   "execution_count": null,
   "metadata": {},
   "outputs": [],
   "source": []
  },
  {
   "cell_type": "code",
   "execution_count": null,
   "metadata": {},
   "outputs": [],
   "source": [
    "# Accessing elements\n",
    "c = 0\n",
    "for i,j in News.iterrows():\n",
    "    c+=1\n",
    "    print(j['Date'], j['News'])\n",
    "    print(type(j['Date']), type(j['News']))\n",
    "    #print('this is ',j)\n",
    "    if c > 100: break"
   ]
  },
  {
   "cell_type": "code",
   "execution_count": 23,
   "metadata": {},
   "outputs": [],
   "source": [
    "Comb = pd.read_csv('data/Combined_News_DJIA.csv')"
   ]
  },
  {
   "cell_type": "code",
   "execution_count": 29,
   "metadata": {},
   "outputs": [
    {
     "data": {
      "text/plain": [
       "<matplotlib.axes._subplots.AxesSubplot at 0x114971940>"
      ]
     },
     "execution_count": 29,
     "metadata": {},
     "output_type": "execute_result"
    },
    {
     "data": {
      "image/png": "[encoded data removed]",
      "text/plain": [
       "<Figure size 432x288 with 1 Axes>"
      ]
     },
     "metadata": {},
     "output_type": "display_data"
    }
   ],
   "source": [
    "pd.value_counts(Comb['Label']).plot.bar()"
   ]
  },
  {
   "cell_type": "code",
   "execution_count": 37,
   "metadata": {},
   "outputs": [
    {
     "data": {
      "text/html": [
       "<div>\n",
       "<style scoped>\n",
       "    .dataframe tbody tr th:only-of-type {\n",
       "        vertical-align: middle;\n",
       "    }\n",
       "\n",
       "    .dataframe tbody tr th {\n",
       "        vertical-align: top;\n",
       "    }\n",
       "\n",
       "    .dataframe thead th {\n",
       "        text-align: right;\n",
       "    }\n",
       "</style>\n",
       "<table border=\"1\" class=\"dataframe\">\n",
       "  <thead>\n",
       "    <tr style=\"text-align: right;\">\n",
       "      <th></th>\n",
       "      <th>Date</th>\n",
       "      <th>Label</th>\n",
       "      <th>Top1</th>\n",
       "      <th>Top2</th>\n",
       "      <th>Top3</th>\n",
       "      <th>Top4</th>\n",
       "      <th>Top5</th>\n",
       "      <th>Top6</th>\n",
       "      <th>Top7</th>\n",
       "      <th>Top8</th>\n",
       "      <th>...</th>\n",
       "      <th>Top16</th>\n",
       "      <th>Top17</th>\n",
       "      <th>Top18</th>\n",
       "      <th>Top19</th>\n",
       "      <th>Top20</th>\n",
       "      <th>Top21</th>\n",
       "      <th>Top22</th>\n",
       "      <th>Top23</th>\n",
       "      <th>Top24</th>\n",
       "      <th>Top25</th>\n",
       "    </tr>\n",
       "  </thead>\n",
       "  <tbody>\n",
       "    <tr>\n",
       "      <th>1988</th>\n",
       "      <td>2016-07-01</td>\n",
       "      <td>1</td>\n",
       "      <td>A 117-year-old woman in Mexico City finally re...</td>\n",
       "      <td>IMF chief backs Athens as permanent Olympic host</td>\n",
       "      <td>The president of France says if Brexit won, so...</td>\n",
       "      <td>British Man Who Must Give Police 24 Hours' Not...</td>\n",
       "      <td>100+ Nobel laureates urge Greenpeace to stop o...</td>\n",
       "      <td>Brazil: Huge spike in number of police killing...</td>\n",
       "      <td>Austria's highest court annuls presidential el...</td>\n",
       "      <td>Facebook wins privacy case, can track any Belg...</td>\n",
       "      <td>...</td>\n",
       "      <td>The United States has placed Myanmar, Uzbekist...</td>\n",
       "      <td>S&amp;amp;P revises European Union credit rating t...</td>\n",
       "      <td>India gets $1 billion loan from World Bank for...</td>\n",
       "      <td>U.S. sailors detained by Iran spoke too much u...</td>\n",
       "      <td>Mass fish kill in Vietnam solved as Taiwan ste...</td>\n",
       "      <td>Philippines president Rodrigo Duterte urges pe...</td>\n",
       "      <td>Spain arrests three Pakistanis accused of prom...</td>\n",
       "      <td>Venezuela, where anger over food shortages is ...</td>\n",
       "      <td>A Hindu temple worker has been killed by three...</td>\n",
       "      <td>Ozone layer hole seems to be healing - US &amp;amp...</td>\n",
       "    </tr>\n",
       "    <tr>\n",
       "      <th>1987</th>\n",
       "      <td>2016-06-30</td>\n",
       "      <td>1</td>\n",
       "      <td>Jamaica proposes marijuana dispensers for tour...</td>\n",
       "      <td>Stephen Hawking says pollution and 'stupidity'...</td>\n",
       "      <td>Boris Johnson says he will not run for Tory pa...</td>\n",
       "      <td>Six gay men in Ivory Coast were abused and for...</td>\n",
       "      <td>Switzerland denies citizenship to Muslim immig...</td>\n",
       "      <td>Palestinian terrorist stabs israeli teen girl ...</td>\n",
       "      <td>Puerto Rico will default on $1 billion of debt...</td>\n",
       "      <td>Republic of Ireland fans to be awarded medal f...</td>\n",
       "      <td>...</td>\n",
       "      <td>Googles free wifi at Indian railway stations i...</td>\n",
       "      <td>Mounting evidence suggests 'hobbits' were wipe...</td>\n",
       "      <td>The men who carried out Tuesday's terror attac...</td>\n",
       "      <td>Calls to suspend Saudi Arabia from UN Human Ri...</td>\n",
       "      <td>More Than 100 Nobel Laureates Call Out Greenpe...</td>\n",
       "      <td>British pedophile sentenced to 85 years in US ...</td>\n",
       "      <td>US permitted 1,200 offshore fracks in Gulf of ...</td>\n",
       "      <td>We will be swimming in ridicule - French beach...</td>\n",
       "      <td>UEFA says no minutes of silence for Istanbul v...</td>\n",
       "      <td>Law Enforcement Sources: Gun Used in Paris Ter...</td>\n",
       "    </tr>\n",
       "    <tr>\n",
       "      <th>1986</th>\n",
       "      <td>2016-06-29</td>\n",
       "      <td>1</td>\n",
       "      <td>Explosion At Airport In Istanbul</td>\n",
       "      <td>Yemeni former president: Terrorism is the offs...</td>\n",
       "      <td>UK must accept freedom of movement to access E...</td>\n",
       "      <td>Devastated: scientists too late to captive bre...</td>\n",
       "      <td>British Labor Party leader Jeremy Corbyn loses...</td>\n",
       "      <td>A Muslim Shop in the UK Was Just Firebombed Wh...</td>\n",
       "      <td>Mexican Authorities Sexually Torture Women in ...</td>\n",
       "      <td>UK shares and pound continue to recover</td>\n",
       "      <td>...</td>\n",
       "      <td>Escape Tunnel, Dug by Hand, Is Found at Holoca...</td>\n",
       "      <td>The land under Beijing is sinking by as much a...</td>\n",
       "      <td>Car bomb and Anti-Islamic attack on Mosque in ...</td>\n",
       "      <td>Emaciated lions in Taiz Zoo are trapped in blo...</td>\n",
       "      <td>Rupert Murdoch describes Brexit as 'wonderful'...</td>\n",
       "      <td>More than 40 killed in Yemen suicide attacks</td>\n",
       "      <td>Google Found Disastrous Symantec and Norton Vu...</td>\n",
       "      <td>Extremist violence on the rise in Germany: Dom...</td>\n",
       "      <td>BBC News: Labour MPs pass Corbyn no-confidence...</td>\n",
       "      <td>Tiny New Zealand town with 'too many jobs' lau...</td>\n",
       "    </tr>\n",
       "    <tr>\n",
       "      <th>1985</th>\n",
       "      <td>2016-06-28</td>\n",
       "      <td>1</td>\n",
       "      <td>2,500 Scientists To Australia: If You Want To ...</td>\n",
       "      <td>The personal details of 112,000 French police ...</td>\n",
       "      <td>S&amp;amp;P cuts United Kingdom sovereign credit r...</td>\n",
       "      <td>Huge helium deposit found in Africa</td>\n",
       "      <td>CEO of the South African state broadcaster qui...</td>\n",
       "      <td>Brexit cost investors $2 trillion, the worst o...</td>\n",
       "      <td>Hong Kong democracy activists call for return ...</td>\n",
       "      <td>Brexit: Iceland president says UK can join 'tr...</td>\n",
       "      <td>...</td>\n",
       "      <td>US, Canada and Mexico pledge 50% of power from...</td>\n",
       "      <td>There is increasing evidence that Australia is...</td>\n",
       "      <td>Richard Branson, the founder of Virgin Group, ...</td>\n",
       "      <td>37,000-yr-old skull from Borneo reveals surpri...</td>\n",
       "      <td>Palestinians stone Western Wall worshipers; po...</td>\n",
       "      <td>Jean-Claude Juncker asks Farage: Why are you h...</td>\n",
       "      <td>\"Romanians for Remainians\" offering a new home...</td>\n",
       "      <td>Brexit: Gibraltar in talks with Scotland to st...</td>\n",
       "      <td>8 Suicide Bombers Strike Lebanon</td>\n",
       "      <td>Mexico's security forces routinely use 'sexual...</td>\n",
       "    </tr>\n",
       "    <tr>\n",
       "      <th>1984</th>\n",
       "      <td>2016-06-27</td>\n",
       "      <td>0</td>\n",
       "      <td>Barclays and RBS shares suspended from trading...</td>\n",
       "      <td>Pope says Church should ask forgiveness from g...</td>\n",
       "      <td>Poland 'shocked' by xenophobic abuse of Poles ...</td>\n",
       "      <td>There will be no second referendum, cabinet ag...</td>\n",
       "      <td>Scotland welcome to join EU, Merkel ally says</td>\n",
       "      <td>Sterling dips below Friday's 31-year low amid ...</td>\n",
       "      <td>No negative news about South African President...</td>\n",
       "      <td>Surge in Hate Crimes in the U.K. Following U.K...</td>\n",
       "      <td>...</td>\n",
       "      <td>German lawyers to probe Erdogan over alleged w...</td>\n",
       "      <td>Boris Johnson says the UK will continue to \"in...</td>\n",
       "      <td>Richard Branson is calling on the UK governmen...</td>\n",
       "      <td>Turkey 'sorry for downing Russian jet'</td>\n",
       "      <td>Edward Snowden lawyer vows new push for pardon...</td>\n",
       "      <td>Brexit opinion poll reveals majority don't wan...</td>\n",
       "      <td>Conservative MP Leave Campaigner: \"The leave c...</td>\n",
       "      <td>Economists predict UK recession, further weake...</td>\n",
       "      <td>New EU 'superstate plan by France, Germany: Cr...</td>\n",
       "      <td>Pakistani clerics declare transgender marriage...</td>\n",
       "    </tr>\n",
       "    <tr>\n",
       "      <th>1983</th>\n",
       "      <td>2016-06-24</td>\n",
       "      <td>0</td>\n",
       "      <td>David Cameron to Resign as PM After EU Referendum</td>\n",
       "      <td>BBC forecasts UK votes to Leave the European U...</td>\n",
       "      <td>Nicola Sturgeon says a second independence ref...</td>\n",
       "      <td>It's official. Britain votes to leave the Euro...</td>\n",
       "      <td>World's Largest Tibetan Buddhist Institute Ord...</td>\n",
       "      <td>Not a single place in Scotland voted to leave ...</td>\n",
       "      <td>Rich Getting Richer at the Expense of the Poor...</td>\n",
       "      <td>Spanish minister calls for Gibraltar to be ret...</td>\n",
       "      <td>...</td>\n",
       "      <td>Sinn Fein calls for a referendum on Irish reun...</td>\n",
       "      <td>$70 billion wiped off the Australian sharemark...</td>\n",
       "      <td>Nigel Farage disowns Vote Leave '350m for the ...</td>\n",
       "      <td>Top EU leader: we want Britain out as soon as ...</td>\n",
       "      <td>Nigel Farage: 350 million pledge to fund the N...</td>\n",
       "      <td>Thousands of London banking job cuts to start ...</td>\n",
       "      <td>Google says there was a large spike in searche...</td>\n",
       "      <td>EU referendum; Gibraltar backs Remain with 94%...</td>\n",
       "      <td>After Brexit, U.K. Residents Google 'What Is T...</td>\n",
       "      <td>A Turkish man has been found guilty of insulti...</td>\n",
       "    </tr>\n",
       "  </tbody>\n",
       "</table>\n",
       "<p>6 rows × 27 columns</p>\n",
       "</div>"
      ],
      "text/plain": [
       "            Date  Label                                               Top1  \\\n",
       "1988  2016-07-01      1  A 117-year-old woman in Mexico City finally re...   \n",
       "1987  2016-06-30      1  Jamaica proposes marijuana dispensers for tour...   \n",
       "1986  2016-06-29      1                   Explosion At Airport In Istanbul   \n",
       "1985  2016-06-28      1  2,500 Scientists To Australia: If You Want To ...   \n",
       "1984  2016-06-27      0  Barclays and RBS shares suspended from trading...   \n",
       "1983  2016-06-24      0  David Cameron to Resign as PM After EU Referendum   \n",
       "\n",
       "                                                   Top2  \\\n",
       "1988   IMF chief backs Athens as permanent Olympic host   \n",
       "1987  Stephen Hawking says pollution and 'stupidity'...   \n",
       "1986  Yemeni former president: Terrorism is the offs...   \n",
       "1985  The personal details of 112,000 French police ...   \n",
       "1984  Pope says Church should ask forgiveness from g...   \n",
       "1983  BBC forecasts UK votes to Leave the European U...   \n",
       "\n",
       "                                                   Top3  \\\n",
       "1988  The president of France says if Brexit won, so...   \n",
       "1987  Boris Johnson says he will not run for Tory pa...   \n",
       "1986  UK must accept freedom of movement to access E...   \n",
       "1985  S&amp;P cuts United Kingdom sovereign credit r...   \n",
       "1984  Poland 'shocked' by xenophobic abuse of Poles ...   \n",
       "1983  Nicola Sturgeon says a second independence ref...   \n",
       "\n",
       "                                                   Top4  \\\n",
       "1988  British Man Who Must Give Police 24 Hours' Not...   \n",
       "1987  Six gay men in Ivory Coast were abused and for...   \n",
       "1986  Devastated: scientists too late to captive bre...   \n",
       "1985                Huge helium deposit found in Africa   \n",
       "1984  There will be no second referendum, cabinet ag...   \n",
       "1983  It's official. Britain votes to leave the Euro...   \n",
       "\n",
       "                                                   Top5  \\\n",
       "1988  100+ Nobel laureates urge Greenpeace to stop o...   \n",
       "1987  Switzerland denies citizenship to Muslim immig...   \n",
       "1986  British Labor Party leader Jeremy Corbyn loses...   \n",
       "1985  CEO of the South African state broadcaster qui...   \n",
       "1984      Scotland welcome to join EU, Merkel ally says   \n",
       "1983  World's Largest Tibetan Buddhist Institute Ord...   \n",
       "\n",
       "                                                   Top6  \\\n",
       "1988  Brazil: Huge spike in number of police killing...   \n",
       "1987  Palestinian terrorist stabs israeli teen girl ...   \n",
       "1986  A Muslim Shop in the UK Was Just Firebombed Wh...   \n",
       "1985  Brexit cost investors $2 trillion, the worst o...   \n",
       "1984  Sterling dips below Friday's 31-year low amid ...   \n",
       "1983  Not a single place in Scotland voted to leave ...   \n",
       "\n",
       "                                                   Top7  \\\n",
       "1988  Austria's highest court annuls presidential el...   \n",
       "1987  Puerto Rico will default on $1 billion of debt...   \n",
       "1986  Mexican Authorities Sexually Torture Women in ...   \n",
       "1985  Hong Kong democracy activists call for return ...   \n",
       "1984  No negative news about South African President...   \n",
       "1983  Rich Getting Richer at the Expense of the Poor...   \n",
       "\n",
       "                                                   Top8  \\\n",
       "1988  Facebook wins privacy case, can track any Belg...   \n",
       "1987  Republic of Ireland fans to be awarded medal f...   \n",
       "1986            UK shares and pound continue to recover   \n",
       "1985  Brexit: Iceland president says UK can join 'tr...   \n",
       "1984  Surge in Hate Crimes in the U.K. Following U.K...   \n",
       "1983  Spanish minister calls for Gibraltar to be ret...   \n",
       "\n",
       "                            ...                          \\\n",
       "1988                        ...                           \n",
       "1987                        ...                           \n",
       "1986                        ...                           \n",
       "1985                        ...                           \n",
       "1984                        ...                           \n",
       "1983                        ...                           \n",
       "\n",
       "                                                  Top16  \\\n",
       "1988  The United States has placed Myanmar, Uzbekist...   \n",
       "1987  Googles free wifi at Indian railway stations i...   \n",
       "1986  Escape Tunnel, Dug by Hand, Is Found at Holoca...   \n",
       "1985  US, Canada and Mexico pledge 50% of power from...   \n",
       "1984  German lawyers to probe Erdogan over alleged w...   \n",
       "1983  Sinn Fein calls for a referendum on Irish reun...   \n",
       "\n",
       "                                                  Top17  \\\n",
       "1988  S&amp;P revises European Union credit rating t...   \n",
       "1987  Mounting evidence suggests 'hobbits' were wipe...   \n",
       "1986  The land under Beijing is sinking by as much a...   \n",
       "1985  There is increasing evidence that Australia is...   \n",
       "1984  Boris Johnson says the UK will continue to \"in...   \n",
       "1983  $70 billion wiped off the Australian sharemark...   \n",
       "\n",
       "                                                  Top18  \\\n",
       "1988  India gets $1 billion loan from World Bank for...   \n",
       "1987  The men who carried out Tuesday's terror attac...   \n",
       "1986  Car bomb and Anti-Islamic attack on Mosque in ...   \n",
       "1985  Richard Branson, the founder of Virgin Group, ...   \n",
       "1984  Richard Branson is calling on the UK governmen...   \n",
       "1983  Nigel Farage disowns Vote Leave '350m for the ...   \n",
       "\n",
       "                                                  Top19  \\\n",
       "1988  U.S. sailors detained by Iran spoke too much u...   \n",
       "1987  Calls to suspend Saudi Arabia from UN Human Ri...   \n",
       "1986  Emaciated lions in Taiz Zoo are trapped in blo...   \n",
       "1985  37,000-yr-old skull from Borneo reveals surpri...   \n",
       "1984             Turkey 'sorry for downing Russian jet'   \n",
       "1983  Top EU leader: we want Britain out as soon as ...   \n",
       "\n",
       "                                                  Top20  \\\n",
       "1988  Mass fish kill in Vietnam solved as Taiwan ste...   \n",
       "1987  More Than 100 Nobel Laureates Call Out Greenpe...   \n",
       "1986  Rupert Murdoch describes Brexit as 'wonderful'...   \n",
       "1985  Palestinians stone Western Wall worshipers; po...   \n",
       "1984  Edward Snowden lawyer vows new push for pardon...   \n",
       "1983  Nigel Farage: 350 million pledge to fund the N...   \n",
       "\n",
       "                                                  Top21  \\\n",
       "1988  Philippines president Rodrigo Duterte urges pe...   \n",
       "1987  British pedophile sentenced to 85 years in US ...   \n",
       "1986       More than 40 killed in Yemen suicide attacks   \n",
       "1985  Jean-Claude Juncker asks Farage: Why are you h...   \n",
       "1984  Brexit opinion poll reveals majority don't wan...   \n",
       "1983  Thousands of London banking job cuts to start ...   \n",
       "\n",
       "                                                  Top22  \\\n",
       "1988  Spain arrests three Pakistanis accused of prom...   \n",
       "1987  US permitted 1,200 offshore fracks in Gulf of ...   \n",
       "1986  Google Found Disastrous Symantec and Norton Vu...   \n",
       "1985  \"Romanians for Remainians\" offering a new home...   \n",
       "1984  Conservative MP Leave Campaigner: \"The leave c...   \n",
       "1983  Google says there was a large spike in searche...   \n",
       "\n",
       "                                                  Top23  \\\n",
       "1988  Venezuela, where anger over food shortages is ...   \n",
       "1987  We will be swimming in ridicule - French beach...   \n",
       "1986  Extremist violence on the rise in Germany: Dom...   \n",
       "1985  Brexit: Gibraltar in talks with Scotland to st...   \n",
       "1984  Economists predict UK recession, further weake...   \n",
       "1983  EU referendum; Gibraltar backs Remain with 94%...   \n",
       "\n",
       "                                                  Top24  \\\n",
       "1988  A Hindu temple worker has been killed by three...   \n",
       "1987  UEFA says no minutes of silence for Istanbul v...   \n",
       "1986  BBC News: Labour MPs pass Corbyn no-confidence...   \n",
       "1985                   8 Suicide Bombers Strike Lebanon   \n",
       "1984  New EU 'superstate plan by France, Germany: Cr...   \n",
       "1983  After Brexit, U.K. Residents Google 'What Is T...   \n",
       "\n",
       "                                                  Top25  \n",
       "1988  Ozone layer hole seems to be healing - US &amp...  \n",
       "1987  Law Enforcement Sources: Gun Used in Paris Ter...  \n",
       "1986  Tiny New Zealand town with 'too many jobs' lau...  \n",
       "1985  Mexico's security forces routinely use 'sexual...  \n",
       "1984  Pakistani clerics declare transgender marriage...  \n",
       "1983  A Turkish man has been found guilty of insulti...  \n",
       "\n",
       "[6 rows x 27 columns]"
      ]
     },
     "execution_count": 37,
     "metadata": {},
     "output_type": "execute_result"
    }
   ],
   "source": [
    "Comb[:-7:-1]"
   ]
  },
  {
   "cell_type": "code",
   "execution_count": 39,
   "metadata": {},
   "outputs": [
    {
     "data": {
      "text/html": [
       "<div>\n",
       "<style scoped>\n",
       "    .dataframe tbody tr th:only-of-type {\n",
       "        vertical-align: middle;\n",
       "    }\n",
       "\n",
       "    .dataframe tbody tr th {\n",
       "        vertical-align: top;\n",
       "    }\n",
       "\n",
       "    .dataframe thead th {\n",
       "        text-align: right;\n",
       "    }\n",
       "</style>\n",
       "<table border=\"1\" class=\"dataframe\">\n",
       "  <thead>\n",
       "    <tr style=\"text-align: right;\">\n",
       "      <th></th>\n",
       "      <th>Date</th>\n",
       "      <th>Open</th>\n",
       "      <th>High</th>\n",
       "      <th>Low</th>\n",
       "      <th>Close</th>\n",
       "      <th>Volume</th>\n",
       "      <th>Adj Close</th>\n",
       "    </tr>\n",
       "  </thead>\n",
       "  <tbody>\n",
       "    <tr>\n",
       "      <th>0</th>\n",
       "      <td>2016-07-01</td>\n",
       "      <td>17924.240234</td>\n",
       "      <td>18002.380859</td>\n",
       "      <td>17916.910156</td>\n",
       "      <td>17949.369141</td>\n",
       "      <td>82160000</td>\n",
       "      <td>17949.369141</td>\n",
       "    </tr>\n",
       "    <tr>\n",
       "      <th>1</th>\n",
       "      <td>2016-06-30</td>\n",
       "      <td>17712.759766</td>\n",
       "      <td>17930.609375</td>\n",
       "      <td>17711.800781</td>\n",
       "      <td>17929.990234</td>\n",
       "      <td>133030000</td>\n",
       "      <td>17929.990234</td>\n",
       "    </tr>\n",
       "    <tr>\n",
       "      <th>2</th>\n",
       "      <td>2016-06-29</td>\n",
       "      <td>17456.019531</td>\n",
       "      <td>17704.509766</td>\n",
       "      <td>17456.019531</td>\n",
       "      <td>17694.679688</td>\n",
       "      <td>106380000</td>\n",
       "      <td>17694.679688</td>\n",
       "    </tr>\n",
       "    <tr>\n",
       "      <th>3</th>\n",
       "      <td>2016-06-28</td>\n",
       "      <td>17190.509766</td>\n",
       "      <td>17409.720703</td>\n",
       "      <td>17190.509766</td>\n",
       "      <td>17409.720703</td>\n",
       "      <td>112190000</td>\n",
       "      <td>17409.720703</td>\n",
       "    </tr>\n",
       "    <tr>\n",
       "      <th>4</th>\n",
       "      <td>2016-06-27</td>\n",
       "      <td>17355.210938</td>\n",
       "      <td>17355.210938</td>\n",
       "      <td>17063.080078</td>\n",
       "      <td>17140.240234</td>\n",
       "      <td>138740000</td>\n",
       "      <td>17140.240234</td>\n",
       "    </tr>\n",
       "    <tr>\n",
       "      <th>5</th>\n",
       "      <td>2016-06-24</td>\n",
       "      <td>17946.630859</td>\n",
       "      <td>17946.630859</td>\n",
       "      <td>17356.339844</td>\n",
       "      <td>17400.750000</td>\n",
       "      <td>239000000</td>\n",
       "      <td>17400.750000</td>\n",
       "    </tr>\n",
       "    <tr>\n",
       "      <th>6</th>\n",
       "      <td>2016-06-23</td>\n",
       "      <td>17844.109375</td>\n",
       "      <td>18011.070312</td>\n",
       "      <td>17844.109375</td>\n",
       "      <td>18011.070312</td>\n",
       "      <td>98070000</td>\n",
       "      <td>18011.070312</td>\n",
       "    </tr>\n",
       "  </tbody>\n",
       "</table>\n",
       "</div>"
      ],
      "text/plain": [
       "         Date          Open          High           Low         Close  \\\n",
       "0  2016-07-01  17924.240234  18002.380859  17916.910156  17949.369141   \n",
       "1  2016-06-30  17712.759766  17930.609375  17711.800781  17929.990234   \n",
       "2  2016-06-29  17456.019531  17704.509766  17456.019531  17694.679688   \n",
       "3  2016-06-28  17190.509766  17409.720703  17190.509766  17409.720703   \n",
       "4  2016-06-27  17355.210938  17355.210938  17063.080078  17140.240234   \n",
       "5  2016-06-24  17946.630859  17946.630859  17356.339844  17400.750000   \n",
       "6  2016-06-23  17844.109375  18011.070312  17844.109375  18011.070312   \n",
       "\n",
       "      Volume     Adj Close  \n",
       "0   82160000  17949.369141  \n",
       "1  133030000  17929.990234  \n",
       "2  106380000  17694.679688  \n",
       "3  112190000  17409.720703  \n",
       "4  138740000  17140.240234  \n",
       "5  239000000  17400.750000  \n",
       "6   98070000  18011.070312  "
      ]
     },
     "execution_count": 39,
     "metadata": {},
     "output_type": "execute_result"
    }
   ],
   "source": [
    "Stock[:7]"
   ]
  }
 ],
 "metadata": {
  "kernelspec": {
   "display_name": "Python 3",
   "language": "python",
   "name": "python3"
  },
  "language_info": {
   "codemirror_mode": {
    "name": "ipython",
    "version": 3
   },
   "file_extension": ".py",
   "mimetype": "text/x-python",
   "name": "python",
   "nbconvert_exporter": "python",
   "pygments_lexer": "ipython3",
   "version": "3.6.5"
  }
 },
 "nbformat": 4,
 "nbformat_minor": 2
}
