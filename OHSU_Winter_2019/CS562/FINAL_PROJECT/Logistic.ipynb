{
 "cells": [
  {
   "cell_type": "code",
   "execution_count": 10,
   "metadata": {},
   "outputs": [],
   "source": [
    "import pandas as pd\n",
    "import numpy as np"
   ]
  },
  {
   "cell_type": "code",
   "execution_count": 26,
   "metadata": {},
   "outputs": [
    {
     "data": {
      "text/html": [
       "<div>\n",
       "<style scoped>\n",
       "    .dataframe tbody tr th:only-of-type {\n",
       "        vertical-align: middle;\n",
       "    }\n",
       "\n",
       "    .dataframe tbody tr th {\n",
       "        vertical-align: top;\n",
       "    }\n",
       "\n",
       "    .dataframe thead th {\n",
       "        text-align: right;\n",
       "    }\n",
       "</style>\n",
       "<table border=\"1\" class=\"dataframe\">\n",
       "  <thead>\n",
       "    <tr style=\"text-align: right;\">\n",
       "      <th></th>\n",
       "      <th>Date</th>\n",
       "      <th>Label</th>\n",
       "      <th>variable</th>\n",
       "      <th>Headline</th>\n",
       "    </tr>\n",
       "  </thead>\n",
       "  <tbody>\n",
       "    <tr>\n",
       "      <th>0</th>\n",
       "      <td>2008-08-11</td>\n",
       "      <td>0.0</td>\n",
       "      <td>Top1</td>\n",
       "      <td>b'Why wont America and Nato help us? If they w...</td>\n",
       "    </tr>\n",
       "    <tr>\n",
       "      <th>1</th>\n",
       "      <td>2008-08-12</td>\n",
       "      <td>1.0</td>\n",
       "      <td>Top1</td>\n",
       "      <td>b'Remember that adorable 9-year-old who sang a...</td>\n",
       "    </tr>\n",
       "    <tr>\n",
       "      <th>2</th>\n",
       "      <td>2008-08-13</td>\n",
       "      <td>0.0</td>\n",
       "      <td>Top1</td>\n",
       "      <td>b' U.S. refuses Israel weapons to attack Iran:...</td>\n",
       "    </tr>\n",
       "    <tr>\n",
       "      <th>3</th>\n",
       "      <td>2008-08-14</td>\n",
       "      <td>0.0</td>\n",
       "      <td>Top1</td>\n",
       "      <td>b'All the experts admit that we should legalis...</td>\n",
       "    </tr>\n",
       "    <tr>\n",
       "      <th>4</th>\n",
       "      <td>2008-08-15</td>\n",
       "      <td>1.0</td>\n",
       "      <td>Top1</td>\n",
       "      <td>b\"Mom of missing gay man: Too bad he's not a 2...</td>\n",
       "    </tr>\n",
       "  </tbody>\n",
       "</table>\n",
       "</div>"
      ],
      "text/plain": [
       "         Date  Label variable  \\\n",
       "0  2008-08-11    0.0     Top1   \n",
       "1  2008-08-12    1.0     Top1   \n",
       "2  2008-08-13    0.0     Top1   \n",
       "3  2008-08-14    0.0     Top1   \n",
       "4  2008-08-15    1.0     Top1   \n",
       "\n",
       "                                            Headline  \n",
       "0  b'Why wont America and Nato help us? If they w...  \n",
       "1  b'Remember that adorable 9-year-old who sang a...  \n",
       "2  b' U.S. refuses Israel weapons to attack Iran:...  \n",
       "3  b'All the experts admit that we should legalis...  \n",
       "4  b\"Mom of missing gay man: Too bad he's not a 2...  "
      ]
     },
     "execution_count": 26,
     "metadata": {},
     "output_type": "execute_result"
    }
   ],
   "source": [
    "# load and shift data so score corrisponds to next day\n",
    "data_combined = pd.read_csv('./data/Combined_News_DJIA.csv')\n",
    "data_combined.Label = data_combined.Label.shift(1)\n",
    "data_combined = data_combined[1:]\n",
    "stories = [c for c in data_combined if c.startswith('Top')]\n",
    "data_combined = pd.melt(data_combined, id_vars=['Date','Label'], value_vars=stories, value_name='Headline')\n",
    "#data_combined = data_combined.drop(['variable'], axis=1)\n",
    "data_combined['Headline'] = data_combined['Headline'].apply(lambda x: str(x))\n",
    "data_combined.head()"
   ]
  },
  {
   "cell_type": "code",
   "execution_count": 31,
   "metadata": {},
   "outputs": [],
   "source": [
    "# randomize\n",
    "random_data = data_combined.sample(frac=1)\n",
    "\n",
    "# split data\n",
    "TT_SPLIT = .8\n",
    "index = int(TT_SPLIT*len(data_combined))\n",
    "train = random_data[:index]\n",
    "test = random_data[index:]"
   ]
  },
  {
   "cell_type": "code",
   "execution_count": 44,
   "metadata": {},
   "outputs": [
    {
     "name": "stdout",
     "output_type": "stream",
     "text": [
      "             precision    recall  f1-score   support\n",
      "\n",
      "        0.0       0.48      0.31      0.38      4582\n",
      "        1.0       0.55      0.71      0.62      5358\n",
      "\n",
      "avg / total       0.51      0.52      0.51      9940\n",
      "\n",
      "0.5240442655935613\n"
     ]
    }
   ],
   "source": [
    "from sklearn.feature_extraction.text import TfidfVectorizer\n",
    "from sklearn.metrics import accuracy_score, classification_report\n",
    "from sklearn.linear_model import LogisticRegression\n",
    "\n",
    "tfidf = TfidfVectorizer(sublinear_tf=True, \n",
    "                        min_df=100, norm='l2', \n",
    "                        encoding='latin-1', \n",
    "                        ngram_range=(1, 4), \n",
    "                        stop_words='english')\n",
    "\n",
    "features = tfidf.fit_transform(train.Headline).toarray()\n",
    "labels = data_combined.Label\n",
    "\n",
    "logistic = LogisticRegression()\n",
    "logistic = logistic.fit(features, train[\"Label\"])\n",
    "\n",
    "test_vectors = tfidf.transform(test.Headline)\n",
    "predictions = logistic.predict(test_vectors)\n",
    "\n",
    "print(classification_report(test['Label'], preds2))\n",
    "print(accuracy_score(test['Label'], predictions))"
   ]
  },
  {
   "cell_type": "code",
   "execution_count": 46,
   "metadata": {},
   "outputs": [
    {
     "name": "stdout",
     "output_type": "stream",
     "text": [
      "Run 0 : 0.5105633802816901\n",
      "Run 1 : 0.5080482897384306\n",
      "Run 2 : 0.5187122736418511\n",
      "Run 3 : 0.5099597585513078\n",
      "Run 4 : 0.5142857142857142\n",
      "Run 5 : 0.5172032193158954\n",
      "Run 6 : 0.5127766599597585\n",
      "Run 7 : 0.5259557344064386\n",
      "Run 8 : 0.5214285714285715\n",
      "Run 9 : 0.5045271629778671\n",
      "\n",
      "Average Accuracy: 0.5143460764587525\n"
     ]
    }
   ],
   "source": [
    "average_acc = 0\n",
    "\n",
    "for _ in range(10):\n",
    "\n",
    "    # randomize\n",
    "    random_data = data_combined.sample(frac=1)\n",
    "\n",
    "    # split data\n",
    "    TT_SPLIT = .8\n",
    "    index = int(TT_SPLIT*len(data_combined))\n",
    "    train = random_data[:index]\n",
    "    test = random_data[index:]\n",
    "\n",
    "    tfidf = TfidfVectorizer(sublinear_tf=True, min_df=100, norm='l2', encoding='latin-1', \n",
    "                            ngram_range=(1, 4), stop_words='english')\n",
    "\n",
    "    features = tfidf.fit_transform(train.Headline).toarray()\n",
    "    labels = data_combined.Label\n",
    "\n",
    "    logistic = LogisticRegression()\n",
    "    logistic = logistic.fit(features, train[\"Label\"])\n",
    "\n",
    "    test_vectors = tfidf.transform(test.Headline)\n",
    "    predictions = logistic.predict(test_vectors)\n",
    "\n",
    "    #print(classification_report(test['Label'], preds2))\n",
    "    print('Run',_,':',accuracy_score(test['Label'], predictions))\n",
    "    average_acc += accuracy_score(test['Label'], predictions)\n",
    "print()\n",
    "print('Average Accuracy:', average_acc/10)"
   ]
  },
  {
   "cell_type": "code",
   "execution_count": null,
   "metadata": {},
   "outputs": [],
   "source": []
  },
  {
   "cell_type": "code",
   "execution_count": null,
   "metadata": {},
   "outputs": [],
   "source": []
  }
 ],
 "metadata": {
  "kernelspec": {
   "display_name": "Python 3",
   "language": "python",
   "name": "python3"
  },
  "language_info": {
   "codemirror_mode": {
    "name": "ipython",
    "version": 3
   },
   "file_extension": ".py",
   "mimetype": "text/x-python",
   "name": "python",
   "nbconvert_exporter": "python",
   "pygments_lexer": "ipython3",
   "version": "3.6.5"
  }
 },
 "nbformat": 4,
 "nbformat_minor": 2
}
