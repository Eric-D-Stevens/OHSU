{
 "cells": [
  {
   "cell_type": "code",
   "execution_count": 21,
   "metadata": {},
   "outputs": [],
   "source": [
    "import pandas as pd\n",
    "import numpy as np"
   ]
  },
  {
   "cell_type": "code",
   "execution_count": 22,
   "metadata": {},
   "outputs": [
    {
     "data": {
      "text/html": [
       "<div>\n",
       "<style scoped>\n",
       "    .dataframe tbody tr th:only-of-type {\n",
       "        vertical-align: middle;\n",
       "    }\n",
       "\n",
       "    .dataframe tbody tr th {\n",
       "        vertical-align: top;\n",
       "    }\n",
       "\n",
       "    .dataframe thead th {\n",
       "        text-align: right;\n",
       "    }\n",
       "</style>\n",
       "<table border=\"1\" class=\"dataframe\">\n",
       "  <thead>\n",
       "    <tr style=\"text-align: right;\">\n",
       "      <th></th>\n",
       "      <th>Date</th>\n",
       "      <th>Label</th>\n",
       "      <th>variable</th>\n",
       "      <th>Headline</th>\n",
       "    </tr>\n",
       "  </thead>\n",
       "  <tbody>\n",
       "    <tr>\n",
       "      <th>0</th>\n",
       "      <td>2008-08-11</td>\n",
       "      <td>0.0</td>\n",
       "      <td>Top1</td>\n",
       "      <td>b'Why wont America and Nato help us? If they w...</td>\n",
       "    </tr>\n",
       "    <tr>\n",
       "      <th>1</th>\n",
       "      <td>2008-08-12</td>\n",
       "      <td>1.0</td>\n",
       "      <td>Top1</td>\n",
       "      <td>b'Remember that adorable 9-year-old who sang a...</td>\n",
       "    </tr>\n",
       "    <tr>\n",
       "      <th>2</th>\n",
       "      <td>2008-08-13</td>\n",
       "      <td>0.0</td>\n",
       "      <td>Top1</td>\n",
       "      <td>b' U.S. refuses Israel weapons to attack Iran:...</td>\n",
       "    </tr>\n",
       "    <tr>\n",
       "      <th>3</th>\n",
       "      <td>2008-08-14</td>\n",
       "      <td>0.0</td>\n",
       "      <td>Top1</td>\n",
       "      <td>b'All the experts admit that we should legalis...</td>\n",
       "    </tr>\n",
       "    <tr>\n",
       "      <th>4</th>\n",
       "      <td>2008-08-15</td>\n",
       "      <td>1.0</td>\n",
       "      <td>Top1</td>\n",
       "      <td>b\"Mom of missing gay man: Too bad he's not a 2...</td>\n",
       "    </tr>\n",
       "  </tbody>\n",
       "</table>\n",
       "</div>"
      ],
      "text/plain": [
       "         Date  Label variable  \\\n",
       "0  2008-08-11    0.0     Top1   \n",
       "1  2008-08-12    1.0     Top1   \n",
       "2  2008-08-13    0.0     Top1   \n",
       "3  2008-08-14    0.0     Top1   \n",
       "4  2008-08-15    1.0     Top1   \n",
       "\n",
       "                                            Headline  \n",
       "0  b'Why wont America and Nato help us? If they w...  \n",
       "1  b'Remember that adorable 9-year-old who sang a...  \n",
       "2  b' U.S. refuses Israel weapons to attack Iran:...  \n",
       "3  b'All the experts admit that we should legalis...  \n",
       "4  b\"Mom of missing gay man: Too bad he's not a 2...  "
      ]
     },
     "execution_count": 22,
     "metadata": {},
     "output_type": "execute_result"
    }
   ],
   "source": [
    "# load and shift data so score corrisponds to next day\n",
    "data_combined = pd.read_csv('./data/Combined_News_DJIA.csv')\n",
    "data_combined.Label = data_combined.Label.shift(1)\n",
    "data_combined = data_combined[1:]\n",
    "stories = [c for c in data_combined if c.startswith('Top')]\n",
    "data_combined = pd.melt(data_combined, id_vars=['Date','Label'], value_vars=stories, value_name='Headline')\n",
    "#data_combined = data_combined.drop(['variable'], axis=1)\n",
    "data_combined['Headline'] = data_combined['Headline'].apply(lambda x: str(x))\n",
    "data_combined.head()"
   ]
  },
  {
   "cell_type": "code",
   "execution_count": 23,
   "metadata": {},
   "outputs": [],
   "source": [
    "# randomize\n",
    "random_data = data_combined.sample(frac=1)\n",
    "\n",
    "# split data\n",
    "TT_SPLIT = .8\n",
    "index = int(TT_SPLIT*len(data_combined))\n",
    "train = random_data[:index]\n",
    "test = random_data[index:]"
   ]
  },
  {
   "cell_type": "code",
   "execution_count": 24,
   "metadata": {},
   "outputs": [],
   "source": [
    "from sklearn.feature_extraction.text import TfidfVectorizer"
   ]
  },
  {
   "cell_type": "code",
   "execution_count": 25,
   "metadata": {},
   "outputs": [],
   "source": [
    "tfidf = TfidfVectorizer(sublinear_tf=True, min_df=100, norm='l2', encoding='latin-1', \n",
    "                        ngram_range=(1, 4), stop_words='english')\n",
    "\n",
    "train_vectors = tfidf.fit_transform(train.Headline).toarray()\n",
    "labels = data_combined.Label\n",
    "\n",
    "test_vectors = tfidf.transform(test.Headline)"
   ]
  },
  {
   "cell_type": "code",
   "execution_count": 26,
   "metadata": {},
   "outputs": [
    {
     "name": "stderr",
     "output_type": "stream",
     "text": [
      "/Library/Frameworks/Python.framework/Versions/3.6/lib/python3.6/site-packages/keras/preprocessing/text.py:172: UserWarning: The `nb_words` argument in `Tokenizer` has been renamed `num_words`.\n",
      "  warnings.warn('The `nb_words` argument in `Tokenizer` '\n"
     ]
    }
   ],
   "source": [
    "from keras.preprocessing.text import Tokenizer\n",
    "\n",
    "# vectorize the text samples into a 2D integer tensor\n",
    "tokenizer = Tokenizer(nb_words=200)\n",
    "tokenizer.fit_on_texts(train.Headline)\n",
    "sequences_train = tokenizer.texts_to_sequences(train.Headline)\n",
    "sequences_test = tokenizer.texts_to_sequences(test.Headline)"
   ]
  },
  {
   "cell_type": "code",
   "execution_count": 27,
   "metadata": {},
   "outputs": [
    {
     "name": "stdout",
     "output_type": "stream",
     "text": [
      "Pad sequences (samples x time)\n",
      "X_train shape: (39760, 50)\n",
      "X_test shape: (9940, 50)\n"
     ]
    }
   ],
   "source": [
    "from keras.preprocessing import sequence\n",
    "from keras.utils import np_utils\n",
    "\n",
    "\n",
    "maxlen = 50\n",
    "\n",
    "y_train = np.array(train.Label)\n",
    "y_test = np.array(test.Label)\n",
    "\n",
    "\n",
    "print('Pad sequences (samples x time)')\n",
    "X_train = sequence.pad_sequences(sequences_train, maxlen=maxlen)\n",
    "X_test = sequence.pad_sequences(sequences_test, maxlen=maxlen)\n",
    "\n",
    "Y_train = np_utils.to_categorical(y_train, 2)\n",
    "Y_test = np_utils.to_categorical(y_test, 2)\n",
    "\n",
    "\n",
    "print('X_train shape:', X_train.shape)\n",
    "print('X_test shape:', X_test.shape)"
   ]
  },
  {
   "cell_type": "code",
   "execution_count": null,
   "metadata": {},
   "outputs": [
    {
     "name": "stdout",
     "output_type": "stream",
     "text": [
      "Build model...\n"
     ]
    },
    {
     "name": "stderr",
     "output_type": "stream",
     "text": [
      "/Library/Frameworks/Python.framework/Versions/3.6/lib/python3.6/site-packages/ipykernel_launcher.py:10: UserWarning: The `dropout` argument is no longer support in `Embedding`. You can apply a `keras.layers.SpatialDropout1D` layer right after the `Embedding` layer to get the same behavior.\n",
      "  # Remove the CWD from sys.path while we load stuff.\n",
      "/Library/Frameworks/Python.framework/Versions/3.6/lib/python3.6/site-packages/ipykernel_launcher.py:11: UserWarning: Update your `LSTM` call to the Keras 2 API: `LSTM(16, dropout=0.2, recurrent_dropout=0.2)`\n",
      "  # This is added back by InteractiveShellApp.init_path()\n"
     ]
    },
    {
     "name": "stdout",
     "output_type": "stream",
     "text": [
      "Train...\n",
      "Train on 39760 samples, validate on 9940 samples\n",
      "Epoch 1/3\n",
      "39760/39760 [==============================] - 306s 8ms/step - loss: 0.6910 - acc: 0.5344 - val_loss: 0.6910 - val_acc: 0.5344\n",
      "Epoch 2/3\n",
      "39760/39760 [==============================] - 308s 8ms/step - loss: 0.6866 - acc: 0.5483 - val_loss: 0.6933 - val_acc: 0.5222\n",
      "Epoch 3/3\n",
      " 9160/39760 [=====>........................] - ETA: 3:44 - loss: 0.6712 - acc: 0.5818"
     ]
    }
   ],
   "source": [
    "from keras.models import Sequential\n",
    "from keras.layers.embeddings import Embedding\n",
    "from keras.layers.recurrent import LSTM\n",
    "from keras.layers import ConvLSTM2D\n",
    "from keras.layers.core import Dense, Activation\n",
    "\n",
    "\n",
    "print('Build model...')\n",
    "model = Sequential()\n",
    "model.add(Embedding(2000, 16, dropout=0.2)) \n",
    "model.add(LSTM(16, dropout_W=0.2, dropout_U=0.2)) \n",
    "model.add(Dense(2))\n",
    "model.add(Activation('softmax'))\n",
    "\n",
    "model.compile(loss='binary_crossentropy',\n",
    "              optimizer='adam',\n",
    "              metrics=['accuracy'])\n",
    "\n",
    "print('Train...')\n",
    "model.fit(X_train, Y_train, batch_size=8, epochs=3,\n",
    "          validation_data=(X_test, Y_test))\n",
    "score, acc = model.evaluate(X_test, Y_test,\n",
    "                            batch_size=8)\n",
    "print('Test score:', score)\n",
    "print('Test accuracy:', acc)\n",
    "\n",
    "\n",
    "print(\"Generating test predictions...\")\n",
    "#preds15 = model.predict_classes(X_test, verbose=0)\n",
    "#acc15 = accuracy_score(test['Label'], preds15)"
   ]
  },
  {
   "cell_type": "code",
   "execution_count": null,
   "metadata": {},
   "outputs": [],
   "source": []
  }
 ],
 "metadata": {
  "kernelspec": {
   "display_name": "Python 3",
   "language": "python",
   "name": "python3"
  },
  "language_info": {
   "codemirror_mode": {
    "name": "ipython",
    "version": 3
   },
   "file_extension": ".py",
   "mimetype": "text/x-python",
   "name": "python",
   "nbconvert_exporter": "python",
   "pygments_lexer": "ipython3",
   "version": "3.6.5"
  }
 },
 "nbformat": 4,
 "nbformat_minor": 2
}
