{
 "cells": [
  {
   "cell_type": "markdown",
   "metadata": {},
   "source": [
    "# Homework 3: RNNs\n",
    "\n",
    "In this assignment, you will use PyTorch and RNNs to solve two NLP problems:\n",
    "\n",
    "1. Language identification\n",
    "2. Language modeling\n",
    "\n",
    "In the first, you will train a classifier to distinguish between English and Spanish sentences, and will essentially be creating a working version of the classifier demonstrated at the end of the PyTorch walkthrough from week 3's lecture. In the second you will train a neural language model to generate new British place names. For the second part, you will find Chapter 17 of the Goldberg text to be a useful reference.\n",
    "\n",
    "**Note:** The networks that you will be training in this assignment are relatively simple, and the amounts of data are relatively small. That said, _**they will take time to train**_. On my laptop, the various networks take on the order of ≈5 minutes to train. Make sure not to wait until the last minute to do this assignment, as you will need to do a fair bit of experimentation and tinkering, and you won't want to find yourself running out of time."
   ]
  },
  {
   "cell_type": "markdown",
   "metadata": {},
   "source": [
    "## Part 0: Setup\n",
    "\n",
    "In addition to Jupyter and `nose`, you will need to have `pytorch`, `numpy`, `pandas`, and Scikit-Learn installed for this assignment. As in HW2, most of your actual coding will take place in the `hw3_utils` module, and we will use unit tests to verify that things are working appropriately."
   ]
  },
  {
   "cell_type": "code",
   "execution_count": 68,
   "metadata": {},
   "outputs": [],
   "source": [
    "import nose\n",
    "import torch\n",
    "import pandas as pd\n",
    "import numpy as np\n",
    "import sklearn\n",
    "import matplotlib\n",
    "import matplotlib.pyplot as plt\n",
    "%matplotlib inline\n",
    "import pickle\n",
    "\n",
    "import sys\n",
    "from importlib import reload"
   ]
  },
  {
   "cell_type": "markdown",
   "metadata": {},
   "source": [
    "One other important thing to do is to set the random number generation seed. This will ensure deterministic results: each time you re-run the notebook, you should get the same random numbers. This is vital for ensuring reproducible results."
   ]
  },
  {
   "cell_type": "code",
   "execution_count": 69,
   "metadata": {},
   "outputs": [],
   "source": [
    "np.random.seed(42);\n",
    "torch.manual_seed(42);"
   ]
  },
  {
   "cell_type": "markdown",
   "metadata": {},
   "source": [
    "As before, let's check and see what versions of the libraries you've got installed:"
   ]
  },
  {
   "cell_type": "code",
   "execution_count": 70,
   "metadata": {
    "scrolled": true
   },
   "outputs": [
    {
     "name": "stdout",
     "output_type": "stream",
     "text": [
      "My library versions:\n",
      "PyTorch: 1.0.0\n",
      "Pandas: 0.23.4\n",
      "Numpy: 1.16.0\n",
      "matplotlib: 3.0.2\n",
      "nose: 1.3.7\n",
      "sklearn: 0.19.1\n"
     ]
    }
   ],
   "source": [
    "print(\"My library versions:\")\n",
    "print(f\"PyTorch: {torch.__version__}\")\n",
    "print(f\"Pandas: {pd.__version__}\")\n",
    "print(f\"Numpy: {np.__version__}\")\n",
    "print(f\"matplotlib: {matplotlib.__version__}\")\n",
    "print(f\"nose: {nose.__version__}\")\n",
    "print(f\"sklearn: {sklearn.__version__}\")"
   ]
  },
  {
   "cell_type": "markdown",
   "metadata": {},
   "source": [
    "And we can run our tests as before:"
   ]
  },
  {
   "cell_type": "code",
   "execution_count": 71,
   "metadata": {
    "scrolled": false
   },
   "outputs": [
    {
     "name": "stdout",
     "output_type": "stream",
     "text": [
      ".\r\n",
      "----------------------------------------------------------------------\r\n",
      "Ran 1 test in 0.001s\r\n",
      "\r\n",
      "OK\r\n"
     ]
    }
   ],
   "source": [
    "! nosetests tests/test_environment.py"
   ]
  },
  {
   "cell_type": "markdown",
   "metadata": {},
   "source": [
    "## Part 1: Preprocessing\n",
    "\n",
    "### Vocabulary construction\n",
    "\n",
    "As in the last part of HW2, we will be representing our input as numeric vectors. As such, we need a way to map tokens (characters, in the case of this assignment) to numeric indices. `hw3_utils.vocab` will contain functions to do this sort of transformation. The first such function will be `build_vocab`, and will take as input a corpus of sentences and as output produce mapping dictionaries. `vocab` includes special `BOS_SYM` and `EOS_SYM` symbols, to represent the beginning and end of string, respectively- make sure that the vocabularies that your implementation builds includes these characters.\n",
    "\n",
    "* **Deliverable 1.1:** Complete the `vocab.build_vocab()` function\n",
    "* **Test:** `nosetests tests/test_vocab.py:test_d1_1_char_vocab`\n",
    "\n",
    "_Hint_: Remember that you can split a string into its sequence of characters using the `list` function. For _this_ assignment, you may ignore issues of Unicode decomposition and normalization, but in \"real life\" you would absolutely need to worry about such things!"
   ]
  },
  {
   "cell_type": "code",
   "execution_count": 72,
   "metadata": {},
   "outputs": [],
   "source": [
    "from hw3_utils import vocab\n",
    "reload(vocab);"
   ]
  },
  {
   "cell_type": "code",
   "execution_count": 73,
   "metadata": {},
   "outputs": [],
   "source": [
    "tiny_corpus = [\"This is a sentence.\", \"This is another sentence.\", \"Here is a third.\"]\n",
    "c2i, i2c = vocab.build_vocab(tiny_corpus)"
   ]
  },
  {
   "cell_type": "code",
   "execution_count": 74,
   "metadata": {},
   "outputs": [
    {
     "data": {
      "text/plain": [
       "True"
      ]
     },
     "execution_count": 74,
     "metadata": {},
     "output_type": "execute_result"
    }
   ],
   "source": [
    "\"T\" == i2c[c2i[\"T\"]]"
   ]
  },
  {
   "cell_type": "code",
   "execution_count": 75,
   "metadata": {},
   "outputs": [
    {
     "name": "stdout",
     "output_type": "stream",
     "text": [
      ".\n",
      "----------------------------------------------------------------------\n",
      "Ran 1 test in 0.001s\n",
      "\n",
      "OK\n"
     ]
    }
   ],
   "source": [
    "!nosetests tests/test_vocab.py:test_d1_1_char_vocab"
   ]
  },
  {
   "cell_type": "code",
   "execution_count": 76,
   "metadata": {},
   "outputs": [
    {
     "data": {
      "text/plain": [
       "{0: '<BOS>',\n",
       " 1: '<EOS>',\n",
       " 2: 'T',\n",
       " 3: 'h',\n",
       " 4: 'i',\n",
       " 5: 's',\n",
       " 6: ' ',\n",
       " 7: 'a',\n",
       " 8: 'e',\n",
       " 9: 'n',\n",
       " 10: 't',\n",
       " 11: 'c',\n",
       " 12: '.',\n",
       " 13: 'o',\n",
       " 14: 'r',\n",
       " 15: 'H',\n",
       " 16: 'd'}"
      ]
     },
     "execution_count": 76,
     "metadata": {},
     "output_type": "execute_result"
    }
   ],
   "source": [
    "i2c"
   ]
  },
  {
   "cell_type": "markdown",
   "metadata": {},
   "source": [
    "### Sentence representation\n",
    "\n",
    "In addition to a character inventory, we'll need a way to convert a sentence into a list of indicies. Ordinarily, one would need to worry about how to handle missing vocabulary entries (i.e., OOV words or symbols); _for this assignment_, we are ignoring this problem.\n",
    "\n",
    "* **Deliverable 1.2:** Complete the `vocab.sentence_to_vector()` function\n",
    "* **Test:** `nosetests tests/test_vocab.py:test_d1_2_sentence_vector`"
   ]
  },
  {
   "cell_type": "code",
   "execution_count": 77,
   "metadata": {},
   "outputs": [],
   "source": [
    "reload(vocab);"
   ]
  },
  {
   "cell_type": "code",
   "execution_count": 78,
   "metadata": {},
   "outputs": [
    {
     "name": "stdout",
     "output_type": "stream",
     "text": [
      "[0, 2, 3, 4, 5, 6, 4, 5, 6, 7, 6, 5, 8, 9, 10, 8, 9, 11, 8, 12, 1]\n"
     ]
    }
   ],
   "source": [
    "s = \"This is a sentence.\"\n",
    "s_vec = vocab.sentence_to_vector(s, c2i, pad_with_bos=True)\n",
    "print(s_vec)"
   ]
  },
  {
   "cell_type": "code",
   "execution_count": 79,
   "metadata": {
    "scrolled": true
   },
   "outputs": [
    {
     "data": {
      "text/plain": [
       "['<BOS>',\n",
       " 'T',\n",
       " 'h',\n",
       " 'i',\n",
       " 's',\n",
       " ' ',\n",
       " 'i',\n",
       " 's',\n",
       " ' ',\n",
       " 'a',\n",
       " ' ',\n",
       " 's',\n",
       " 'e',\n",
       " 'n',\n",
       " 't',\n",
       " 'e',\n",
       " 'n',\n",
       " 'c',\n",
       " 'e',\n",
       " '.',\n",
       " '<EOS>']"
      ]
     },
     "execution_count": 79,
     "metadata": {},
     "output_type": "execute_result"
    }
   ],
   "source": [
    "[i2c[c] for c in s_vec]"
   ]
  },
  {
   "cell_type": "code",
   "execution_count": 80,
   "metadata": {},
   "outputs": [
    {
     "name": "stdout",
     "output_type": "stream",
     "text": [
      ".\r\n",
      "----------------------------------------------------------------------\r\n",
      "Ran 1 test in 0.001s\r\n",
      "\r\n",
      "OK\r\n"
     ]
    }
   ],
   "source": [
    "! nosetests tests/test_vocab.py:test_d1_2_sentence_vector"
   ]
  },
  {
   "cell_type": "markdown",
   "metadata": {},
   "source": [
    "PyTorch wants its input as `torch.Tensor` objects, not as Python `list`s, so we'll need to write one more short function to do that conversion. We'll want our tensors to be of size $(1,n)$, where $n$ is the length of the sentence in characters.\n",
    "\n",
    "* **Deliverable 1.3:** Complete the `sentence_to_tensor()` function\n",
    "* **Test:** `nosetests tests/test_vocab.py:test_d1_3_sentence_tensor`"
   ]
  },
  {
   "cell_type": "code",
   "execution_count": 81,
   "metadata": {},
   "outputs": [],
   "source": [
    "reload(vocab);"
   ]
  },
  {
   "cell_type": "code",
   "execution_count": 82,
   "metadata": {
    "scrolled": true
   },
   "outputs": [
    {
     "name": "stdout",
     "output_type": "stream",
     "text": [
      "tensor([[ 2,  3,  4,  5,  6,  4,  5,  6,  7,  6,  5,  8,  9, 10,  8,  9, 11,  8,\n",
      "         12]])\n",
      "torch.Size([1, 19])\n"
     ]
    }
   ],
   "source": [
    "s = \"This is a sentence.\"\n",
    "s_tens = vocab.sentence_to_tensor(s, c2i)\n",
    "print(s_tens)\n",
    "print(s_tens.size())"
   ]
  },
  {
   "cell_type": "code",
   "execution_count": 83,
   "metadata": {},
   "outputs": [
    {
     "name": "stdout",
     "output_type": "stream",
     "text": [
      ".\n",
      "----------------------------------------------------------------------\n",
      "Ran 1 test in 0.001s\n",
      "\n",
      "OK\n"
     ]
    }
   ],
   "source": [
    "! nosetests tests/test_vocab.py:test_d1_3_sentence_tensor"
   ]
  },
  {
   "cell_type": "markdown",
   "metadata": {},
   "source": [
    "### Label lookup table\n",
    "\n",
    "Just as we need to be able to represent characters as indices, we also need to be able to map _labels_ to indicies. The logic for this is very similar to what we did before for characters, but without the tokenization step.\n",
    "\n",
    "* **Deliverable 1.4:** Complete the `vocab.build_label_vocab()` function\n",
    "* **Test:** `nosetests tests/test_vocab.py:test_d1_4_label_vocab`"
   ]
  },
  {
   "cell_type": "code",
   "execution_count": 84,
   "metadata": {},
   "outputs": [],
   "source": [
    "reload(vocab);"
   ]
  },
  {
   "cell_type": "code",
   "execution_count": 85,
   "metadata": {},
   "outputs": [],
   "source": [
    "labels = [\"eng\",\"eng\",\"spa\",\"eng\",\"deu\"]\n",
    "l2i, i2l = vocab.build_label_vocab(labels)"
   ]
  },
  {
   "cell_type": "code",
   "execution_count": 86,
   "metadata": {},
   "outputs": [
    {
     "data": {
      "text/plain": [
       "1"
      ]
     },
     "execution_count": 86,
     "metadata": {},
     "output_type": "execute_result"
    }
   ],
   "source": [
    "l2i['spa']"
   ]
  },
  {
   "cell_type": "code",
   "execution_count": 87,
   "metadata": {},
   "outputs": [
    {
     "data": {
      "text/plain": [
       "'deu'"
      ]
     },
     "execution_count": 87,
     "metadata": {},
     "output_type": "execute_result"
    }
   ],
   "source": [
    "i2l[2]"
   ]
  },
  {
   "cell_type": "code",
   "execution_count": null,
   "metadata": {},
   "outputs": [],
   "source": []
  },
  {
   "cell_type": "code",
   "execution_count": 88,
   "metadata": {
    "scrolled": true
   },
   "outputs": [
    {
     "data": {
      "text/plain": [
       "[0, 0, 1, 0, 2]"
      ]
     },
     "execution_count": 88,
     "metadata": {},
     "output_type": "execute_result"
    }
   ],
   "source": [
    "[l2i[l] for l in labels]"
   ]
  },
  {
   "cell_type": "code",
   "execution_count": 89,
   "metadata": {},
   "outputs": [
    {
     "name": "stdout",
     "output_type": "stream",
     "text": [
      ".\r\n",
      "----------------------------------------------------------------------\r\n",
      "Ran 1 test in 0.001s\r\n",
      "\r\n",
      "OK\r\n"
     ]
    }
   ],
   "source": [
    "! nosetests tests/test_vocab.py:test_d1_4_label_vocab"
   ]
  },
  {
   "cell_type": "markdown",
   "metadata": {},
   "source": [
    "## Part 2: Language identification\n",
    "\n",
    "Language identification is often one of the first steps of an NLP pipeline, and is a foundational task in NLP. _[Automatic Language Identification in Texts: A Survey](https://arxiv.org/pdf/1804.08186.pdf)_, by Jauhiainen et al., gives an excellent overview of the task and its rich history in our field, and I would _strongly_ recommend taking a few minutes to read it before beginning this part of the assignment.\n",
    "\n",
    "Formally, we can craft language ID as a classification problem, given text sample $x$ and language $l \\in L$, we want to find: \n",
    "\n",
    "$$ \\operatorname*{argmax}_{l} P(l | x ) $$\n",
    "\n",
    "This can be done in a variety of ways. One common (and well-performing) technique is to use trigram character frequencies, or other character-level features (writing system, etc.); some approaches rely on or incorporate word-level features. The difficulty of the task depends on a number of factors:\n",
    "\n",
    "* How much training data one has from each language of interest (often an issue)\n",
    "* How similar the languages are to one another (Spanish and Italian are more difficult to differentiate than are English and Arabic)\n",
    "* How much [\"code-switching\"](https://en.wikipedia.org/wiki/Code-switching) is present in the language of interest\n",
    "\n",
    "The last point is a major one: many texts of interest (tweets, etc.) contain a mix of languages, which can cause trouble both at the time of _training_ a language identification system as well as at the time of _inference_ (i.e., when you're actually trying to _use_ your system). The problem can be compounded by mixed writing systems: due to limitations of text-entry systems, users of some non-Latin scripts often will often write e.g. Arabic using English orthography. Names of places, brands, individuals, etc. can also cause script-level code switching. Fortunately, for this assignment, you will not need to worry about this issue.\n",
    "\n",
    "We will be using [data](https://tatoeba.org/eng/downloads) from [Tatoeba](https://tatoeba.org), an online crowd-sourced language learning platform. Users collaboratively develop parallel corpora of sentences in a wide variety of languages. For this assignment, I have prepared two data sets based on Tatoeba's data:\n",
    "\n",
    "* [sentences_bilingual.csv](./data/sentences_bilingual.csv): 10,000 random English and 10,000 random Spanish sentences\n",
    "* [sentences_multilingual.csv](./data/sentences_multilingual.csv): 10,000 random sentences from each of English, Spanish, German, Italian, and French\n",
    "\n"
   ]
  },
  {
   "cell_type": "markdown",
   "metadata": {},
   "source": [
    "## Getting Started\n",
    "\n",
    "We'll begin with the bilingual (english/spanish) data:"
   ]
  },
  {
   "cell_type": "code",
   "execution_count": 90,
   "metadata": {},
   "outputs": [
    {
     "data": {
      "text/html": [
       "<div>\n",
       "<style scoped>\n",
       "    .dataframe tbody tr th:only-of-type {\n",
       "        vertical-align: middle;\n",
       "    }\n",
       "\n",
       "    .dataframe tbody tr th {\n",
       "        vertical-align: top;\n",
       "    }\n",
       "\n",
       "    .dataframe thead th {\n",
       "        text-align: right;\n",
       "    }\n",
       "</style>\n",
       "<table border=\"1\" class=\"dataframe\">\n",
       "  <thead>\n",
       "    <tr style=\"text-align: right;\">\n",
       "      <th></th>\n",
       "      <th>id</th>\n",
       "      <th>lang</th>\n",
       "      <th>sentence</th>\n",
       "    </tr>\n",
       "  </thead>\n",
       "  <tbody>\n",
       "    <tr>\n",
       "      <th>0</th>\n",
       "      <td>6733426</td>\n",
       "      <td>eng</td>\n",
       "      <td>Tom wasn't able to change anything.</td>\n",
       "    </tr>\n",
       "    <tr>\n",
       "      <th>1</th>\n",
       "      <td>256835</td>\n",
       "      <td>eng</td>\n",
       "      <td>I saw the sights of Kyoto during my vacation.</td>\n",
       "    </tr>\n",
       "    <tr>\n",
       "      <th>2</th>\n",
       "      <td>1404674</td>\n",
       "      <td>eng</td>\n",
       "      <td>And where are the aliens, the flying saucers, ...</td>\n",
       "    </tr>\n",
       "    <tr>\n",
       "      <th>3</th>\n",
       "      <td>4833334</td>\n",
       "      <td>eng</td>\n",
       "      <td>Is the water in the Black Sea actually black?</td>\n",
       "    </tr>\n",
       "    <tr>\n",
       "      <th>4</th>\n",
       "      <td>7241028</td>\n",
       "      <td>eng</td>\n",
       "      <td>I know a lot of people who don't eat meat.</td>\n",
       "    </tr>\n",
       "  </tbody>\n",
       "</table>\n",
       "</div>"
      ],
      "text/plain": [
       "        id lang                                           sentence\n",
       "0  6733426  eng                Tom wasn't able to change anything.\n",
       "1   256835  eng      I saw the sights of Kyoto during my vacation.\n",
       "2  1404674  eng  And where are the aliens, the flying saucers, ...\n",
       "3  4833334  eng      Is the water in the Black Sea actually black?\n",
       "4  7241028  eng         I know a lot of people who don't eat meat."
      ]
     },
     "execution_count": 90,
     "metadata": {},
     "output_type": "execute_result"
    }
   ],
   "source": [
    "bi_text = pd.read_csv(\"data/sentences_bilingual.csv\")\n",
    "bi_text.head()"
   ]
  },
  {
   "cell_type": "markdown",
   "metadata": {},
   "source": [
    "Step 1 is _always_ to look at your data. Verify how many entries we have, and of what languages:"
   ]
  },
  {
   "cell_type": "code",
   "execution_count": 91,
   "metadata": {},
   "outputs": [
    {
     "name": "stdout",
     "output_type": "stream",
     "text": [
      "Total entries: 20000\n"
     ]
    }
   ],
   "source": [
    "print(f\"Total entries: {len(bi_text)}\")"
   ]
  },
  {
   "cell_type": "code",
   "execution_count": 92,
   "metadata": {},
   "outputs": [
    {
     "data": {
      "text/html": [
       "<div>\n",
       "<style scoped>\n",
       "    .dataframe tbody tr th:only-of-type {\n",
       "        vertical-align: middle;\n",
       "    }\n",
       "\n",
       "    .dataframe tbody tr th {\n",
       "        vertical-align: top;\n",
       "    }\n",
       "\n",
       "    .dataframe thead th {\n",
       "        text-align: right;\n",
       "    }\n",
       "</style>\n",
       "<table border=\"1\" class=\"dataframe\">\n",
       "  <thead>\n",
       "    <tr style=\"text-align: right;\">\n",
       "      <th></th>\n",
       "      <th>id</th>\n",
       "      <th>sentence</th>\n",
       "    </tr>\n",
       "    <tr>\n",
       "      <th>lang</th>\n",
       "      <th></th>\n",
       "      <th></th>\n",
       "    </tr>\n",
       "  </thead>\n",
       "  <tbody>\n",
       "    <tr>\n",
       "      <th>eng</th>\n",
       "      <td>10000</td>\n",
       "      <td>10000</td>\n",
       "    </tr>\n",
       "    <tr>\n",
       "      <th>spa</th>\n",
       "      <td>10000</td>\n",
       "      <td>10000</td>\n",
       "    </tr>\n",
       "  </tbody>\n",
       "</table>\n",
       "</div>"
      ],
      "text/plain": [
       "         id  sentence\n",
       "lang                 \n",
       "eng   10000     10000\n",
       "spa   10000     10000"
      ]
     },
     "execution_count": 92,
     "metadata": {},
     "output_type": "execute_result"
    }
   ],
   "source": [
    "bi_text.groupby('lang').count()"
   ]
  },
  {
   "cell_type": "markdown",
   "metadata": {},
   "source": [
    "Now, build a character inventory/vocabulary for our data:"
   ]
  },
  {
   "cell_type": "code",
   "execution_count": 93,
   "metadata": {},
   "outputs": [],
   "source": [
    "c2i, i2c = vocab.build_vocab(bi_text.sentence.values)\n",
    "l2i, i2l = vocab.build_label_vocab(bi_text.lang.values)"
   ]
  },
  {
   "cell_type": "markdown",
   "metadata": {},
   "source": [
    "And now let's make a 80/20 training-test split:"
   ]
  },
  {
   "cell_type": "code",
   "execution_count": 94,
   "metadata": {},
   "outputs": [],
   "source": [
    "from sklearn.model_selection import train_test_split\n",
    "bi_text_train, bi_text_test = train_test_split(bi_text, test_size=0.2)"
   ]
  },
  {
   "cell_type": "markdown",
   "metadata": {},
   "source": [
    "What is the resulting class distribution?"
   ]
  },
  {
   "cell_type": "code",
   "execution_count": 95,
   "metadata": {},
   "outputs": [
    {
     "data": {
      "text/html": [
       "<div>\n",
       "<style scoped>\n",
       "    .dataframe tbody tr th:only-of-type {\n",
       "        vertical-align: middle;\n",
       "    }\n",
       "\n",
       "    .dataframe tbody tr th {\n",
       "        vertical-align: top;\n",
       "    }\n",
       "\n",
       "    .dataframe thead th {\n",
       "        text-align: right;\n",
       "    }\n",
       "</style>\n",
       "<table border=\"1\" class=\"dataframe\">\n",
       "  <thead>\n",
       "    <tr style=\"text-align: right;\">\n",
       "      <th></th>\n",
       "      <th>id</th>\n",
       "      <th>sentence</th>\n",
       "    </tr>\n",
       "    <tr>\n",
       "      <th>lang</th>\n",
       "      <th></th>\n",
       "      <th></th>\n",
       "    </tr>\n",
       "  </thead>\n",
       "  <tbody>\n",
       "    <tr>\n",
       "      <th>eng</th>\n",
       "      <td>7981</td>\n",
       "      <td>7981</td>\n",
       "    </tr>\n",
       "    <tr>\n",
       "      <th>spa</th>\n",
       "      <td>8019</td>\n",
       "      <td>8019</td>\n",
       "    </tr>\n",
       "  </tbody>\n",
       "</table>\n",
       "</div>"
      ],
      "text/plain": [
       "        id  sentence\n",
       "lang                \n",
       "eng   7981      7981\n",
       "spa   8019      8019"
      ]
     },
     "execution_count": 95,
     "metadata": {},
     "output_type": "execute_result"
    }
   ],
   "source": [
    "bi_text_train.groupby('lang').count()"
   ]
  },
  {
   "cell_type": "code",
   "execution_count": 96,
   "metadata": {},
   "outputs": [
    {
     "data": {
      "text/html": [
       "<div>\n",
       "<style scoped>\n",
       "    .dataframe tbody tr th:only-of-type {\n",
       "        vertical-align: middle;\n",
       "    }\n",
       "\n",
       "    .dataframe tbody tr th {\n",
       "        vertical-align: top;\n",
       "    }\n",
       "\n",
       "    .dataframe thead th {\n",
       "        text-align: right;\n",
       "    }\n",
       "</style>\n",
       "<table border=\"1\" class=\"dataframe\">\n",
       "  <thead>\n",
       "    <tr style=\"text-align: right;\">\n",
       "      <th></th>\n",
       "      <th>id</th>\n",
       "      <th>sentence</th>\n",
       "    </tr>\n",
       "    <tr>\n",
       "      <th>lang</th>\n",
       "      <th></th>\n",
       "      <th></th>\n",
       "    </tr>\n",
       "  </thead>\n",
       "  <tbody>\n",
       "    <tr>\n",
       "      <th>eng</th>\n",
       "      <td>2019</td>\n",
       "      <td>2019</td>\n",
       "    </tr>\n",
       "    <tr>\n",
       "      <th>spa</th>\n",
       "      <td>1981</td>\n",
       "      <td>1981</td>\n",
       "    </tr>\n",
       "  </tbody>\n",
       "</table>\n",
       "</div>"
      ],
      "text/plain": [
       "        id  sentence\n",
       "lang                \n",
       "eng   2019      2019\n",
       "spa   1981      1981"
      ]
     },
     "execution_count": 96,
     "metadata": {},
     "output_type": "execute_result"
    }
   ],
   "source": [
    "bi_text_test.groupby('lang').count()"
   ]
  },
  {
   "cell_type": "markdown",
   "metadata": {},
   "source": [
    "That's close enough to equal to be usable!"
   ]
  },
  {
   "cell_type": "markdown",
   "metadata": {},
   "source": [
    "## Building a model"
   ]
  },
  {
   "cell_type": "markdown",
   "metadata": {},
   "source": [
    "You should see that the data set is _balanced_ between two categories, English and Spanish.\n",
    "\n",
    "The classification model you will build will first project sparse character representations to a dense learned embedding representation (as in Goldberg 4.8), feed the result into an LSTM, and then use the LSTM's output as the input into a softmax classifier to predict the language of the input. Note that we want to use the _final_ LSTM output for classification. More formally:\n",
    "\n",
    "$$ \\hat{y} = \\operatorname*{softmax} \\mathbf{o}^{(n)} $$\n",
    "\n",
    "$$ \\mathbf{o} = \\mathbf{h} \\mathbf{W}_o^T + b_o $$\n",
    "\n",
    "$$ \\mathbf{h} = LSTM(\\mathbf{x})$$\n",
    "\n",
    "$$ \\mathbf{x}_{1:n} = \\mathbf{E}[w_1], ... , \\mathbf{E}[w_n] $$\n",
    "\n",
    "Where $\\mathbf{E}$ is an embedding layer, with its own learned weights, etc. We can use PyTorch's [`nn.Embedding`](https://pytorch.org/docs/stable/nn.html#embedding) layer class to take care of this part of our network- it takes as input a character index (just like the ones produced by our vocabulary function above). Similarly, we can use [`nn.LSTM`](https://pytorch.org/docs/stable/nn.html#lstm), [`nn.Linear`](https://pytorch.org/docs/stable/nn.html#linear), and [`nn.LogSoftmax`](https://pytorch.org/docs/stable/nn.html#logsoftmax) to create the rest of the layers.\n",
    "\n",
    "This architecture has several hyperparameters that you must specify:\n",
    "\n",
    "0. How many distinct characters do you need to represent ($n$)?\n",
    "1. How many dimensions to use for embedding (representing) the characters ($e$)?\n",
    "2. How many dimensions (hidden units) should the LSTM have ($h$)?\n",
    "3. How many layers should the LSTM have?\n",
    "3. How many output classes should the network have ($c$)?\n",
    "\n",
    "The dimensionality of the layers of the network should then be: $n \\times c$ for the embedding layer, $c \\times h$ for the LSTM, and $h \\times c$ for the output layer."
   ]
  },
  {
   "cell_type": "markdown",
   "metadata": {},
   "source": [
    "For this part of the assignment, I have done much of the work for you, and have provided a skeleton class with completed initialization functions. \n",
    "\n",
    "* **Deliverable 2.1:** Following the MLP example in the PyTorch walkthrough from Week 3, complete the `forward()` method in the `nn.Module` that is started for you in `hw3_utils.lang_id`. \n",
    "* **Test:** `nosetests tests/test_lang_id.py:test_d2_1_forward`\n",
    "\n",
    "\n",
    "\n",
    "_Note_: typically, PyTorch networks are trained using minibatch training (see Goldberg 5.2.8); for the sake of keeping this assignment simple, we will not be using the standard PyTorch batching behaviors. Instead, we will be batching \"manually\"- calling `.backward()` and updating our parameters after a configurable interval. This will make training take a little bit longer, but will make _your_ code simpler. As such, the shape of the input will be slightly different than PyTorch expects by default. You may need to experiment a bit!\n",
    "\n",
    "Also note that this is a \"many-to-one\" RNN architecture. Out of the box, `nn.LSTM` is set up for _many-to-many_ architectures where the input and output are synchronized- in other words, if you feed five time points _in_ to the LSTM (i.e., providing a $(1,5)$ input), you'll get a $(1,5)$ _output_ back. Since we only care about the _last_ timepoint's output for our classification problem, at some point you'll need to extract that value."
   ]
  },
  {
   "cell_type": "code",
   "execution_count": 97,
   "metadata": {},
   "outputs": [],
   "source": [
    "from hw3_utils import lang_id"
   ]
  },
  {
   "cell_type": "markdown",
   "metadata": {},
   "source": [
    "Here, I am initializing the model with 10 embedding dimensions, 20 hidden dimensions, a single LSTM layer, and two output classes (_`eng`_ and _`spa`_):"
   ]
  },
  {
   "cell_type": "code",
   "execution_count": 98,
   "metadata": {},
   "outputs": [
    {
     "name": "stdout",
     "output_type": "stream",
     "text": [
      "LangID(\n",
      "  (input_lookup): Embedding(125, 10)\n",
      "  (lstm): LSTM(10, 20, batch_first=True)\n",
      "  (output): Linear(in_features=20, out_features=2, bias=True)\n",
      "  (softmax): LogSoftmax()\n",
      ")\n"
     ]
    }
   ],
   "source": [
    "reload(lang_id);\n",
    "\n",
    "li = lang_id.LangID(\n",
    "    input_vocab_n=len(c2i), \n",
    "    embedding_dims=10,\n",
    "    hidden_dims=20,\n",
    "    lstm_layers=1,\n",
    "    output_class_n=2\n",
    ")\n",
    "print(li)"
   ]
  },
  {
   "cell_type": "markdown",
   "metadata": {},
   "source": [
    "Now that it's initialized, I can provide it with input and verify that the output is of the dimensionality I expect:"
   ]
  },
  {
   "cell_type": "code",
   "execution_count": 32,
   "metadata": {
    "scrolled": true
   },
   "outputs": [
    {
     "data": {
      "text/plain": [
       "tensor([-0.7059, -0.6806], grad_fn=<SelectBackward>)"
      ]
     },
     "execution_count": 32,
     "metadata": {},
     "output_type": "execute_result"
    }
   ],
   "source": [
    "li(vocab.sentence_to_tensor(\"this is a sentence\", c2i))"
   ]
  },
  {
   "cell_type": "code",
   "execution_count": 33,
   "metadata": {},
   "outputs": [
    {
     "name": "stdout",
     "output_type": "stream",
     "text": [
      ".\r\n",
      "----------------------------------------------------------------------\r\n",
      "Ran 1 test in 0.076s\r\n",
      "\r\n",
      "OK\r\n"
     ]
    }
   ],
   "source": [
    "! nosetests tests/test_lang_id.py:test_d2_1_forward"
   ]
  },
  {
   "cell_type": "markdown",
   "metadata": {},
   "source": [
    "**Tip**: I recommend building up the `forward()` method one layer at a time, at each step of the way verifying that the output you are seeing is what you expect.\n",
    "\n",
    "That output is the raw log-probabilities associated with each class. This is not especially user-friendly, and makes evaluation a bit more difficult than we might care for. \n",
    "\n",
    "* **Deliverable 2.2:** Implement the `predict_one()` function in `hw3_utils.lang_id`.\n",
    "* **Test:** `nosetests tests/test_lang_id.py:test_d2_2_predict_one`"
   ]
  },
  {
   "cell_type": "code",
   "execution_count": 34,
   "metadata": {},
   "outputs": [],
   "source": [
    "reload(lang_id);"
   ]
  },
  {
   "cell_type": "code",
   "execution_count": 35,
   "metadata": {},
   "outputs": [
    {
     "data": {
      "text/plain": [
       "'spa'"
      ]
     },
     "execution_count": 35,
     "metadata": {},
     "output_type": "execute_result"
    }
   ],
   "source": [
    "lang_id.predict_one(li, \"this is a sentence\", c2i, i2l)"
   ]
  },
  {
   "cell_type": "code",
   "execution_count": 36,
   "metadata": {},
   "outputs": [
    {
     "name": "stdout",
     "output_type": "stream",
     "text": [
      ".\r\n",
      "----------------------------------------------------------------------\r\n",
      "Ran 1 test in 0.080s\r\n",
      "\r\n",
      "OK\r\n"
     ]
    }
   ],
   "source": [
    "! nosetests tests/test_lang_id.py:test_d2_2_predict_one"
   ]
  },
  {
   "cell_type": "markdown",
   "metadata": {},
   "source": [
    "## Training and evaluating model\n",
    "\n",
    "Next, we need to train and evaluate the model. I have provided a `train_model()` function to do the training for this model, in `hw3_utils.lang_id`. This part of the assignment features fewer automated tests, and involves a little bit more thinking and writing."
   ]
  },
  {
   "cell_type": "code",
   "execution_count": 37,
   "metadata": {},
   "outputs": [],
   "source": [
    "reload(lang_id);"
   ]
  },
  {
   "cell_type": "code",
   "execution_count": 38,
   "metadata": {},
   "outputs": [
    {
     "name": "stdout",
     "output_type": "stream",
     "text": [
      "0/16000 average per-item loss: 0.00690087117254734\n",
      "1000/16000 average per-item loss: 0.6876199245452881\n",
      "2000/16000 average per-item loss: 0.6895924210548401\n",
      "3000/16000 average per-item loss: 0.6804852485656738\n",
      "4000/16000 average per-item loss: 0.6864250898361206\n",
      "5000/16000 average per-item loss: 0.6818289160728455\n",
      "6000/16000 average per-item loss: 0.6679942607879639\n",
      "7000/16000 average per-item loss: 0.657584547996521\n",
      "8000/16000 average per-item loss: 0.6462889313697815\n",
      "9000/16000 average per-item loss: 0.47646793723106384\n",
      "10000/16000 average per-item loss: 0.44624605774879456\n",
      "11000/16000 average per-item loss: 0.33929499983787537\n",
      "12000/16000 average per-item loss: 0.4068641662597656\n",
      "13000/16000 average per-item loss: 0.30588236451148987\n",
      "14000/16000 average per-item loss: 0.34497660398483276\n",
      "15000/16000 average per-item loss: 0.2770302891731262\n",
      "0/16000 average per-item loss: 0.0005130696226842701\n",
      "1000/16000 average per-item loss: 0.3459714651107788\n",
      "2000/16000 average per-item loss: 0.27359625697135925\n",
      "3000/16000 average per-item loss: 0.2968624234199524\n",
      "4000/16000 average per-item loss: 0.2604031264781952\n",
      "5000/16000 average per-item loss: 0.18264149129390717\n",
      "6000/16000 average per-item loss: 0.2377786785364151\n",
      "7000/16000 average per-item loss: 0.22534900903701782\n",
      "8000/16000 average per-item loss: 0.24344106018543243\n",
      "9000/16000 average per-item loss: 0.22849473357200623\n",
      "10000/16000 average per-item loss: 0.18953825533390045\n",
      "11000/16000 average per-item loss: 0.16196909546852112\n",
      "12000/16000 average per-item loss: 0.1886000633239746\n",
      "13000/16000 average per-item loss: 0.15006016194820404\n",
      "14000/16000 average per-item loss: 0.12371165305376053\n",
      "15000/16000 average per-item loss: 0.20502370595932007\n",
      "0/16000 average per-item loss: 9.725093696033582e-05\n",
      "1000/16000 average per-item loss: 0.20810241997241974\n",
      "2000/16000 average per-item loss: 0.15232713520526886\n",
      "3000/16000 average per-item loss: 0.20603439211845398\n",
      "4000/16000 average per-item loss: 0.0955752357840538\n",
      "5000/16000 average per-item loss: 0.15070229768753052\n",
      "6000/16000 average per-item loss: 0.11423210799694061\n",
      "7000/16000 average per-item loss: 0.20381805300712585\n",
      "8000/16000 average per-item loss: 0.1257043480873108\n",
      "9000/16000 average per-item loss: 0.14677776396274567\n",
      "10000/16000 average per-item loss: 0.14153490960597992\n",
      "11000/16000 average per-item loss: 0.11290767043828964\n",
      "12000/16000 average per-item loss: 0.12331485003232956\n",
      "13000/16000 average per-item loss: 0.2885196805000305\n",
      "14000/16000 average per-item loss: 0.16055381298065186\n",
      "15000/16000 average per-item loss: 0.06369656324386597\n",
      "0/16000 average per-item loss: 0.0011052275076508522\n",
      "1000/16000 average per-item loss: 0.08302057534456253\n",
      "2000/16000 average per-item loss: 0.18558372557163239\n",
      "3000/16000 average per-item loss: 0.11408253014087677\n",
      "4000/16000 average per-item loss: 0.11945383250713348\n",
      "5000/16000 average per-item loss: 0.06487739086151123\n",
      "6000/16000 average per-item loss: 0.03067914769053459\n",
      "7000/16000 average per-item loss: 0.11718718707561493\n",
      "8000/16000 average per-item loss: 0.10482805222272873\n",
      "9000/16000 average per-item loss: 0.08244504779577255\n",
      "10000/16000 average per-item loss: 0.1093394085764885\n",
      "11000/16000 average per-item loss: 0.1088605597615242\n",
      "12000/16000 average per-item loss: 0.11634781211614609\n",
      "13000/16000 average per-item loss: 0.09644097089767456\n",
      "14000/16000 average per-item loss: 0.07502254843711853\n",
      "15000/16000 average per-item loss: 0.12742039561271667\n",
      "0/16000 average per-item loss: 2.8595924959518015e-05\n",
      "1000/16000 average per-item loss: 0.16040924191474915\n",
      "2000/16000 average per-item loss: 0.10125420242547989\n",
      "3000/16000 average per-item loss: 0.17359724640846252\n",
      "4000/16000 average per-item loss: 0.05015697330236435\n",
      "5000/16000 average per-item loss: 0.1547621637582779\n",
      "6000/16000 average per-item loss: 0.0786333978176117\n",
      "7000/16000 average per-item loss: 0.14034634828567505\n",
      "8000/16000 average per-item loss: 0.07917913794517517\n",
      "9000/16000 average per-item loss: 0.08455895632505417\n",
      "10000/16000 average per-item loss: 0.11287418007850647\n",
      "11000/16000 average per-item loss: 0.12296343594789505\n",
      "12000/16000 average per-item loss: 0.11364597082138062\n",
      "13000/16000 average per-item loss: 0.09109442681074142\n",
      "14000/16000 average per-item loss: 0.03890126943588257\n",
      "15000/16000 average per-item loss: 0.0904850959777832\n"
     ]
    }
   ],
   "source": [
    "trained_model = lang_id.train_model(\n",
    "    model=li, \n",
    "    n_epochs=5,\n",
    "    training_data=bi_text_train,\n",
    "    c2i=c2i, i2c=i2c,\n",
    "    l2i=l2i, i2l=i2l\n",
    ")"
   ]
  },
  {
   "cell_type": "code",
   "execution_count": 99,
   "metadata": {},
   "outputs": [
    {
     "data": {
      "text/plain": [
       "tensor([-0.0205, -3.8964], grad_fn=<SelectBackward>)"
      ]
     },
     "execution_count": 99,
     "metadata": {},
     "output_type": "execute_result"
    }
   ],
   "source": [
    "trained_model(vocab.sentence_to_tensor(\"Is the language model working?\", c2i))"
   ]
  },
  {
   "cell_type": "code",
   "execution_count": 100,
   "metadata": {
    "scrolled": true
   },
   "outputs": [
    {
     "data": {
      "text/plain": [
       "tensor([-2.6578, -0.0727], grad_fn=<SelectBackward>)"
      ]
     },
     "execution_count": 100,
     "metadata": {},
     "output_type": "execute_result"
    }
   ],
   "source": [
    "trained_model(vocab.sentence_to_tensor(\"quien estas\", c2i))"
   ]
  },
  {
   "cell_type": "markdown",
   "metadata": {},
   "source": [
    "Now that we've got a trained model, it's time to evaluate its performance. \n",
    "\n",
    "* **Deliverable 2.3:** Complete the `eval_acc()` function in `hw3_utils.lang_id`. Note that PyTorch `Tensor` objects have an `argmax()` function!\n",
    "* **Test:** `nosetests tests/test_lang_id.py:test_d2_3_eval_acc`"
   ]
  },
  {
   "cell_type": "code",
   "execution_count": 102,
   "metadata": {},
   "outputs": [
    {
     "name": "stdout",
     "output_type": "stream",
     "text": [
      "Accuracy: 0.9735\n"
     ]
    }
   ],
   "source": [
    "reload(lang_id)\n",
    "acc, y_hat = lang_id.eval_acc(trained_model, bi_text_test, c2i, i2c, l2i, i2l)\n",
    "print(f\"Accuracy: {acc}\")"
   ]
  },
  {
   "cell_type": "markdown",
   "metadata": {},
   "source": [
    "And what if we run this on a new, _untrained_ model?"
   ]
  },
  {
   "cell_type": "code",
   "execution_count": 42,
   "metadata": {},
   "outputs": [
    {
     "name": "stdout",
     "output_type": "stream",
     "text": [
      "Accuracy: 0.50475\n"
     ]
    }
   ],
   "source": [
    "untrained = lang_id.LangID(\n",
    "    input_vocab_n=len(c2i), \n",
    "    embedding_dims=10,\n",
    "    hidden_dims=20,\n",
    "    lstm_layers=1,\n",
    "    output_class_n=2\n",
    ")\n",
    "\n",
    "acc_untrained, y_hat_untrained = lang_id.eval_acc(untrained, bi_text_test, c2i, i2c, l2i, i2l)\n",
    "\n",
    "print(f\"Accuracy: {acc_untrained}\")"
   ]
  },
  {
   "cell_type": "code",
   "execution_count": 43,
   "metadata": {},
   "outputs": [
    {
     "name": "stdout",
     "output_type": "stream",
     "text": [
      ".\r\n",
      "----------------------------------------------------------------------\r\n",
      "Ran 1 test in 8.234s\r\n",
      "\r\n",
      "OK\r\n"
     ]
    }
   ],
   "source": [
    "! nosetests tests/test_lang_id.py:test_d2_3_eval_acc"
   ]
  },
  {
   "cell_type": "markdown",
   "metadata": {},
   "source": [
    "As expected, an untrained model gets approximately chance performance.\n",
    "\n",
    "On our trained model, we were able to achieve 99% accuracy on held-out test data, which is very high accuracy! Let's investigate our hyperparameter settings: how small can we make our embedding and hidden dimensions before performance suffers?\n",
    "\n",
    "* **Deliverable 2.4:** Turn both the embedding dimensions and the hidden dimensions _waaaaay_ down, to 2 each, and retrain/re-evaluate the model. Save your evaluation results to a CSV file named \"deliverable_2.4.csv\" with three columns: the sentence itself, the _true_ label, and the _predicted_ label. Also produce a text file named \"deliverable_2.4.txt\" containing the observed evaluation accuracy and an explanation of what you observe. Why is the number what it is?"
   ]
  },
  {
   "cell_type": "code",
   "execution_count": 104,
   "metadata": {},
   "outputs": [
    {
     "name": "stdout",
     "output_type": "stream",
     "text": [
      "0/16000 average per-item loss: 0.007202887441962957\n",
      "1000/16000 average per-item loss: 0.6995512247085571\n",
      "2000/16000 average per-item loss: 0.7010362148284912\n",
      "3000/16000 average per-item loss: 0.6971125602722168\n",
      "4000/16000 average per-item loss: 0.7056440711021423\n",
      "5000/16000 average per-item loss: 0.6993637084960938\n",
      "6000/16000 average per-item loss: 0.6980664730072021\n",
      "7000/16000 average per-item loss: 0.7011775374412537\n",
      "8000/16000 average per-item loss: 0.6996343731880188\n",
      "9000/16000 average per-item loss: 0.6962904930114746\n",
      "10000/16000 average per-item loss: 0.6978671550750732\n",
      "11000/16000 average per-item loss: 0.6990739703178406\n",
      "12000/16000 average per-item loss: 0.6961454749107361\n",
      "13000/16000 average per-item loss: 0.6976407766342163\n",
      "14000/16000 average per-item loss: 0.6944247484207153\n",
      "15000/16000 average per-item loss: 0.6962977051734924\n"
     ]
    }
   ],
   "source": [
    "li_down = lang_id.LangID(\n",
    "    input_vocab_n=len(c2i), \n",
    "    embedding_dims=2,\n",
    "    hidden_dims=2,\n",
    "    lstm_layers=1,\n",
    "    output_class_n=2\n",
    ")\n",
    "\n",
    "trained_model_down = lang_id.train_model(\n",
    "    model=li_down, \n",
    "    n_epochs=1,\n",
    "    training_data=bi_text_train,\n",
    "    c2i=c2i, i2c=i2c,\n",
    "    l2i=l2i, i2l=i2l\n",
    ")"
   ]
  },
  {
   "cell_type": "code",
   "execution_count": 121,
   "metadata": {},
   "outputs": [],
   "source": [
    "import csv\n",
    "\n",
    "lang_id.predict_one(trained_model_down, s='hello my amigo', c2i=c2i, i2l=i2l)\n",
    "\n",
    "lang_list = list(bi_text_train.lang)\n",
    "sentenc_list = list(bi_text_train.sentence)\n",
    "\n",
    "with open('deliverable_2.4.csv', 'w') as csvfile:\n",
    "    fieldnames = ['sentence', 'true_label', 'predicted']\n",
    "    writer = csv.DictWriter(csvfile, fieldnames=fieldnames)\n",
    "    writer.writeheader()\n",
    "\n",
    "    for i in range(len(lang_list)):\n",
    "\n",
    "        writer.writerow({'sentence': sentenc_list[i], \n",
    "                         'true_label': lang_list[i],\n",
    "                         'predicted': lang_id.predict_one(trained_model_down,\n",
    "                                                          s=sentenc_list[i], \n",
    "                                                          c2i=c2i, i2l=i2l)})   \n",
    "        \n",
    "        \n",
    "        "
   ]
  },
  {
   "cell_type": "code",
   "execution_count": 122,
   "metadata": {},
   "outputs": [
    {
     "name": "stdout",
     "output_type": "stream",
     "text": [
      "Accuracy: 0.4885\n"
     ]
    }
   ],
   "source": [
    "reload(lang_id)\n",
    "acc, y_hat = lang_id.eval_acc(trained_model_down, bi_text_test, c2i, i2c, l2i, i2l)\n",
    "print(f\"Accuracy: {acc}\")"
   ]
  },
  {
   "cell_type": "markdown",
   "metadata": {},
   "source": [
    "### Extending to multinomial classification\n",
    "\n",
    "Clearly, a simple LSTM classifier works very well for this binary classification problem, even for very low-dimensional networks. What if we try and do multi-class classification? Our model should, in theory, be adaptable to that case. How sensitive is it to our network dimensionality?"
   ]
  },
  {
   "cell_type": "code",
   "execution_count": 44,
   "metadata": {},
   "outputs": [
    {
     "data": {
      "text/html": [
       "<div>\n",
       "<style scoped>\n",
       "    .dataframe tbody tr th:only-of-type {\n",
       "        vertical-align: middle;\n",
       "    }\n",
       "\n",
       "    .dataframe tbody tr th {\n",
       "        vertical-align: top;\n",
       "    }\n",
       "\n",
       "    .dataframe thead th {\n",
       "        text-align: right;\n",
       "    }\n",
       "</style>\n",
       "<table border=\"1\" class=\"dataframe\">\n",
       "  <thead>\n",
       "    <tr style=\"text-align: right;\">\n",
       "      <th></th>\n",
       "      <th>id</th>\n",
       "      <th>sentence</th>\n",
       "    </tr>\n",
       "    <tr>\n",
       "      <th>lang</th>\n",
       "      <th></th>\n",
       "      <th></th>\n",
       "    </tr>\n",
       "  </thead>\n",
       "  <tbody>\n",
       "    <tr>\n",
       "      <th>deu</th>\n",
       "      <td>10000</td>\n",
       "      <td>10000</td>\n",
       "    </tr>\n",
       "    <tr>\n",
       "      <th>eng</th>\n",
       "      <td>10000</td>\n",
       "      <td>10000</td>\n",
       "    </tr>\n",
       "    <tr>\n",
       "      <th>fra</th>\n",
       "      <td>10000</td>\n",
       "      <td>10000</td>\n",
       "    </tr>\n",
       "    <tr>\n",
       "      <th>ita</th>\n",
       "      <td>10000</td>\n",
       "      <td>10000</td>\n",
       "    </tr>\n",
       "    <tr>\n",
       "      <th>spa</th>\n",
       "      <td>10000</td>\n",
       "      <td>10000</td>\n",
       "    </tr>\n",
       "  </tbody>\n",
       "</table>\n",
       "</div>"
      ],
      "text/plain": [
       "         id  sentence\n",
       "lang                 \n",
       "deu   10000     10000\n",
       "eng   10000     10000\n",
       "fra   10000     10000\n",
       "ita   10000     10000\n",
       "spa   10000     10000"
      ]
     },
     "execution_count": 44,
     "metadata": {},
     "output_type": "execute_result"
    }
   ],
   "source": [
    "multi_text = pd.read_csv(\"data/sentences_multilingual.csv\")\n",
    "multi_text_train, multi_text_test = train_test_split(multi_text, test_size=0.2)\n",
    "\n",
    "multi_text.groupby('lang').count()\n"
   ]
  },
  {
   "cell_type": "code",
   "execution_count": 45,
   "metadata": {},
   "outputs": [
    {
     "data": {
      "text/html": [
       "<div>\n",
       "<style scoped>\n",
       "    .dataframe tbody tr th:only-of-type {\n",
       "        vertical-align: middle;\n",
       "    }\n",
       "\n",
       "    .dataframe tbody tr th {\n",
       "        vertical-align: top;\n",
       "    }\n",
       "\n",
       "    .dataframe thead th {\n",
       "        text-align: right;\n",
       "    }\n",
       "</style>\n",
       "<table border=\"1\" class=\"dataframe\">\n",
       "  <thead>\n",
       "    <tr style=\"text-align: right;\">\n",
       "      <th></th>\n",
       "      <th>id</th>\n",
       "      <th>sentence</th>\n",
       "    </tr>\n",
       "    <tr>\n",
       "      <th>lang</th>\n",
       "      <th></th>\n",
       "      <th></th>\n",
       "    </tr>\n",
       "  </thead>\n",
       "  <tbody>\n",
       "    <tr>\n",
       "      <th>deu</th>\n",
       "      <td>7994</td>\n",
       "      <td>7994</td>\n",
       "    </tr>\n",
       "    <tr>\n",
       "      <th>eng</th>\n",
       "      <td>8024</td>\n",
       "      <td>8024</td>\n",
       "    </tr>\n",
       "    <tr>\n",
       "      <th>fra</th>\n",
       "      <td>7949</td>\n",
       "      <td>7949</td>\n",
       "    </tr>\n",
       "    <tr>\n",
       "      <th>ita</th>\n",
       "      <td>8012</td>\n",
       "      <td>8012</td>\n",
       "    </tr>\n",
       "    <tr>\n",
       "      <th>spa</th>\n",
       "      <td>8021</td>\n",
       "      <td>8021</td>\n",
       "    </tr>\n",
       "  </tbody>\n",
       "</table>\n",
       "</div>"
      ],
      "text/plain": [
       "        id  sentence\n",
       "lang                \n",
       "deu   7994      7994\n",
       "eng   8024      8024\n",
       "fra   7949      7949\n",
       "ita   8012      8012\n",
       "spa   8021      8021"
      ]
     },
     "execution_count": 45,
     "metadata": {},
     "output_type": "execute_result"
    }
   ],
   "source": [
    "multi_text_train.groupby('lang').count()"
   ]
  },
  {
   "cell_type": "code",
   "execution_count": 46,
   "metadata": {},
   "outputs": [],
   "source": [
    "c2i, i2c = vocab.build_vocab(multi_text.sentence.values)\n",
    "l2i, i2l = vocab.build_label_vocab(multi_text.lang.values)"
   ]
  },
  {
   "cell_type": "code",
   "execution_count": 47,
   "metadata": {
    "scrolled": true
   },
   "outputs": [
    {
     "name": "stdout",
     "output_type": "stream",
     "text": [
      "0/40000 average per-item loss: 0.014996304176747799\n",
      "1000/40000 average per-item loss: 1.6213510036468506\n",
      "2000/40000 average per-item loss: 1.6030700206756592\n",
      "3000/40000 average per-item loss: 1.6010328531265259\n",
      "4000/40000 average per-item loss: 1.5896201133728027\n",
      "5000/40000 average per-item loss: 1.5544553995132446\n",
      "6000/40000 average per-item loss: 1.5809423923492432\n",
      "7000/40000 average per-item loss: 1.5337899923324585\n",
      "8000/40000 average per-item loss: 1.5418542623519897\n",
      "9000/40000 average per-item loss: 1.4931936264038086\n",
      "10000/40000 average per-item loss: 1.4486268758773804\n",
      "11000/40000 average per-item loss: 1.381752371788025\n",
      "12000/40000 average per-item loss: 1.3972320556640625\n",
      "13000/40000 average per-item loss: 1.3281956911087036\n",
      "14000/40000 average per-item loss: 1.401869297027588\n",
      "15000/40000 average per-item loss: 1.3321542739868164\n",
      "16000/40000 average per-item loss: 1.1876109838485718\n",
      "17000/40000 average per-item loss: 1.3399266004562378\n",
      "18000/40000 average per-item loss: 1.2074030637741089\n",
      "19000/40000 average per-item loss: 1.0587198734283447\n",
      "20000/40000 average per-item loss: 1.210853099822998\n",
      "21000/40000 average per-item loss: 1.1548408269882202\n",
      "22000/40000 average per-item loss: 1.1433634757995605\n",
      "23000/40000 average per-item loss: 1.1160225868225098\n",
      "24000/40000 average per-item loss: 1.182384967803955\n",
      "25000/40000 average per-item loss: 1.1110597848892212\n",
      "26000/40000 average per-item loss: 1.1958093643188477\n",
      "27000/40000 average per-item loss: 1.103166103363037\n",
      "28000/40000 average per-item loss: 0.9591726660728455\n",
      "29000/40000 average per-item loss: 0.9844134449958801\n",
      "30000/40000 average per-item loss: 1.0377861261367798\n",
      "31000/40000 average per-item loss: 1.0189026594161987\n",
      "32000/40000 average per-item loss: 0.967894971370697\n",
      "33000/40000 average per-item loss: 1.0235469341278076\n",
      "34000/40000 average per-item loss: 0.8864519000053406\n",
      "35000/40000 average per-item loss: 0.9809825420379639\n",
      "36000/40000 average per-item loss: 0.8980096578598022\n",
      "37000/40000 average per-item loss: 0.869748592376709\n",
      "38000/40000 average per-item loss: 0.8773255348205566\n",
      "39000/40000 average per-item loss: 0.9791960716247559\n",
      "0/40000 average per-item loss: 0.007560453377664089\n",
      "1000/40000 average per-item loss: 0.9141537547111511\n",
      "2000/40000 average per-item loss: 0.8530126214027405\n",
      "3000/40000 average per-item loss: 0.6679003834724426\n",
      "4000/40000 average per-item loss: 0.8606756329536438\n",
      "5000/40000 average per-item loss: 0.8645210862159729\n",
      "6000/40000 average per-item loss: 0.8218080997467041\n",
      "7000/40000 average per-item loss: 0.8993167877197266\n",
      "8000/40000 average per-item loss: 0.6860354542732239\n",
      "9000/40000 average per-item loss: 0.8477593064308167\n",
      "10000/40000 average per-item loss: 0.7077924609184265\n",
      "11000/40000 average per-item loss: 0.811110258102417\n",
      "12000/40000 average per-item loss: 0.7821304798126221\n",
      "13000/40000 average per-item loss: 0.6875386238098145\n",
      "14000/40000 average per-item loss: 0.6937713027000427\n",
      "15000/40000 average per-item loss: 0.6723348498344421\n",
      "16000/40000 average per-item loss: 0.7170470952987671\n",
      "17000/40000 average per-item loss: 0.6780441999435425\n",
      "18000/40000 average per-item loss: 0.8237819075584412\n",
      "19000/40000 average per-item loss: 0.6620677709579468\n",
      "20000/40000 average per-item loss: 0.706052303314209\n",
      "21000/40000 average per-item loss: 0.6447153687477112\n",
      "22000/40000 average per-item loss: 0.7829475402832031\n",
      "23000/40000 average per-item loss: 0.5888707041740417\n",
      "24000/40000 average per-item loss: 0.8013318777084351\n",
      "25000/40000 average per-item loss: 0.7416822910308838\n",
      "26000/40000 average per-item loss: 0.6983188390731812\n",
      "27000/40000 average per-item loss: 0.7364102005958557\n",
      "28000/40000 average per-item loss: 0.6004673838615417\n",
      "29000/40000 average per-item loss: 0.5801932215690613\n",
      "30000/40000 average per-item loss: 0.6253660321235657\n",
      "31000/40000 average per-item loss: 0.6617671847343445\n",
      "32000/40000 average per-item loss: 0.7282662987709045\n",
      "33000/40000 average per-item loss: 0.6269455552101135\n",
      "34000/40000 average per-item loss: 0.7079991698265076\n",
      "35000/40000 average per-item loss: 0.5441081523895264\n",
      "36000/40000 average per-item loss: 0.6367989778518677\n",
      "37000/40000 average per-item loss: 0.6562533378601074\n",
      "38000/40000 average per-item loss: 0.6619990468025208\n",
      "39000/40000 average per-item loss: 0.5969222784042358\n",
      "0/40000 average per-item loss: 0.0033322118688374758\n",
      "1000/40000 average per-item loss: 0.514803946018219\n",
      "2000/40000 average per-item loss: 0.52182936668396\n",
      "3000/40000 average per-item loss: 0.6314080953598022\n",
      "4000/40000 average per-item loss: 0.6199209094047546\n",
      "5000/40000 average per-item loss: 0.537962794303894\n",
      "6000/40000 average per-item loss: 0.5614012479782104\n",
      "7000/40000 average per-item loss: 0.5645281076431274\n",
      "8000/40000 average per-item loss: 0.5743448138237\n",
      "9000/40000 average per-item loss: 0.6341941952705383\n",
      "10000/40000 average per-item loss: 0.5213943719863892\n",
      "11000/40000 average per-item loss: 0.5263341665267944\n",
      "12000/40000 average per-item loss: 0.5276718735694885\n",
      "13000/40000 average per-item loss: 0.6566851735115051\n",
      "14000/40000 average per-item loss: 0.45485126972198486\n",
      "15000/40000 average per-item loss: 0.5721125602722168\n",
      "16000/40000 average per-item loss: 0.6007105112075806\n",
      "17000/40000 average per-item loss: 0.510172426700592\n",
      "18000/40000 average per-item loss: 0.6739572286605835\n",
      "19000/40000 average per-item loss: 0.6455784440040588\n",
      "20000/40000 average per-item loss: 0.43785029649734497\n",
      "21000/40000 average per-item loss: 0.5329282283782959\n",
      "22000/40000 average per-item loss: 0.443867951631546\n",
      "23000/40000 average per-item loss: 0.42518532276153564\n",
      "24000/40000 average per-item loss: 0.5570600032806396\n",
      "25000/40000 average per-item loss: 0.5420974493026733\n",
      "26000/40000 average per-item loss: 0.4756855070590973\n",
      "27000/40000 average per-item loss: 0.45127812027931213\n",
      "28000/40000 average per-item loss: 0.4465678036212921\n",
      "29000/40000 average per-item loss: 0.4859767258167267\n",
      "30000/40000 average per-item loss: 0.4760875403881073\n",
      "31000/40000 average per-item loss: 0.5241071581840515\n",
      "32000/40000 average per-item loss: 0.4467340111732483\n",
      "33000/40000 average per-item loss: 0.690652072429657\n",
      "34000/40000 average per-item loss: 0.4937339723110199\n",
      "35000/40000 average per-item loss: 0.5537814497947693\n",
      "36000/40000 average per-item loss: 0.5283581018447876\n",
      "37000/40000 average per-item loss: 0.5302371382713318\n",
      "38000/40000 average per-item loss: 0.44339507818222046\n",
      "39000/40000 average per-item loss: 0.33161187171936035\n",
      "0/40000 average per-item loss: 0.0037888812366873026\n",
      "1000/40000 average per-item loss: 0.43011966347694397\n",
      "2000/40000 average per-item loss: 0.37200111150741577\n",
      "3000/40000 average per-item loss: 0.4345041513442993\n",
      "4000/40000 average per-item loss: 0.5582666993141174\n",
      "5000/40000 average per-item loss: 0.4033803641796112\n",
      "6000/40000 average per-item loss: 0.5996808409690857\n",
      "7000/40000 average per-item loss: 0.4241511821746826\n",
      "8000/40000 average per-item loss: 0.51385098695755\n",
      "9000/40000 average per-item loss: 0.5830541849136353\n",
      "10000/40000 average per-item loss: 0.3382972776889801\n",
      "11000/40000 average per-item loss: 0.40165722370147705\n",
      "12000/40000 average per-item loss: 0.4140793979167938\n",
      "13000/40000 average per-item loss: 0.3929004967212677\n",
      "14000/40000 average per-item loss: 0.39915257692337036\n",
      "15000/40000 average per-item loss: 0.3348064124584198\n",
      "16000/40000 average per-item loss: 0.44813239574432373\n",
      "17000/40000 average per-item loss: 0.39266228675842285\n",
      "18000/40000 average per-item loss: 0.4963071346282959\n",
      "19000/40000 average per-item loss: 0.43790385127067566\n",
      "20000/40000 average per-item loss: 0.35913658142089844\n",
      "21000/40000 average per-item loss: 0.41977474093437195\n",
      "22000/40000 average per-item loss: 0.2811603844165802\n",
      "23000/40000 average per-item loss: 0.345096617937088\n",
      "24000/40000 average per-item loss: 0.3334217369556427\n",
      "25000/40000 average per-item loss: 0.4422997236251831\n",
      "26000/40000 average per-item loss: 0.4760969877243042\n",
      "27000/40000 average per-item loss: 0.44564810395240784\n",
      "28000/40000 average per-item loss: 0.38221797347068787\n",
      "29000/40000 average per-item loss: 0.3373328149318695\n",
      "30000/40000 average per-item loss: 0.3695783317089081\n",
      "31000/40000 average per-item loss: 0.4427677094936371\n",
      "32000/40000 average per-item loss: 0.39515063166618347\n"
     ]
    },
    {
     "name": "stdout",
     "output_type": "stream",
     "text": [
      "33000/40000 average per-item loss: 0.39749976992607117\n",
      "34000/40000 average per-item loss: 0.3659389913082123\n",
      "35000/40000 average per-item loss: 0.3808887004852295\n",
      "36000/40000 average per-item loss: 0.5188891291618347\n",
      "37000/40000 average per-item loss: 0.40402135252952576\n",
      "38000/40000 average per-item loss: 0.33044350147247314\n",
      "39000/40000 average per-item loss: 0.2929372191429138\n",
      "0/40000 average per-item loss: 7.847786037018523e-05\n",
      "1000/40000 average per-item loss: 0.417194664478302\n",
      "2000/40000 average per-item loss: 0.3273153603076935\n",
      "3000/40000 average per-item loss: 0.363523930311203\n",
      "4000/40000 average per-item loss: 0.34158214926719666\n",
      "5000/40000 average per-item loss: 0.35217520594596863\n",
      "6000/40000 average per-item loss: 0.4012451171875\n",
      "7000/40000 average per-item loss: 0.2801399230957031\n",
      "8000/40000 average per-item loss: 0.4001235067844391\n",
      "9000/40000 average per-item loss: 0.3161036968231201\n",
      "10000/40000 average per-item loss: 0.41424083709716797\n",
      "11000/40000 average per-item loss: 0.30618512630462646\n",
      "12000/40000 average per-item loss: 0.2913820147514343\n",
      "13000/40000 average per-item loss: 0.27208834886550903\n",
      "14000/40000 average per-item loss: 0.3845246434211731\n",
      "15000/40000 average per-item loss: 0.41889163851737976\n",
      "16000/40000 average per-item loss: 0.4639442563056946\n",
      "17000/40000 average per-item loss: 0.41140514612197876\n",
      "18000/40000 average per-item loss: 0.3890427350997925\n",
      "19000/40000 average per-item loss: 0.409494012594223\n",
      "20000/40000 average per-item loss: 0.3543860912322998\n",
      "21000/40000 average per-item loss: 0.33500686287879944\n",
      "22000/40000 average per-item loss: 0.3220515549182892\n",
      "23000/40000 average per-item loss: 0.4082404673099518\n",
      "24000/40000 average per-item loss: 0.3344850540161133\n",
      "25000/40000 average per-item loss: 0.2858112156391144\n",
      "26000/40000 average per-item loss: 0.2628902792930603\n",
      "27000/40000 average per-item loss: 0.3422711491584778\n",
      "28000/40000 average per-item loss: 0.3438832461833954\n",
      "29000/40000 average per-item loss: 0.33442404866218567\n",
      "30000/40000 average per-item loss: 0.328006386756897\n",
      "31000/40000 average per-item loss: 0.27468106150627136\n",
      "32000/40000 average per-item loss: 0.36952659487724304\n",
      "33000/40000 average per-item loss: 0.40976133942604065\n",
      "34000/40000 average per-item loss: 0.32077109813690186\n",
      "35000/40000 average per-item loss: 0.3239842653274536\n",
      "36000/40000 average per-item loss: 0.38058897852897644\n",
      "37000/40000 average per-item loss: 0.23771429061889648\n",
      "38000/40000 average per-item loss: 0.3477376699447632\n",
      "39000/40000 average per-item loss: 0.27390655875205994\n",
      "done\n"
     ]
    }
   ],
   "source": [
    "multi_class = lang_id.LangID(\n",
    "    input_vocab_n=len(c2i), \n",
    "    embedding_dims=10,\n",
    "    hidden_dims=20,\n",
    "    lstm_layers=1,\n",
    "    output_class_n=5\n",
    ")\n",
    "\n",
    "lang_id.train_model(\n",
    "    model=multi_class, \n",
    "    n_epochs=5,\n",
    "    training_data=multi_text_train,\n",
    "    c2i=c2i, i2c=i2c,\n",
    "    l2i=l2i, i2l=i2l\n",
    ");\n",
    "\n",
    "print(\"done\")"
   ]
  },
  {
   "cell_type": "markdown",
   "metadata": {},
   "source": [
    "Now that it's trained, let's evaluate it as before:"
   ]
  },
  {
   "cell_type": "code",
   "execution_count": 48,
   "metadata": {},
   "outputs": [
    {
     "name": "stdout",
     "output_type": "stream",
     "text": [
      "Accuracy: 0.876\n"
     ]
    }
   ],
   "source": [
    "acc_multi, y_hat_multi = lang_id.eval_acc(multi_class, multi_text_test, c2i, i2c, l2i, i2l)\n",
    "\n",
    "print(f\"Accuracy: {acc_multi}\")"
   ]
  },
  {
   "cell_type": "markdown",
   "metadata": {},
   "source": [
    "For 5-way classification, a single accuracy number is less useful than it is for binary classification. Scikit-Learn has some helpful classes for evaluating classifiers:"
   ]
  },
  {
   "cell_type": "code",
   "execution_count": 49,
   "metadata": {},
   "outputs": [],
   "source": [
    "from sklearn.metrics import classification_report, confusion_matrix"
   ]
  },
  {
   "cell_type": "markdown",
   "metadata": {},
   "source": [
    "The `classification_report` function will give us a per-class breakdown of our performance:"
   ]
  },
  {
   "cell_type": "code",
   "execution_count": 50,
   "metadata": {
    "scrolled": false
   },
   "outputs": [
    {
     "name": "stdout",
     "output_type": "stream",
     "text": [
      "             precision    recall  f1-score   support\n",
      "\n",
      "        deu       0.97      0.93      0.95      2006\n",
      "        eng       0.90      0.95      0.93      1976\n",
      "        fra       0.93      0.87      0.90      2051\n",
      "        ita       0.83      0.82      0.83      1988\n",
      "        spa       0.76      0.81      0.78      1979\n",
      "\n",
      "avg / total       0.88      0.88      0.88     10000\n",
      "\n"
     ]
    }
   ],
   "source": [
    "y_multi = multi_text_test.lang.values\n",
    "print(classification_report(y_multi, y_hat_multi))"
   ]
  },
  {
   "cell_type": "markdown",
   "metadata": {},
   "source": [
    "The `confusion_matrix` function will give us a raw confusion matrix; rows are \"truth\" and columns are \"predictions\"."
   ]
  },
  {
   "cell_type": "code",
   "execution_count": 51,
   "metadata": {},
   "outputs": [
    {
     "data": {
      "text/plain": [
       "array([[1858,  103,   29,   10,    6],\n",
       "       [  29, 1876,   32,    9,   30],\n",
       "       [  21,   58, 1791,   27,  154],\n",
       "       [   3,   12,    8, 1639,  326],\n",
       "       [   5,   27,   56,  295, 1596]])"
      ]
     },
     "execution_count": 51,
     "metadata": {},
     "output_type": "execute_result"
    }
   ],
   "source": [
    "cm = confusion_matrix(y_multi, y_hat_multi)\n",
    "cm"
   ]
  },
  {
   "cell_type": "markdown",
   "metadata": {},
   "source": [
    "The `lang_id` module has a method to make nicer-looking matrices:"
   ]
  },
  {
   "cell_type": "code",
   "execution_count": 52,
   "metadata": {},
   "outputs": [],
   "source": [
    "reload(lang_id);"
   ]
  },
  {
   "cell_type": "code",
   "execution_count": 53,
   "metadata": {
    "scrolled": true
   },
   "outputs": [
    {
     "data": {
      "image/png": "[encoded data removed]",
      "text/plain": [
       "<Figure size 432x288 with 2 Axes>"
      ]
     },
     "metadata": {},
     "output_type": "display_data"
    }
   ],
   "source": [
    "lang_id.pretty_conf_matrix(cm, ['deu','eng','fra','ita','spa'])"
   ]
  },
  {
   "cell_type": "markdown",
   "metadata": {},
   "source": [
    "* **Deliverable 2.5:** Interpret these results. Why is our classifier performing better on some languages than on others? Put your analysis in a file named `deliverable_2.5.txt`.\n",
    "\n",
    "From here, the rest of this section is up to you. Experiment with different numbers of embedding & hidden dimensions, hidden LSTM layers, etc., and see how high you can get your classification accuracy. Also try training for additional epochs. Does that help?\n",
    "\n",
    "* **Deliverable 2.6:** Describe at least two additional models that you trained and evaluated, along with their overall and per-class accuracies. What seemed to help the most? Put your discussion in a file named `deliverable_2.6.txt`."
   ]
  },
  {
   "cell_type": "markdown",
   "metadata": {},
   "source": [
    "## Part 3: Language modeling\n",
    "\n",
    "### Getting Started\n",
    "\n",
    "In this part of the assignment, you will build and evaluate a simple LSTM character language model, and then _sample_ from it to generate new text mimicking the training data. The model you will build should follow the general structure outlined in Section 17.1 of the Goldberg text, and use the \"teacher-forcing\" training method outlined in 17.1.1.\n",
    "\n",
    "$$ p(\\mathbf{w}_n | \\mathbf{w}_{1:n-1}) = \\operatorname*{softmax} \\mathbf{o}^{(n-1)} $$\n",
    "\n",
    "$$ o = \\mathbf{h} \\mathbf{W}_o^T + b_o $$\n",
    "\n",
    "$$ \\mathbf{h} = LSTM(\\mathbf{x})$$\n",
    "\n",
    "$$ \\mathbf{x}_{1:n-1} = \\mathbf{E}[w_1], ... , \\mathbf{E}[w_n-1] $$\n",
    "\n",
    "For this part of the assignment, we will be working with a data set of British place names located in `data/towns_clean.txt`."
   ]
  },
  {
   "cell_type": "code",
   "execution_count": 54,
   "metadata": {},
   "outputs": [
    {
     "name": "stdout",
     "output_type": "stream",
     "text": [
      "Barnwell\n",
      "Bagginswood\n",
      "Heworth\n",
      "Totnell\n",
      "Johnby\n",
      "Crinan\n",
      "Eswick\n",
      "Londonderry\n",
      "Bilston\n",
      "Crossens\n"
     ]
    }
   ],
   "source": [
    "corpus = [l.strip() for l in open('data/towns_clean.txt')]\n",
    "c2i, i2c = vocab.build_vocab(corpus)\n",
    "\n",
    "for t in np.random.choice(corpus, size=10):\n",
    "    print(t)"
   ]
  },
  {
   "cell_type": "code",
   "execution_count": 55,
   "metadata": {},
   "outputs": [
    {
     "name": "stdout",
     "output_type": "stream",
     "text": [
      "48690\n"
     ]
    }
   ],
   "source": [
    "print(len(corpus))"
   ]
  },
  {
   "cell_type": "markdown",
   "metadata": {},
   "source": [
    "Your network, once trained, will learn to recognize British place names, and will be able to make up new ones.\n",
    "\n",
    "* **Deliverable 3.1:** Implement the `__init__()`, and `forward()` functions in `hw3_utils.lm.NameGenerator`.\n",
    "* **Test:** `nosetests tests/test_lm.py:test_d3_1_setup`\n",
    "\n",
    "Once you've got these methods set up correctly, the following ought to work (in the sense of producing appropriately-sized output):"
   ]
  },
  {
   "cell_type": "code",
   "execution_count": 56,
   "metadata": {},
   "outputs": [],
   "source": [
    "from hw3_utils import lm\n",
    "reload(lm);"
   ]
  },
  {
   "cell_type": "code",
   "execution_count": 57,
   "metadata": {},
   "outputs": [
    {
     "name": "stdout",
     "output_type": "stream",
     "text": [
      "77\n",
      "tensor([[ 0, 38,  3, 27, 30, 13, 10, 15, 32, 25, 30,  1]])\n"
     ]
    },
    {
     "data": {
      "text/plain": [
       "torch.Size([1, 12, 77])"
      ]
     },
     "execution_count": 57,
     "metadata": {},
     "output_type": "execute_result"
    }
   ],
   "source": [
    "model = lm.NameGenerator(\n",
    "    input_vocab_size=len(c2i),\n",
    "    n_embedding_dims=25,\n",
    "    n_hidden_dims=50,\n",
    "    n_lstm_layers=1,\n",
    "    output_vocab_size=len(c2i)\n",
    ")\n",
    "\n",
    "print(len(c2i))\n",
    "\n",
    "x = vocab.sentence_to_tensor(\"Test input\", c2i, True) # make sure to pad w/ bos/eos symbols\n",
    "print(x)\n",
    "y_hat, lstm_hidden_state = model(x, model.init_hidden())\n",
    "y_hat.shape # should be 1x12x78 (1 x len(\"Test input\")+2 x len(c2i))"
   ]
  },
  {
   "cell_type": "markdown",
   "metadata": {},
   "source": [
    "Each position $i$ along the second dimension of $\\hat{y}$ is the model's estimate of $p(x_{i+1} | x_{1:i})$, and is represented as a multinomial probability distribution in log-space (i.e., each of the 78 possible characters is assigned an estimated log-probability of occurring).\n",
    "\n",
    "By multiplying across (or summing across, in log-space) each of those values, we can calculate the model's estimate of the probability of an input sequence (see Jurafsky & Martin, Chapter 3 if you need refresher on how this works). As a convenience method, I have provided `lm.compute_prob`."
   ]
  },
  {
   "cell_type": "code",
   "execution_count": 58,
   "metadata": {
    "scrolled": true
   },
   "outputs": [
    {
     "data": {
      "text/plain": [
       "47.342796325683594"
      ]
     },
     "execution_count": 58,
     "metadata": {},
     "output_type": "execute_result"
    }
   ],
   "source": [
    "lm.compute_prob(model, \"Test input\", c2i)"
   ]
  },
  {
   "cell_type": "code",
   "execution_count": 59,
   "metadata": {},
   "outputs": [
    {
     "data": {
      "text/plain": [
       "47.680023193359375"
      ]
     },
     "execution_count": 59,
     "metadata": {},
     "output_type": "execute_result"
    }
   ],
   "source": [
    "lm.compute_prob(model, \"fdsafsadfa\", c2i)"
   ]
  },
  {
   "cell_type": "code",
   "execution_count": 60,
   "metadata": {},
   "outputs": [
    {
     "name": "stdout",
     "output_type": "stream",
     "text": [
      ".\r\n",
      "----------------------------------------------------------------------\r\n",
      "Ran 1 test in 0.058s\r\n",
      "\r\n",
      "OK\r\n"
     ]
    }
   ],
   "source": [
    "! nosetests tests/test_lm.py:test_d3_1_setup"
   ]
  },
  {
   "cell_type": "markdown",
   "metadata": {},
   "source": [
    "This produces _negative log probabilities_. In this case, the model has not yet been trained and so the two sequences are given (very roughly) equivalent probabilities\n",
    "\n",
    "Note that \"out of the box\" `compute_prob()` does not _normalize_ the probabilities by sequence length, and as such longer sequences will have lower probabilities on average than shorter sequences, regardless of how plausible they are to the model. If you want to compare the model's estimate of the probabilities of two sequences of different lengths, you must normalize each by the appropriate sequence's length.\n",
    "\n",
    "Once the model is trained, the estimated probabilities of the two sequences above should be quite different!"
   ]
  },
  {
   "cell_type": "markdown",
   "metadata": {},
   "source": [
    "### Training\n",
    "\n",
    "Note that there are two ways to structure the training of this sort of model.\n",
    "\n",
    "1. One character at a time\n",
    "2. In a quasi batched manner\n",
    "\n",
    "The equations above describe character-at-a-time training- starting from the shortest possible prefix of our sequence $\\mathbf{w}$, $\\mathbf{w}_{1:1}$, and continuing up through successively longer prefixes until reaching $\\mathbf{w}_{1:n-1}$, ask the model to predict the next character, accumulating loss with the negative log-likelihood criterion.\n",
    "\n",
    "In this scenario, if our input training sentence was _\"hello there\"_, we would perform a series of forward passes:\n",
    "\n",
    "$x_1=\"h\"$, $y_1=\"e\"$\n",
    "\n",
    "$x_2=\"he\"$, $y_2=\"l\"$\n",
    "\n",
    "$x_3=\"hel\"$, $y_3=\"l\"$\n",
    "\n",
    "... and so forth, either doing a call to `backward()` after each prefix $x_i$ or waiting until the end of the sequence to do so. \n",
    "\n",
    "This way works just fine, and is more or less how we will go about sampling from the model, but it is often more efficient to do a more batched training operation. Note that in the above equations, $\\mathbf{o}$ will have dimensionality of $(1, n-1, N_{classes})$- in other words, there will be one set of probability estimates for each time point that we have provided the LSTM. PyTorch's `nn.NLLLoss` class can accept input in this shape, and will automatically compute the average loss across the timepoints (and of course will do so a way that keeps the gradients around for correct backpropagation). Training this way can reduce the total number of computations that we need to do in order to train our model.\n",
    "\n",
    "In this scenario, we would perform a _single_ forward and backward pass, with input that looked like so:\n",
    "\n",
    "$x=\"hello\\_ther\"$, $y=\"ello\\_there\"$\n",
    "\n",
    "Note that PyTorch is perfectly happy either way: the various `nn.*` classes all expect to be able to be given input in this minibatched format. In the first training strategy, the \"batch\" size is 1; in the second, it is $n-1$ where $n$ is the length of the training example.\n",
    "\n",
    "The overall process of training this model will be very similar to how we trained the language ID classifier, so use that as a starting point and modify as needed. For starters, train with the following parameters:\n",
    "\n",
    "* Number of character embedding dimensions: 25\n",
    "* Number of LSTM hidden units: 50\n",
    "* Number of LSTM layers: 1\n",
    "\n",
    "Once your model is trained, you can save it to disk using the `torch.save()` function. This will make it available for the unit test to access.\n",
    "\n",
    "* **Deliverable 3.2:** Implement the `train()` function in `hw3_utils.lm`. Save a trained model to a file named `deliverable_3.2.mod`.\n",
    "* **Test:** `nosetests tests/test_lm.py:test_d3_2_training`"
   ]
  },
  {
   "cell_type": "code",
   "execution_count": 61,
   "metadata": {},
   "outputs": [
    {
     "name": "stdout",
     "output_type": "stream",
     "text": [
      "0 Hedley Hil edley Hill\n",
      "1 Killeshi illeshil\n",
      "2 St John's Chape t John's Chapel\n",
      "3 Ven enn\n",
      "4 Powerstoc owerstock\n",
      "5 Stanningto tannington\n",
      "6 Kimpto impton\n",
      "7 Malting En alting End\n",
      "8 Helebridg elebridge\n",
      "9 Newland ewlands\n"
     ]
    }
   ],
   "source": [
    "import random\n",
    "random.shuffle(corpus)\n",
    "for a,b in enumerate(corpus[:10]):\n",
    "    print(a,b[:-1],b[1:])"
   ]
  },
  {
   "cell_type": "code",
   "execution_count": 62,
   "metadata": {},
   "outputs": [
    {
     "name": "stdout",
     "output_type": "stream",
     "text": [
      "0/48690 average per-item loss: 0.04315564036369324\n",
      "1000/48690 average per-item loss: 4.229076385498047\n",
      "2000/48690 average per-item loss: 4.104024410247803\n",
      "3000/48690 average per-item loss: 3.8767364025115967\n",
      "4000/48690 average per-item loss: 3.462719678878784\n",
      "5000/48690 average per-item loss: 3.1296732425689697\n",
      "6000/48690 average per-item loss: 2.988311767578125\n",
      "7000/48690 average per-item loss: 2.865107536315918\n",
      "8000/48690 average per-item loss: 2.751615524291992\n",
      "9000/48690 average per-item loss: 2.6226840019226074\n",
      "10000/48690 average per-item loss: 2.5602993965148926\n",
      "11000/48690 average per-item loss: 2.5131237506866455\n",
      "12000/48690 average per-item loss: 2.443108320236206\n",
      "13000/48690 average per-item loss: 2.412517547607422\n",
      "14000/48690 average per-item loss: 2.363457679748535\n",
      "15000/48690 average per-item loss: 2.3076975345611572\n",
      "16000/48690 average per-item loss: 2.3115856647491455\n",
      "17000/48690 average per-item loss: 2.3201072216033936\n",
      "18000/48690 average per-item loss: 2.2536466121673584\n",
      "19000/48690 average per-item loss: 2.3173532485961914\n",
      "20000/48690 average per-item loss: 2.2173073291778564\n",
      "21000/48690 average per-item loss: 2.1829745769500732\n",
      "22000/48690 average per-item loss: 2.155705451965332\n",
      "23000/48690 average per-item loss: 2.1605987548828125\n",
      "24000/48690 average per-item loss: 2.1129097938537598\n",
      "25000/48690 average per-item loss: 2.0841383934020996\n",
      "26000/48690 average per-item loss: 2.113180637359619\n",
      "27000/48690 average per-item loss: 2.1343495845794678\n",
      "28000/48690 average per-item loss: 2.0315194129943848\n",
      "29000/48690 average per-item loss: 2.0142810344696045\n",
      "30000/48690 average per-item loss: 2.0180065631866455\n",
      "31000/48690 average per-item loss: 1.9694980382919312\n",
      "32000/48690 average per-item loss: 2.005403518676758\n",
      "33000/48690 average per-item loss: 2.041977643966675\n",
      "34000/48690 average per-item loss: 1.989016056060791\n",
      "35000/48690 average per-item loss: 1.95609450340271\n",
      "36000/48690 average per-item loss: 1.944704532623291\n",
      "37000/48690 average per-item loss: 1.9735394716262817\n",
      "38000/48690 average per-item loss: 1.9520457983016968\n",
      "39000/48690 average per-item loss: 1.972048044204712\n",
      "40000/48690 average per-item loss: 1.976166844367981\n",
      "41000/48690 average per-item loss: 1.920639991760254\n",
      "42000/48690 average per-item loss: 1.9659167528152466\n",
      "43000/48690 average per-item loss: 1.908744215965271\n",
      "44000/48690 average per-item loss: 1.9017515182495117\n",
      "45000/48690 average per-item loss: 1.9691162109375\n",
      "46000/48690 average per-item loss: 1.9278137683868408\n",
      "47000/48690 average per-item loss: 1.9442360401153564\n",
      "48000/48690 average per-item loss: 1.8582372665405273\n",
      "0/48690 average per-item loss: 0.023393714800477028\n",
      "1000/48690 average per-item loss: 1.8146371841430664\n",
      "2000/48690 average per-item loss: 1.8987393379211426\n",
      "3000/48690 average per-item loss: 1.8321049213409424\n",
      "4000/48690 average per-item loss: 1.8836982250213623\n",
      "5000/48690 average per-item loss: 1.8278888463974\n",
      "6000/48690 average per-item loss: 1.8685075044631958\n",
      "7000/48690 average per-item loss: 1.8234350681304932\n",
      "8000/48690 average per-item loss: 1.8378793001174927\n",
      "9000/48690 average per-item loss: 1.8550283908843994\n",
      "10000/48690 average per-item loss: 1.827683448791504\n",
      "11000/48690 average per-item loss: 1.835539698600769\n",
      "12000/48690 average per-item loss: 1.8865236043930054\n",
      "13000/48690 average per-item loss: 1.8913518190383911\n",
      "14000/48690 average per-item loss: 1.8016247749328613\n",
      "15000/48690 average per-item loss: 1.8228167295455933\n",
      "16000/48690 average per-item loss: 1.857405424118042\n",
      "17000/48690 average per-item loss: 1.8400386571884155\n",
      "18000/48690 average per-item loss: 1.784979224205017\n",
      "19000/48690 average per-item loss: 1.8354812860488892\n",
      "20000/48690 average per-item loss: 1.7580126523971558\n",
      "21000/48690 average per-item loss: 1.8096061944961548\n",
      "22000/48690 average per-item loss: 1.7727481126785278\n",
      "23000/48690 average per-item loss: 1.816777229309082\n",
      "24000/48690 average per-item loss: 1.84406316280365\n",
      "25000/48690 average per-item loss: 1.7863653898239136\n",
      "26000/48690 average per-item loss: 1.845152735710144\n",
      "27000/48690 average per-item loss: 1.7675848007202148\n",
      "28000/48690 average per-item loss: 1.7599366903305054\n",
      "29000/48690 average per-item loss: 1.716049075126648\n",
      "30000/48690 average per-item loss: 1.6972343921661377\n",
      "31000/48690 average per-item loss: 1.7381410598754883\n",
      "32000/48690 average per-item loss: 1.7445743083953857\n",
      "33000/48690 average per-item loss: 1.787308692932129\n",
      "34000/48690 average per-item loss: 1.7508740425109863\n",
      "35000/48690 average per-item loss: 1.764025092124939\n",
      "36000/48690 average per-item loss: 1.7592453956604004\n",
      "37000/48690 average per-item loss: 1.7596497535705566\n",
      "38000/48690 average per-item loss: 1.7382010221481323\n",
      "39000/48690 average per-item loss: 1.7154748439788818\n",
      "40000/48690 average per-item loss: 1.6978027820587158\n",
      "41000/48690 average per-item loss: 1.778200626373291\n",
      "42000/48690 average per-item loss: 1.762334942817688\n",
      "43000/48690 average per-item loss: 1.6704918146133423\n",
      "44000/48690 average per-item loss: 1.7914468050003052\n",
      "45000/48690 average per-item loss: 1.7822880744934082\n",
      "46000/48690 average per-item loss: 1.731960415840149\n",
      "47000/48690 average per-item loss: 1.7289739847183228\n",
      "48000/48690 average per-item loss: 1.7851104736328125\n"
     ]
    },
    {
     "data": {
      "text/plain": [
       "NameGenerator(\n",
       "  (input_lookup): Embedding(77, 25)\n",
       "  (lstm): LSTM(25, 50, batch_first=True)\n",
       "  (output): Linear(in_features=50, out_features=77, bias=True)\n",
       "  (softmax): LogSoftmax()\n",
       ")"
      ]
     },
     "execution_count": 62,
     "metadata": {},
     "output_type": "execute_result"
    }
   ],
   "source": [
    "reload(lm)\n",
    "lm.train(model, epochs=2, training_data=corpus, c2i=c2i)"
   ]
  },
  {
   "cell_type": "code",
   "execution_count": 63,
   "metadata": {
    "scrolled": true
   },
   "outputs": [
    {
     "data": {
      "text/plain": [
       "48.65627670288086"
      ]
     },
     "execution_count": 63,
     "metadata": {},
     "output_type": "execute_result"
    }
   ],
   "source": [
    "lm.compute_prob(model, \"Test input\", c2i)"
   ]
  },
  {
   "cell_type": "code",
   "execution_count": 64,
   "metadata": {},
   "outputs": [
    {
     "data": {
      "text/plain": [
       "52.25356674194336"
      ]
     },
     "execution_count": 64,
     "metadata": {},
     "output_type": "execute_result"
    }
   ],
   "source": [
    "lm.compute_prob(model, \"fdsafsadfa\", c2i)"
   ]
  },
  {
   "cell_type": "markdown",
   "metadata": {},
   "source": [
    "Remember, this is in log-space, so the difference here is substantial. And now let's try giving it an actual town name as input:"
   ]
  },
  {
   "cell_type": "code",
   "execution_count": 65,
   "metadata": {},
   "outputs": [
    {
     "data": {
      "text/plain": [
       "33.1013298034668"
      ]
     },
     "execution_count": 65,
     "metadata": {},
     "output_type": "execute_result"
    }
   ],
   "source": [
    "lm.compute_prob(model, \"Wavertree\", c2i)"
   ]
  },
  {
   "cell_type": "code",
   "execution_count": 66,
   "metadata": {},
   "outputs": [
    {
     "ename": "PicklingError",
     "evalue": "Can't pickle <class 'hw3_utils.lm.NameGenerator'>: it's not the same object as hw3_utils.lm.NameGenerator",
     "output_type": "error",
     "traceback": [
      "\u001b[0;31m---------------------------------------------------------------------------\u001b[0m",
      "\u001b[0;31mPicklingError\u001b[0m                             Traceback (most recent call last)",
      "\u001b[0;32m<ipython-input-66-2bb3e208b04c>\u001b[0m in \u001b[0;36m<module>\u001b[0;34m()\u001b[0m\n\u001b[0;32m----> 1\u001b[0;31m \u001b[0mtorch\u001b[0m\u001b[0;34m.\u001b[0m\u001b[0msave\u001b[0m\u001b[0;34m(\u001b[0m\u001b[0mmodel\u001b[0m\u001b[0;34m,\u001b[0m \u001b[0;34m'deliverable_3.2.mod'\u001b[0m\u001b[0;34m)\u001b[0m\u001b[0;34m\u001b[0m\u001b[0m\n\u001b[0m\u001b[1;32m      2\u001b[0m \u001b[0mtorch\u001b[0m\u001b[0;34m.\u001b[0m\u001b[0mload\u001b[0m\u001b[0;34m(\u001b[0m\u001b[0;34m'deliverable_3.2.mod'\u001b[0m\u001b[0;34m)\u001b[0m\u001b[0;34m\u001b[0m\u001b[0m\n",
      "\u001b[0;32m/Library/Frameworks/Python.framework/Versions/3.6/lib/python3.6/site-packages/torch/serialization.py\u001b[0m in \u001b[0;36msave\u001b[0;34m(obj, f, pickle_module, pickle_protocol)\u001b[0m\n\u001b[1;32m    216\u001b[0m         \u001b[0;34m>>\u001b[0m\u001b[0;34m>\u001b[0m \u001b[0mtorch\u001b[0m\u001b[0;34m.\u001b[0m\u001b[0msave\u001b[0m\u001b[0;34m(\u001b[0m\u001b[0mx\u001b[0m\u001b[0;34m,\u001b[0m \u001b[0mbuffer\u001b[0m\u001b[0;34m)\u001b[0m\u001b[0;34m\u001b[0m\u001b[0m\n\u001b[1;32m    217\u001b[0m     \"\"\"\n\u001b[0;32m--> 218\u001b[0;31m     \u001b[0;32mreturn\u001b[0m \u001b[0m_with_file_like\u001b[0m\u001b[0;34m(\u001b[0m\u001b[0mf\u001b[0m\u001b[0;34m,\u001b[0m \u001b[0;34m\"wb\"\u001b[0m\u001b[0;34m,\u001b[0m \u001b[0;32mlambda\u001b[0m \u001b[0mf\u001b[0m\u001b[0;34m:\u001b[0m \u001b[0m_save\u001b[0m\u001b[0;34m(\u001b[0m\u001b[0mobj\u001b[0m\u001b[0;34m,\u001b[0m \u001b[0mf\u001b[0m\u001b[0;34m,\u001b[0m \u001b[0mpickle_module\u001b[0m\u001b[0;34m,\u001b[0m \u001b[0mpickle_protocol\u001b[0m\u001b[0;34m)\u001b[0m\u001b[0;34m)\u001b[0m\u001b[0;34m\u001b[0m\u001b[0m\n\u001b[0m\u001b[1;32m    219\u001b[0m \u001b[0;34m\u001b[0m\u001b[0m\n\u001b[1;32m    220\u001b[0m \u001b[0;34m\u001b[0m\u001b[0m\n",
      "\u001b[0;32m/Library/Frameworks/Python.framework/Versions/3.6/lib/python3.6/site-packages/torch/serialization.py\u001b[0m in \u001b[0;36m_with_file_like\u001b[0;34m(f, mode, body)\u001b[0m\n\u001b[1;32m    141\u001b[0m         \u001b[0mf\u001b[0m \u001b[0;34m=\u001b[0m \u001b[0mopen\u001b[0m\u001b[0;34m(\u001b[0m\u001b[0mf\u001b[0m\u001b[0;34m,\u001b[0m \u001b[0mmode\u001b[0m\u001b[0;34m)\u001b[0m\u001b[0;34m\u001b[0m\u001b[0m\n\u001b[1;32m    142\u001b[0m     \u001b[0;32mtry\u001b[0m\u001b[0;34m:\u001b[0m\u001b[0;34m\u001b[0m\u001b[0m\n\u001b[0;32m--> 143\u001b[0;31m         \u001b[0;32mreturn\u001b[0m \u001b[0mbody\u001b[0m\u001b[0;34m(\u001b[0m\u001b[0mf\u001b[0m\u001b[0;34m)\u001b[0m\u001b[0;34m\u001b[0m\u001b[0m\n\u001b[0m\u001b[1;32m    144\u001b[0m     \u001b[0;32mfinally\u001b[0m\u001b[0;34m:\u001b[0m\u001b[0;34m\u001b[0m\u001b[0m\n\u001b[1;32m    145\u001b[0m         \u001b[0;32mif\u001b[0m \u001b[0mnew_fd\u001b[0m\u001b[0;34m:\u001b[0m\u001b[0;34m\u001b[0m\u001b[0m\n",
      "\u001b[0;32m/Library/Frameworks/Python.framework/Versions/3.6/lib/python3.6/site-packages/torch/serialization.py\u001b[0m in \u001b[0;36m<lambda>\u001b[0;34m(f)\u001b[0m\n\u001b[1;32m    216\u001b[0m         \u001b[0;34m>>\u001b[0m\u001b[0;34m>\u001b[0m \u001b[0mtorch\u001b[0m\u001b[0;34m.\u001b[0m\u001b[0msave\u001b[0m\u001b[0;34m(\u001b[0m\u001b[0mx\u001b[0m\u001b[0;34m,\u001b[0m \u001b[0mbuffer\u001b[0m\u001b[0;34m)\u001b[0m\u001b[0;34m\u001b[0m\u001b[0m\n\u001b[1;32m    217\u001b[0m     \"\"\"\n\u001b[0;32m--> 218\u001b[0;31m     \u001b[0;32mreturn\u001b[0m \u001b[0m_with_file_like\u001b[0m\u001b[0;34m(\u001b[0m\u001b[0mf\u001b[0m\u001b[0;34m,\u001b[0m \u001b[0;34m\"wb\"\u001b[0m\u001b[0;34m,\u001b[0m \u001b[0;32mlambda\u001b[0m \u001b[0mf\u001b[0m\u001b[0;34m:\u001b[0m \u001b[0m_save\u001b[0m\u001b[0;34m(\u001b[0m\u001b[0mobj\u001b[0m\u001b[0;34m,\u001b[0m \u001b[0mf\u001b[0m\u001b[0;34m,\u001b[0m \u001b[0mpickle_module\u001b[0m\u001b[0;34m,\u001b[0m \u001b[0mpickle_protocol\u001b[0m\u001b[0;34m)\u001b[0m\u001b[0;34m)\u001b[0m\u001b[0;34m\u001b[0m\u001b[0m\n\u001b[0m\u001b[1;32m    219\u001b[0m \u001b[0;34m\u001b[0m\u001b[0m\n\u001b[1;32m    220\u001b[0m \u001b[0;34m\u001b[0m\u001b[0m\n",
      "\u001b[0;32m/Library/Frameworks/Python.framework/Versions/3.6/lib/python3.6/site-packages/torch/serialization.py\u001b[0m in \u001b[0;36m_save\u001b[0;34m(obj, f, pickle_module, pickle_protocol)\u001b[0m\n\u001b[1;32m    289\u001b[0m     \u001b[0mpickler\u001b[0m \u001b[0;34m=\u001b[0m \u001b[0mpickle_module\u001b[0m\u001b[0;34m.\u001b[0m\u001b[0mPickler\u001b[0m\u001b[0;34m(\u001b[0m\u001b[0mf\u001b[0m\u001b[0;34m,\u001b[0m \u001b[0mprotocol\u001b[0m\u001b[0;34m=\u001b[0m\u001b[0mpickle_protocol\u001b[0m\u001b[0;34m)\u001b[0m\u001b[0;34m\u001b[0m\u001b[0m\n\u001b[1;32m    290\u001b[0m     \u001b[0mpickler\u001b[0m\u001b[0;34m.\u001b[0m\u001b[0mpersistent_id\u001b[0m \u001b[0;34m=\u001b[0m \u001b[0mpersistent_id\u001b[0m\u001b[0;34m\u001b[0m\u001b[0m\n\u001b[0;32m--> 291\u001b[0;31m     \u001b[0mpickler\u001b[0m\u001b[0;34m.\u001b[0m\u001b[0mdump\u001b[0m\u001b[0;34m(\u001b[0m\u001b[0mobj\u001b[0m\u001b[0;34m)\u001b[0m\u001b[0;34m\u001b[0m\u001b[0m\n\u001b[0m\u001b[1;32m    292\u001b[0m \u001b[0;34m\u001b[0m\u001b[0m\n\u001b[1;32m    293\u001b[0m     \u001b[0mserialized_storage_keys\u001b[0m \u001b[0;34m=\u001b[0m \u001b[0msorted\u001b[0m\u001b[0;34m(\u001b[0m\u001b[0mserialized_storages\u001b[0m\u001b[0;34m.\u001b[0m\u001b[0mkeys\u001b[0m\u001b[0;34m(\u001b[0m\u001b[0;34m)\u001b[0m\u001b[0;34m)\u001b[0m\u001b[0;34m\u001b[0m\u001b[0m\n",
      "\u001b[0;31mPicklingError\u001b[0m: Can't pickle <class 'hw3_utils.lm.NameGenerator'>: it's not the same object as hw3_utils.lm.NameGenerator"
     ]
    }
   ],
   "source": [
    "torch.save(model, 'deliverable_3.2.mod')\n",
    "torch.load('deliverable_3.2.mod')"
   ]
  },
  {
   "cell_type": "code",
   "execution_count": null,
   "metadata": {},
   "outputs": [],
   "source": [
    "! nosetests tests/test_lm.py:test_d3_2_training"
   ]
  },
  {
   "cell_type": "code",
   "execution_count": null,
   "metadata": {},
   "outputs": [],
   "source": []
  },
  {
   "cell_type": "markdown",
   "metadata": {},
   "source": [
    "### Sampling\n",
    "\n",
    "Now that we've got a language model trained, we can sample from it to generate _new_ names. Follow the general procedure outlined in Goldberg 9.5: \n",
    "\n",
    "1. Build an initial history consisting of the `vocab.BOS_SYM` symbol\n",
    "2. Using this history, query the language model, and predict a distribution over next characters\n",
    "3. Sample a character from that distribution\n",
    "4. Concatenate the selected character to make a _new_ history\n",
    "5. Repeat from step 2 until the selected character is `vocab.EOS_SYM` or we hit a maximum length (200 characters, in this assignment).\n",
    "\n",
    "Once you've implemented sampling, you can generate hilarious and adorable new names!\n",
    "\n",
    "* **Deliverable 3.3:** Implement the `sample()` function in `hw3_utils.lm`\n",
    "* **Test:** `nosetests tests/test_lm.py:test_d3_3_sample`\n",
    "\n",
    "_Hint_: The `torch.multinomial()` function samples from a multinomial distribution stored in a `Tensor`, but _it requires real-space probabilities_, not log-space. `Tensor`s have a `.exp()` method that you may need to use."
   ]
  },
  {
   "cell_type": "code",
   "execution_count": null,
   "metadata": {
    "scrolled": true
   },
   "outputs": [],
   "source": [
    "for i in range(10):\n",
    "    print(lm.sample(model, c2i, i2c))"
   ]
  },
  {
   "cell_type": "markdown",
   "metadata": {},
   "source": [
    "### Improving your model\n",
    "\n",
    "These generated names should look more like names of towns than random sequences, but they are a little bit rough compared to the names in the data file. Try modifying your training process to go for additional epochs, and see how that changes your sampled sentences. Also, experiment with different model parameters. What happens if you _decrease_ number of hidden dimensions? What about _increasing_ the dimensionality? How about adding more layers to the LSTM?\n",
    "\n",
    "One useful thing to try: now that the `sample()` function is written, you might try adding some reporting code to your `train()` function: at regular intervals during training (e.g. every 1000 training examples), you could have it print out a few random towns generated from the model at its current state. This way, you can watch the model evolve over time. How many examples does it need to see before it learns that names always start with upper-case letters?\n",
    "\n",
    "* **Deliverable 3.4:** Write up a short summary of your observations and investigations into model behavior, including examples, and put it in a text file called `deliverable_3.4.txt`."
   ]
  },
  {
   "cell_type": "code",
   "execution_count": null,
   "metadata": {},
   "outputs": [],
   "source": [
    "s = torch.tensor([[c2i[vocab.BOS_SYM]]])\n",
    "#print(s)\n",
    "\n",
    "v = vocab.sentence_to_tensor('Jy H', c2i)\n",
    "#print(v)\n",
    "\n",
    "y,st = model(v,model.init_hidden())\n",
    "print(y[0,-1].sum())\n",
    "g,m=y[0,-1].max(0)\n",
    "print(g,m)\n",
    "\n",
    "i2c[int(m)]\n"
   ]
  },
  {
   "cell_type": "code",
   "execution_count": null,
   "metadata": {},
   "outputs": [],
   "source": [
    "reload(lm)\n",
    "lm.sample(model, c2i, i2c)"
   ]
  },
  {
   "cell_type": "code",
   "execution_count": null,
   "metadata": {},
   "outputs": [],
   "source": [
    "len(vocab.sentence_to_tensor('hello',c2i)"
   ]
  },
  {
   "cell_type": "code",
   "execution_count": null,
   "metadata": {},
   "outputs": [],
   "source": []
  },
  {
   "cell_type": "code",
   "execution_count": null,
   "metadata": {},
   "outputs": [],
   "source": []
  }
 ],
 "metadata": {
  "kernelspec": {
   "display_name": "Python 3",
   "language": "python",
   "name": "python3"
  },
  "language_info": {
   "codemirror_mode": {
    "name": "ipython",
    "version": 3
   },
   "file_extension": ".py",
   "mimetype": "text/x-python",
   "name": "python",
   "nbconvert_exporter": "python",
   "pygments_lexer": "ipython3",
   "version": "3.6.5"
  }
 },
 "nbformat": 4,
 "nbformat_minor": 2
}
