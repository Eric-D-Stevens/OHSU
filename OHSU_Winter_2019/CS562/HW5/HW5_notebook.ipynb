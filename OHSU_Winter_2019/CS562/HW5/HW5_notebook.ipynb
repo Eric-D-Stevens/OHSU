{
 "cells": [
  {
   "cell_type": "markdown",
   "metadata": {},
   "source": [
    "# CS 562 Homework 5: Tree Transformations\n",
    "### Eric D. Stevens\n",
    "### February 19, 2019\n",
    "\n"
   ]
  },
  {
   "cell_type": "code",
   "execution_count": 1,
   "metadata": {},
   "outputs": [],
   "source": [
    "from tree import Tree\n",
    "import tree\n",
    "from importlib import reload\n",
    "from random import randint\n",
    "import re"
   ]
  },
  {
   "cell_type": "markdown",
   "metadata": {},
   "source": [
    "\n",
    "## 1. Collapse unary productions\n",
    "\n",
    "### 1.1 Program"
   ]
  },
  {
   "cell_type": "code",
   "execution_count": 2,
   "metadata": {},
   "outputs": [
    {
     "ename": "NameError",
     "evalue": "name 'CU_JOIN_CHAR' is not defined",
     "output_type": "error",
     "traceback": [
      "\u001b[0;31m---------------------------------------------------------------------------\u001b[0m",
      "\u001b[0;31mNameError\u001b[0m                                 Traceback (most recent call last)",
      "\u001b[0;32m<ipython-input-2-5503004e7132>\u001b[0m in \u001b[0;36m<module>\u001b[0;34m()\u001b[0m\n\u001b[1;32m      5\u001b[0m \u001b[0;34m\u001b[0m\u001b[0m\n\u001b[1;32m      6\u001b[0m \u001b[0;34m\u001b[0m\u001b[0m\n\u001b[0;32m----> 7\u001b[0;31m \u001b[0;32mdef\u001b[0m \u001b[0mcollapse_unary\u001b[0m\u001b[0;34m(\u001b[0m\u001b[0mself\u001b[0m\u001b[0;34m,\u001b[0m \u001b[0mjoin_char\u001b[0m\u001b[0;34m=\u001b[0m\u001b[0mCU_JOIN_CHAR\u001b[0m\u001b[0;34m)\u001b[0m\u001b[0;34m:\u001b[0m\u001b[0;34m\u001b[0m\u001b[0m\n\u001b[0m\u001b[1;32m      8\u001b[0m \u001b[0;34m\u001b[0m\u001b[0m\n\u001b[1;32m      9\u001b[0m     \u001b[0;31m# For each head immediately below the root:\u001b[0m\u001b[0;34m\u001b[0m\u001b[0;34m\u001b[0m\u001b[0m\n",
      "\u001b[0;31mNameError\u001b[0m: name 'CU_JOIN_CHAR' is not defined"
     ]
    }
   ],
   "source": [
    "''' This code should not be run in the notebook. The code\n",
    "here is just a compiled version of my work, seperated form \n",
    "the rest of the code for easy viewing. See how the code is\n",
    "utilized in the following section.'''\n",
    "\n",
    "\n",
    "def collapse_unary(self, join_char=CU_JOIN_CHAR):\n",
    "\n",
    "    # For each head immediately below the root:\n",
    "    for daughter in self.daughters:\n",
    "\n",
    "        # If head is terminal, continue\n",
    "        if Tree.terminal(daughter):\n",
    "            continue\n",
    "\n",
    "        # Recursively apply the function\n",
    "        daughter.collapse_unary()\n",
    "\n",
    "        # If head is non-unary, continue\n",
    "        if not Tree.unary(daughter):\n",
    "            continue\n",
    "\n",
    "        # If head's only daughter is terminal, continue\n",
    "        if Tree.terminal(daughter[0]):\n",
    "            continue\n",
    "\n",
    "        # If head's only granddaughter is unary and terminal, continue\n",
    "        if Tree.terminal(daughter[0][0]):\n",
    "            continue\n",
    "\n",
    "        # Merge the only daughter's label and promote its daughters\n",
    "        daughter.label = daughter.label+'+'+daughter[0].label\n",
    "        daughter.daughters = daughter.daughters.pop()\n",
    "\n",
    "    return self"
   ]
  },
  {
   "cell_type": "markdown",
   "metadata": {},
   "source": [
    "### 1.2 Sample Outputs"
   ]
  },
  {
   "cell_type": "code",
   "execution_count": null,
   "metadata": {
    "scrolled": true
   },
   "outputs": [],
   "source": [
    "'''This simple script will randomly select an entry from the \n",
    "    wsj-normalized.psd corpus three times and output the results \n",
    "    of running the intended script on the entry'''\n",
    "\n",
    "with open('wsj-normalized.psd') as stream:\n",
    "    wsj = Tree.from_stream(stream)\n",
    "    for i in range(3):\n",
    "        for _ in range(randint(1,1000)):\n",
    "            sample = next(wsj)\n",
    "        stars = '*'*20\n",
    "        print('%s EXAMPLE %d: %s \\n\\nInitial Read: %s' % (stars, (i+1), stars, stars))\n",
    "        print(sample)\n",
    "        print('\\n\\nUnary Collapse:  %s' % stars)\n",
    "        sample.collapse_unary()\n",
    "        print(sample)\n",
    "        print('\\n\\n')"
   ]
  },
  {
   "cell_type": "markdown",
   "metadata": {},
   "source": [
    "### 1.3 Summary\n",
    "\n",
    "To implement the unary collapse function I simply followed the procedure laid out in the document itself. I am very surprised and the elegance and effectiveness of the recursive solution. This function uses a depth first search to look for places where it can collapse the tree. Since we are altering the object itself on the fly, there is really no need to return anything for this function other than for easy output. The accesses methods added to the class make working with the objects very easy in terms of getting elements and iterating through elements."
   ]
  },
  {
   "cell_type": "markdown",
   "metadata": {},
   "source": [
    "## 2. Chomsky normal form\n",
    "\n",
    "### 2.1 Program"
   ]
  },
  {
   "cell_type": "code",
   "execution_count": null,
   "metadata": {},
   "outputs": [],
   "source": [
    "''' This code should not be run in the notebook. The code\n",
    "here is just a compiled version of my work, seperated form \n",
    "the rest of the code for easy viewing. See how the code is\n",
    "utilized in the following section.'''\n",
    "\n",
    "def chomsky_normal_form(self, markovize_char=MARKOVIZE_CHAR,\n",
    "                        join_char=CNF_JOIN_CHAR,\n",
    "                        left_delimiter=CNF_LEFT_DELIMITER,\n",
    "                        right_delimiter=CNF_RIGHT_DELIMITER):\n",
    "\n",
    "    # if head is terminal, return\n",
    "    if Tree.terminal(self):\n",
    "        return self\n",
    "\n",
    "    # if there are two or less daughters and the daughters are not\n",
    "    # terminal then recursivly call the function on each daughter.\n",
    "    if len(self) <= 2:\n",
    "        for daughter in self.daughters:\n",
    "            if not Tree.terminal(daughter):\n",
    "                Tree.chomsky_normal_form(daughter)\n",
    "\n",
    "    # if there are more than two daughters, perform node insertion to put\n",
    "    # tree in chomsky normal form.\n",
    "    elif len(self) > 2:\n",
    "\n",
    "        # get the last two daughters\n",
    "        last_daughters = self.daughters[-2:]\n",
    "\n",
    "\n",
    "        # create a new lable that is a combination of the lables of the\n",
    "        # last two daughters of the head.\n",
    "        ''' hacky regex method to remove extra characters'''\n",
    "        right_label = findall(r\"\\|\\<(.*?)\\&\", last_daughters[1].label)\n",
    "        if right_label:\n",
    "            new_label = '%s|<%s&%s>' % (self.label, last_daughters[0].label, right_label[0])\n",
    "        else:\n",
    "            new_label = '%s|<%s&%s>' % (self.label, last_daughters[0].label, last_daughters[1].label)\n",
    "\n",
    "        # create tree whos head is the new label and whos daughters are the\n",
    "        # last daughters of the head we are currently working on.\n",
    "        node = Tree(new_label, last_daughters)\n",
    "\n",
    "        # slice off last two daughters from current head and add newly\n",
    "        # created tree as last daughter.\n",
    "        self.daughters = self.daughters[:-2]\n",
    "        self.append(node)\n",
    "\n",
    "        # pass the current head back into the function incause there were\n",
    "        # more than three daughters at the start time of operation.\n",
    "        Tree.chomsky_normal_form(self)\n",
    "\n",
    "    return(self)\n",
    "\n"
   ]
  },
  {
   "cell_type": "markdown",
   "metadata": {},
   "source": [
    "## 2.2 Sample Outputs"
   ]
  },
  {
   "cell_type": "code",
   "execution_count": null,
   "metadata": {},
   "outputs": [],
   "source": [
    "'''This simple script will randomly select an entry from the \n",
    "    wsj-normalized.psd corpus three times and output the results \n",
    "    of running the intended script on the entry'''\n",
    "\n",
    "with open('wsj-normalized.psd') as stream:\n",
    "    wsj = Tree.from_stream(stream)\n",
    "    for i in range(3):\n",
    "        for _ in range(randint(1,1000)):\n",
    "            sample = next(wsj)\n",
    "        \n",
    "        stars = '*'*20\n",
    "        print('%s EXAMPLE %d: %s \\n\\nInitial Read: %s' % (stars, (i+1), stars, stars))\n",
    "        print(sample)\n",
    "        print('\\n\\nChomsky Normal Form:  %s' % stars)\n",
    "        sample.collapse_unary().chomsky_normal_form()\n",
    "        print(sample)\n",
    "        print('\\n\\n')"
   ]
  },
  {
   "cell_type": "markdown",
   "metadata": {},
   "source": [
    "### 2.3 Summary\n",
    "\n",
    "I struggled a bit with this section, mostly on what I assume to be a trivial matter but I am curious if that assumption is correct. First, about my implementation: this is again a depth first recursive method that takes action on replacing nodes with more than two children as shallow as possible. The issue I was having was that when I would look at the labels of nodes that were parents of many levels of lower nodes, the label would contain all the information of the make up of the lower tree. Since this was not the desired label value I used regular expressions to parse out the important information from the label, but I realize that this is not an elegant solution and that there is some way I could alter my recursion to allow me to avoid this. The code is heavily commented and the process can be seen there."
   ]
  },
  {
   "cell_type": "markdown",
   "metadata": {},
   "source": [
    "## 3. Generate productions\n",
    "\n",
    "### 3.1 Program"
   ]
  },
  {
   "cell_type": "code",
   "execution_count": null,
   "metadata": {},
   "outputs": [],
   "source": [
    "def productions(self):\n",
    "\n",
    "    # prods will be a list of tuples, each of which will be a single\n",
    "    # production.\n",
    "    prods = []\n",
    "\n",
    "    # if the current head is not terminal check if daughters are temninal.\n",
    "    if not Tree.terminal(self):\n",
    "\n",
    "        # if daughter is terminal, add head lable with the terminal string\n",
    "        # to prods.\n",
    "        if Tree.terminal(self.daughters[0]):\n",
    "            prods.append((self.label, [self.daughters[0]]))\n",
    "\n",
    "        # if daughter is not terminal, add head lable and a list of\n",
    "        # daughter lables to prods.\n",
    "        else:\n",
    "            prods.append((self.label, [daughter.label for daughter in self.daughters]))\n",
    "\n",
    "    # Now, for each daughter of the current head, if the daughter is not\n",
    "    # terminal, recursivly call the function and add its return value to\n",
    "    # prods.\n",
    "    for daughter in self.daughters:\n",
    "        if not Tree.terminal(daughter):\n",
    "            prods += Tree.productions(daughter)\n",
    "\n",
    "    # returning of prods allows for the recursiv adding to higher order\n",
    "    # prods, as well as returning the final prods list to the caller.\n",
    "    return prods\n",
    "\n"
   ]
  },
  {
   "cell_type": "markdown",
   "metadata": {},
   "source": [
    "### 3.2 Sample Outputs"
   ]
  },
  {
   "cell_type": "code",
   "execution_count": null,
   "metadata": {
    "scrolled": false
   },
   "outputs": [],
   "source": [
    "'''This simple script will randomly select an entry from the \n",
    "    wsj-normalized.psd corpus three times and output the results \n",
    "    of running the intended script on the entry'''\n",
    "\n",
    "with open('wsj-normalized.psd') as stream:\n",
    "    wsj = Tree.from_stream(stream)\n",
    "    for i in range(3):\n",
    "        for _ in range(randint(1,1000)):\n",
    "            sample = next(wsj)\n",
    "        \n",
    "        stars = '*'*20\n",
    "        print('%s EXAMPLE %d: %s \\n\\nInitial Read: %s' % (stars, (i+1), stars, stars))\n",
    "        print(sample)\n",
    "        print('\\n\\nProductions:  %s' % stars)\n",
    "        sample.collapse_unary().chomsky_normal_form()\n",
    "        for prods in sample.productions():\n",
    "            mother = prods[0]\n",
    "            daughters = prods[1]\n",
    "            print('{: <20} -> {}'.format(mother, ' '.join(daughters)))\n",
    "        print('\\n\\n')"
   ]
  },
  {
   "cell_type": "markdown",
   "metadata": {},
   "source": [
    "### 3.3 Summary\n",
    "\n",
    "This was the simplest part of the assignment. Again this was a depth first recursive solution where at each step down the branch, the node labels are added to the production chain. By implementing the chain as a list we can simply append single new production additions or entire list of productions. The ability to append an entire production list to another is what makes the recursive solution work. By returning a production list from a lower node and appending it onto a higher nodes production list, we can recursively build a list for the entire tree."
   ]
  },
  {
   "cell_type": "markdown",
   "metadata": {},
   "source": [
    "## Extra Credit `from_stream_modified()`\n",
    "\n",
    "### EC.1 Program"
   ]
  },
  {
   "cell_type": "code",
   "execution_count": null,
   "metadata": {},
   "outputs": [],
   "source": [
    "''' This code should not be run in the notebook. The code\n",
    "here is just a compiled version of my work, seperated form \n",
    "the rest of the code for easy viewing. See how the code is\n",
    "utilized in the following section.'''\n",
    "\n",
    "@classmethod\n",
    "def from_stream_modified(cls, handle):\n",
    "\n",
    "    # initalize an empty stack\n",
    "    stack = [(None, [])]\n",
    "\n",
    "    # loop through readline operations\n",
    "    while(1):\n",
    "\n",
    "        # string will be a single line form the .psd formatted file\n",
    "        string = handle.readline()\n",
    "        if string == '':\n",
    "            print('reached end of file')\n",
    "            break # exit if end of file is reached\n",
    "\n",
    "        # for token matches in each new line\n",
    "        for m in finditer(TOKEN, string):\n",
    "            token = m.group()\n",
    "            if m.group(1):  # left delimiter\n",
    "                stack.append((m.group(2), []))\n",
    "            elif m.group(3):  # right delimiter\n",
    "                # if stack is \"empty\", there is nothing in need of closure\n",
    "                if len(stack) == 1:\n",
    "                    raise ValueError('Need /{}/'.format(LDELE))\n",
    "                (mother, children) = stack.pop()\n",
    "                stack[-1][1].append(cls(mother, children))\n",
    "            elif m.group(4):  # leaf\n",
    "                stack[-1][1].append(m.group(4))\n",
    "            else:\n",
    "                raise ValueError('Parsing failure: {}'.format(m.groups()))\n",
    "\n",
    "        # if a matching closing deliminator has not been found, continue\n",
    "        # reading lines until one is found.\n",
    "        if len(stack) > 1:\n",
    "            continue\n",
    "\n",
    "        elif len(stack[0][1]) == 0:\n",
    "            raise ValueError('End-of-string, need /{}/'.format(LDELE))\n",
    "        elif len(stack[0][1]) > 1:\n",
    "            raise ValueError('String contains {} trees'.format(\n",
    "                len(stack[0][1])))\n",
    "\n",
    "        # since a closing deliminator has been found, yeild the stack and\n",
    "        # then clear it for the next round of line reads. \n",
    "        yield stack[0][1][0]\n",
    "\n"
   ]
  },
  {
   "cell_type": "markdown",
   "metadata": {},
   "source": [
    "### EC.2 Sample Outputs"
   ]
  },
  {
   "cell_type": "code",
   "execution_count": null,
   "metadata": {
    "scrolled": false
   },
   "outputs": [],
   "source": [
    "'''This simple script will randomly select an entry from the \n",
    "    wsj-normalized.psd corpus three times and output the results \n",
    "    of running the intended script on the entry'''\n",
    "\n",
    "with open('wsj-normalized.psd') as stream:\n",
    "    ###### CALL TO MODIFIED 'FROM STREAM' METHOD ######\n",
    "    wsj = Tree.from_stream_modified(stream)\n",
    "    for i in range(3):\n",
    "        for _ in range(randint(1,1000)):\n",
    "            sample = next(wsj)\n",
    "        \n",
    "        stars = '*'*20\n",
    "        print('%s Outputs %d: %s \\n\\nInitial Read: %s' % (stars, (i+1), stars, stars))\n",
    "        print(sample)"
   ]
  },
  {
   "cell_type": "markdown",
   "metadata": {},
   "source": [
    "### EC.3 Summary\n",
    "\n",
    "To enable the the `from stream` method to be used witht he `from_string` style stack data structure while still allowing it to `yield` from a generator object, a few modifications had to be made to the `from string` code. The stack is initialized as usual, but now, right after the stack initialization, a `while(1)` loop is entered to allow for the continual reading from the file. Each iteration of this loop calls `stream.readline()`, giving us a single head, terminal node, or right delimiter. The string resulting from the readline then cascades down through the same stack location assignment as in the `from_string()`. This time however, where before there was a check if a right delimiter was missing and an exception raised if it was, this time we continue to read another line instead. This allows the file to be processed line by line. Once there is a matching closing delimiter, the stack is yeilded in the same way it was in `from_string()` and then the stack is cleared to prepare for a `next()` call.\n",
    "\n",
    "This method works well but a few concessions had to be made. First of all, the file has to be in the new line seperated fromat that our `.psd` file is in. Second, the call to `continue` in an iteration where a closing delimiter was not found, and its replacing of where there used to be an exception raised, puts us in some danger. This file runs the risk of being fed data files that were not properly formatted and behaving strangly without an exception being raised. What this would look like would be an input file that has a removed closing delimiter, resulting in the entire file after that mising delimiter being read in as a single tree."
   ]
  },
  {
   "cell_type": "markdown",
   "metadata": {},
   "source": [
    "------------------------------------------\n",
    "------------------------------------------\n",
    "------------------------------------------\n",
    "------------------------------------------\n",
    "------------------------------------------\n",
    "------------------------------------------\n",
    "------------------------------------------\n",
    "\n",
    "\n",
    "\n",
    "\n",
    "\n",
    "\n",
    "\n",
    "## Scratch Paper"
   ]
  },
  {
   "cell_type": "code",
   "execution_count": null,
   "metadata": {},
   "outputs": [],
   "source": [
    "s = '(TOP (S (VP (TO to) (VP (VB play)))))'\n",
    "t = Tree.from_string(s)\n",
    "print(t)"
   ]
  },
  {
   "cell_type": "code",
   "execution_count": null,
   "metadata": {},
   "outputs": [],
   "source": [
    "p = t[0].pop()"
   ]
  },
  {
   "cell_type": "code",
   "execution_count": null,
   "metadata": {},
   "outputs": [],
   "source": [
    "p.label = t[0].label+'+'+p.label\n",
    "print(p)\n",
    "\n",
    "t[0]=p\n",
    "print(t)"
   ]
  },
  {
   "cell_type": "code",
   "execution_count": null,
   "metadata": {},
   "outputs": [],
   "source": [
    "Tree.unary(t[0][0])"
   ]
  },
  {
   "cell_type": "code",
   "execution_count": null,
   "metadata": {},
   "outputs": [],
   "source": [
    "def unary_col(tree_in):\n",
    "\n",
    "    # For each head immediately below the root:\n",
    "    for daughter in tree_in.daughters:\n",
    "        \n",
    "        # If head is terminal, continue\n",
    "        if Tree.terminal(daughter):\n",
    "            continue\n",
    "            \n",
    "        # Recursively apply the function\n",
    "        unary_col(daughter)\n",
    "\n",
    "        # If head is non-unary, continue\n",
    "        if not Tree.unary(daughter):\n",
    "            continue\n",
    "\n",
    "        # If head's only daughter is terminal, continue\n",
    "        if Tree.terminal(daughter[0]):\n",
    "            continue\n",
    "\n",
    "        # If head's only granddaughter is unary and terminal, continue\n",
    "        if Tree.terminal(daughter[0][0]):\n",
    "            print('******',daughter[0][0])\n",
    "            continue\n",
    "\n",
    "        # Merge the only daughter's label and promote its daughters\n",
    "        daughter.label = daughter.label+'+'+daughter[0].label\n",
    "        daughter.daughters = daughter.daughters.pop()\n",
    "        print('----->>',tree_in.label, daughter.label)\n",
    "        \n",
    "\n"
   ]
  },
  {
   "cell_type": "code",
   "execution_count": null,
   "metadata": {},
   "outputs": [],
   "source": [
    "t = Tree.from_string(s)\n",
    "print(t)\n",
    "unary_col(t)\n",
    "print(t)"
   ]
  },
  {
   "cell_type": "code",
   "execution_count": null,
   "metadata": {},
   "outputs": [],
   "source": [
    "st = '''(TOP (S (S (VP (VBN Turned) (ADVP (RB loose)) (PP \n",
    "        (IN in) (NP (NP (NNP Shane) (NNP Longman) (POS 's)) \n",
    "        (NN trading) (NN room))))) (, ,) (NP (DT the) \n",
    "        (NN yuppie) (NNS dealers)) (VP (AUX do) (NP (NP \n",
    "        (RB little)) (ADJP (RB right)))) (. .)))'''"
   ]
  },
  {
   "cell_type": "code",
   "execution_count": null,
   "metadata": {},
   "outputs": [],
   "source": [
    "st"
   ]
  },
  {
   "cell_type": "code",
   "execution_count": null,
   "metadata": {},
   "outputs": [],
   "source": [
    "cnf = Tree.from_string(st)\n",
    "cnf.collapse_unary()\n",
    "print(cnf)"
   ]
  },
  {
   "cell_type": "code",
   "execution_count": null,
   "metadata": {},
   "outputs": [],
   "source": [
    "cnf = Tree.from_string(st)\n",
    "cnf.collapse_unary().chomsky_normal_form()\n",
    "#print(cnf)\n",
    "#cnffunc_change(cnf)\n",
    "#cnffunc(cnf)"
   ]
  },
  {
   "cell_type": "code",
   "execution_count": null,
   "metadata": {},
   "outputs": [],
   "source": [
    "def cnffunc(in_tree):\n",
    "    \n",
    "    if Tree.terminal(in_tree):\n",
    "        return in_tree\n",
    "    \n",
    "    if len(in_tree) < 3:\n",
    "        for daughter in in_tree.daughters:\n",
    "            cnffunc(daughter)\n",
    "\n",
    "\n",
    "    elif len(in_tree) > 2:\n",
    "        last_daughters = in_tree.daughters[-2:]\n",
    "        \n",
    "        # hacky regex method to remove extra characters\n",
    "        right_label = re.findall(r\"\\|\\<(.*?)\\&\",last_daughters[1].label)\n",
    "        if right_label:\n",
    "            new_label = '%s|<%s&%s>' % (in_tree.label, last_daughters[0].label, right_label[0])\n",
    "        else:\n",
    "            new_label = '%s|<%s&%s>' % (in_tree.label, last_daughters[0].label, last_daughters[1].label)\n",
    "            \n",
    "        node = Tree(new_label, last_daughters)\n",
    "        in_tree.daughters = in_tree.daughters[:-2]\n",
    "        in_tree.append(node)\n",
    "        cnffunc(in_tree)\n",
    "            \n",
    "    return(in_tree)\n",
    "    \n",
    "        "
   ]
  },
  {
   "cell_type": "code",
   "execution_count": null,
   "metadata": {},
   "outputs": [],
   "source": [
    "import re\n",
    "\n",
    "ins = 'S|<NP&S|<VP&.>>'\n",
    "\n",
    "re.findall(r\"\\|\\<(.*?)\\&\",'fail')\n"
   ]
  },
  {
   "cell_type": "code",
   "execution_count": null,
   "metadata": {},
   "outputs": [],
   "source": [
    "print(match.group(1))"
   ]
  },
  {
   "cell_type": "code",
   "execution_count": null,
   "metadata": {},
   "outputs": [],
   "source": [
    "bool(['hello'])"
   ]
  },
  {
   "cell_type": "code",
   "execution_count": null,
   "metadata": {},
   "outputs": [],
   "source": [
    "def prod(in_tree):\n",
    "    prods = []\n",
    "    if not Tree.terminal(in_tree):\n",
    "        if Tree.terminal(in_tree.daughters[0]):\n",
    "            prods.append((in_tree.label, [in_tree.daughters[0]]))\n",
    "        else:\n",
    "            prods.append((in_tree.label, [daughter.label for daughter in in_tree.daughters]))\n",
    "    for daughter in in_tree.daughters:\n",
    "        if not Tree.terminal(daughter):\n",
    "            prods += prod(daughter)\n",
    "    return prods"
   ]
  },
  {
   "cell_type": "code",
   "execution_count": null,
   "metadata": {},
   "outputs": [],
   "source": [
    "prod(cnf)"
   ]
  },
  {
   "cell_type": "code",
   "execution_count": null,
   "metadata": {},
   "outputs": [],
   "source": [
    "Tree.terminal(cnf[0][0][0][0])\n",
    "type(cnf[0][0][0][0])\n"
   ]
  },
  {
   "cell_type": "code",
   "execution_count": null,
   "metadata": {},
   "outputs": [],
   "source": [
    "tree.DELIMITERS\n"
   ]
  },
  {
   "cell_type": "code",
   "execution_count": null,
   "metadata": {},
   "outputs": [],
   "source": [
    "ec = '''(TOP (S (S (VP (VBN Turned) (ADVP (RB loose)) (PP \n",
    "        (IN in) (NP (NP (NNP Shane) (NNP Longman) (POS 's)) \n",
    "        (NN trading) (NN room))))) (, ,) (NP (DT the) \n",
    "        (NN yuppie) (NNS dealers)) (VP (AUX do) (NP (NP \n",
    "        (RB little)) (ADJP (RB right)))) (. .)))'''"
   ]
  },
  {
   "cell_type": "code",
   "execution_count": null,
   "metadata": {},
   "outputs": [],
   "source": [
    "print(ec)"
   ]
  },
  {
   "cell_type": "code",
   "execution_count": null,
   "metadata": {},
   "outputs": [],
   "source": [
    "for m in re.finditer(tree.TOKEN, ec):\n",
    "    print(m.group(1))"
   ]
  },
  {
   "cell_type": "code",
   "execution_count": null,
   "metadata": {},
   "outputs": [],
   "source": [
    "from tree import Tree\n",
    "stream = open('wsj-normalized.psd')\n",
    "mmm = Tree.from_stream_modified(stream)"
   ]
  },
  {
   "cell_type": "code",
   "execution_count": null,
   "metadata": {},
   "outputs": [],
   "source": [
    "next(mmm)"
   ]
  },
  {
   "cell_type": "code",
   "execution_count": null,
   "metadata": {},
   "outputs": [],
   "source": [
    "Tree.from_string(ec)"
   ]
  },
  {
   "cell_type": "code",
   "execution_count": null,
   "metadata": {},
   "outputs": [],
   "source": []
  }
 ],
 "metadata": {
  "kernelspec": {
   "display_name": "Python 3",
   "language": "python",
   "name": "python3"
  },
  "language_info": {
   "codemirror_mode": {
    "name": "ipython",
    "version": 3
   },
   "file_extension": ".py",
   "mimetype": "text/x-python",
   "name": "python",
   "nbconvert_exporter": "python",
   "pygments_lexer": "ipython3",
   "version": "3.6.5"
  }
 },
 "nbformat": 4,
 "nbformat_minor": 2
}
