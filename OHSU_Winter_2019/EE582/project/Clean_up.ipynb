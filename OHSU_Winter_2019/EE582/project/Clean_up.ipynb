{
 "cells": [
  {
   "cell_type": "code",
   "execution_count": 2,
   "metadata": {},
   "outputs": [],
   "source": [
    "#%matplotlib notebook\n",
    "import numpy as np\n",
    "from scipy.signal import decimate\n",
    "from scipy.io import wavfile\n",
    "import matplotlib\n",
    "import matplotlib.pyplot as plt\n",
    "import sounddevice as sd\n",
    "from scipy.interpolate import interp1d\n",
    "from scipy.signal import resample"
   ]
  },
  {
   "cell_type": "code",
   "execution_count": 998,
   "metadata": {},
   "outputs": [],
   "source": [
    "# working version detection\n",
    "\n",
    "class AutoTune():\n",
    "    \n",
    "    def __init__(self, wav, sensitivity=.02):\n",
    "        \n",
    "        \n",
    "        assert len(wav) > 8*220\n",
    "        \n",
    "        # original audio\n",
    "        self.wav = np.array(wav)\n",
    "        \n",
    "        # 1/8 decimation\n",
    "        self.down_wav = decimate(self.wav, q=8)\n",
    "        print(self.down_wav.shape)\n",
    "        # declare tables\n",
    "        self.Ei_Table = np.zeros((len(self.down_wav), 111), dtype=float)\n",
    "        self.Hi_Table = np.zeros((len(self.down_wav), 111), dtype=float)\n",
    "        self.subTable = np.zeros((len(self.down_wav), 111), dtype=float)\n",
    "        self.truTable = np.zeros((len(self.down_wav), 111), dtype=float)\n",
    "        self.real_freq = np.zeros(len(self.wav), dtype=float)\n",
    "        \n",
    "        self.idxTable = []\n",
    "        \n",
    "        # first value of e table\n",
    "        for L in range(2,111):\n",
    "            self.Ei_Table[220,L] = sum(np.square(self.down_wav[221-2*L:221]))\n",
    "            self.Hi_Table[220,L] = sum(np.multiply(self.down_wav[221-2*L:221-L], self.down_wav[221-L:221]))\n",
    "\n",
    "        # loop to initialize tables\n",
    "        for i in range(221, len(self.down_wav)):\n",
    "            indx = []\n",
    "            \n",
    "            for L in range(2,111):\n",
    "                self.Ei_Table[i, L] = self.Ei_Table[i-1, L] + self.down_wav[i]**2 - self.down_wav[i-2*L]**2\n",
    "                self.Hi_Table[i, L] = self.Hi_Table[i-1, L] + self.down_wav[i]*self.down_wav[i-L] - self.down_wav[i-L]*self.down_wav[i-2*L]\n",
    "                self.subTable[i, L] = self.Ei_Table[i, L] - 2*self.Hi_Table[i, L]\n",
    "                \n",
    "\n",
    "                #self.truTable[i, L] = self.subTable[i, L]<0.03*A.Ei_Table[i, L]\n",
    "                if self.subTable[i, L] < sensitivity*self.Ei_Table[i, L] and L > 10 and L < 70:\n",
    "                    value, freq = self.get_real_freq(i, L)\n",
    "                    self.real_freq[i*8:(i+1)*8] = freq\n",
    "                    if not i % 1000:\n",
    "                        print('i:',i*8,'bigL:',8*L,'freq:',freq)\n",
    "                    break\n",
    "                    \n",
    "                if L == 110:\n",
    "                    self.real_freq[i*8:(i+1)*8] = self.real_freq[i*8-1]\n",
    "                    \n",
    "            \n",
    "            # append successes to index list\n",
    "            #self.idxTable.append(indx)\n",
    "            \n",
    "            \n",
    "           \n",
    "    def get_real_freq(self, down_indx, down_f_est):\n",
    "        \n",
    "        # convert to real signal indecies\n",
    "        real_indx = 8*down_indx\n",
    "        real_f_est = 8*down_f_est\n",
    "\n",
    "        # create Ls index to calculate E and H for\n",
    "        real_line = np.linspace(real_f_est-9,real_f_est+9,19, dtype=int)\n",
    "        real_mins = np.zeros(len(real_line), dtype=float)\n",
    "\n",
    "        for L in real_line:\n",
    "            a = np.array(self.wav[real_indx-2*L+1:real_indx-L+1], dtype=np.float64)\n",
    "            b = np.array(self.wav[real_indx-L+1:real_indx+1], dtype=np.float64)\n",
    "            E = np.sum(np.square(a)) + np.sum(np.square(b))\n",
    "            H = sum(a*b)\n",
    "            \n",
    "            val = (E-2*H)/E\n",
    "            real_mins[L-real_line[0]] = val\n",
    "        \n",
    "        interpolation_line = np.linspace(real_line[0],real_line[-1],100, endpoint=True)\n",
    "        int_obj = interp1d(real_line, real_mins, kind='cubic')\n",
    "        interpolated = int_obj(interpolation_line)\n",
    "        final_lag = interpolation_line[np.argmin(interpolated)]\n",
    "        value = np.min(interpolated)\n",
    "\n",
    "        return(value, (1/(final_lag/44100)))\n",
    "\n",
    "\n",
    "    def build_output(self, mod_type='linear', **kwargs):\n",
    "        \n",
    "\n",
    "        # declare array to hold output signal (member)\n",
    "        self.output = np.zeros_like(self.wav)\n",
    "        \n",
    "        # call output frequency builders\n",
    "        if mod_type=='identity': self.desired = self.real_freq\n",
    "        elif mod_type=='linear': self.desired = self.__linear__(**kwargs)\n",
    "        elif mod_type=='vibrato': self.desired = self.__vibrato__(**kwargs)\n",
    "        elif mod_type=='vibrato build': self.desired = self.__vibrato__build__(**kwargs)\n",
    "        elif mod_type=='vibratoflat': self.desired = self.__vibrato_flat__(**kwargs)\n",
    "        elif mod_type=='constant': self.desired = self.__constant__(**kwargs)\n",
    "        elif mod_type=='note': self.desired = self.__note__()\n",
    "        \n",
    "        elif mod_type=='custom': self.desired = self.__custom__(**kwargs)\n",
    "        else: raise Exception('No \\''+str(mod_type)+'\\' modulation type.')\n",
    "            \n",
    "        i_pnt = 21000\n",
    "        o_pnt = 21000\n",
    "\n",
    "        while i_pnt < (len(self.desired)-500) and o_pnt < (len(self.desired)-500):\n",
    "\n",
    "            cur_freq = self.real_freq[i_pnt]\n",
    "            des_freq = self.desired[o_pnt]\n",
    "\n",
    "            if cur_freq < 70 or cur_freq > 5000:\n",
    "                self.output[o_pnt:o_pnt+100] = self.wav[i_pnt:i_pnt+100]\n",
    "                i_pnt += 100\n",
    "                o_pnt += 100\n",
    "                continue\n",
    "\n",
    "            i_sz = int(np.rint(44100/cur_freq))\n",
    "            o_sz = int(np.rint(i_sz*(cur_freq/des_freq)))\n",
    "\n",
    "            out_slice = resample(self.wav[i_pnt:i_pnt+i_sz+1], o_sz)\n",
    "            #print(len(out_slice))\n",
    "            self.output[o_pnt:o_pnt+o_sz] = out_slice\n",
    "\n",
    "            i_pnt += int(i_sz)\n",
    "            o_pnt += int(o_sz)\n",
    "\n",
    "            if abs(i_pnt - o_pnt) > o_sz:\n",
    "                if i_pnt < o_pnt:\n",
    "                    o_pnt -= o_sz\n",
    "                if i_pnt > o_pnt:\n",
    "                    self.output[o_pnt:o_pnt+o_sz] = out_slice\n",
    "                    o_pnt += o_sz\n",
    "    \n",
    "    def __linear__(self, start_freq=70, end_freq=300):\n",
    "        return np.linspace(start_freq,end_freq,len(self.output),endpoint=True)\n",
    "    \n",
    "    def __vibrato__(self, vib_freq=10, amp=8):\n",
    "        return (amp*np.sin(2*np.pi*(vib_freq)*np.arange(len(self.wav))/44100))+self.real_freq\n",
    "    \n",
    "    def __vibrato__build__(self, vib_freq=10, amp=8):\n",
    "        return (amp*np.sin(2*np.pi*(vib_freq)*np.arange(len(self.wav))/44100))\\\n",
    "            *np.linspace(0,1,len(self.output))\\\n",
    "            +self.real_freq\n",
    "    \n",
    "    def __vibrato_flat__(self, fund_freq=120, vib_freq=10, amp=8):\n",
    "        return (amp*np.sin(2*np.pi*(vib_freq)*np.arange(len(self.wav))/44100))+fund_freq\n",
    "        \n",
    "    def __constant__(self, freq=120):\n",
    "        return(np.ones_like(self.output)*freq)\n",
    "    \n",
    "    def __note__(self):\n",
    "        notes = np.array([55.00,58.2,61.74,\n",
    "            65.41,69.30,73.42,77.78,82.41,87.31,92.50,98.00,103.83,110.00,116.54,123.47,130.81,\n",
    "            138.59,146.83,155.56,164.81,174.61,185.00,196.00,207.65,220.00,233.08,246.94,261.63,\n",
    "            277.18,293.66,311.13,329.63,349.23,369.99,392.00,415.30,440.00,466.16,493.88,523.25,\n",
    "            554.37,587.33,622.25,659.25,698.46,739.99,783.99,830.61,880.00,932.33,987.77,1046.50])\n",
    "        \n",
    "        size = len(self.output)\n",
    "        desired = np.zeros_like(self.output)\n",
    "        for t in range(size):\n",
    "            dist = abs(notes-self.real_freq[t])\n",
    "            desired[t] = notes[np.argmin(dist)]\n",
    "            \n",
    "        return desired\n",
    "            \n",
    "    def __custom__(self, desired):\n",
    "        if len(desired) != len(self.output):\n",
    "            raise Exception('desired array of length ', str(len(desired)), ', expected ', str(len(self.output)))\n",
    "        return desired\n",
    "        \n",
    "        "
   ]
  },
  {
   "cell_type": "code",
   "execution_count": 1068,
   "metadata": {},
   "outputs": [
    {
     "data": {
      "text/plain": [
       "(552000,)"
      ]
     },
     "execution_count": 1068,
     "metadata": {},
     "output_type": "execute_result"
    }
   ],
   "source": [
    "# synthetic\n",
    "freq = 250\n",
    "data = (5*np.sin(np.arange(50000,dtype=float)*2*freq*np.pi/(44100.0)))+150\n",
    "\n",
    "fs, data = wavfile.read('samples/diner.wav')\n",
    "#data=data[:,0]\n",
    "#data=data[100000:200000]\n",
    "#print(data[:50])\n",
    "data.shape"
   ]
  },
  {
   "cell_type": "code",
   "execution_count": 1069,
   "metadata": {},
   "outputs": [
    {
     "name": "stdout",
     "output_type": "stream",
     "text": [
      "(69000,)\n",
      "i: 16000 bigL: 88 freq: 548.135593220339\n",
      "i: 24000 bigL: 88 freq: 467.79170684667304\n",
      "i: 32000 bigL: 128 freq: 353.8293216630197\n",
      "i: 40000 bigL: 88 freq: 496.51995905834184\n",
      "i: 48000 bigL: 88 freq: 481.7279046673287\n",
      "i: 56000 bigL: 88 freq: 458.94039735099335\n",
      "i: 64000 bigL: 88 freq: 554.4\n",
      "i: 80000 bigL: 88 freq: 494.49541284403665\n",
      "i: 112000 bigL: 136 freq: 305.2863436123348\n",
      "i: 120000 bigL: 232 freq: 188.8283378746594\n",
      "i: 128000 bigL: 232 freq: 187.0806016197455\n",
      "i: 136000 bigL: 216 freq: 205.28988573846806\n",
      "i: 144000 bigL: 224 freq: 202.04081632653063\n",
      "i: 152000 bigL: 176 freq: 252.0\n",
      "i: 168000 bigL: 264 freq: 168.1455805892548\n",
      "i: 176000 bigL: 176 freq: 251.21698601760747\n",
      "i: 184000 bigL: 176 freq: 253.84615384615384\n",
      "i: 192000 bigL: 224 freq: 200.7033512618949\n",
      "i: 200000 bigL: 224 freq: 205.11627906976744\n",
      "i: 208000 bigL: 160 freq: 265.51724137931035\n",
      "i: 216000 bigL: 176 freq: 244.38287153652394\n",
      "i: 224000 bigL: 264 freq: 168.8478941872607\n",
      "i: 232000 bigL: 176 freq: 238.3783783783784\n",
      "i: 240000 bigL: 176 freq: 248.13299232736577\n",
      "i: 248000 bigL: 208 freq: 214.17218543046357\n",
      "i: 256000 bigL: 192 freq: 228.92873997168476\n",
      "i: 264000 bigL: 208 freq: 215.50422034651268\n",
      "i: 272000 bigL: 176 freq: 238.3783783783784\n",
      "i: 280000 bigL: 192 freq: 229.57879791765262\n",
      "i: 288000 bigL: 208 freq: 213.41838979322483\n",
      "i: 296000 bigL: 176 freq: 240.98360655737704\n",
      "i: 304000 bigL: 200 freq: 218.21862348178135\n",
      "i: 312000 bigL: 176 freq: 251.47744945567652\n",
      "i: 320000 bigL: 176 freq: 238.84785819793206\n",
      "i: 328000 bigL: 176 freq: 238.3783783783784\n",
      "i: 336000 bigL: 216 freq: 211.37254901960785\n",
      "i: 344000 bigL: 472 freq: 91.68399168399169\n",
      "i: 352000 bigL: 224 freq: 193.3439617377441\n",
      "i: 360000 bigL: 240 freq: 182.8496042216359\n",
      "i: 368000 bigL: 216 freq: 200.20635575732564\n",
      "i: 376000 bigL: 192 freq: 219.40298507462688\n",
      "i: 384000 bigL: 176 freq: 252.0\n",
      "i: 392000 bigL: 176 freq: 260.6663084363245\n",
      "i: 400000 bigL: 176 freq: 238.3783783783784\n",
      "i: 408000 bigL: 192 freq: 240.98360655737704\n",
      "i: 416000 bigL: 176 freq: 238.6128873585834\n",
      "i: 424000 bigL: 240 freq: 190.9090909090909\n",
      "i: 432000 bigL: 264 freq: 161.53846153846152\n",
      "i: 440000 bigL: 168 freq: 260.94674556213016\n",
      "i: 448000 bigL: 176 freq: 243.4019066733567\n",
      "i: 456000 bigL: 240 freq: 177.10843373493975\n",
      "i: 464000 bigL: 120 freq: 353.31391114348145\n",
      "i: 472000 bigL: 184 freq: 250.95706156233837\n",
      "i: 480000 bigL: 184 freq: 248.6417221937468\n",
      "i: 488000 bigL: 192 freq: 223.65145228215766\n",
      "i: 496000 bigL: 208 freq: 206.33772862611656\n",
      "i: 504000 bigL: 208 freq: 205.98726114649682\n",
      "i: 512000 bigL: 192 freq: 231.55131264916466\n",
      "i: 520000 bigL: 192 freq: 232.43890752275996\n",
      "i: 528000 bigL: 240 freq: 187.6595744680851\n",
      "i: 536000 bigL: 200 freq: 225.73289902280126\n",
      "i: 544000 bigL: 224 freq: 200.7033512618949\n"
     ]
    },
    {
     "data": {
      "text/plain": [
       "(69000, 111)"
      ]
     },
     "execution_count": 1069,
     "metadata": {},
     "output_type": "execute_result"
    }
   ],
   "source": [
    "A = AutoTune(data, sensitivity=.03)\n",
    "A.subTable.shape"
   ]
  },
  {
   "cell_type": "code",
   "execution_count": 1010,
   "metadata": {},
   "outputs": [
    {
     "data": {
      "text/plain": [
       "[<matplotlib.lines.Line2D at 0x1318d8c88>]"
      ]
     },
     "execution_count": 1010,
     "metadata": {},
     "output_type": "execute_result"
    },
    {
     "data": {
      "image/png": "[encoded data removed]",
      "text/plain": [
       "<Figure size 432x288 with 1 Axes>"
      ]
     },
     "metadata": {},
     "output_type": "display_data"
    }
   ],
   "source": [
    "plt.plot(A.wav[10000:20000])"
   ]
  },
  {
   "cell_type": "code",
   "execution_count": 1011,
   "metadata": {},
   "outputs": [
    {
     "name": "stdout",
     "output_type": "stream",
     "text": [
      "552000\n"
     ]
    },
    {
     "data": {
      "text/plain": [
       "516032"
      ]
     },
     "execution_count": 1011,
     "metadata": {},
     "output_type": "execute_result"
    },
    {
     "data": {
      "image/png": "[encoded data removed]",
      "text/plain": [
       "<Figure size 432x288 with 1 Axes>"
      ]
     },
     "metadata": {},
     "output_type": "display_data"
    }
   ],
   "source": [
    "plt.plot(A.real_freq)\n",
    "print(len(A.real_freq))\n",
    "64504*8"
   ]
  },
  {
   "cell_type": "code",
   "execution_count": 1023,
   "metadata": {
    "slideshow": {
     "slide_type": "subslide"
    }
   },
   "outputs": [
    {
     "name": "stdout",
     "output_type": "stream",
     "text": [
      "552000\n"
     ]
    },
    {
     "data": {
      "text/plain": [
       "516032"
      ]
     },
     "execution_count": 1023,
     "metadata": {},
     "output_type": "execute_result"
    },
    {
     "data": {
      "image/png": "[encoded data removed]",
      "text/plain": [
       "<Figure size 432x288 with 1 Axes>"
      ]
     },
     "metadata": {},
     "output_type": "display_data"
    }
   ],
   "source": [
    "plt.plot(A.real_freq)\n",
    "print(len(A.real_freq))\n",
    "64504*8"
   ]
  },
  {
   "cell_type": "code",
   "execution_count": 1043,
   "metadata": {},
   "outputs": [],
   "source": [
    "A.build_output(mod_type='identity')\n",
    "sd.play(A.output, 44100)"
   ]
  },
  {
   "cell_type": "code",
   "execution_count": 1047,
   "metadata": {},
   "outputs": [],
   "source": [
    "A.build_output(mod_type='linear', start_freq=80, end_freq=400)\n",
    "sd.play(A.output, 44100)"
   ]
  },
  {
   "cell_type": "code",
   "execution_count": 1045,
   "metadata": {},
   "outputs": [],
   "source": [
    "A.build_output(mod_type='vibrato', vib_freq=10, amp=20)\n",
    "sd.play(A.output, 44100)"
   ]
  },
  {
   "cell_type": "code",
   "execution_count": 1016,
   "metadata": {},
   "outputs": [],
   "source": [
    "A.build_output(mod_type='vibrato build', vib_freq=6, amp=20)\n",
    "sd.play(A.output, 44100)"
   ]
  },
  {
   "cell_type": "code",
   "execution_count": null,
   "metadata": {},
   "outputs": [],
   "source": [
    "A.build_output(mod_type='vibratoflat', vib_freq=6, amp=20)\n",
    "sd.play(A.output, 44100)"
   ]
  },
  {
   "cell_type": "code",
   "execution_count": 1046,
   "metadata": {},
   "outputs": [],
   "source": [
    "A.build_output(mod_type='constant', freq=180.81)\n",
    "sd.play(A.output, 44100)"
   ]
  },
  {
   "cell_type": "code",
   "execution_count": 1020,
   "metadata": {},
   "outputs": [],
   "source": [
    "A.build_output(mod_type='note')\n",
    "sd.play(A.output, 44100)"
   ]
  },
  {
   "cell_type": "code",
   "execution_count": 785,
   "metadata": {},
   "outputs": [],
   "source": [
    "des = np.ones_like(A.real_freq)*130.81\n",
    "des[85000:] = 220.00 #A3\n",
    "des[95000:] = 196.00 #G3\n",
    "des[160000:180000] = 174.61 #F3\n",
    "A.build_output(mod_type='custom', desired=des)\n",
    "sd.play(A.output, 44100)"
   ]
  },
  {
   "cell_type": "code",
   "execution_count": 784,
   "metadata": {},
   "outputs": [],
   "source": [
    "# high\n",
    "\n",
    "des = np.ones_like(A.real_freq)*261.63 #C4\n",
    "des[85000:] = 440.00 #A4\n",
    "des[97000:] = 392.00 #G4\n",
    "des[160000:180000] = 349.23 #F4\n",
    "A.build_output(mod_type='custom', desired=des)\n",
    "sd.play(A.output, 44100)"
   ]
  },
  {
   "cell_type": "code",
   "execution_count": 759,
   "metadata": {},
   "outputs": [],
   "source": [
    "sd.play(A.output, 44100)"
   ]
  },
  {
   "cell_type": "code",
   "execution_count": 964,
   "metadata": {},
   "outputs": [],
   "source": [
    "sd.play(A.wav, 44100)"
   ]
  },
  {
   "cell_type": "code",
   "execution_count": 1047,
   "metadata": {},
   "outputs": [
    {
     "name": "stdout",
     "output_type": "stream",
     "text": [
      "Orig: 127442\n",
      "Diff: 127442\n"
     ]
    }
   ],
   "source": [
    "print('Orig:', len(A.wav))\n",
    "print('Diff:', len(ot))"
   ]
  },
  {
   "cell_type": "code",
   "execution_count": 1049,
   "metadata": {},
   "outputs": [
    {
     "data": {
      "text/plain": [
       "[<matplotlib.lines.Line2D at 0x1745e3b00>]"
      ]
     },
     "execution_count": 1049,
     "metadata": {},
     "output_type": "execute_result"
    },
    {
     "data": {
      "image/png": "[encoded data removed]",
      "text/plain": [
       "<Figure size 432x288 with 1 Axes>"
      ]
     },
     "metadata": {},
     "output_type": "display_data"
    }
   ],
   "source": [
    "plt.plot(A.wav)"
   ]
  },
  {
   "cell_type": "code",
   "execution_count": 447,
   "metadata": {},
   "outputs": [
    {
     "data": {
      "text/plain": [
       "100.22727272727273"
      ]
     },
     "execution_count": 447,
     "metadata": {},
     "output_type": "execute_result"
    }
   ],
   "source": [
    "# indx of dwnsmpld to freq\n",
    "dsf = (44100/8) #samp/sec\n",
    "indx = 55 # samps\n",
    "freq = 1/(indx/dsf)\n",
    "freq"
   ]
  },
  {
   "cell_type": "code",
   "execution_count": 446,
   "metadata": {},
   "outputs": [
    {
     "data": {
      "text/plain": [
       "78.75"
      ]
     },
     "execution_count": 446,
     "metadata": {},
     "output_type": "execute_result"
    }
   ],
   "source": [
    "# indx of dwnsmpld to freq\n",
    "dsf = (44100) #samp/sec\n",
    "indx = (70)*8 # samps\n",
    "freq = 1/(indx/dsf)\n",
    "freq"
   ]
  },
  {
   "cell_type": "code",
   "execution_count": 144,
   "metadata": {},
   "outputs": [],
   "source": [
    "notes = [55.00,58.2,61.74,\n",
    "65.41,69.30,73.42,77.78,82.41,87.31,92.50,98.00,103.83,110.00,116.54,123.47,130.81,\n",
    "138.59,146.83,155.56,164.81,174.61,185.00,196.00,207.65,220.00,233.08,246.94,261.63,\n",
    "277.18,293.66,311.13,329.63,349.23,369.99,392.00,415.30,440.00,466.16,493.88,523.25,\n",
    "554.37,587.33,622.25,659.25,698.46,739.99,783.99,830.61,880.00,932.33,987.77,1046.50]"
   ]
  },
  {
   "cell_type": "code",
   "execution_count": 176,
   "metadata": {},
   "outputs": [
    {
     "data": {
      "text/plain": [
       "52"
      ]
     },
     "execution_count": 176,
     "metadata": {},
     "output_type": "execute_result"
    }
   ],
   "source": [
    "len(notes)"
   ]
  },
  {
   "cell_type": "code",
   "execution_count": 913,
   "metadata": {},
   "outputs": [
    {
     "name": "stdout",
     "output_type": "stream",
     "text": [
      "(95387,)\n",
      "i: 48000 bigL: 304 freq: 144.5040214477212\n",
      "i: 56000 bigL: 352 freq: 124.73643610182565\n",
      "i: 64000 bigL: 352 freq: 124.28900845503459\n",
      "i: 72000 bigL: 344 freq: 125.9672812256557\n",
      "i: 80000 bigL: 344 freq: 127.42316784869978\n",
      "i: 88000 bigL: 280 freq: 162.73062730627305\n",
      "i: 96000 bigL: 208 freq: 211.37254901960785\n",
      "i: 104000 bigL: 208 freq: 212.66988163086364\n",
      "i: 112000 bigL: 496 freq: 87.32673267326733\n",
      "i: 120000 bigL: 224 freq: 192.882703777336\n",
      "i: 128000 bigL: 232 freq: 191.05947223316267\n",
      "i: 136000 bigL: 240 freq: 190.6090373280943\n",
      "i: 144000 bigL: 224 freq: 198.40490797546013\n",
      "i: 152000 bigL: 216 freq: 198.567335243553\n",
      "i: 160000 bigL: 248 freq: 178.14910025706942\n",
      "i: 168000 bigL: 232 freq: 188.24214202561117\n",
      "i: 176000 bigL: 232 freq: 193.3439617377441\n",
      "i: 184000 bigL: 360 freq: 119.51219512195122\n",
      "i: 192000 bigL: 216 freq: 213.04347826086956\n",
      "i: 200000 bigL: 216 freq: 197.75784753363226\n",
      "i: 208000 bigL: 216 freq: 196.00000000000003\n",
      "i: 216000 bigL: 216 freq: 213.04347826086956\n",
      "i: 224000 bigL: 216 freq: 213.04347826086956\n",
      "i: 232000 bigL: 216 freq: 213.04347826086956\n",
      "i: 240000 bigL: 216 freq: 196.00000000000003\n",
      "i: 248000 bigL: 216 freq: 199.05621665982764\n",
      "i: 256000 bigL: 216 freq: 213.04347826086956\n",
      "i: 264000 bigL: 216 freq: 213.04347826086956\n",
      "i: 272000 bigL: 216 freq: 196.00000000000003\n",
      "i: 280000 bigL: 216 freq: 202.71625574592565\n",
      "i: 288000 bigL: 216 freq: 213.04347826086956\n",
      "i: 296000 bigL: 216 freq: 207.21913712088852\n",
      "i: 312000 bigL: 296 freq: 150.60540204905308\n",
      "i: 320000 bigL: 216 freq: 200.3717472118959\n",
      "i: 328000 bigL: 272 freq: 163.6087689713322\n",
      "i: 336000 bigL: 264 freq: 168.1455805892548\n",
      "i: 344000 bigL: 264 freq: 166.9879518072289\n",
      "i: 352000 bigL: 216 freq: 197.91921664626685\n",
      "i: 360000 bigL: 344 freq: 126.691042047532\n",
      "i: 368000 bigL: 280 freq: 155.33141210374637\n",
      "i: 376000 bigL: 256 freq: 173.3118971061093\n",
      "i: 384000 bigL: 256 freq: 170.38988408851424\n",
      "i: 392000 bigL: 264 freq: 166.7583361980062\n",
      "i: 400000 bigL: 328 freq: 135.31380753138075\n",
      "i: 408000 bigL: 240 freq: 180.80506895266493\n",
      "i: 416000 bigL: 232 freq: 187.369640787949\n",
      "i: 424000 bigL: 224 freq: 196.9549330085262\n",
      "i: 432000 bigL: 224 freq: 193.0362116991643\n",
      "i: 440000 bigL: 216 freq: 205.4637865311309\n",
      "i: 448000 bigL: 216 freq: 201.20282040647035\n",
      "i: 456000 bigL: 248 freq: 180.26755852842808\n",
      "i: 464000 bigL: 248 freq: 171.5953307392996\n",
      "i: 472000 bigL: 216 freq: 212.29759299781185\n",
      "i: 480000 bigL: 216 freq: 206.33772862611656\n",
      "i: 488000 bigL: 328 freq: 136.45569620253164\n",
      "i: 496000 bigL: 312 freq: 137.38317757009347\n",
      "i: 504000 bigL: 216 freq: 196.00000000000003\n",
      "i: 512000 bigL: 216 freq: 204.9429657794677\n",
      "i: 520000 bigL: 216 freq: 200.04123711340205\n",
      "i: 528000 bigL: 216 freq: 198.40490797546013\n",
      "i: 536000 bigL: 216 freq: 206.33772862611656\n",
      "i: 544000 bigL: 216 freq: 202.04081632653063\n",
      "i: 552000 bigL: 312 freq: 143.4782608695652\n",
      "i: 560000 bigL: 216 freq: 198.8929889298893\n",
      "i: 568000 bigL: 216 freq: 199.38347718865597\n",
      "i: 576000 bigL: 216 freq: 198.567335243553\n",
      "i: 584000 bigL: 216 freq: 196.47630619684085\n",
      "i: 592000 bigL: 208 freq: 211.55691234191016\n",
      "i: 600000 bigL: 216 freq: 199.87639060568603\n",
      "i: 608000 bigL: 216 freq: 198.8929889298893\n",
      "i: 616000 bigL: 216 freq: 209.0047393364929\n",
      "i: 624000 bigL: 400 freq: 107.82396088019561\n",
      "i: 632000 bigL: 304 freq: 143.05514597463875\n",
      "i: 640000 bigL: 272 freq: 160.15186530207987\n",
      "i: 648000 bigL: 248 freq: 172.32682060390763\n",
      "i: 656000 bigL: 216 freq: 196.00000000000003\n",
      "i: 664000 bigL: 216 freq: 213.04347826086956\n",
      "i: 672000 bigL: 216 freq: 204.25263157894736\n",
      "i: 680000 bigL: 216 freq: 199.87639060568603\n",
      "i: 688000 bigL: 216 freq: 201.87265917602994\n",
      "i: 696000 bigL: 216 freq: 196.3172804532578\n",
      "i: 704000 bigL: 216 freq: 196.00000000000003\n",
      "i: 712000 bigL: 216 freq: 205.98726114649682\n",
      "i: 720000 bigL: 216 freq: 213.04347826086956\n",
      "i: 728000 bigL: 216 freq: 196.00000000000003\n",
      "i: 736000 bigL: 216 freq: 211.18850674793208\n",
      "i: 744000 bigL: 216 freq: 211.92660550458717\n",
      "i: 752000 bigL: 216 freq: 207.39632321504916\n",
      "i: 760000 bigL: 216 freq: 196.00000000000003\n"
     ]
    }
   ],
   "source": [
    "fs, data = wavfile.read('lifeafterlove.wav')\n",
    "LAL = AutoTune(data, sensitivity=.012)\n",
    "print('done')"
   ]
  },
  {
   "cell_type": "code",
   "execution_count": 1070,
   "metadata": {},
   "outputs": [
    {
     "data": {
      "text/plain": [
       "[<matplotlib.lines.Line2D at 0x1318f7208>]"
      ]
     },
     "execution_count": 1070,
     "metadata": {},
     "output_type": "execute_result"
    },
    {
     "data": {
      "image/png": "[encoded data removed]",
      "text/plain": [
       "<Figure size 432x288 with 1 Axes>"
      ]
     },
     "metadata": {},
     "output_type": "display_data"
    }
   ],
   "source": [
    "plt.plot(LAL.real_freq)"
   ]
  },
  {
   "cell_type": "code",
   "execution_count": 911,
   "metadata": {},
   "outputs": [
    {
     "data": {
      "text/plain": [
       "[<matplotlib.lines.Line2D at 0x138223470>]"
      ]
     },
     "execution_count": 911,
     "metadata": {},
     "output_type": "execute_result"
    },
    {
     "data": {
      "image/png": "[encoded data removed]",
      "text/plain": [
       "<Figure size 432x288 with 1 Axes>"
      ]
     },
     "metadata": {},
     "output_type": "display_data"
    }
   ],
   "source": [
    "plt.plot(LAL.real_freq)"
   ]
  },
  {
   "cell_type": "code",
   "execution_count": 1071,
   "metadata": {},
   "outputs": [],
   "source": [
    "LAL.build_output(mod_type='constant', freq=130.81)\n",
    "sd.play(LAL.output, 44100)"
   ]
  },
  {
   "cell_type": "code",
   "execution_count": 1067,
   "metadata": {},
   "outputs": [],
   "source": [
    "des = np.ones_like(LAL.real_freq)*130.81 # C do you be\n",
    "des[85000:] = 220.00 #A3 leive\n",
    "des[95000:] = 196.00 #G3 in\n",
    "des[150000:170000] = 174.61 #F3 life\n",
    "des[250000:] = 174.61 #F3\n",
    "des[350000:360000] = 130.81\n",
    "des[380000:] = 130.81\n",
    "des[400000:] = 196.00 #G3\n",
    "des[455000:500000] = 174.61 #F3\n",
    "des[550000:570000] = 174.61 #F3\n",
    "des[585000:600000] = 220.00 #A3\n",
    "dn = np.linspace(220.00, 174.61, 5000)\n",
    "des[620000:] = 220.00 #A3\n",
    "des[630000:] = 174.61 #F3\n",
    "des[630000:630000+5000]=dn\n",
    "LAL.build_output(mod_type='custom', desired=des)\n",
    "sd.play(LAL.output.astype(np.float64)/max(LAL.output), 44100)"
   ]
  },
  {
   "cell_type": "code",
   "execution_count": 1065,
   "metadata": {},
   "outputs": [],
   "source": [
    "sd.play(LAL.wav, 44100)"
   ]
  },
  {
   "cell_type": "code",
   "execution_count": 1058,
   "metadata": {},
   "outputs": [],
   "source": [
    "des = np.ones_like(LAL.real_freq)*130.81*2\n",
    "des[85000:] = 220.00*2 #A3\n",
    "des[95000:] = 196.00*2 #G3\n",
    "des[150000:170000] = 174.61*2 #F3\n",
    "des[250000:] = 174.61*2 #F3\n",
    "des[350000:360000] = 130.81*2\n",
    "des[380000:] = 130.81*2\n",
    "des[400000:] = 196.00*2 #G3\n",
    "des[455000:500000] = 174.61*2 #F3\n",
    "des[550000:570000] = 174.61*2 #F3\n",
    "des[585000:600000] = 220.00*2 #A3\n",
    "dn = np.linspace(220.00*2, 174.61*2, 5000)\n",
    "des[620000:] = 220.00*2 #A3\n",
    "des[630000:] = 174.61*2 #F3\n",
    "des[630000:630000+5000]=dn\n",
    "LAL.build_output(mod_type='custom', desired=des)\n",
    "sd.play(LAL.output, 44100)"
   ]
  },
  {
   "cell_type": "code",
   "execution_count": 1062,
   "metadata": {},
   "outputs": [],
   "source": [
    "sd.play(LAL.output.astype(np.float64)/max(LAL.output), 44100)"
   ]
  },
  {
   "cell_type": "code",
   "execution_count": 1060,
   "metadata": {},
   "outputs": [
    {
     "data": {
      "text/plain": [
       "array([-1., -3., -3., ...,  0.,  0.,  0.])"
      ]
     },
     "execution_count": 1060,
     "metadata": {},
     "output_type": "execute_result"
    }
   ],
   "source": [
    "LAL.output[300000:3001000].astype(float)"
   ]
  },
  {
   "cell_type": "code",
   "execution_count": null,
   "metadata": {},
   "outputs": [],
   "source": []
  }
 ],
 "metadata": {
  "kernelspec": {
   "display_name": "Python 3",
   "language": "python",
   "name": "python3"
  },
  "language_info": {
   "codemirror_mode": {
    "name": "ipython",
    "version": 3
   },
   "file_extension": ".py",
   "mimetype": "text/x-python",
   "name": "python",
   "nbconvert_exporter": "python",
   "pygments_lexer": "ipython3",
   "version": "3.6.5"
  }
 },
 "nbformat": 4,
 "nbformat_minor": 2
}
