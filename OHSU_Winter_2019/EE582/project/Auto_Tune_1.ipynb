{
 "cells": [
  {
   "cell_type": "code",
   "execution_count": 497,
   "metadata": {},
   "outputs": [],
   "source": [
    "#%matplotlib notebook\n",
    "import numpy as np\n",
    "from scipy.signal import decimate\n",
    "from scipy.io import wavfile\n",
    "import matplotlib\n",
    "import matplotlib.pyplot as plt\n",
    "import sounddevice as sd\n",
    "from scipy.interpolate import interp1d\n",
    "from scipy.signal import resample"
   ]
  },
  {
   "cell_type": "code",
   "execution_count": 582,
   "metadata": {},
   "outputs": [],
   "source": [
    "# working version detection\n",
    "\n",
    "class AutoTune():\n",
    "    \n",
    "    def __init__(self, wav):\n",
    "        \n",
    "        \n",
    "        assert len(wav) > 8*220\n",
    "        \n",
    "        # original audio\n",
    "        self.wav = np.array(wav)\n",
    "        \n",
    "        # 1/8 decimation\n",
    "        self.down_wav = decimate(self.wav, q=8)\n",
    "        print(self.down_wav.shape)\n",
    "        # declare tables\n",
    "        self.Ei_Table = np.zeros((len(self.down_wav), 111), dtype=float)\n",
    "        self.Hi_Table = np.zeros((len(self.down_wav), 111), dtype=float)\n",
    "        self.subTable = np.zeros((len(self.down_wav), 111), dtype=float)\n",
    "        self.truTable = np.zeros((len(self.down_wav), 111), dtype=float)\n",
    "        self.real_freq = np.zeros(len(self.wav), dtype=float)\n",
    "        \n",
    "        self.idxTable = []\n",
    "        \n",
    "        # first value of e table\n",
    "        for L in range(2,111):\n",
    "            self.Ei_Table[220,L] = sum(np.square(self.down_wav[221-2*L:221]))\n",
    "            self.Hi_Table[220,L] = sum(np.multiply(self.down_wav[221-2*L:221-L], self.down_wav[221-L:221]))\n",
    "\n",
    "        # loop to initialize tables\n",
    "        for i in range(221, len(self.down_wav)):\n",
    "            indx = []\n",
    "            \n",
    "            for L in range(2,111):\n",
    "                self.Ei_Table[i, L] = self.Ei_Table[i-1, L] + self.down_wav[i]**2 - self.down_wav[i-2*L]**2\n",
    "                self.Hi_Table[i, L] = self.Hi_Table[i-1, L] + self.down_wav[i]*self.down_wav[i-L] - self.down_wav[i-L]*self.down_wav[i-2*L]\n",
    "                self.subTable[i, L] = self.Ei_Table[i, L] - 2*self.Hi_Table[i, L]\n",
    "                \n",
    "                # set sensitivity, lower is more selective\n",
    "                sensitivity = 0.01\n",
    "                #self.truTable[i, L] = self.subTable[i, L]<0.03*A.Ei_Table[i, L]\n",
    "                if self.subTable[i, L] < sensitivity*self.Ei_Table[i, L] and L > 10 and L < 70:\n",
    "                    value, freq = self.get_real_freq(i, L)\n",
    "                    self.real_freq[i*8:(i+1)*8] = freq\n",
    "                    if not i % 1000:\n",
    "                        print('i:',i,'bigL:',8*L,'freq:',freq)\n",
    "                    break\n",
    "                    \n",
    "                if L == 110:\n",
    "                    self.real_freq[i*8:(i+1)*8] = self.real_freq[i*8-1]\n",
    "                    \n",
    "            \n",
    "            # append successes to index list\n",
    "            #self.idxTable.append(indx)\n",
    "            \n",
    "            \n",
    "           \n",
    "    def get_real_freq(self, down_indx, down_f_est):\n",
    "\n",
    "        \n",
    "        # convert to real signal indecies\n",
    "        real_indx = 8*down_indx\n",
    "        real_f_est = 8*down_f_est\n",
    "\n",
    "        # create Ls index to calculate E and H for\n",
    "        real_line = np.linspace(real_f_est-9,real_f_est+9,19, dtype=int)\n",
    "        real_mins = np.zeros(len(real_line), dtype=float)\n",
    "\n",
    "        for L in real_line:\n",
    "            a = np.array(self.wav[real_indx-2*L+1:real_indx-L+1], dtype=np.float64)\n",
    "            b = np.array(self.wav[real_indx-L+1:real_indx+1], dtype=np.float64)\n",
    "            #print('E: ', self.wav[real_indx-2*L+1:real_indx+1])\n",
    "            #print('H: ',self.wav[real_indx-2*L+1:real_indx-L+1],self.wav[real_indx-L+1:real_indx+1] )\n",
    "            E = np.sum(np.square(a)) + np.sum(np.square(b))\n",
    "            H = sum(a*b)\n",
    "            \n",
    "            val = (E-2*H)/E\n",
    "            real_mins[L-real_line[0]] = val\n",
    "        \n",
    "        interpolation_line = np.linspace(real_line[0],real_line[-1],100, endpoint=True)\n",
    "        int_obj = interp1d(real_line, real_mins, kind='cubic')\n",
    "        interpolated = int_obj(interpolation_line)\n",
    "        final_lag = interpolation_line[np.argmin(interpolated)]\n",
    "        value = np.min(interpolated)\n",
    "\n",
    "        return(value, (1/(final_lag/44100)))\n",
    "\n",
    "    def build_output(self):\n",
    "        self.output = np.zeros_like(self.wav)\n",
    "        desired = np.flip(np.linspace(75,300,len(self.output),endpoint=True))\n",
    "        i_pnt = 21000\n",
    "        o_pnt = 21000\n",
    "        \n",
    "        while i_pnt < (len(desired)-500) and o_pnt < (len(desired)-500):\n",
    "            \n",
    "            cur_freq = self.real_freq[i_pnt]\n",
    "            des_freq = desired[o_pnt]\n",
    "            i_sz = np.rint(cur_freq/44100, dtype=np.int64)\n",
    "            o_sz = np.rint(i_sz*(cur_freq/des_freq), dtype=np.int64)\n",
    "            \n",
    "            out_slice = resample(self.wav[i_pnt:i_pnt+i_sz+1], o_sz)\n",
    "            self.output[o_pnt:o_pnt+o_sz+1] = out_slice\n",
    "            \n",
    "            i_pnt += i_sz+1\n",
    "            o_pnt += o_sz+1\n",
    "            \n",
    "            if abs(i_pnt - o_pnt) > o_sz:\n",
    "                if i_pnt < o_pnt:\n",
    "                    o_pnt -= o_sz+1\n",
    "                if i_pnt > o_pnt:\n",
    "                    self.output[o_pnt:o_pnt+o_sz+1] = out_slice\n",
    "                    o_pnt += o_sz+1\n",
    "        \n",
    "        "
   ]
  },
  {
   "cell_type": "code",
   "execution_count": 501,
   "metadata": {},
   "outputs": [
    {
     "data": {
      "text/plain": [
       "98.01980198019803"
      ]
     },
     "execution_count": 501,
     "metadata": {},
     "output_type": "execute_result"
    }
   ],
   "source": [
    "A.real_freq[21000]"
   ]
  },
  {
   "cell_type": "code",
   "execution_count": 595,
   "metadata": {},
   "outputs": [
    {
     "data": {
      "text/plain": [
       "(516032,)"
      ]
     },
     "execution_count": 595,
     "metadata": {},
     "output_type": "execute_result"
    }
   ],
   "source": [
    "# synthetic\n",
    "freq = 250\n",
    "data = np.sin(np.arange(50000,dtype=float)*2*freq*np.pi/(44100.0))\n",
    "\n",
    "fs, data = wavfile.read('sweep.wav')\n",
    "data=data[:,0]\n",
    "#data=data[100000:200000]\n",
    "#print(data[:50])\n",
    "data.shape"
   ]
  },
  {
   "cell_type": "code",
   "execution_count": 596,
   "metadata": {},
   "outputs": [
    {
     "name": "stdout",
     "output_type": "stream",
     "text": [
      "(64504,)\n",
      "i: 3000 bigL: 480 freq: 92.45283018867924\n",
      "i: 5000 bigL: 424 freq: 105.34201954397395\n",
      "i: 6000 bigL: 400 freq: 110.27506251420776\n",
      "i: 8000 bigL: 408 freq: 110.52631578947368\n",
      "i: 9000 bigL: 360 freq: 122.03773584905659\n",
      "i: 11000 bigL: 456 freq: 98.65771812080537\n",
      "i: 12000 bigL: 448 freq: 100.45558086560365\n",
      "i: 13000 bigL: 376 freq: 120.1634877384196\n",
      "i: 14000 bigL: 336 freq: 133.4525447042641\n",
      "i: 15000 bigL: 328 freq: 134.5631067961165\n",
      "i: 16000 bigL: 320 freq: 138.0871050384287\n",
      "i: 17000 bigL: 312 freq: 141.55237817332943\n",
      "i: 18000 bigL: 312 freq: 143.9038860872145\n",
      "i: 19000 bigL: 328 freq: 138.24451410658307\n",
      "i: 20000 bigL: 352 freq: 122.1606648199446\n",
      "i: 21000 bigL: 296 freq: 151.83098591549296\n",
      "i: 22000 bigL: 288 freq: 154.73684210526318\n",
      "i: 23000 bigL: 280 freq: 157.7560975609756\n",
      "i: 24000 bigL: 344 freq: 127.82608695652172\n",
      "i: 25000 bigL: 264 freq: 167.33356329768884\n",
      "i: 26000 bigL: 272 freq: 164.71986417657044\n",
      "i: 27000 bigL: 272 freq: 166.07326258130774\n",
      "i: 28000 bigL: 304 freq: 140.89456869009587\n",
      "i: 29000 bigL: 256 freq: 173.3118971061093\n",
      "i: 30000 bigL: 248 freq: 182.0262664165103\n",
      "i: 31000 bigL: 264 freq: 172.94117647058823\n",
      "i: 32000 bigL: 248 freq: 184.51882845188285\n",
      "i: 33000 bigL: 472 freq: 93.95700174317257\n",
      "i: 34000 bigL: 344 freq: 131.6417910447761\n",
      "i: 35000 bigL: 224 freq: 196.79513184584178\n",
      "i: 36000 bigL: 224 freq: 196.63558978516417\n",
      "i: 37000 bigL: 256 freq: 166.41509433962264\n",
      "i: 38000 bigL: 208 freq: 212.48357424441525\n",
      "i: 39000 bigL: 312 freq: 137.38317757009347\n",
      "i: 40000 bigL: 224 freq: 205.11627906976744\n",
      "i: 41000 bigL: 208 freq: 221.60804020100505\n",
      "i: 42000 bigL: 240 freq: 177.10843373493975\n",
      "i: 43000 bigL: 200 freq: 230.89005235602093\n",
      "i: 44000 bigL: 232 freq: 182.9875518672199\n",
      "i: 45000 bigL: 176 freq: 249.15254237288136\n",
      "i: 46000 bigL: 184 freq: 248.8968701898409\n",
      "i: 47000 bigL: 176 freq: 259.55056179775283\n",
      "i: 48000 bigL: 168 freq: 260.6663084363245\n",
      "i: 49000 bigL: 176 freq: 257.07472178060414\n",
      "i: 50000 bigL: 240 freq: 182.71186440677965\n",
      "i: 51000 bigL: 168 freq: 270.55214723926383\n",
      "i: 52000 bigL: 160 freq: 273.9130434782609\n",
      "i: 53000 bigL: 168 freq: 272.9881823297693\n",
      "i: 54000 bigL: 168 freq: 277.0416904625928\n",
      "i: 55000 bigL: 240 freq: 186.0759493670886\n",
      "i: 56000 bigL: 152 freq: 288.5782272456871\n",
      "i: 57000 bigL: 232 freq: 197.75784753363226\n",
      "i: 58000 bigL: 288 freq: 148.5758039816233\n",
      "i: 59000 bigL: 152 freq: 299.62940086473134\n",
      "i: 60000 bigL: 152 freq: 300.74395536267826\n",
      "i: 61000 bigL: 152 freq: 300.74395536267826\n",
      "i: 62000 bigL: 144 freq: 306.0567823343849\n",
      "i: 63000 bigL: 144 freq: 304.13793103448273\n",
      "i: 64000 bigL: 152 freq: 296.3347587049481\n"
     ]
    },
    {
     "data": {
      "text/plain": [
       "(64504, 111)"
      ]
     },
     "execution_count": 596,
     "metadata": {},
     "output_type": "execute_result"
    }
   ],
   "source": [
    "A = AutoTune(data)\n",
    "A.subTable.shape"
   ]
  },
  {
   "cell_type": "code",
   "execution_count": 576,
   "metadata": {},
   "outputs": [
    {
     "name": "stdout",
     "output_type": "stream",
     "text": [
      "127442\n"
     ]
    },
    {
     "data": {
      "text/plain": [
       "516032"
      ]
     },
     "execution_count": 576,
     "metadata": {},
     "output_type": "execute_result"
    },
    {
     "data": {
      "image/png": "[encoded data removed]",
      "text/plain": [
       "<Figure size 432x288 with 1 Axes>"
      ]
     },
     "metadata": {},
     "output_type": "display_data"
    }
   ],
   "source": [
    "plt.plot(A.real_freq)\n",
    "print(len(A.real_freq))\n",
    "64504*8"
   ]
  },
  {
   "cell_type": "code",
   "execution_count": 597,
   "metadata": {},
   "outputs": [],
   "source": [
    "def build_output(self):\n",
    "    output = np.zeros_like(self.wav)\n",
    "    #desired = (np.linspace(75,500,len(output),endpoint=True))\n",
    "    desired = np.ones_like(self.wav)*150\n",
    "    i_pnt = 21000\n",
    "    o_pnt = 21000\n",
    "\n",
    "    while i_pnt < (len(desired)-500) and o_pnt < (len(desired)-500):\n",
    "        \n",
    "        cur_freq = self.real_freq[i_pnt]\n",
    "        des_freq = desired[o_pnt]\n",
    "        \n",
    "        if cur_freq < 70:\n",
    "            output[o_pnt:o_pnt+100+1] = self.wav[i_pnt:i_pnt+100+1]\n",
    "            i_pnt += 100+1\n",
    "            o_pnt += 100+1\n",
    "        \n",
    "        i_sz = int(np.rint(44100/cur_freq))\n",
    "        o_sz = int(np.rint(i_sz*(cur_freq/des_freq)))\n",
    "        \n",
    "        #print(i_sz*cur_freq/des_freq)\n",
    "        #print(o_sz)\n",
    "        \n",
    "        out_slice = resample(self.wav[i_pnt:i_pnt+i_sz+1], o_sz)\n",
    "        #print(len(out_slice))\n",
    "        output[o_pnt:o_pnt+o_sz] = out_slice\n",
    "\n",
    "        i_pnt += int(i_sz)\n",
    "        o_pnt += int(o_sz)\n",
    "\n",
    "        if abs(i_pnt - o_pnt) > o_sz:\n",
    "            if i_pnt < o_pnt:\n",
    "                o_pnt -= o_sz\n",
    "            if i_pnt > o_pnt:\n",
    "                output[o_pnt:o_pnt+o_sz] = out_slice\n",
    "                o_pnt += o_sz\n",
    "\n",
    "    return output"
   ]
  },
  {
   "cell_type": "code",
   "execution_count": 598,
   "metadata": {},
   "outputs": [],
   "source": [
    "ot = build_output(A)\n",
    "#sd.play(A.output, 44100)"
   ]
  },
  {
   "cell_type": "code",
   "execution_count": 610,
   "metadata": {},
   "outputs": [],
   "source": [
    "sd.play(ot,44100)"
   ]
  },
  {
   "cell_type": "code",
   "execution_count": 606,
   "metadata": {},
   "outputs": [],
   "source": [
    "sd.play(A.wav)"
   ]
  },
  {
   "cell_type": "code",
   "execution_count": null,
   "metadata": {},
   "outputs": [],
   "source": []
  },
  {
   "cell_type": "code",
   "execution_count": null,
   "metadata": {},
   "outputs": [],
   "source": []
  },
  {
   "cell_type": "code",
   "execution_count": null,
   "metadata": {},
   "outputs": [],
   "source": []
  },
  {
   "cell_type": "code",
   "execution_count": 447,
   "metadata": {},
   "outputs": [
    {
     "data": {
      "text/plain": [
       "100.22727272727273"
      ]
     },
     "execution_count": 447,
     "metadata": {},
     "output_type": "execute_result"
    }
   ],
   "source": [
    "# indx of dwnsmpld to freq\n",
    "dsf = (44100/8) #samp/sec\n",
    "indx = 55 # samps\n",
    "freq = 1/(indx/dsf)\n",
    "freq"
   ]
  },
  {
   "cell_type": "code",
   "execution_count": 446,
   "metadata": {},
   "outputs": [
    {
     "data": {
      "text/plain": [
       "78.75"
      ]
     },
     "execution_count": 446,
     "metadata": {},
     "output_type": "execute_result"
    }
   ],
   "source": [
    "# indx of dwnsmpld to freq\n",
    "dsf = (44100) #samp/sec\n",
    "indx = (70)*8 # samps\n",
    "freq = 1/(indx/dsf)\n",
    "freq"
   ]
  },
  {
   "cell_type": "code",
   "execution_count": null,
   "metadata": {},
   "outputs": [],
   "source": []
  }
 ],
 "metadata": {
  "kernelspec": {
   "display_name": "Python 3",
   "language": "python",
   "name": "python3"
  },
  "language_info": {
   "codemirror_mode": {
    "name": "ipython",
    "version": 3
   },
   "file_extension": ".py",
   "mimetype": "text/x-python",
   "name": "python",
   "nbconvert_exporter": "python",
   "pygments_lexer": "ipython3",
   "version": "3.6.5"
  }
 },
 "nbformat": 4,
 "nbformat_minor": 2
}
