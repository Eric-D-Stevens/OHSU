{
 "cells": [
  {
   "cell_type": "code",
   "execution_count": 497,
   "metadata": {},
   "outputs": [],
   "source": [
    "#%matplotlib notebook\n",
    "import numpy as np\n",
    "from scipy.signal import decimate\n",
    "from scipy.io import wavfile\n",
    "import matplotlib\n",
    "import matplotlib.pyplot as plt\n",
    "import sounddevice as sd\n",
    "from scipy.interpolate import interp1d\n",
    "from scipy.signal import resample"
   ]
  },
  {
   "cell_type": "code",
   "execution_count": 987,
   "metadata": {},
   "outputs": [],
   "source": [
    "# working version detection\n",
    "\n",
    "class AutoTune():\n",
    "    \n",
    "    def __init__(self, wav, sensitivity=.02):\n",
    "        \n",
    "        \n",
    "        assert len(wav) > 8*220\n",
    "        \n",
    "        # original audio\n",
    "        self.wav = np.array(wav)\n",
    "        \n",
    "        # 1/8 decimation\n",
    "        self.down_wav = decimate(self.wav, q=8)\n",
    "        print(self.down_wav.shape)\n",
    "        # declare tables\n",
    "        self.Ei_Table = np.zeros((len(self.down_wav), 111), dtype=float)\n",
    "        self.Hi_Table = np.zeros((len(self.down_wav), 111), dtype=float)\n",
    "        self.subTable = np.zeros((len(self.down_wav), 111), dtype=float)\n",
    "        self.truTable = np.zeros((len(self.down_wav), 111), dtype=float)\n",
    "        self.real_freq = np.zeros(len(self.wav), dtype=float)\n",
    "        \n",
    "        self.idxTable = []\n",
    "        \n",
    "        # first value of e table\n",
    "        for L in range(2,111):\n",
    "            self.Ei_Table[220,L] = sum(np.square(self.down_wav[221-2*L:221]))\n",
    "            self.Hi_Table[220,L] = sum(np.multiply(self.down_wav[221-2*L:221-L], self.down_wav[221-L:221]))\n",
    "\n",
    "        # loop to initialize tables\n",
    "        for i in range(221, len(self.down_wav)):\n",
    "            indx = []\n",
    "            \n",
    "            for L in range(2,111):\n",
    "                self.Ei_Table[i, L] = self.Ei_Table[i-1, L] + self.down_wav[i]**2 - self.down_wav[i-2*L]**2\n",
    "                self.Hi_Table[i, L] = self.Hi_Table[i-1, L] + self.down_wav[i]*self.down_wav[i-L] - self.down_wav[i-L]*self.down_wav[i-2*L]\n",
    "                self.subTable[i, L] = self.Ei_Table[i, L] - 2*self.Hi_Table[i, L]\n",
    "                \n",
    "\n",
    "                #self.truTable[i, L] = self.subTable[i, L]<0.03*A.Ei_Table[i, L]\n",
    "                if self.subTable[i, L] < sensitivity*self.Ei_Table[i, L] and L > 10 and L < 70:\n",
    "                    value, freq = self.get_real_freq(i, L)\n",
    "                    self.real_freq[i*8:(i+1)*8] = freq\n",
    "                    if not i % 1000:\n",
    "                        print('i:',i,'bigL:',8*L,'freq:',freq)\n",
    "                    break\n",
    "                    \n",
    "                if L == 110:\n",
    "                    self.real_freq[i*8:(i+1)*8] = self.real_freq[i*8-1]\n",
    "                    \n",
    "            \n",
    "            # append successes to index list\n",
    "            #self.idxTable.append(indx)\n",
    "            \n",
    "            \n",
    "           \n",
    "    def get_real_freq(self, down_indx, down_f_est):\n",
    "\n",
    "        \n",
    "        # convert to real signal indecies\n",
    "        real_indx = 8*down_indx\n",
    "        real_f_est = 8*down_f_est\n",
    "\n",
    "        # create Ls index to calculate E and H for\n",
    "        real_line = np.linspace(real_f_est-9,real_f_est+9,19, dtype=int)\n",
    "        real_mins = np.zeros(len(real_line), dtype=float)\n",
    "\n",
    "        for L in real_line:\n",
    "            a = np.array(self.wav[real_indx-2*L+1:real_indx-L+1], dtype=np.float64)\n",
    "            b = np.array(self.wav[real_indx-L+1:real_indx+1], dtype=np.float64)\n",
    "            #print('E: ', self.wav[real_indx-2*L+1:real_indx+1])\n",
    "            #print('H: ',self.wav[real_indx-2*L+1:real_indx-L+1],self.wav[real_indx-L+1:real_indx+1] )\n",
    "            E = np.sum(np.square(a)) + np.sum(np.square(b))\n",
    "            H = sum(a*b)\n",
    "            \n",
    "            val = (E-2*H)/E\n",
    "            real_mins[L-real_line[0]] = val\n",
    "        \n",
    "        interpolation_line = np.linspace(real_line[0],real_line[-1],100, endpoint=True)\n",
    "        int_obj = interp1d(real_line, real_mins, kind='cubic')\n",
    "        interpolated = int_obj(interpolation_line)\n",
    "        final_lag = interpolation_line[np.argmin(interpolated)]\n",
    "        value = np.min(interpolated)\n",
    "\n",
    "        return(value, (1/(final_lag/44100)))\n",
    "\n",
    "\n",
    "        "
   ]
  },
  {
   "cell_type": "code",
   "execution_count": 978,
   "metadata": {},
   "outputs": [
    {
     "data": {
      "text/plain": [
       "0.0"
      ]
     },
     "execution_count": 978,
     "metadata": {},
     "output_type": "execute_result"
    }
   ],
   "source": [
    "A.real_freq[21000]"
   ]
  },
  {
   "cell_type": "code",
   "execution_count": 1137,
   "metadata": {},
   "outputs": [
    {
     "data": {
      "text/plain": [
       "(269248,)"
      ]
     },
     "execution_count": 1137,
     "metadata": {},
     "output_type": "execute_result"
    }
   ],
   "source": [
    "# synthetic\n",
    "freq = 250\n",
    "data = (5*np.sin(np.arange(50000,dtype=float)*2*freq*np.pi/(44100.0)))+150\n",
    "\n",
    "fs, data = wavfile.read('blal.wav')\n",
    "#data=data[:,0]\n",
    "#data=data[100000:200000]\n",
    "#print(data[:50])\n",
    "data.shape"
   ]
  },
  {
   "cell_type": "code",
   "execution_count": 1146,
   "metadata": {},
   "outputs": [
    {
     "name": "stdout",
     "output_type": "stream",
     "text": [
      "(33656,)\n",
      "i: 6000 bigL: 424 freq: 101.84757505773672\n",
      "i: 7000 bigL: 440 freq: 100.87336244541484\n",
      "i: 9000 bigL: 432 freq: 103.76470588235294\n",
      "i: 10000 bigL: 440 freq: 100.45558086560365\n",
      "i: 11000 bigL: 456 freq: 98.65771812080537\n",
      "i: 12000 bigL: 480 freq: 93.63057324840764\n",
      "i: 13000 bigL: 424 freq: 104.43487621097955\n",
      "i: 14000 bigL: 424 freq: 102.88441145281017\n",
      "i: 16000 bigL: 416 freq: 106.03278688524588\n",
      "i: 17000 bigL: 424 freq: 104.30015050526768\n",
      "i: 18000 bigL: 424 freq: 103.80911619944362\n",
      "i: 19000 bigL: 432 freq: 104.25531914893617\n",
      "i: 21000 bigL: 424 freq: 105.52534261474874\n",
      "i: 24000 bigL: 408 freq: 108.35380835380835\n",
      "i: 25000 bigL: 424 freq: 104.30015050526768\n",
      "i: 26000 bigL: 416 freq: 105.98645400917631\n",
      "i: 27000 bigL: 416 freq: 105.57127312295974\n",
      "i: 28000 bigL: 400 freq: 107.82396088019561\n",
      "i: 29000 bigL: 400 freq: 107.82396088019561\n",
      "i: 30000 bigL: 400 freq: 107.82396088019561\n",
      "i: 31000 bigL: 400 freq: 108.93779474511565\n",
      "i: 32000 bigL: 400 freq: 107.82396088019561\n",
      "i: 33000 bigL: 400 freq: 107.82396088019561\n"
     ]
    },
    {
     "data": {
      "text/plain": [
       "(33656, 111)"
      ]
     },
     "execution_count": 1146,
     "metadata": {},
     "output_type": "execute_result"
    }
   ],
   "source": [
    "A = AutoTune(data, sensitivity=.02)\n",
    "A.subTable.shape"
   ]
  },
  {
   "cell_type": "code",
   "execution_count": 1147,
   "metadata": {},
   "outputs": [
    {
     "name": "stdout",
     "output_type": "stream",
     "text": [
      "269248\n"
     ]
    },
    {
     "data": {
      "text/plain": [
       "516032"
      ]
     },
     "execution_count": 1147,
     "metadata": {},
     "output_type": "execute_result"
    },
    {
     "data": {
      "image/png": "[encoded data removed]",
      "text/plain": [
       "<Figure size 432x288 with 1 Axes>"
      ]
     },
     "metadata": {},
     "output_type": "display_data"
    }
   ],
   "source": [
    "plt.plot(A.real_freq)\n",
    "print(len(A.real_freq))\n",
    "64504*8"
   ]
  },
  {
   "cell_type": "code",
   "execution_count": 1170,
   "metadata": {},
   "outputs": [],
   "source": [
    "def build_output(self):\n",
    "    output = np.zeros_like(self.wav)\n",
    "    \n",
    "    #desired = (np.linspace(200,75,len(output),endpoint=True))\n",
    "    #desired = (np.rint(np.linspace(0,7,len(output),endpoint=True))*20)+70\n",
    "    desired = np.ones_like(self.wav)*135\n",
    "    #desired = (5*np.sin(2*np.pi*(10)*np.arange(len(self.wav))/44100))+130\n",
    "    #desired = (np.arange(len(output))//1000)*20+80\n",
    "    i_pnt = 21000\n",
    "    o_pnt = 21000\n",
    "\n",
    "    while i_pnt < (len(desired)-500) and o_pnt < (len(desired)-500):\n",
    "        \n",
    "        cur_freq = self.real_freq[i_pnt]\n",
    "        des_freq = desired[o_pnt]\n",
    "        \n",
    "        if cur_freq < 70 or cur_freq > 5000:\n",
    "            output[o_pnt:o_pnt+100] = self.wav[i_pnt:i_pnt+100]\n",
    "            i_pnt += 100\n",
    "            o_pnt += 100\n",
    "            continue\n",
    "    \n",
    "        i_sz = int(np.rint(44100/cur_freq))\n",
    "        o_sz = int(np.rint(i_sz*(cur_freq/des_freq)))\n",
    "        \n",
    "        #print(i_sz*cur_freq/des_freq)\n",
    "        #print(o_sz)\n",
    "        \n",
    "        out_slice = resample(self.wav[i_pnt:i_pnt+i_sz+1], o_sz)\n",
    "        #print(len(out_slice))\n",
    "        output[o_pnt:o_pnt+o_sz] = out_slice\n",
    "\n",
    "        i_pnt += int(i_sz)\n",
    "        o_pnt += int(o_sz)\n",
    "\n",
    "        if abs(i_pnt - o_pnt) > o_sz:\n",
    "            if i_pnt < o_pnt:\n",
    "                o_pnt -= o_sz\n",
    "            if i_pnt > o_pnt:\n",
    "                output[o_pnt:o_pnt+o_sz] = out_slice\n",
    "                o_pnt += o_sz\n",
    "\n",
    "    return output"
   ]
  },
  {
   "cell_type": "code",
   "execution_count": 1171,
   "metadata": {},
   "outputs": [],
   "source": [
    "ot = build_output(A)\n",
    "#sd.play(A.output, 44100)"
   ]
  },
  {
   "cell_type": "code",
   "execution_count": 1172,
   "metadata": {},
   "outputs": [],
   "source": [
    "sd.play(ot, 44100)"
   ]
  },
  {
   "cell_type": "code",
   "execution_count": 1168,
   "metadata": {},
   "outputs": [],
   "source": [
    "sd.play(A.wav, 44100)"
   ]
  },
  {
   "cell_type": "code",
   "execution_count": 1047,
   "metadata": {},
   "outputs": [
    {
     "name": "stdout",
     "output_type": "stream",
     "text": [
      "Orig: 127442\n",
      "Diff: 127442\n"
     ]
    }
   ],
   "source": [
    "print('Orig:', len(A.wav))\n",
    "print('Diff:', len(ot))"
   ]
  },
  {
   "cell_type": "code",
   "execution_count": 1048,
   "metadata": {},
   "outputs": [
    {
     "data": {
      "text/plain": [
       "[<matplotlib.lines.Line2D at 0x164f814a8>]"
      ]
     },
     "execution_count": 1048,
     "metadata": {},
     "output_type": "execute_result"
    },
    {
     "data": {
      "image/png": "[encoded data removed]",
      "text/plain": [
       "<Figure size 432x288 with 1 Axes>"
      ]
     },
     "metadata": {},
     "output_type": "display_data"
    }
   ],
   "source": [
    "plt.plot(ot)"
   ]
  },
  {
   "cell_type": "code",
   "execution_count": 1049,
   "metadata": {},
   "outputs": [
    {
     "data": {
      "text/plain": [
       "[<matplotlib.lines.Line2D at 0x1745e3b00>]"
      ]
     },
     "execution_count": 1049,
     "metadata": {},
     "output_type": "execute_result"
    },
    {
     "data": {
      "image/png": "[encoded data removed]",
      "text/plain": [
       "<Figure size 432x288 with 1 Axes>"
      ]
     },
     "metadata": {},
     "output_type": "display_data"
    }
   ],
   "source": [
    "plt.plot(A.wav)"
   ]
  },
  {
   "cell_type": "code",
   "execution_count": 1177,
   "metadata": {},
   "outputs": [
    {
     "data": {
      "text/plain": [
       "367.5"
      ]
     },
     "execution_count": 1177,
     "metadata": {},
     "output_type": "execute_result"
    }
   ],
   "source": [
    "# indx of dwnsmpld to freq\n",
    "dsf = (44100/8) #samp/sec\n",
    "indx = 15 # samps\n",
    "freq = 1/(indx/dsf)\n",
    "freq"
   ]
  },
  {
   "cell_type": "code",
   "execution_count": 1187,
   "metadata": {},
   "outputs": [
    {
     "data": {
      "text/plain": [
       "50.11363636363637"
      ]
     },
     "execution_count": 1187,
     "metadata": {},
     "output_type": "execute_result"
    }
   ],
   "source": [
    "# indx of dwnsmpld to freq\n",
    "dsf = (44100) #samp/sec\n",
    "indx = (110)*8 # samps\n",
    "freq = 1/(indx/dsf)\n",
    "freq"
   ]
  },
  {
   "cell_type": "code",
   "execution_count": 1180,
   "metadata": {},
   "outputs": [
    {
     "data": {
      "text/plain": [
       "123"
      ]
     },
     "execution_count": 1180,
     "metadata": {},
     "output_type": "execute_result"
    }
   ],
   "source": [
    "int(123.523)"
   ]
  },
  {
   "cell_type": "code",
   "execution_count": 1185,
   "metadata": {},
   "outputs": [
    {
     "data": {
      "text/plain": [
       "13"
      ]
     },
     "execution_count": 1185,
     "metadata": {},
     "output_type": "execute_result"
    }
   ],
   "source": [
    "min_freq=400\n",
    "int(44100.0/(float(min_freq)*8))"
   ]
  },
  {
   "cell_type": "code",
   "execution_count": null,
   "metadata": {},
   "outputs": [],
   "source": []
  }
 ],
 "metadata": {
  "kernelspec": {
   "display_name": "Python 3",
   "language": "python",
   "name": "python3"
  },
  "language_info": {
   "codemirror_mode": {
    "name": "ipython",
    "version": 3
   },
   "file_extension": ".py",
   "mimetype": "text/x-python",
   "name": "python",
   "nbconvert_exporter": "python",
   "pygments_lexer": "ipython3",
   "version": "3.6.5"
  }
 },
 "nbformat": 4,
 "nbformat_minor": 2
}
