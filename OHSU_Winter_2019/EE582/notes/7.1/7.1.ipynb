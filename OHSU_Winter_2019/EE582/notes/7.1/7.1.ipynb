{
 "cells": [
  {
   "cell_type": "code",
   "execution_count": 1,
   "metadata": {},
   "outputs": [],
   "source": [
    "# Content from Proakis\n",
    "# Code © 2019, Alexander Kain\n",
    "import numpy as np\n",
    "\n",
    "from matplotlib import pyplot as plt\n",
    "%matplotlib inline\n",
    "plt.rcParams['figure.figsize'] = (10.0, 8.0)\n",
    "\n",
    "import sympy as sym\n",
    "sym.init_printing(use_unicode=True)"
   ]
  },
  {
   "cell_type": "markdown",
   "metadata": {},
   "source": [
    "# The Discrete Fourier Transform: Its Properties and Applications\n",
    "\n",
    "So far, the Fourier Transform $X(\\omega)$ of the sequence $x[n]$ was a continuous function of frequency. We now consider a discrete frequency-domain representation, the discrete Fourier Transform (DFT)\n",
    "\n",
    "## 7.1. Frequency-Domain Sampling: The Discrete Fourier Transform\n",
    "\n",
    "Suppose we sample\n",
    "\n",
    "$$ X(\\omega) = \\sum_{n=-\\infty}^{\\infty} x[n] e^{-j \\omega n} $$\n",
    "\n",
    "periodically at $\\omega = 2 \\pi k / N$:\n",
    "\n",
    "![](Fig7.1.1.png )\n",
    "\n",
    "Then\n",
    "\n",
    "$$ X(2 \\pi k / N) = \\sum_{n=-\\infty}^{\\infty} x[n] e^{-j 2 \\pi k n / N}, k=0, 1, \\ldots, N-1 $$\n",
    "\n",
    "Let us sub-divide the summation into an infinite number of summations containing $N$ terms:\n",
    "\n",
    "$$ X(2 \\pi k / N) = \n",
    "\\sum_{l=-\\infty}^{\\infty} \n",
    "\\sum_{n=lN}^{lN+N-1}\n",
    "x[n] e^{-j 2 \\pi k n / N}= $$\n",
    "\n",
    "$$ \\sum_{n=lN}^{lN+N-1}\n",
    "\\sum_{l=-\\infty}^{\\infty} \n",
    "x[n] e^{-j 2 \\pi k n / N} = $$\n",
    "\n",
    "Let $n \\rightarrow n - lN$:\n",
    "\n",
    "$$ X(2 \\pi k / N) = \\sum_{n=0}^{N-1}\n",
    "\\sum_{l=-\\infty}^{\\infty} \n",
    "x[n-lN] e^{-j 2 \\pi k (n - lN) / N} = $$\n",
    "\n",
    "$$ \\sum_{n=0}^{N-1}\n",
    "\\left(\n",
    "\\sum_{l=-\\infty}^{\\infty} \n",
    "x[n-lN]\n",
    "\\right)\n",
    "e^{-j 2 \\pi k n / N} $$"
   ]
  },
  {
   "cell_type": "markdown",
   "metadata": {},
   "source": [
    "The term in parentheses\n",
    "\n",
    "$$ x_p[n] = \\sum_{l=-\\infty}^{\\infty} x[n-lN] $$\n",
    "\n",
    "is periodic with fundamental period $N$. Therefore, it can be written as a Fourier Series:\n",
    "\n",
    "$$ x_p[n] = \\sum_{k=0}^{N-1} c_k e^{j 2 \\pi k n / N}, n=0, 1, \\ldots, N-1 $$\n",
    "\n",
    "with Fourier coefficients\n",
    "\n",
    "$$ c_k = \\frac{1}{N} \\sum_{n=0}^{N-1} x_p[n] e^{-j 2 \\pi k n / N}, k=0, 1, \\ldots, N-1 $$"
   ]
  },
  {
   "cell_type": "markdown",
   "metadata": {},
   "source": [
    "Comparing this to the formula for $X(2 \\pi k / N)$, we find that\n",
    "\n",
    "$$ c_k = \\frac{1}{N} X(2 \\pi k / N) $$\n",
    "\n",
    "and\n",
    "\n",
    "$$ x_p[n] = \\frac{1}{N} \\sum_{k=0}^{N-1} X(2 \\pi k / N) e^{j 2 \\pi k n / N}, n=0, 1, \\ldots, N-1 $$\n",
    "\n",
    "This relationship provides the reconstruction of the periodic signal $x_p[n]$ from the samples of the spectrum $X(\\omega)$."
   ]
  },
  {
   "cell_type": "markdown",
   "metadata": {},
   "source": [
    "However, we would like to also recover $x[n]$ and $X(\\omega)$. The former can be recovered from $x_p[n]$ if there is no *time-domain aliasing*, that is, $x[n]$ is time-limited to less than the period $N$. \n",
    "\n",
    "![](Fig7.1.2.png )\n",
    "\n",
    "If there is no time-domain aliasing, i.e.\n",
    "\n",
    "$$\n",
    "x[n] = \n",
    "\\begin{cases}\n",
    "x_p[n], & 0 \\leq n \\leq N-1 \\\\\n",
    "0, & \\textrm{elsewhere} \\\\\n",
    "\\end{cases}\n",
    "$$\n",
    "\n",
    "it is possible to express $X(\\omega)$ in terms of its samples. Since $x[n]$ is time-limited we can use appropriate integral boundaries\n",
    "\n",
    "$$ x[n] = \\frac{1}{N} \\sum_{k=0}^{N-1} X(2 \\pi k / N) e^{j 2 \\pi k n / N}, n=0, 1, \\ldots, N-1 $$\n",
    "\n",
    "Now taking the Fourier Transform\n",
    "\n",
    "$$ X(\\omega) = \\sum_{n=0}^{N-1} \n",
    "\\left(\n",
    "\\frac{1}{N} \\sum_{k=0}^{N-1} X(2 \\pi k / N) e^{j 2 \\pi k n / N}\n",
    "\\right)\n",
    "e^{-j \\omega n} = \n",
    "$$\n",
    "\n",
    "$$ \n",
    "\\sum_{k=0}^{N-1} X(2 \\pi k / N) \n",
    "\\left(\n",
    "\\frac{1}{N}\n",
    "\\sum_{n=0}^{N-1} \n",
    "e^{-j (\\omega - 2 \\pi k / N) n}\n",
    "\\right)\n",
    "$$"
   ]
  },
  {
   "cell_type": "markdown",
   "metadata": {},
   "source": [
    "The inner term in parentheses represents the interpolation function (shifted by $2 \\pi k / N$ in frequency). Let us define the unshifted version\n",
    "\n",
    "$$ P(\\omega) = \\frac{1}{N} \\sum_{n=0}^{N-1} e^{-j \\omega n} = \\frac{1}{N} \\frac{1 - e^{-j \\omega N}}{1 - e^{-j \\omega}} $$\n",
    "\n",
    "$$ = \\frac{\\sin (\\omega N / 2)}{N \\sin (\\omega / 2)} e^{-j \\omega (N-1) / 2} $$\n",
    "\n",
    "This is the periodic counterpart to the familiar sinc function. Then\n",
    "\n",
    "$$ X(\\omega) = \\sum_{k=0}^{N-1} X(2 \\pi k / N) P(\\omega - 2 \\pi k / N) $$"
   ]
  },
  {
   "cell_type": "code",
   "execution_count": 2,
   "metadata": {},
   "outputs": [
    {
     "data": {
      "image/png": "[encoded data removed]",
      "text/plain": [
       "<Figure size 432x288 with 1 Axes>"
      ]
     },
     "metadata": {
      "needs_background": "light"
     },
     "output_type": "display_data"
    }
   ],
   "source": [
    "# visualize part of interpolation function P\n",
    "w = sym.symbols('w', real=True)\n",
    "N, k = sym.symbols('N k', integer=True)\n",
    "P = sym.sin(w * N / 2) / (N * sym.sin(w / 2)) \n",
    "\n",
    "sym.plot(P.subs({N: 5}), (w, -2 * sym.pi, 2 * sym.pi));"
   ]
  },
  {
   "cell_type": "markdown",
   "metadata": {},
   "source": [
    "$P(\\omega)$ has the property that $P(0)$ = 1 and \n",
    "\n",
    "$$P(\\frac{2 \\pi k}{N}) = 0, k=1, 2, \\ldots, N-1$$\n",
    "\n",
    "Consequently, the interpolation function gives exactly the sample values $X(2\\pi j / N)$ for $\\omega=2 \\pi k / N$; for all other frequencies the result is a linear combination of the original spectral samples."
   ]
  },
  {
   "cell_type": "markdown",
   "metadata": {},
   "source": [
    "### 7.1.2. The Discrete Fourier Transform\n",
    "\n",
    "In general, the equally-spaced frequency samples $X(2 \\pi k / N), k=0, 1, \\ldots, N-1$ do *not* uniquely represent the original sequence $x[n]$; instead they correspond to a periodic sequence $x_p[n]$ of period $N$ where $x_p[n]$ may be an aliased version of $x[n]$\n",
    "\n",
    "$$x_p[n] = \\sum_{l=-\\infty}^{\\infty} x[n-lN]$$"
   ]
  },
  {
   "cell_type": "markdown",
   "metadata": {},
   "source": [
    "When the sequence $x[n]$ has a finite duration of length $L \\leq N$, then $x_p[n]$ is simply a periodic repetition of $x[n]$, where\n",
    "\n",
    "$$x_p[n] = \\begin{cases}\n",
    "x[n], & 0 \\leq n \\leq L-1 \\\\\n",
    "0   , & L \\leq n \\leq N-1 \\\\\n",
    "\\end{cases}\n",
    "$$\n",
    "\n",
    "In this case the frequency samples *uniquely* represent the finite-duration sequence $x[n]$, and the Fourier Transform is\n",
    "\n",
    "$$ X(\\omega)=\\sum_{n=0}^{L-1} x[n] e^{-j \\omega n}$$\n",
    "\n",
    "When we sample this we obtain\n",
    "\n",
    "$$X[k] \\equiv X(2 \\pi k / N) = \\sum_{n=0}^{L-1} x[n] e^{-j 2 \\pi k n / N}$$\n",
    "\n",
    "and without loss of generality we can increase the upper index in the sum to $N-1$:\n",
    "\n",
    "<font color=red>\n",
    "$$X[k] = \\sum_{n=0}^{N-1} x[n] e^{-j 2 \\pi k n / N}, k=0,1,2, \\ldots, N-1 $$\n",
    "</font>\n",
    "\n",
    "which is the *discrete Fourier Transform* (DFT). The inverse DFT (IDFT) is\n",
    "\n",
    "<font color=red>\n",
    "$$ x[n] = \\frac{1}{N} \\sum_{k=0}^{N-1} X[k] e^{j 2 \\pi k n / N}, n=0, 1, \\ldots, N-1 $$\n",
    "</font>"
   ]
  },
  {
   "cell_type": "markdown",
   "metadata": {},
   "source": [
    "#### Example 7.1.2\n",
    "\n",
    "A finite-duration sequence of length $L$ is given as\n",
    "\n",
    "\n",
    "$$x[n] = \\begin{cases}\n",
    "1, & 0 \\leq n \\leq L-1 \\\\\n",
    "0   , & \\textrm{otherwise} \\\\\n",
    "\\end{cases}\n",
    "$$\n",
    "\n",
    "Determine the DFT of this sequence for $N \\geq L$:\n",
    "\n",
    "$$X[k] = \\sum_{n=0}^{N-1} x[n] e^{-j 2 \\pi k n / N}, k=0,1,2, \\ldots, N-1 $$\n",
    "\n",
    "The Fourier Transform is\n",
    "\n",
    "$$X(\\omega) = \\sum_{n=0}^{L-1} x[n] e^{-j \\omega n}$$\n",
    "$$ = \\sum_{n=0}^{L-1} e^{-j \\omega n} = \\frac{1 - e^{-j \\omega L}}{1 - e^{-j \\omega}}$$"
   ]
  },
  {
   "cell_type": "code",
   "execution_count": 3,
   "metadata": {},
   "outputs": [
    {
     "data": {
      "image/png": "[encoded data removed]",
      "text/plain": [
       "<Figure size 432x288 with 1 Axes>"
      ]
     },
     "metadata": {
      "needs_background": "light"
     },
     "output_type": "display_data"
    }
   ],
   "source": [
    "# code here\n",
    "w = sym.symbols('w', real=True)\n",
    "L, N, k = sym.symbols('L N k', integer=True)\n",
    "X = (1 - sym.exp(-1j * w * L)) / (1 - sym.exp(-1j * w))\n",
    "\n",
    "sym.plot(sym.Abs(X.subs({L: 10})), (w, 0, 2 * sym.pi));"
   ]
  },
  {
   "cell_type": "markdown",
   "metadata": {},
   "source": [
    "Clearly, at $X(0) = L$."
   ]
  },
  {
   "cell_type": "code",
   "execution_count": 4,
   "metadata": {},
   "outputs": [
    {
     "data": {
      "image/png": "[encoded data removed]",
      "text/plain": [
       "<Figure size 432x288 with 1 Axes>"
      ]
     },
     "metadata": {
      "needs_background": "light"
     },
     "output_type": "display_data"
    }
   ],
   "source": [
    "sym.plot(sym.arg(X.subs({L: 10})), (w, 0, 2 * sym.pi));"
   ]
  },
  {
   "cell_type": "markdown",
   "metadata": {},
   "source": [
    "The DFT is $X(\\omega)$ evaluated at $\\omega = 2 \\pi k / N$:"
   ]
  },
  {
   "cell_type": "code",
   "execution_count": 5,
   "metadata": {},
   "outputs": [
    {
     "data": {
      "image/png": "[encoded data removed]",
      "text/latex": [
       "$$\\frac{1 - e^{- \\frac{2.0 i \\pi L k}{N}}}{1 - e^{- \\frac{2.0 i \\pi k}{N}}}$$"
      ],
      "text/plain": [
       "     -2.0⋅ⅈ⋅π⋅L⋅k \n",
       "     ─────────────\n",
       "           N      \n",
       "1 - ℯ             \n",
       "──────────────────\n",
       "      -2.0⋅ⅈ⋅π⋅k  \n",
       "      ─────────── \n",
       "           N      \n",
       " 1 - ℯ            "
      ]
     },
     "execution_count": 5,
     "metadata": {},
     "output_type": "execute_result"
    }
   ],
   "source": [
    "X.subs({w: 2 * sym.pi * k / N})"
   ]
  },
  {
   "cell_type": "markdown",
   "metadata": {},
   "source": [
    "If $N=L$ then:"
   ]
  },
  {
   "cell_type": "code",
   "execution_count": 6,
   "metadata": {},
   "outputs": [
    {
     "data": {
      "image/png": "[encoded data removed]",
      "text/latex": [
       "$$\\frac{1 - e^{- 2.0 i \\pi k}}{1 - e^{- \\frac{2.0 i \\pi k}{L}}}$$"
      ],
      "text/plain": [
       "     -2.0⋅ⅈ⋅π⋅k \n",
       "1 - ℯ           \n",
       "────────────────\n",
       "     -2.0⋅ⅈ⋅π⋅k \n",
       "     ───────────\n",
       "          L     \n",
       "1 - ℯ           "
      ]
     },
     "execution_count": 6,
     "metadata": {},
     "output_type": "execute_result"
    }
   ],
   "source": [
    "X.subs({w: 2 * sym.pi * k / L})"
   ]
  },
  {
   "cell_type": "markdown",
   "metadata": {},
   "source": [
    "which is zero for any $k=1, 2, \\ldots, L - 1$, in other words\n",
    "\n",
    "\n",
    "$$X[k] = \\begin{cases}\n",
    "L, & k = 0\\\\\n",
    "0   , & k = 1, 2, \\ldots, L-1  \\\\\n",
    "\\end{cases}\n",
    "$$"
   ]
  },
  {
   "cell_type": "code",
   "execution_count": 7,
   "metadata": {},
   "outputs": [
    {
     "data": {
      "image/png": "[encoded data removed]",
      "text/plain": [
       "<Figure size 432x288 with 1 Axes>"
      ]
     },
     "metadata": {
      "needs_background": "light"
     },
     "output_type": "display_data"
    }
   ],
   "source": [
    "# calculate this numerically as opposed to analytically\n",
    "from numpy.fft import fft  # fft is a fast *implementation* of the dft\n",
    "\n",
    "L = 10\n",
    "x = np.ones(L)\n",
    "plt.stem(abs(fft(x)));  # N = L"
   ]
  },
  {
   "cell_type": "markdown",
   "metadata": {},
   "source": [
    "Although the $L$-point DFT is sufficient to uniquely represent the sequence $x[n]$ in the frequency domain, one can see that it does not provide sufficient detail to give a good picture of the underlying spectral characteristics of $x[n]$. We can interpolate $X(\\omega)$ at more closely-spaced frequencies by increasing $N$, which is equivalent to appending $N-L$ zeros to the sequence, also known as *zero padding*:"
   ]
  },
  {
   "cell_type": "code",
   "execution_count": 11,
   "metadata": {},
   "outputs": [
    {
     "data": {
      "image/png": "[encoded data removed]",
      "text/plain": [
       "<Figure size 432x288 with 2 Axes>"
      ]
     },
     "metadata": {
      "needs_background": "light"
     },
     "output_type": "display_data"
    }
   ],
   "source": [
    "N = 50  # try 50 or 100\n",
    "w = np.arange(N) * 2 * np.pi / N\n",
    "plt.subplot(2,1,1)\n",
    "plt.stem(w, abs(fft(x, N)));  # second argument specifies the desired # of points\n",
    "plt.subplot(2,1,2)\n",
    "plt.stem(w, np.angle(fft(x, N)));  # note what happens when the magnitude is zero"
   ]
  },
  {
   "cell_type": "markdown",
   "metadata": {},
   "source": [
    "### 7.1.4. Relationship of the DFT to Other Transforms\n",
    "\n",
    "#### Relationship to the Fourier series coefficients of a period sequence\n",
    "\n",
    "A periodic sequence can be represented in the form\n",
    "\n",
    "$$ x_p[n] = \\sum_{k=0}^{N-1} c_k e^{j 2 \\pi n k / N} $$\n",
    "\n",
    "where the Fourier coefficients are\n",
    "\n",
    "$$ c_k = \\frac{1}{N} \\sum_{n=0}^{N-1} x_p[n] e^{-j 2 \\pi n k / N}, k=0, 1, \\ldots, N-1$$\n",
    "\n",
    "In comparison, we see that this has the identical form of a DFT; if we let $x[n] = x_p[n], n=0, 1, \\ldots, N-1$, then the DFT is\n",
    "\n",
    "$$X[k] = N c_k$$\n",
    "\n",
    "In conclusion, the $N$-point DFT provides the line spectrum of the periodic extension of a finite signal $x[n]$."
   ]
  },
  {
   "cell_type": "markdown",
   "metadata": {},
   "source": [
    "#### Relationship fo the Fourier transform of an aperiodic sequence\n",
    "\n",
    "We have already shown that given a periodic finite sequence $x[n]$ with Fourier transform $X(\\omega)$, if we sample the spectrum\n",
    "\n",
    "$$X[k] = X(\\omega)|_{\\omega=2 \\pi k / N} = \\sum_{n=-\\infty}^{\\infty} x[n] e^{-j 2 \\pi n k / N}, k=0, 1, \\ldots, N-1 $$\n",
    "\n",
    "then the $X[k]$ are the DFT coefficients of the periodic sequence\n",
    "\n",
    "$$x_p[n] = \\sum_{l=-\\infty}^{\\infty} x[n-lN]$$\n",
    "\n",
    "The finite-duration sequence\n",
    "\n",
    "$$\\hat{x}[n] = \\begin{cases}\n",
    "x_p[n], & 0 \\leq n \\leq N-1 \\\\\n",
    "0   , & \\textrm{otherwise} \\\\\n",
    "\\end{cases}\n",
    "$$\n",
    "\n",
    "is distinct from the original sequence $x[n]$, unless $x[n]$ has finite duration of length $L \\leq N$, in which case $\\hat{x}[n] = x[n]$, and the IDFT of $X[k]$ will return the original sequence $x[n]$."
   ]
  },
  {
   "cell_type": "markdown",
   "metadata": {},
   "source": [
    "#### Relationship to the $z$-transform\n",
    "\n",
    "Consider a sequence $x[n]$ with $z$-transform\n",
    "\n",
    "$$ X(z) = \\sum_{n=-\\infty}^{\\infty} x[n] z^{-n} $$\n",
    "\n",
    "with a ROC that includes the unit circle. If $X(z)$ is sampled we obtain\n",
    "\n",
    "$$ X[k] = X(z)|_{z = e^{j 2 \\pi n k / N}}, k=0, 1, \\ldots, N-1 $$\n",
    "\n",
    "$$ = \\sum_{n=-\\infty}^{\\infty} x[n] e^{-j 2 \\pi n k / N} $$\n",
    "\n",
    "If the sequence $x[n]$ has finite duration of length $\\leq N$, the sequence can be recovered from its $N$-point DFT; thus its $z$-transform is uniquely determined by its $N$-point DFT as follows:\n",
    "\n",
    "$$ X(z) = \\sum_{n=0}^{N-1} x[n] z^{-n} $$\n",
    "\n",
    "$$ = \\sum_{n=0}^{N-1} \\left( \n",
    "\\frac{1}{N} \\sum_{k=0}^{N-1} X[k] e^{j 2 \\pi k n / N}\n",
    "\\right) z^{-n} $$\n",
    "\n",
    "$$ = \\frac{1}{N} \\sum_{k=0}^{N-1} X[k]\n",
    "\\sum_{n=0}^{N-1} e^{j 2 \\pi k n / N}\n",
    "z^{-n} $$\n",
    "\n",
    "$$ = \\frac{1}{N} \\sum_{k=0}^{N-1} X[k]\n",
    "\\sum_{n=0}^{N-1} \n",
    "\\left(\n",
    "e^{j 2 \\pi k / N} z^{-1}\n",
    "\\right)^n $$\n",
    "\n",
    "$$ = \\frac{1}{N} \\sum_{k=0}^{N-1} X[k]\n",
    "\\frac{1 - (e^{j 2 \\pi k})^{N-1} z^{-N}}{1 - e^{j 2 \\pi k / N} z^{-1}}\n",
    "$$\n",
    "\n",
    "$$ = \\frac{1 - z^{-N}}{N} \\sum_{k=0}^{N-1}\n",
    "\\frac{X[k]}{1 - e^{j 2 \\pi k / N} z^{-1}}\n",
    "$$"
   ]
  },
  {
   "cell_type": "markdown",
   "metadata": {},
   "source": [
    "When this expression is evaluated on the unit circle:\n",
    "\n",
    "$$ X(\\omega) = \\frac{1 - e^{-j \\omega N}}{N} \\sum_{k=0}^{N-1}\n",
    "\\frac{X[k]}{1 - e^{j 2 \\pi k / N} e^{-j \\omega}}\n",
    "$$\n",
    "\n",
    "$$ = \\frac{1 - e^{-j \\omega N}}{N} \\sum_{k=0}^{N-1}\n",
    "\\frac{X[k]}{1 - e^{-j (\\omega - 2 \\pi k / N)}}\n",
    "$$\n",
    "\n",
    "it gives an expression for the Fourier Transform in terms of a polynomial (Lagrange) interpolation formula; this is reducable to the interpolation formula seen earlier."
   ]
  }
 ],
 "metadata": {
  "kernelspec": {
   "display_name": "Python 3",
   "language": "python",
   "name": "python3"
  },
  "language_info": {
   "codemirror_mode": {
    "name": "ipython",
    "version": 3
   },
   "file_extension": ".py",
   "mimetype": "text/x-python",
   "name": "python",
   "nbconvert_exporter": "python",
   "pygments_lexer": "ipython3",
   "version": "3.6.5"
  }
 },
 "nbformat": 4,
 "nbformat_minor": 2
}
