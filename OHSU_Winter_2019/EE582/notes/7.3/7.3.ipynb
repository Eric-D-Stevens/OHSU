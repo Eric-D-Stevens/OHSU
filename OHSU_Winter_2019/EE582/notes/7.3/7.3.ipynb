{
 "cells": [
  {
   "cell_type": "code",
   "execution_count": 1,
   "metadata": {},
   "outputs": [],
   "source": [
    "# Content from Proakis\n",
    "# Code © 2019, Alexander Kain\n",
    "import numpy as np\n",
    "from numpy.fft import fft, ifft, rfft, irfft\n",
    "\n",
    "from matplotlib import pyplot as plt\n",
    "%matplotlib inline\n",
    "plt.rcParams['figure.figsize'] = (10.0, 8.0)\n",
    "\n",
    "import sympy as sym\n",
    "sym.init_printing(use_unicode=True)"
   ]
  },
  {
   "cell_type": "markdown",
   "metadata": {},
   "source": [
    "## 7.3 Linear Filtering Methods Based on the DFT\n",
    "We can use the DFT as a computational tool for linear filtering of systems with finite impulse responses. Due to the existence of the FFT this approach is often more efficient than time-domain convolution.\n",
    "\n",
    "### 7.3.1. Use of the DFT in Linear Filtering\n",
    "\n",
    "We know that the product of two DFTs is equivalent to circular convolution. We seek a methodology that is equivalent to linear convolution.\n",
    "\n",
    "Suppose we have $x[n]$ of length $L$ which excites an FIR filter with impulse response $h[n]$ of length $M$:\n",
    "\n",
    "$$ x[n] = 0, \\quad n<0 \\textrm{ and } n \\geq L $$\n",
    "$$ h[n] = 0, \\quad n<0 \\textrm{ and } n \\geq M $$\n",
    "\n",
    "In time domain, the output sequence $y[n]$ can be computed by convolving $x[n]$ and $h[n]$\n",
    "\n",
    "$$ y[n] = \\sum_{k=0}^{M-1} h[k] x[n - k] $$\n",
    "\n",
    "The length of $y[n]$ will be exactly $L + M - 1$.\n",
    "\n",
    "The frequency domain equivalent is\n",
    "\n",
    "$$Y(\\omega) = X(\\omega) H(\\omega) $$\n",
    "\n",
    "If the sequence $y[n]$ is to be represented uniquely in the frequency domain by samples of its spectrum $Y(\\omega)$, the number of distinct samples must equal or exceed $L+M-1$. Therefore, a DFT of size $N \\geq L + M - 1$ is required and\n",
    "\n",
    "$$ Y[k] = X[k] H[k] $$\n",
    "\n",
    "where $X[k]$ and $H[k]$ are the $N$-point DFTs of the sequences $x[n]$ and $h[n]$.\n",
    "\n",
    "This implies that the $N \\geq L + M - 1$-point circular convolution of $x[n]$ with $h[n]$ is *equivalent* to linear convolution."
   ]
  },
  {
   "cell_type": "code",
   "execution_count": 2,
   "metadata": {},
   "outputs": [
    {
     "data": {
      "text/plain": [
       "array([ 1.,  4.,  9., 11.,  8.,  3.])"
      ]
     },
     "execution_count": 2,
     "metadata": {},
     "output_type": "execute_result"
    }
   ],
   "source": [
    "# Example 7.3.1\n",
    "\n",
    "x = np.r_[1, 2, 2, 1]\n",
    "h = np.r_[1, 2, 3]\n",
    "L = len(x)\n",
    "M = len(h)\n",
    "N = L + M - 1\n",
    "\n",
    "# linear convolution\n",
    "y = np.zeros(N)\n",
    "for n in range(N):\n",
    "    for k in range(M):\n",
    "        ix = n-k\n",
    "        if 0 <= ix < L:\n",
    "            y[n] += h[k] * x[ix]\n",
    "\n",
    "assert np.allclose(y, np.convolve(x, h))  # TD library implementation\n",
    "y"
   ]
  },
  {
   "cell_type": "code",
   "execution_count": 3,
   "metadata": {},
   "outputs": [],
   "source": [
    "# aside: list comprehension version\n",
    "y = np.array([\n",
    "        np.sum([h[k] * x[n-k] for k in range(M) if 0 <= (n-k) < L]) \n",
    "        for n in range(N)])\n",
    "    \n",
    "assert np.allclose(y, np.convolve(x, h))"
   ]
  },
  {
   "cell_type": "code",
   "execution_count": 4,
   "metadata": {},
   "outputs": [
    {
     "data": {
      "text/plain": [
       "array([ 1.,  4.,  9., 11.,  8.,  3.])"
      ]
     },
     "execution_count": 4,
     "metadata": {},
     "output_type": "execute_result"
    }
   ],
   "source": [
    "X = rfft(x, N)  # equivalent to zero-padding\n",
    "H = rfft(h, N)\n",
    "Y = X * H\n",
    "y = irfft(Y)\n",
    "\n",
    "from scipy.signal import fftconvolve  \n",
    "assert np.allclose(y, fftconvolve(x,h))  # FD library implementation\n",
    "y"
   ]
  },
  {
   "cell_type": "code",
   "execution_count": 5,
   "metadata": {},
   "outputs": [
    {
     "name": "stdout",
     "output_type": "stream",
     "text": [
      "8\n"
     ]
    },
    {
     "data": {
      "text/plain": [
       "array([ 1.,  4.,  9., 11.,  8.,  3.])"
      ]
     },
     "execution_count": 5,
     "metadata": {},
     "output_type": "execute_result"
    }
   ],
   "source": [
    "fftn = 1 << (N-1).bit_length()  # FFT performs best with powers of two\n",
    "print(fftn)\n",
    "\n",
    "X = rfft(x, fftn)\n",
    "H = rfft(h, fftn)\n",
    "Y = X * H\n",
    "y = irfft(Y)[:N]  # keep only what is needed\n",
    "\n",
    "assert np.allclose(y, fftconvolve(x,h))  # FD library implementation\n",
    "y"
   ]
  },
  {
   "cell_type": "markdown",
   "metadata": {},
   "source": [
    "### 7.3.2. Filtering of long Data Sequences\n",
    "\n",
    "A long signal must be segmented to fixed-size blocks prior to processing, which will then be processed one *segment/block/frame* at a time, and then fit back together."
   ]
  },
  {
   "cell_type": "markdown",
   "metadata": {},
   "source": [
    "#### Overlap-add method\n",
    "\n",
    "In this method, the size of the block is $L$ (it is assumed that $L >> M$), and the size of the DFTs is $N \\geq L + M -1$.\n",
    "\n",
    "The *last* $M-1$ points from each block must be overlapped and added to the *first* $M-1$ points of the succeeding block.\n",
    "\n",
    "![](Fig7.3.2.png )"
   ]
  }
 ],
 "metadata": {
  "kernelspec": {
   "display_name": "Python 3",
   "language": "python",
   "name": "python3"
  },
  "language_info": {
   "codemirror_mode": {
    "name": "ipython",
    "version": 3
   },
   "file_extension": ".py",
   "mimetype": "text/x-python",
   "name": "python",
   "nbconvert_exporter": "python",
   "pygments_lexer": "ipython3",
   "version": "3.6.5"
  }
 },
 "nbformat": 4,
 "nbformat_minor": 2
}
