{
 "cells": [
  {
   "cell_type": "code",
   "execution_count": 1,
   "metadata": {},
   "outputs": [],
   "source": [
    "# Content from Proakis\n",
    "# Code © 2019, Alexander Kain\n",
    "import numpy as np\n",
    "from numpy.fft import fft, ifft, rfft, irfft\n",
    "\n",
    "from matplotlib import pyplot as plt\n",
    "%matplotlib inline\n",
    "plt.rcParams['figure.figsize'] = (10.0, 8.0)\n",
    "\n",
    "import sympy as sym\n",
    "sym.init_printing(use_unicode=True)"
   ]
  },
  {
   "cell_type": "markdown",
   "metadata": {},
   "source": [
    "## 7.2. Properties of the DFT\n",
    "\n",
    "Recall that the DFT is\n",
    "\n",
    "$$ X[k] = \\sum_{n=0}^{N-1} x[n] W_N^{-kn} ,\\quad k=0, 1, \\ldots, N-1 $$\n",
    "\n",
    "and the IDFT is\n",
    "\n",
    "$$ x[n] = \\frac{1}{N} \\sum_{k=0}^{N-1} X[k] W_N^{kn}, \\quad n=0, 1, \\ldots, N-1 $$\n",
    "\n",
    "where\n",
    "\n",
    "$$ W_N = e^{j 2 \\pi / N} $$\n",
    "\n",
    "We now present properties of the DFT; many of them resemble the properties of the discrete-time Fourier transform, but some important differences exist."
   ]
  },
  {
   "cell_type": "markdown",
   "metadata": {},
   "source": [
    "### 7.2.1. Periodicity, Linearity, and Symmetry Properties\n",
    "#### Periodicity\n",
    "\n",
    "Given \n",
    "\n",
    "$$ x[n] \\stackrel{\\textrm{DFT}}{\\longleftrightarrow} X[k] $$\n",
    "\n",
    "then\n",
    "\n",
    "$$ x[n+N] = x[n] $$\n",
    "\n",
    "and\n",
    "\n",
    "$$ X[k+N] = X[k] $$"
   ]
  },
  {
   "cell_type": "markdown",
   "metadata": {},
   "source": [
    "#### Linearity\n",
    "\n",
    "Given\n",
    "\n",
    "$$ x_1[n] \\stackrel{\\textrm{DFT}}{\\longleftrightarrow} X_1[k] $$\n",
    "\n",
    "and\n",
    "\n",
    "$$ x_2[n] \\stackrel{\\textrm{DFT}}{\\longleftrightarrow} X_2[k] $$\n",
    "\n",
    "then\n",
    "\n",
    "$$ a_1 x_1[n] + a_2 x_2[n] \\stackrel{\\textrm{DFT}}{\\longleftrightarrow} a_1 X_1[k] + a_2 X_2[k] $$\n"
   ]
  },
  {
   "cell_type": "markdown",
   "metadata": {},
   "source": [
    "#### Circular Symmetries of a Sequence\n",
    "\n",
    "We know that the $N$-point DFT of a finite duration sequence $x[n]$ of length $L \\leq N$ is equivalent to the $N$-point DFT of a periodic sequence $x_p[n]$ of period $N$ which is obtained by periodically extending $x[n]$\n",
    "\n",
    "$$x_p[n] = \\sum_{l=-\\infty}^{\\infty} x[n-lN]$$\n",
    "\n",
    "Now suppose we shift this sequence to the right by $k$:\n",
    "\n",
    "$$x_p^k = x_p[n-k] = \\sum_{l=-\\infty}^{\\infty} x[n-k-lN]$$\n",
    "\n",
    "Then the finite-duration sequence\n",
    "\n",
    "$$\\hat{x}^k[n] = \\begin{cases}\n",
    "x_p^k[n], & 0 \\leq n \\leq N-1 \\\\\n",
    "0   , & \\textrm{otherwise} \\\\\n",
    "\\end{cases}\n",
    "$$\n",
    "\n",
    "is related to the original sequence $x[n]$ by a *circular shift*."
   ]
  },
  {
   "cell_type": "code",
   "execution_count": 2,
   "metadata": {},
   "outputs": [
    {
     "data": {
      "text/plain": [
       "array([3, 4, 1, 2])"
      ]
     },
     "execution_count": 2,
     "metadata": {},
     "output_type": "execute_result"
    }
   ],
   "source": [
    "# time-domain example\n",
    "x = np.r_[1, 2, 3, 4]\n",
    "np.roll(x, 2)"
   ]
  },
  {
   "cell_type": "markdown",
   "metadata": {},
   "source": [
    "In general, a circular shift of a sequence can be represented as the index modulo $N$\n",
    "\n",
    "$$ x^k[n] = x[n - k \\mod N] $$\n",
    "\n",
    "An $N$-point sequence is called circularly even if\n",
    "\n",
    "$$ x[N - n \\mod N] = x[n] $$\n",
    "\n",
    "It is odd if\n",
    "\n",
    "$$ x[N - n \\mod N] = -x[n] $$\n",
    "\n",
    "Time reversal is given as\n",
    "\n",
    "$$ x[-n \\mod N] = x[N - n] $$\n",
    "\n",
    "Note that these do **not** involve simply reversing the sequences, as the first value remains in place!"
   ]
  },
  {
   "cell_type": "markdown",
   "metadata": {},
   "source": [
    "#### Real-valued sequences\n",
    "\n",
    "If $x[n]$ is real, then\n",
    "\n",
    "$$ X[N-k] = X^*[k] $$\n",
    "\n",
    "and thus also\n",
    "\n",
    "$$ |X[N-k]| = |X[k]| $$\n",
    "\n",
    "and\n",
    "\n",
    "$$ \\angle X[N-k] = - \\angle X[k] $$"
   ]
  },
  {
   "cell_type": "code",
   "execution_count": 3,
   "metadata": {},
   "outputs": [
    {
     "data": {
      "text/plain": [
       "array([28.        , 10.45250372,  5.65685425,  4.3295688 ,  4.        ,\n",
       "        4.3295688 ,  5.65685425, 10.45250372])"
      ]
     },
     "execution_count": 3,
     "metadata": {},
     "output_type": "execute_result"
    },
    {
     "data": {
      "image/png": "[encoded data removed]",
      "text/plain": [
       "<Figure size 432x288 with 1 Axes>"
      ]
     },
     "metadata": {
      "needs_background": "light"
     },
     "output_type": "display_data"
    }
   ],
   "source": [
    "# Example:\n",
    "N = 8  # vary this, and see the difference between even and odd N\n",
    "x = np.arange(N)  # purely real\n",
    "X = fft(x)  # N = len(x) by default\n",
    "Xm = np.abs(X)\n",
    "plt.stem(Xm)\n",
    "Xm # circularly even"
   ]
  },
  {
   "cell_type": "code",
   "execution_count": 4,
   "metadata": {},
   "outputs": [
    {
     "data": {
      "text/plain": [
       "array([ 0.        ,  1.96349541,  2.35619449,  2.74889357,  3.14159265,\n",
       "       -2.74889357, -2.35619449, -1.96349541])"
      ]
     },
     "execution_count": 4,
     "metadata": {},
     "output_type": "execute_result"
    },
    {
     "data": {
      "image/png": "[encoded data removed]",
      "text/plain": [
       "<Figure size 432x288 with 1 Axes>"
      ]
     },
     "metadata": {
      "needs_background": "light"
     },
     "output_type": "display_data"
    }
   ],
   "source": [
    "Xp = np.angle(X)\n",
    "plt.stem(Xp)\n",
    "Xp # circularly odd"
   ]
  },
  {
   "cell_type": "code",
   "execution_count": 5,
   "metadata": {},
   "outputs": [
    {
     "data": {
      "text/plain": [
       "array([7.21411356, 1.50002477, 0.91474414, 0.73892463, 0.71052817,\n",
       "       0.80177994, 1.11461896, 2.43590805])"
      ]
     },
     "execution_count": 5,
     "metadata": {},
     "output_type": "execute_result"
    }
   ],
   "source": [
    "# counter-example using a complex signal\n",
    "x = np.exp(-1j * 2 * np.pi * np.arange(8) / 32)\n",
    "X = fft(x)\n",
    "np.abs(X)  # *not* circularly even"
   ]
  },
  {
   "cell_type": "code",
   "execution_count": 6,
   "metadata": {},
   "outputs": [
    {
     "data": {
      "text/plain": [
       "array([-0.68722339, -0.29452431,  0.09817477,  0.49087385,  0.88357293,\n",
       "        1.27627202,  1.6689711 ,  2.06167018])"
      ]
     },
     "execution_count": 6,
     "metadata": {},
     "output_type": "execute_result"
    }
   ],
   "source": [
    "np.angle(X)  # *not* circularly odd"
   ]
  },
  {
   "cell_type": "markdown",
   "metadata": {},
   "source": [
    "Summary of symmetry properties:\n",
    "\n",
    "![](Tbl7.1.png)"
   ]
  },
  {
   "cell_type": "markdown",
   "metadata": {},
   "source": [
    "### 7.2.2. Multiplication of two DFTs and Circular Convolution\n",
    "\n",
    "Given\n",
    "\n",
    "$$ x_1[n] \\stackrel{N-\\textrm{DFT}}{\\longleftrightarrow} X_1[k] $$\n",
    "\n",
    "and\n",
    "\n",
    "$$ x_2[n] \\stackrel{N-\\textrm{DFT}}{\\longleftrightarrow} X_2[k] $$\n",
    "\n",
    "Now let\n",
    "\n",
    "$$ X_3[k] = X_1[k] \\cdot X_2[k] $$\n",
    "\n",
    "the IDFT of $X_3[k]$ is\n",
    "\n",
    "$$ x_3[m] = \\frac{1}{N} \\sum_{k=0}^{N-1} X_3[k] e^{j 2 \\pi k m / N} $$\n",
    "\n",
    "$$ = \\frac{1}{N} \\sum_{k=0}^{N-1} X_1[k] \\cdot X_2[k] e^{j 2 \\pi k m / N} $$\n",
    "\n",
    "$$ = \\frac{1}{N} \\sum_{k=0}^{N-1} \n",
    "\\left(\n",
    "\\sum_{n=0}^{N-1} x_1[n] e^{-j 2 \\pi k n / N}\n",
    "\\right)\n",
    "\\left(\n",
    "\\sum_{l=0}^{N-1} x_2[l] e^{-j 2 \\pi k l / N}\n",
    "\\right)\n",
    "e^{j 2 \\pi k m / N} $$\n",
    "\n",
    "$$ = \\frac{1}{N} \n",
    "\\sum_{n=0}^{N-1} x_1[n] \n",
    "\\sum_{l=0}^{N-1} x_2[l] \n",
    "\\sum_{k=0}^{N-1} e^{j 2 \\pi k (m - n - l) / N} $$\n",
    "\n",
    "$$ = \\frac{1}{N} \n",
    "\\sum_{n=0}^{N-1} x_1[n] \n",
    "\\sum_{l=0}^{N-1} x_2[l] \n",
    "\\left(\n",
    "\\sum_{k=0}^{N-1} (e^{j 2 \\pi (m - n - l) / N})^k \n",
    "\\right)\n",
    "$$\n",
    "\n",
    "The term is parenthesis is a geometric series where $a$ is defined as  \n",
    "\n",
    "$$ a = e^{j 2 \\pi (m - n - l) / N} $$\n",
    "\n",
    "We observe that $a=1$ when $m-n-l$ is a multiple of $N$; on the other hand, $a^N = 1$ (and the resulting fraction is zero) otherwise and thus\n",
    "\n",
    "$$ \\sum_{k=0}^{N-1} a^k = \\begin{cases}\n",
    "N, & m - n - l = pN \\rightarrow l = m - n - pN = m - n \\mod N \\\\\n",
    "0, & \\textrm{otherwise}\n",
    "\\end{cases} $$\n",
    "\n",
    "Substituting back into the original equation:\n",
    "\n",
    "$$ x_3[m] = \\sum_{n=0}^{N-1} x_1[n] x_2[m-n \\mod N] $$\n",
    "\n",
    "This expression is called *circular* convolution, because of the modulus. In conclusion, the multiplication of the DFTs of two sequences is equivalent to circular convolution of the sequences in time domain."
   ]
  },
  {
   "cell_type": "markdown",
   "metadata": {},
   "source": [
    "Circular convolution involves the same four steps as ordinary linear convolution:\n",
    "\n",
    "1. folding (time-reversing)\n",
    "1. shifting\n",
    "1. multiplying\n",
    "1. summing\n",
    "\n",
    "The fundamental difference is that in circular convolution the folding and shifting operations are perfromed in a circular fashion by computing the index modulo $N$."
   ]
  },
  {
   "cell_type": "code",
   "execution_count": 7,
   "metadata": {},
   "outputs": [
    {
     "data": {
      "text/plain": [
       "array([14, 16, 14, 16])"
      ]
     },
     "execution_count": 7,
     "metadata": {},
     "output_type": "execute_result"
    }
   ],
   "source": [
    "# Example 7.2.1: perform circular convolution\n",
    "\n",
    "N = 4\n",
    "x1 = np.r_[2, 1, 2, 1]\n",
    "x2 = np.r_[1, 2, 3, 4]\n",
    "\n",
    "assert (len(x1) == N) and (len(x2) == N)\n",
    "\n",
    "n = np.arange(N)\n",
    "x3 = np.array([sum(x1[n] * x2[(m - n) % N]) for m in range(N)])\n",
    "x3"
   ]
  },
  {
   "cell_type": "code",
   "execution_count": 8,
   "metadata": {},
   "outputs": [
    {
     "data": {
      "text/plain": [
       "array([14.+0.j, 16.+0.j, 14.+0.j, 16.+0.j])"
      ]
     },
     "execution_count": 8,
     "metadata": {},
     "output_type": "execute_result"
    }
   ],
   "source": [
    "# Example 7.2.2\n",
    "\n",
    "X1 = fft(x1)\n",
    "X2 = fft(x2)\n",
    "X3 = X1 * X2\n",
    "x3 = ifft(X3)\n",
    "x3"
   ]
  },
  {
   "cell_type": "code",
   "execution_count": 9,
   "metadata": {},
   "outputs": [
    {
     "data": {
      "text/plain": [
       "array([14., 16., 14., 16.])"
      ]
     },
     "execution_count": 9,
     "metadata": {},
     "output_type": "execute_result"
    }
   ],
   "source": [
    "x3 = ifft(X3).real  # because floating point imprecision create small imaginary parts\n",
    "x3"
   ]
  },
  {
   "cell_type": "code",
   "execution_count": 10,
   "metadata": {},
   "outputs": [
    {
     "data": {
      "text/plain": [
       "array([14., 16., 14., 16.])"
      ]
     },
     "execution_count": 10,
     "metadata": {},
     "output_type": "execute_result"
    }
   ],
   "source": [
    "# or use the fft that assumes real signals: rfft\n",
    "X1 = rfft(x1)\n",
    "X2 = rfft(x2)\n",
    "X3 = X1 * X2\n",
    "x3 = irfft(X3)\n",
    "x3"
   ]
  },
  {
   "cell_type": "markdown",
   "metadata": {},
   "source": [
    "Formally, given\n",
    "\n",
    "$$ x_1[n] \\stackrel{N-\\textrm{DFT}}{\\longleftrightarrow} X_1[k] $$\n",
    "\n",
    "and\n",
    "\n",
    "$$ x_2[n] \\stackrel{N-\\textrm{DFT}}{\\longleftrightarrow} X_2[k] $$\n",
    "\n",
    "then\n",
    "\n",
    "$$ x_1[n] \\stackrel{N}{\\circledast} x_2[n] \\stackrel{N-\\textrm{DFT}}{\\longleftrightarrow} X_1[k]X_2[k] $$\n"
   ]
  },
  {
   "cell_type": "markdown",
   "metadata": {},
   "source": [
    "### 7.2.3. Additional DFT Properties\n",
    "#### Time Reversal\n",
    "\n",
    "If \n",
    "\n",
    "$$ x[n] \\stackrel{N-\\textrm{DFT}}{\\longleftrightarrow} X[k] $$\n",
    "\n",
    "then\n",
    "\n",
    "$$ x[-n \\mod N] = x[N-n] \\stackrel{N-\\textrm{DFT}}{\\longleftrightarrow} X[-k \\mod N] = X[N-k] $$\n"
   ]
  },
  {
   "cell_type": "markdown",
   "metadata": {},
   "source": [
    "Proof:\n",
    "\n",
    "$$ X[k] = \\sum_{n=0}^{N-1} x[N-n] e^{-j 2 \\pi k n / N} $$\n",
    "\n",
    "Let $m=N-n$ (and thus $n=N-m$):\n",
    "\n",
    "$$ = \\sum_{m=1}^{N} x[m] e^{-j 2 \\pi k (N-m) / N} $$\n",
    "\n",
    "$$ = \\sum_{m=0}^{N-1} x[m] e^{-j 2 \\pi k (N - m) / N} $$\n",
    "\n",
    "$$ = \\sum_{m=0}^{N-1} x[m] e^{j 2 \\pi k m / N} $$\n",
    "\n",
    "$$ = \\sum_{m=0}^{N-1} x[m] e^{-j 2 \\pi (N - k) m / N} $$\n",
    "\n",
    "$$ = X[N-k] $$"
   ]
  },
  {
   "cell_type": "code",
   "execution_count": 11,
   "metadata": {},
   "outputs": [
    {
     "name": "stdout",
     "output_type": "stream",
     "text": [
      "[0 1 2 3 4 5 6 7] <--> \n",
      "[28.+0.j         -4.+9.65685425j -4.+4.j         -4.+1.65685425j\n",
      " -4.+0.j         -4.-1.65685425j -4.-4.j         -4.-9.65685425j]\n",
      "[0 7 6 5 4 3 2 1] <--> \n",
      "[28.+0.j         -4.-9.65685425j -4.-4.j         -4.-1.65685425j\n",
      " -4.+0.j         -4.+1.65685425j -4.+4.j         -4.+9.65685425j]\n"
     ]
    }
   ],
   "source": [
    "f = np.r_[0, 1, 2, 3, 4, 5, 6, 7]\n",
    "N = len(f)\n",
    "\n",
    "F = fft(f)\n",
    "print(f\"{f} <--> \\n{F}\")\n",
    "\n",
    "b = np.array([f[-i % N] for i in range(N)])  # note b != f[::-1]\n",
    "B = fft(b)\n",
    "print(f\"{b} <--> \\n{B}\")\n",
    "\n",
    "B2 = np.array([F[-i % N] for i in range(N)])\n",
    "assert np.allclose(B, B2)"
   ]
  },
  {
   "cell_type": "markdown",
   "metadata": {},
   "source": [
    "#### Circular time shift\n",
    "\n",
    "If \n",
    "\n",
    "$$ x[n] \\stackrel{N-\\textrm{DFT}}{\\longleftrightarrow} X[k] $$\n",
    "\n",
    "then\n",
    "\n",
    "$$ x[n - l \\mod N] \\stackrel{N-\\textrm{DFT}}{\\longleftrightarrow} X[k] e^{-j 2 \\pi k l / N} $$"
   ]
  },
  {
   "cell_type": "markdown",
   "metadata": {},
   "source": [
    "Proof:\n",
    "\n",
    "$$ X[k] = \\sum_{n=0}^{N-1} x[n - l \\mod N] e^{-j 2 \\pi k n / N} $$\n",
    "\n",
    "$$ = \\sum_{n=0}^{l-1} x[n - l \\mod N] e^{-j 2 \\pi k n / N} +\n",
    "\\sum_{n=l}^{N-1} x[n - l \\mod N] e^{-j 2 \\pi k n / N} $$\n",
    "\n",
    "$$ = \\sum_{n=0}^{l-1} x[n - l + N] e^{-j 2 \\pi k n / N} +\n",
    "\\sum_{n=l}^{N-1} x[n - l] e^{-j 2 \\pi k n / N} $$\n",
    "\n",
    "$$ = \\sum_{m=N-l}^{N-1} x[m] e^{-j 2 \\pi k (m+l-N) / N} +\n",
    "\\sum_{m=0}^{N-l-1} x[m] e^{-j 2 \\pi k (m + l) / N} $$\n",
    "\n",
    "$$ = \\sum_{m=0}^{N-1} x[m] e^{-j 2 \\pi k (m+l) / N} $$\n",
    "\n",
    "$$ = \\left( \\sum_{m=0}^{N-1} x[m] e^{-j 2 \\pi k m / N} \\right) \n",
    "e^{-j 2 \\pi k l / N} $$\n",
    "\n",
    "$$ = X[k] e^{-j 2 \\pi k l / N} $$\n"
   ]
  },
  {
   "cell_type": "code",
   "execution_count": 12,
   "metadata": {},
   "outputs": [
    {
     "data": {
      "image/png": "[encoded data removed]",
      "text/plain": [
       "<Figure size 432x288 with 2 Axes>"
      ]
     },
     "metadata": {
      "needs_background": "light"
     },
     "output_type": "display_data"
    }
   ],
   "source": [
    "N = 8\n",
    "x = np.arange(N)\n",
    "X = fft(x)\n",
    "\n",
    "shift = 1\n",
    "x2 = np.roll(x, shift)\n",
    "X2 = fft(x2)\n",
    "\n",
    "plt.subplot(211)\n",
    "plt.stem(abs(X), linefmt='r')\n",
    "plt.stem(abs(X2), linefmt='b')\n",
    "plt.subplot(212)\n",
    "plt.stem(np.angle(X), linefmt='r')\n",
    "plt.stem(np.angle(X2), linefmt='b')\n",
    "\n",
    "assert np.allclose(X2, X * np.exp(-1j * 2 * np.pi * np.arange(N) * shift / N))"
   ]
  },
  {
   "cell_type": "markdown",
   "metadata": {},
   "source": [
    "#### Circular frequency shift\n",
    "\n",
    "If \n",
    "\n",
    "$$ x[n] \\stackrel{N-\\textrm{DFT}}{\\longleftrightarrow} X[k] $$\n",
    "\n",
    "then\n",
    "\n",
    "$$ x[n] e^{j 2 \\pi l n / N} \\stackrel{N-\\textrm{DFT}}{\\longleftrightarrow} X[k-l \\mod N]  $$\n",
    "\n",
    "The multiplication of the sequence $x[n]$ with the complex exponential sequence $e^{j 2 \\pi l n / N}$ is equivalent to the circular shift of the DFT by $l$ units in frequency."
   ]
  },
  {
   "cell_type": "markdown",
   "metadata": {},
   "source": [
    "#### Complex-conjugate properties\n",
    "\n",
    "If \n",
    "\n",
    "$$ x[n] \\stackrel{N-\\textrm{DFT}}{\\longleftrightarrow} X[k] $$\n",
    "\n",
    "then\n",
    "\n",
    "$$ x^*[n] \\stackrel{N-\\textrm{DFT}}{\\longleftrightarrow} X^*[-k \\mod N] $$\n",
    "\n",
    "and\n",
    "\n",
    "$$ x^*[-n \\mod N] \\stackrel{N-\\textrm{DFT}}{\\longleftrightarrow} X^*[k] $$"
   ]
  },
  {
   "cell_type": "markdown",
   "metadata": {},
   "source": [
    "#### Circular correlation\n",
    "If \n",
    "\n",
    "$$ x[n] \\stackrel{N-\\textrm{DFT}}{\\longleftrightarrow} X[k] $$\n",
    "\n",
    "and\n",
    "\n",
    "$$ y[n] \\stackrel{N-\\textrm{DFT}}{\\longleftrightarrow} Y[k] $$\n",
    "\n",
    "then\n",
    "\n",
    "$$ \\tilde{r}_{xy}[l] \\stackrel{N-\\textrm{DFT}}{\\longleftrightarrow} \\tilde{R}_{xy}[k] = X[k] Y^*[k] $$\n",
    "\n",
    "where $\\tilde{r}_{xy}[l]$ is the unnormalized circular crosscorrelation sequence\n",
    "\n",
    "$$ \\tilde{r}_{xy}[l] = \\sum_{k=0}^{N-1} x[n] y^*[n - l \\mod N] $$\n",
    "\n",
    "Recall that we can also write\n",
    "\n",
    "$$ \\tilde{r}_{xy}[l] = x[l] \\stackrel{N}{\\circledast} y*[-l \\mod N] $$\n",
    "\n",
    "and thus the proof is similar to the one for circular convolution."
   ]
  },
  {
   "cell_type": "markdown",
   "metadata": {},
   "source": [
    "#### Multiplication\n",
    "If \n",
    "\n",
    "$$ x_1[n] \\stackrel{N-\\textrm{DFT}}{\\longleftrightarrow} X_1[k] $$\n",
    "\n",
    "and\n",
    "\n",
    "$$ x_2[n] \\stackrel{N-\\textrm{DFT}}{\\longleftrightarrow} X_2[k] $$\n",
    "\n",
    "then\n",
    "\n",
    "$$ x_1[n] x_2[n] \\stackrel{N-\\textrm{DFT}}{\\longleftrightarrow} \n",
    "\\frac{1}{N} X_1[k] \\stackrel{N}{\\circledast} X_2[k] $$"
   ]
  },
  {
   "cell_type": "markdown",
   "metadata": {},
   "source": [
    "#### Parseval's Theorem\n",
    "If \n",
    "\n",
    "$$ x[n] \\stackrel{N-\\textrm{DFT}}{\\longleftrightarrow} X[k] $$\n",
    "\n",
    "and\n",
    "\n",
    "$$ y[n] \\stackrel{N-\\textrm{DFT}}{\\longleftrightarrow} Y[k] $$\n",
    "\n",
    "then\n",
    "\n",
    "$$ \\sum_{n=0}^{N-1} x[n] y^*[n] = \\frac{1}{N} \\sum_{k=0}^{N-1} X[k] Y^*[k] $$ "
   ]
  },
  {
   "cell_type": "markdown",
   "metadata": {},
   "source": [
    "Proof:\n",
    "\n",
    "From the circular correlation property we have\n",
    "\n",
    "$$ \\tilde{r}_{xy}[0] = \\sum_{k=0}^{N-1} x[n] y^*[n] $$\n",
    "\n",
    "and taking the IDFT of \n",
    "\n",
    "$$ \\tilde{R}_{xy}[k] = X[k] Y^{*}[k] $$\n",
    "\n",
    "results in\n",
    "\n",
    "$$ \\tilde{r}_{xy}[l] = \\frac{1}{N} \\sum_{k=0}^{N-1} \\tilde{R}_{xy}[k] e^{j 2 \\pi k l / N} $$\n",
    "\n",
    "$$ = \\frac{1}{N} \\sum_{k=0}^{N-1} X[k] Y^*[k] e^{j 2 \\pi k l / N} $$\n",
    "\n",
    "and thus at $l=0$\n",
    "\n",
    "$$ \\tilde{r}_{xy}[0] = \\frac{1}{N} \\sum_{k=0}^{N-1} X[k] Y^*[k] $$"
   ]
  },
  {
   "cell_type": "markdown",
   "metadata": {},
   "source": [
    "When $x[n] = y[n]$\n",
    "\n",
    "$$ \\sum_{n=0}^{N-1} \\left| x[n] \\right|^2 = \\frac{1}{N} \\sum_{k=0}^{N-1} \\left| X[k] \\right|^2 $$"
   ]
  },
  {
   "cell_type": "code",
   "execution_count": 13,
   "metadata": {},
   "outputs": [],
   "source": [
    "x = np.arange(8)\n",
    "N = len(x)\n",
    "X = fft(x)\n",
    "\n",
    "assert np.allclose(np.sum(np.abs(x) ** 2), np.sum(np.abs(X) ** 2) / N)"
   ]
  },
  {
   "cell_type": "markdown",
   "metadata": {},
   "source": [
    "Summary of properties:\n",
    "\n",
    "![](Tbl7.2.png)"
   ]
  }
 ],
 "metadata": {
  "kernelspec": {
   "display_name": "Python 3",
   "language": "python",
   "name": "python3"
  },
  "language_info": {
   "codemirror_mode": {
    "name": "ipython",
    "version": 3
   },
   "file_extension": ".py",
   "mimetype": "text/x-python",
   "name": "python",
   "nbconvert_exporter": "python",
   "pygments_lexer": "ipython3",
   "version": "3.6.5"
  }
 },
 "nbformat": 4,
 "nbformat_minor": 2
}
