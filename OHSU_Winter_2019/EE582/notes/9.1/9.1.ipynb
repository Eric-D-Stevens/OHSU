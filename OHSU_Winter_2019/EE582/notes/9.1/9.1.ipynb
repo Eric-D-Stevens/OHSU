{
 "cells": [
  {
   "cell_type": "code",
   "execution_count": 1,
   "metadata": {},
   "outputs": [],
   "source": [
    "# Content from Proakis\n",
    "# Code © 2019, Alexander Kain\n",
    "import numpy as np\n",
    "from matplotlib import pyplot as plt\n",
    "%matplotlib inline"
   ]
  },
  {
   "cell_type": "markdown",
   "metadata": {},
   "source": [
    "# 9 Implementation of Discrete-Time Systems\n",
    "\n",
    "## 9.1 Structures for the realization of discrete-time systems\n",
    "\n",
    "A linear time-invariant (LTI) discrete-time systems given by the general constant-coefficient difference equation\n",
    "\n",
    "$$ y[n] = -\\sum_{k=1}^{N-1} a_k y[n-k] + \\sum_{k=0}^{M-1} b_k x[n-k] $$\n",
    "\n",
    "with $z$-transform\n",
    "\n",
    "$$ H(z) = \\frac{\\sum_{k=0}^{M-1} b_k z^{-k}}\n",
    "{1 + \\sum_{k=1}^{N-1} a_k z^{-k}} $$\n",
    "\n",
    "can be implemented in various ways algorithmically, depending on these major factors:\n",
    "\n",
    "* Computational complexity\n",
    "* Memory requirements\n",
    "* Finite-word-length effects"
   ]
  },
  {
   "cell_type": "markdown",
   "metadata": {},
   "source": [
    "## 9.2  Structures for FIR systems\n",
    "\n",
    "Given are\n",
    "\n",
    "$$ y[n] = \\sum_{k=0}^{M-1} b_k x[n-k] $$\n",
    "\n",
    "with $z$-transform\n",
    "\n",
    "$$ H(z) = \\sum_{k=0}^{M-1} b_k z^{-k} $$\n",
    "\n",
    "Note that the unit sample response of a FIR system is identical to the ${b_k}$ coefficients:\n",
    "\n",
    "$$ h[n] = \\begin{cases}\n",
    "b_n, & 0 \\leq n \\leq M-1 \\\\\n",
    "0, & \\textrm{otherwise}\n",
    "\\end{cases} $$\n",
    "\n",
    "One implementation that we have already seen elsewhere is via the FFT."
   ]
  },
  {
   "cell_type": "markdown",
   "metadata": {},
   "source": [
    "### 9.2.1. Direct-Form Structure\n",
    "\n",
    "$$ y[n] = \\sum_{k=0}^{M-1} b_k x[n - k] $$\n",
    "\n",
    "In general, this requires $M-1$ memory locations, $M$ multiplications, and $M-1$ additions.\n",
    "\n",
    "![](Fig9.2.1.jpeg)"
   ]
  },
  {
   "cell_type": "code",
   "execution_count": 2,
   "metadata": {},
   "outputs": [
    {
     "data": {
      "text/plain": [
       "array([ 9.,  7.,  5.,  3., -1.,  2.,  0.])"
      ]
     },
     "execution_count": 2,
     "metadata": {},
     "output_type": "execute_result"
    }
   ],
   "source": [
    "def fir_filter(b, x):\n",
    "    Nb = len(b)\n",
    "    assert Nb > 1\n",
    "    zb = np.zeros(Nb - 1)\n",
    "    y = np.empty_like(x)\n",
    "    for n in range(len(x)):\n",
    "        y[n] = b[0] * x[n] + (b[1:] * zb).sum()\n",
    "        zb[1:] = zb[:-1]  # shift stack\n",
    "        zb[0] = x[n]   # feed stack\n",
    "    return y\n",
    "\n",
    "from scipy.signal import unit_impulse\n",
    "\n",
    "x = unit_impulse(7)\n",
    "b = np.array([9, 7, 5, 3, -1, 2])\n",
    "y = fir_filter(b, x)\n",
    "y"
   ]
  },
  {
   "cell_type": "code",
   "execution_count": 3,
   "metadata": {},
   "outputs": [],
   "source": [
    "# using the library (but this implementation is different as we will see later)\n",
    "from scipy.signal import lfilter\n",
    "\n",
    "y2 = lfilter(b, [1], x)  # setting a_0 = 1\n",
    "assert np.allclose(y2, y)"
   ]
  },
  {
   "cell_type": "code",
   "execution_count": 4,
   "metadata": {},
   "outputs": [
    {
     "data": {
      "text/plain": [
       "array([ 9.,  7.,  5.,  3., -1.,  2.,  0.,  0.,  0.,  0.,  0.,  0.])"
      ]
     },
     "execution_count": 4,
     "metadata": {},
     "output_type": "execute_result"
    }
   ],
   "source": [
    "# equivalent\n",
    "y2 = np.convolve(b, x)\n",
    "assert np.allclose(y2[:len(y)],  y)\n",
    "y2"
   ]
  },
  {
   "cell_type": "code",
   "execution_count": 5,
   "metadata": {},
   "outputs": [
    {
     "data": {
      "text/plain": [
       "array([ 9.00000000e+00,  7.00000000e+00,  5.00000000e+00,  3.00000000e+00,\n",
       "       -1.00000000e+00,  2.00000000e+00,  0.00000000e+00, -4.44089210e-16,\n",
       "        0.00000000e+00,  2.22044605e-16,  5.55111512e-16, -4.44089210e-16])"
      ]
     },
     "execution_count": 5,
     "metadata": {},
     "output_type": "execute_result"
    }
   ],
   "source": [
    "# equivalent; for very long b, x, or both\n",
    "from scipy.signal import fftconvolve\n",
    "\n",
    "y2 = fftconvolve(b, x)  # note numerical precision errors\n",
    "assert np.allclose(y2[:len(y)],  y)\n",
    "y2"
   ]
  },
  {
   "cell_type": "markdown",
   "metadata": {},
   "source": [
    "### 9.2.2. Cascade-Form Structures\n",
    "\n",
    "We factor $H(z)$ into second-order systems (SOS) so that\n",
    "\n",
    "$$ H(z) = \\sum_{k=0}^{M-1} b_k z^{-k} = \\prod_{k=1}^K H_k(z) $$\n",
    "\n",
    "where\n",
    "\n",
    "$$ H_k(z) = b_{k,0} + b_{k,1} z^{-1} + b_{k,2}z^{-2}$$\n",
    "and $K$ is $(M + 1) \\backslash 2$ (integer division).\n",
    "\n",
    "The gain factor can be distributed:\n",
    "\n",
    "$$b_0 = b_{1,0} b_{2,0} \\cdots b_{K,0} $$\n",
    "\n",
    "It is desireable to form pairs of complex-conjugate roots so that the coefficients remain real-valued; real-valued roots can be paired in an arbitrary manner.\n",
    "\n",
    "The advantage of this structure is that it can provide better numerical precision.\n",
    "\n",
    "![](Fig9.2.3.jpeg)"
   ]
  },
  {
   "cell_type": "code",
   "execution_count": 6,
   "metadata": {},
   "outputs": [
    {
     "data": {
      "text/plain": [
       "(array([1., 0., 0., 0., 0., 0., 0.]), array([ 9,  7,  5,  3, -1,  2]))"
      ]
     },
     "execution_count": 6,
     "metadata": {},
     "output_type": "execute_result"
    }
   ],
   "source": [
    "# example\n",
    "x, b"
   ]
  },
  {
   "cell_type": "code",
   "execution_count": 7,
   "metadata": {},
   "outputs": [
    {
     "data": {
      "text/plain": [
       "array([-0.95547214+0.j        , -0.25008834+0.83349746j,\n",
       "       -0.25008834-0.83349746j,  0.33893552+0.43846708j,\n",
       "        0.33893552-0.43846708j])"
      ]
     },
     "execution_count": 7,
     "metadata": {},
     "output_type": "execute_result"
    }
   ],
   "source": [
    "k = b[0]  # gain\n",
    "z = np.roots(b / k)\n",
    "z"
   ]
  },
  {
   "cell_type": "code",
   "execution_count": 8,
   "metadata": {},
   "outputs": [
    {
     "data": {
      "image/png": "[encoded data removed]",
      "text/plain": [
       "<Figure size 432x288 with 1 Axes>"
      ]
     },
     "metadata": {
      "needs_background": "light"
     },
     "output_type": "display_data"
    }
   ],
   "source": [
    "# visualize\n",
    "from matplotlib.patches import Circle\n",
    "\n",
    "def zplane(z=np.array([]), p=np.array([])):\n",
    "    \"\"\"draw z-plane with poles and zeros\"\"\"\n",
    "    plt.plot(p.real, p.imag, 'rx')  # poles\n",
    "    plt.plot(z.real, z.imag, 'go')  # zeros\n",
    "    \n",
    "    ax = plt.gca()\n",
    "    ax.add_patch(Circle((0,0), radius=1, fill=False))\n",
    "    ax.spines['left'].set_position('center') \n",
    "    ax.spines['bottom'].set_position('center') \n",
    "    ax.spines['right'].set_visible(False) \n",
    "    ax.spines['top'].set_visible(False)\n",
    "    ax.set_aspect('equal')\n",
    "    ax.axis([-1.2, 1.2, -1.2, 1.2])\n",
    "    \n",
    "zplane(z)"
   ]
  },
  {
   "cell_type": "code",
   "execution_count": 9,
   "metadata": {},
   "outputs": [
    {
     "data": {
      "text/plain": [
       "(array([1.        , 0.95547214]),\n",
       " array([9.        , 4.50159008, 6.8153597 ]),\n",
       " array([ 1.        , -0.67787104,  0.30713067]))"
      ]
     },
     "execution_count": 9,
     "metadata": {},
     "output_type": "execute_result"
    }
   ],
   "source": [
    "b0 = np.poly(z[0]) \n",
    "b1 = np.poly(z[1:3]) * k  # applying gain here, to match later built-in solution\n",
    "b2 = np.poly(z[3:5])\n",
    "b0, b1, b2"
   ]
  },
  {
   "cell_type": "code",
   "execution_count": 10,
   "metadata": {},
   "outputs": [],
   "source": [
    "# check correctness\n",
    "b_hat = np.convolve(np.convolve(b0, b1), b2)\n",
    "assert np.allclose(b_hat, b)"
   ]
  },
  {
   "cell_type": "code",
   "execution_count": 11,
   "metadata": {},
   "outputs": [],
   "source": [
    "y0 = fir_filter(b0, x)\n",
    "y1 = fir_filter(b1, y0)\n",
    "y2 = fir_filter(b2, y1) \n",
    "assert np.allclose(y2,  y)"
   ]
  },
  {
   "cell_type": "code",
   "execution_count": 12,
   "metadata": {},
   "outputs": [
    {
     "data": {
      "text/plain": [
       "array([[ 9.        ,  4.50159008,  6.8153597 ,  1.        ,  0.        ,\n",
       "         0.        ],\n",
       "       [ 1.        , -0.67787104,  0.30713067,  1.        ,  0.        ,\n",
       "         0.        ],\n",
       "       [ 1.        ,  0.95547214,  0.        ,  1.        ,  0.        ,\n",
       "         0.        ]])"
      ]
     },
     "execution_count": 12,
     "metadata": {},
     "output_type": "execute_result"
    }
   ],
   "source": [
    "# using the library\n",
    "from scipy.signal import tf2sos, sosfilt\n",
    "\n",
    "sos = tf2sos(b, [1])  # setting a_0 = 1\n",
    "sos\n",
    "# Each row corresponds to a second-order section, \n",
    "# with the first three columns providing the numerator coefficients,\n",
    "# and the last three providing the denominator coefficients."
   ]
  },
  {
   "cell_type": "code",
   "execution_count": 13,
   "metadata": {},
   "outputs": [],
   "source": [
    "y2 = sosfilt(sos, x)\n",
    "assert np.allclose(y2,  y)"
   ]
  },
  {
   "cell_type": "code",
   "execution_count": 14,
   "metadata": {},
   "outputs": [
    {
     "data": {
      "image/png": "[encoded data removed]",
      "text/plain": [
       "<Figure size 432x288 with 1 Axes>"
      ]
     },
     "metadata": {
      "needs_background": "light"
     },
     "output_type": "display_data"
    }
   ],
   "source": [
    "# example from scipy.signal.sosfilt documentation,\n",
    "# showing the instability that results from trying to \n",
    "# do a 13th-order filter in a single stage,\n",
    "# the numerical error pushes some poles outside of the unit circle\n",
    "from scipy.signal import ellip  # elliptical filter design \n",
    "\n",
    "b, a = ellip(13, 0.009, 80, 0.05, output='ba')  # unstable\n",
    "sos = ellip(13, 0.009, 80, 0.05, output='sos')  # stable\n",
    "x = unit_impulse(700)\n",
    "y_tf = lfilter(b, a, x)\n",
    "y_sos = sosfilt(sos, x)\n",
    "plt.plot(y_tf, 'r', label='TF')\n",
    "plt.plot(y_sos, 'g', label='SOS');"
   ]
  },
  {
   "cell_type": "markdown",
   "metadata": {},
   "source": [
    "### 9.2.4 Lattice Structure\n",
    "\n",
    "Consider a *sequence* of FIR filters with system functions\n",
    "\n",
    "$$ H_m(z) = A_m(z) \\quad m=0,1,\\ldots, M-1 $$\n",
    "\n",
    "where\n",
    "\n",
    "$$ A_m(z) = 1 + \\sum_{k=1}^m \\alpha_m [k] z^{-k} = \\sum_{k=0}^m \\alpha_m [k] z^{-k} $$\n",
    "\n",
    "and $\\alpha_0 \\equiv 1$ and thus $A_0(z) = 1$. The subscript $m$ denotes the degree of the polynomials.\n",
    "\n",
    "The unit sample response of the $m^\\textrm{th}$ filter is $h_m[k] = \\alpha_m [k]$, for $k=1, 2, \\ldots, m$. \n",
    "\n",
    "Given input $x[n]$ and output $y[n]$ we obtain\n",
    "\n",
    "$$ y[n] = x[n] + \\sum_{k=1}^{m} \\alpha_m [k] x[n-k]$$"
   ]
  },
  {
   "cell_type": "markdown",
   "metadata": {},
   "source": [
    "Suppose $m=1$, then\n",
    "\n",
    "$$ y[n] = x[n] + \\alpha_1[1] x[n-1] $$\n",
    "\n",
    "This output can be obtained using a first-order or single-stage *lattice* filter:\n",
    "\n",
    "![](Fig9.2.9.jpeg)\n",
    "\n",
    "where we let the *reflection coefficient* $K_1 = \\alpha_1[1]$."
   ]
  },
  {
   "cell_type": "markdown",
   "metadata": {},
   "source": [
    "Now let $m=2$. The output is\n",
    "\n",
    "$$ y[n] = x[n] + \\alpha_2[1] x[n-1] + \\alpha_2[2] x[n-2]$$\n",
    "\n",
    "By cascading the single-stage lattice it is possible to obtain the same output:\n",
    "\n",
    "![](Fig9.2.10.jpeg)\n",
    "\n",
    "because \n",
    "\n",
    "$$ f_0[n] = g_0[n] = x[n] $$\n",
    "\n",
    "the output of the first stage is\n",
    "\n",
    "$$ f_1[n] = f_0[n] + K_1 g_0[n-1] = x[n] + K_1 x[n-1] $$\n",
    "$$ g_1[n] = K_1 f_0[n] + g_0[n-1] = K_1 x[n] + x[n-1] $$\n",
    "\n",
    "the top output of the second stage is\n",
    "\n",
    "$$ y[n] = f_2[n] = f_1[n] + K_2 g_1[n-1] $$\n",
    "$$ = \\left(x[n] + K_1 x[n-1] \\right) + K_2 \\left( K_1 x[n-1] + x[n-2] \\right) $$\n",
    "$$ = x[n] + K_1 (1 + K_2) x[n-1] + K_2 x [n-2]$$\n",
    "\n",
    "Comparing to the direct-form equation above we see that $\\alpha_2[1] = K_1 (1 + K_2)$ and $\\alpha_2[2] = K_2$, or equivalently $K_2 = \\alpha_2[2]$ and $K_1 = \\alpha_2[1] / (1 + \\alpha_2[2])$."
   ]
  },
  {
   "cell_type": "markdown",
   "metadata": {},
   "source": [
    "Using a proof by induction, we can demonstrate the equivalence between an $m^\\textrm{th}$-order direct-form FIR filter and an $m^\\textrm{th}$-order/stage lattice filter, generally described by the following set of order-recursive equations. To start, let $m=0$:\n",
    "\n",
    "$$ f_0[n] = g_0[n] = x[n] $$\n",
    "\n",
    "Then, for $m=1, 2, \\ldots, M-1$\n",
    "\n",
    "$$ f_m[n] = f_{m-1}[n] + K_m g_{m-1}[n-1] $$\n",
    "$$ g_m[n] = K_m f_{m-1}[n] + g_{m-1}[n-1] $$\n",
    "\n",
    "Finally,\n",
    "\n",
    "$$y[n] = f_{M-1}[n] $$\n",
    "\n",
    "![](Fig9.2.11.jpeg)"
   ]
  },
  {
   "cell_type": "markdown",
   "metadata": {},
   "source": [
    "To convert direct-form filter coefficients to lattice coefficients, let $m=M-1, M-2, \\ldots, 1$ and calculate\n",
    "\n",
    "$$ K_m = \\alpha_m [m] $$\n",
    "$$ \\alpha_{m-1}[0] = 1 $$\n",
    "\n",
    "\n",
    "$$ \\alpha_{m-1}[k] = \\frac{\\alpha_m[k] - \\alpha_m[m] \\alpha_m[m-k]}{1 - \\alpha_m^2[m]} \\quad k=1, 2, \\ldots, m-1 $$\n",
    "\n",
    "Note that this requires $|K_m| < 1$, otherwise $A_{m-1}(z)$ has a root on the unit circle, which needs to be factored out first."
   ]
  },
  {
   "cell_type": "code",
   "execution_count": 15,
   "metadata": {},
   "outputs": [
    {
     "data": {
      "text/plain": [
       "array([1.        , 0.25      , 0.5       , 0.33333333])"
      ]
     },
     "execution_count": 15,
     "metadata": {},
     "output_type": "execute_result"
    }
   ],
   "source": [
    "# Example 9.2.3\n",
    "\n",
    "def tf2latc(b):\n",
    "    M = len(b)\n",
    "    K = np.zeros(M)\n",
    "    K[0] = 1  # implicit\n",
    "    b = b / b[0]\n",
    "    b1 = np.empty_like(b)  # allocate memory for the new time-step\n",
    "    for m in range(M - 1, 0, -1):\n",
    "        K[m] = b[m]\n",
    "        b1[0] = 1\n",
    "        for k in range(1, m):\n",
    "            b1[k] = (b[k] - b[m] * b[m-k]) / (1 - b[m] * b[m])\n",
    "        b[:] = b1  # switch\n",
    "    return K\n",
    "\n",
    "b = np.array([1, 13/24, 5/8, 1/3])\n",
    "k = tf2latc(b)\n",
    "k"
   ]
  },
  {
   "cell_type": "markdown",
   "metadata": {},
   "source": [
    "To convert from lattice coefficients to direct-form filter coefficients, let $m=1, 2, \\ldots, M-1$ and calculate\n",
    "\n",
    "$$ \\alpha_m[0] = 1 $$\n",
    "$$ \\alpha_m[m] = K_m $$\n",
    "$$ \\alpha_m[k] = \\alpha_{m-1}[k] + \\alpha_m[m] \\alpha_{m-1}[m-k] \\quad k=1, 2, \\ldots, m-1 $$"
   ]
  }
 ],
 "metadata": {
  "kernelspec": {
   "display_name": "Python 3",
   "language": "python",
   "name": "python3"
  },
  "language_info": {
   "codemirror_mode": {
    "name": "ipython",
    "version": 3
   },
   "file_extension": ".py",
   "mimetype": "text/x-python",
   "name": "python",
   "nbconvert_exporter": "python",
   "pygments_lexer": "ipython3",
   "version": "3.6.5"
  }
 },
 "nbformat": 4,
 "nbformat_minor": 2
}
