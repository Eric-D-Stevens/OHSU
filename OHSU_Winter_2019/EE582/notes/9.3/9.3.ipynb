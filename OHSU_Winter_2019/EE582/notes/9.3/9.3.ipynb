{
 "cells": [
  {
   "cell_type": "code",
   "execution_count": 1,
   "metadata": {},
   "outputs": [],
   "source": [
    "# Content from Proakis\n",
    "# Code © 2019, Alexander Kain\n",
    "import numpy as np\n",
    "from scipy.signal import unit_impulse, lfilter, tf2sos, sosfilt\n",
    "from matplotlib import pyplot as plt\n",
    "%matplotlib inline"
   ]
  },
  {
   "cell_type": "markdown",
   "metadata": {},
   "source": [
    "## 9.3 Structures for IIR systems\n",
    "### 9.4.1. Direct Form Structures\n",
    "\n",
    "Given the system\n",
    "\n",
    "$$ y[n] = \\sum_{k=0}^M b_k x[n-k] - \\sum_{k=1}^N a_k y[n-k] $$\n",
    "\n",
    "the rational system function\n",
    "\n",
    "$$ H(z) = \\frac{\\sum_{k=0}^M b_k z^{-k}}\n",
    "{1 + \\sum_{k=1}^N a_k z^{-k}} $$\n",
    "\n",
    "can be viewed as two systems in cascade\n",
    "\n",
    "$$ H(z) = H_z(z) H_p(z) $$\n",
    "\n",
    "where\n",
    "\n",
    "$$ H_z(z) = \\sum_{k=0}^M b_k z^{-k} $$\n",
    "\n",
    "and\n",
    "\n",
    "$$ H_p(z) = \\frac{1}{1 + \\sum_{k=1}^N a_k z^{-k}} $$\n",
    "\n",
    "This requires $M+N+1$ multiplications, $M+N$ additions, and $M+N+1$ memory locations. It is called *Direct Form I*.\n",
    "\n",
    "![](Fig9.3.1.jpeg)"
   ]
  },
  {
   "cell_type": "code",
   "execution_count": 2,
   "metadata": {},
   "outputs": [
    {
     "data": {
      "text/plain": [
       "array([ 1.e+00, -1.e-01,  1.e-02, -1.e-03,  1.e-04, -1.e-05,  1.e-06])"
      ]
     },
     "execution_count": 2,
     "metadata": {},
     "output_type": "execute_result"
    }
   ],
   "source": [
    "def iir_filter(b, a, x):\n",
    "    Nb = len(b)\n",
    "    Na = len(a)\n",
    "    zb = np.zeros(Nb - 1)\n",
    "    za = np.zeros(Na - 1)\n",
    "    y = np.empty_like(x)\n",
    "    for i in range(len(y)):\n",
    "        y[i] = b[0] * x[i] + (b[1:] * zb).sum() - (a[1:] * za).sum()\n",
    "        if Nb > 1: \n",
    "            zb[1:] = zb[:-1]  # shift stack\n",
    "            zb[0] = x[i]  # feed stack\n",
    "        if Na > 1: \n",
    "            za[1:] = za[:-1]  # shift stack\n",
    "            za[0] = y[i]  # feed stack\n",
    "    return y\n",
    "\n",
    "x = unit_impulse(7)\n",
    "b = np.array([1])\n",
    "a = np.array([1, 0.1])\n",
    "y = iir_filter(b, a, x)\n",
    "y"
   ]
  },
  {
   "cell_type": "code",
   "execution_count": 3,
   "metadata": {},
   "outputs": [],
   "source": [
    "# using the library\n",
    "y2 = lfilter(b, a, x)  # but the implementation for this is different, see below\n",
    "assert np.allclose(y2, y)"
   ]
  },
  {
   "cell_type": "markdown",
   "metadata": {},
   "source": [
    "If we swap the two components, a more compact structure is obtained, requiring the same amount of multiplications and additions, but only $\\max(M, N)$ memory locations. It is called *Direct Form II*. \n",
    "\n",
    "![](Fig9.3.2.jpeg)\n",
    "\n",
    "This form implements the all-pole filter via the intermediate sequence (the last values of which can be found in the delays)\n",
    "\n",
    "$$ w[n] = - \\sum_{k=1}^N a_k w[n-k] + x[n] $$\n",
    "\n",
    "which is then input to the all-zero system\n",
    "\n",
    "$$ y[n] = \\sum_{k=0}^{M} b_k w[n-k] $$\n",
    "\n",
    "The two forms are theoretically equivalent. Direct form I only has one summation point, which can work well if a fixed-point implementation is necessary because the accumulator can safely over/underflow.\n",
    "\n",
    "Unfortunately, both direct forms are sensitive to parameter quantization when using large $M$ or $N$, and are not recommended in practical applications."
   ]
  },
  {
   "cell_type": "markdown",
   "metadata": {},
   "source": [
    "### 9.3.2 Signal Flow Graphs and Transposed Structures\n",
    "\n",
    "The subject of linear signal flow graphs provides the *transposition* or *flow-graph reversal theorem*, which states that if we reverse the directions of all branch transmittances and interchange the input and output in the flow graph, the system function remains unchanged.\n",
    "\n",
    "We can apply the transposition theorem to the direct form II structure (since it is more compact):\n",
    "\n",
    "![](Fig9.3.5.jpeg)\n",
    "\n",
    "Now let's redraw it so that the input is on the left and the output is on the right:\n",
    "\n",
    "![](Fig9.3.6.jpeg)\n",
    "\n",
    "The transposed direct form II is most often used in practice because it combines best numerical stability with fewest delays, and thus this is the implementation used for `scipy.signal.lfilter`."
   ]
  },
  {
   "cell_type": "markdown",
   "metadata": {},
   "source": [
    "### 9.3.3 Cascade-Form Structures\n",
    "\n",
    "As for the FIR systems, we can factor the system function into a cascade of second-order systems (SOS)\n",
    "\n",
    "$$ H(z) = \\prod_{k=1}^K H_k(z) $$\n",
    "\n",
    "where\n",
    "\n",
    "$$ H_k(z) = \\frac{b_{k,0} + b_{k,1} z^{-1} + b_{k,2}z^{-2}}\n",
    "{1 + a_{k,1}z^{-1} + a_{k,2}z^{-2}} $$\n",
    "\n",
    "Similar to the FIR case, it is desireable to form pairs of complex-conjugate roots so that the coefficients remain real-valued; real-valued roots can be paired in an arbitrary manner.\n",
    "\n",
    "The advantage of this structure is that it can provide better numerical precision.\n",
    "\n",
    "![](Fig9.3.8.jpeg)"
   ]
  },
  {
   "cell_type": "code",
   "execution_count": 4,
   "metadata": {},
   "outputs": [
    {
     "data": {
      "text/plain": [
       "array([[ 9.        ,  4.50159008,  6.8153597 ,  1.        ,  0.        ,\n",
       "         0.        ],\n",
       "       [ 1.        , -0.67787104,  0.30713067,  1.        , -0.23851648,\n",
       "         0.        ],\n",
       "       [ 1.        ,  0.95547214,  0.        ,  1.        ,  0.33851648,\n",
       "        -0.41925824]])"
      ]
     },
     "execution_count": 4,
     "metadata": {},
     "output_type": "execute_result"
    }
   ],
   "source": [
    "b = np.array([9, 7, 5, 3, -1, 2])\n",
    "a = np.array([1, 0.1, -0.5, 0.1])\n",
    "sos = tf2sos(b, a)\n",
    "sos"
   ]
  },
  {
   "cell_type": "code",
   "execution_count": 5,
   "metadata": {},
   "outputs": [],
   "source": [
    "y1 = sosfilt(sos, x)\n",
    "y2 = lfilter(b, a, x)\n",
    "assert np.allclose(y1,  y2)"
   ]
  },
  {
   "cell_type": "code",
   "execution_count": 6,
   "metadata": {},
   "outputs": [
    {
     "data": {
      "image/png": "[encoded data removed]",
      "text/plain": [
       "<Figure size 432x288 with 1 Axes>"
      ]
     },
     "metadata": {
      "needs_background": "light"
     },
     "output_type": "display_data"
    }
   ],
   "source": [
    "# example from scipy.signal.sosfilt documentation,\n",
    "# showing the instability that results from trying to \n",
    "# do a 13th-order filter in a single stage,\n",
    "# the numerical error pushes some poles outside of the unit circle\n",
    "from scipy.signal import ellip, freqz  # this designs a specific filter (discussed later)\n",
    "\n",
    "b, a = ellip(13, 0.009, 80, 0.05, output='ba')\n",
    "sos  = ellip(13, 0.009, 80, 0.05, output='sos')\n",
    "\n",
    "w, H = freqz(b, a)\n",
    "plt.plot(w, 20 * np.log10(abs(H)))\n",
    "plt.ylabel('Amplitude (dB)')\n",
    "plt.xlabel('Frequency (rad/sample)');"
   ]
  },
  {
   "cell_type": "code",
   "execution_count": 7,
   "metadata": {},
   "outputs": [
    {
     "data": {
      "image/png": "[encoded data removed]",
      "text/plain": [
       "<Figure size 432x288 with 1 Axes>"
      ]
     },
     "metadata": {
      "needs_background": "light"
     },
     "output_type": "display_data"
    }
   ],
   "source": [
    "x = unit_impulse(700)\n",
    "y_ba = lfilter(b, a, x)\n",
    "y_sos = sosfilt(sos, x)\n",
    "plt.plot(y_ba,  'r', label='BA')  # unstable!\n",
    "plt.plot(y_sos, 'g', label='SOS')\n",
    "plt.legend();"
   ]
  },
  {
   "cell_type": "markdown",
   "metadata": {},
   "source": [
    "### 9.3.4 Parallel-Form Structures\n",
    "\n",
    "By performing a *partial-fraction expansion* (PFE), we can rewrite the rational system function $H(z)$ as a sum of fractions with a simple denominator, plus another polynomial term:\n",
    "\n",
    "$$ H(z) = \\frac{\\sum_{k=0}^M b_k z^{-k}}\n",
    "{1 + \\sum_{k=1}^N a_k z^{-k}} = \\sum_{k=1}^N \\frac{r_k}{1 - p_kz^{-1}} + C(z)$$\n",
    "\n",
    "where $r_k$ are the residues, $p_k$ are the poles, and $C(z)$ is an extra FIR filter with system function $C(z)$."
   ]
  },
  {
   "cell_type": "markdown",
   "metadata": {},
   "source": [
    "An example of PFE:\n",
    "\n",
    "$$ H(z) = \\frac{B(z)}{A(z)} = \\frac{1}{1 + 2z^{-1} - 3z^{-2}} $$\n",
    "\n",
    "the denominator splits into two factors\n",
    "\n",
    "$$ A(z)=1 + 2z^{-1} - 3z^{-2}=(1 + 3z^{-1})(1 - z^{-1}) $$\n",
    "\n",
    "which leads to the partial fraction expansion\n",
    "\n",
    "$$ H(z)=\\frac{1}{1 + 2z^{-1} - 3z^{-2}} =\\frac{r_1}{1 + 3z^{-1}}+\\frac{r_2}{1 - z^{-1}} $$\n",
    "\n",
    "Multiplying through by the denominator on the left-hand side gives the polynomial identity\n",
    "\n",
    "$$ 1=r_1(1-z^{-1})+r_2(1+3z^{-1}) $$\n",
    "\n",
    "Substituting $z^{-1} = -1/3$ into this equation gives $r_1 = 3/4$, and substituting $z = 1$ gives $r_2 = 1/4$, so that\n",
    "\n",
    "$$ H(z)=\\frac{1}{1 + 2z^{-1} - 3z^{-2}} =\\frac{\\frac{3}{4}}{1 + 3z^{-1}}+\\frac{\\frac{1}{4}}{1 - z^{-1}} $$\n",
    "\n",
    "$C(z) = 0$ in this example."
   ]
  },
  {
   "cell_type": "code",
   "execution_count": 8,
   "metadata": {},
   "outputs": [
    {
     "data": {
      "text/plain": [
       "(array([0.75, 0.25]), array([-3.,  1.]), array([0.]))"
      ]
     },
     "execution_count": 8,
     "metadata": {},
     "output_type": "execute_result"
    }
   ],
   "source": [
    "# in practice we use use a library call to do this\n",
    "from scipy.signal import residuez\n",
    "\n",
    "r, p, C = residuez([1],[1, 2, -3])  \n",
    "r, p, C"
   ]
  },
  {
   "cell_type": "markdown",
   "metadata": {},
   "source": [
    "![](Fig9.3.9.jpeg)\n",
    "\n",
    "This structure is also less sensitive to filter coefficient quantization than the direct forms."
   ]
  },
  {
   "cell_type": "code",
   "execution_count": 9,
   "metadata": {},
   "outputs": [
    {
     "data": {
      "text/plain": [
       "(array([  -2.03515539, -531.10770176,   82.14285714]),\n",
       " array([-0.83851648,  0.23851648,  0.5       ]),\n",
       " array([460.,  90.,  20.]))"
      ]
     },
     "execution_count": 9,
     "metadata": {},
     "output_type": "execute_result"
    }
   ],
   "source": [
    "x = unit_impulse(7)\n",
    "b = np.array([9, 7, 5, 3, -1, 2])\n",
    "a = np.array([1, 0.1, -0.5, 0.1])\n",
    "\n",
    "r, p, C = residuez(b, a)\n",
    "r, p, C"
   ]
  },
  {
   "cell_type": "code",
   "execution_count": 10,
   "metadata": {},
   "outputs": [
    {
     "data": {
      "text/plain": [
       "(array([[  -2.03515539],\n",
       "        [-531.10770176],\n",
       "        [  82.14285714]]), array([[ 1.        ,  0.83851648],\n",
       "        [ 1.        , -0.23851648],\n",
       "        [ 1.        , -0.5       ]]))"
      ]
     },
     "execution_count": 10,
     "metadata": {},
     "output_type": "execute_result"
    }
   ],
   "source": [
    "B = np.atleast_2d(r).T  # make 2D, rows contains b coeffs\n",
    "A = np.atleast_2d([np.poly(p) for p in p])  # rows contain a coeffs\n",
    "B, A"
   ]
  },
  {
   "cell_type": "code",
   "execution_count": 11,
   "metadata": {},
   "outputs": [],
   "source": [
    "def pfe_filter(B, A, C, x):\n",
    "    y = lfilter(C, [1], x)\n",
    "    for k in range(B.shape[0]):\n",
    "        y += lfilter(B[k], A[k], x)\n",
    "    return y\n",
    "\n",
    "assert np.allclose(pfe_filter(B, A, C, x), \n",
    "                   lfilter(b, a, x))"
   ]
  },
  {
   "cell_type": "markdown",
   "metadata": {},
   "source": [
    "If $H(z)$ has complex poles, we create second-order systems and form pairs of complex-conjugate poles (and arbitrarily real-valued roots) so that the coefficients remain real-valued.\n",
    "\n",
    "Overall, the cascade form is more robust and should be the preferred choice in practical applications, especially where a fixed-point representation is employed."
   ]
  },
  {
   "cell_type": "markdown",
   "metadata": {},
   "source": [
    "### 9.3.5 Lattice and Lattice-Ladder Structures for IIR Systems\n",
    "\n",
    "Given an $N^\\textrm{th}$ all-zero FIR filters with the difference equation\n",
    "\n",
    "$$ y[n] = x[n] + \\sum_{k=1}^{N} \\alpha_m [k] x[n-k]$$\n",
    "\n",
    "with input $x[n]$ and output $y[n]$. If we interchange the roles of input and output we obtain\n",
    "\n",
    "$$ x[n] = y[n] + \\sum_{k=1}^{N} \\alpha_m [k] y[n-k]$$\n",
    "\n",
    "or equivalently\n",
    "\n",
    "$$ y[n] = x[n] -  \\sum_{k=1}^{N} \\alpha_m [k] y[n-k] $$\n",
    "\n",
    "which is an all-pole IIR system.\n",
    "\n",
    "We will apply this approach to the FIR lattice lattice described previously by letting the input\n",
    "\n",
    "$$ x[n] = f_N[n] $$\n",
    "\n",
    "and the output\n",
    "\n",
    "$$ y[n] = f_0[n] $$\n",
    "\n",
    "These are the exact opposite of the all-zero lattice filter definition, and thus the computations for $f_m[n]$ must be performed in reverse\n",
    "\n",
    "$$ f_{m-1}[n] = f_m[n] - K_m g_{m-1} [n-1] $$\n",
    "\n",
    "while $g_m[n]$ remains the same, as well as the lattice parameters $K$ and their conversion algorithms.\n",
    "\n",
    "![](Fig9.3.13.jpeg)"
   ]
  },
  {
   "cell_type": "markdown",
   "metadata": {},
   "source": [
    "To create a structure that implements both poles and zeros, a *ladder* part can be added to the all-pole system, adding a weighted linear combination of $g_m[n]$ via ladder parameters $v$ that control the zeros of the system\n",
    "\n",
    "$$ y[n] = \\sum_{m=0}^M v_m g_m[n] $$\n",
    "\n",
    "![](Fig9.3.16.jpeg)\n",
    "\n",
    "where $v_m$ are calculated via a recursive formula."
   ]
  }
 ],
 "metadata": {
  "kernelspec": {
   "display_name": "Python 3",
   "language": "python",
   "name": "python3"
  },
  "language_info": {
   "codemirror_mode": {
    "name": "ipython",
    "version": 3
   },
   "file_extension": ".py",
   "mimetype": "text/x-python",
   "name": "python",
   "nbconvert_exporter": "python",
   "pygments_lexer": "ipython3",
   "version": "3.6.5"
  }
 },
 "nbformat": 4,
 "nbformat_minor": 2
}
