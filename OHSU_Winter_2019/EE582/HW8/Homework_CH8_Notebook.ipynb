{
 "cells": [
  {
   "cell_type": "markdown",
   "metadata": {},
   "source": [
    "# EE 582: Homework 8\n",
    "### Eric D. Stevens\n",
    "### March 5, 2019\n"
   ]
  },
  {
   "cell_type": "code",
   "execution_count": null,
   "metadata": {},
   "outputs": [],
   "source": [
    "import numpy as np\n",
    "import numpy.fft"
   ]
  },
  {
   "cell_type": "markdown",
   "metadata": {},
   "source": [
    "## DFT Implementation\n",
    "\n",
    "For the base case of the FFT I am using my submission form HW 7"
   ]
  },
  {
   "cell_type": "code",
   "execution_count": null,
   "metadata": {},
   "outputs": [],
   "source": [
    "# dft snippet, exactly the same as submitted in HW 7\n",
    "def dft(x, N=None, inverse=False):\n",
    "    \"\"\"DFT, ~6 lines\"\"\"\n",
    "    L = len(x)\n",
    "    if N is None:\n",
    "        N = L\n",
    "\n",
    "    # this is ugly, i know, sorry\n",
    "    '''*************************************************************************'''\n",
    "    X = np.array([((1/float(N))**(inverse))*np.sum(x[:N]*np.exp(((-1)**(not inverse))*2j*np.pi*k*np.arange(L)[:N]/N)) \n",
    "                  for k in np.arange(N)])\n",
    "    '''*************************************************************************'''\n",
    "    return X"
   ]
  },
  {
   "cell_type": "markdown",
   "metadata": {},
   "source": [
    "### FFT Implementation\n",
    "\n",
    "Here are the functions for the FFT and the IFFT."
   ]
  },
  {
   "cell_type": "code",
   "execution_count": 3,
   "metadata": {},
   "outputs": [],
   "source": [
    "\n",
    "\n",
    "# Radix-2 Fast Fourier Transform w/ inverse flag\n",
    "def fft(x, N=None, inverse=False):\n",
    "    \n",
    "    \"\"\"FFT implementation, ~14 lines\"\"\"\n",
    "    L = len(x)\n",
    "    if N is None:\n",
    "        N = L \n",
    "\n",
    "    # in the case that len(x) > n\n",
    "    if N<L:\n",
    "        x = x[:N]\n",
    "        L=N\n",
    "\n",
    "    assert N % 2 == 0, 'N must be a power of 2'\n",
    "    if N > 4:  # ad hoc threshold\n",
    "        xn_evn = [x[i] for i in np.arange(L/2, dtype=int)*2]\n",
    "        xn_odd = [x[i] for i in np.arange(L/2, dtype=int)*2+1]\n",
    "\n",
    "        Xk_evn = fft(xn_evn, N=(N//2), inverse=inverse)# recursively calling ourselves\n",
    "        out_exp = np.exp(np.arange((N/2))*((-1)**(not inverse))*2j*np.pi/N)\n",
    "        Xk_odd = out_exp*fft(xn_odd, N=(N//2), inverse=inverse)# recursively calling ourselves\n",
    "\n",
    "        Xk = np.zeros(N, dtype=np.complex128)\n",
    "        for i in range(int(N/2)):\n",
    "            Xk[i] = Xk_evn[i] + Xk_odd[i]\n",
    "            Xk[i+int(N/2)] = Xk_evn[i] - Xk_odd[i]\n",
    "\n",
    "        return ((1/2)**(inverse))*Xk\n",
    "\n",
    "    else:\n",
    "        return  dft(x, int(N), inverse=inverse)  # use either your solution, the official answer, or numpy's fft here\n",
    "\n",
    "\n",
    "# Fast call to inverse Rad2 FFT\n",
    "def ifft(X, N=None):\n",
    "    return fft(X, N, inverse=True)\n",
    "\n"
   ]
  },
  {
   "cell_type": "markdown",
   "metadata": {},
   "source": [
    "### Evaluation\n",
    "\n",
    "I have made changes to the evaluation script because I believe that there was a bug that was causing improper testing of the IFFT function. Also added some explicit output to the script. The bug in the original script can be exposed by showing these outputs."
   ]
  },
  {
   "cell_type": "code",
   "execution_count": 6,
   "metadata": {
    "scrolled": false
   },
   "outputs": [
    {
     "name": "stdout",
     "output_type": "stream",
     "text": [
      "passed test fft: N =  32 L =  64\n",
      "passed test ifft: N =  32 L =  64\n",
      "passed test fft: N =  64 L =  64\n",
      "passed test ifft: N =  64 L =  64\n",
      "passed test fft: N =  128 L =  64\n",
      "passed test ifft: N =  128 L =  64\n"
     ]
    }
   ],
   "source": [
    "# Test script with bug fix and confirmation output\n",
    "for N in [32,64,128]:\n",
    "    \n",
    "    x = np.random.randint(-128, 128, 64)\n",
    "    X = fft(x, N)\n",
    "    X_gold = np.fft.fft(x, N)\n",
    "    \n",
    "    assert np.allclose(X, X_gold)\n",
    "    print('passed test fft: N = ', N, 'L = ', len(x))\n",
    "    \n",
    "    X = np.random.randint(-128, 128, 64)\n",
    "    x = ifft(X, N)\n",
    "    x_gold = np.fft.ifft(X, N)\n",
    "    \n",
    "\n",
    "    assert np.allclose(x, x_gold)\n",
    "    print('passed test ifft: N = ', N, 'L = ', len(X))\n",
    "\n"
   ]
  },
  {
   "cell_type": "markdown",
   "metadata": {},
   "source": [
    "### Bug\n",
    "\n",
    "You can see that whenever an IFFT is evaluated it is being done for N=L due to the usage of the same variable name that as the FFT."
   ]
  },
  {
   "cell_type": "code",
   "execution_count": 7,
   "metadata": {},
   "outputs": [
    {
     "name": "stdout",
     "output_type": "stream",
     "text": [
      "passed test fft: N =  32 L =  64\n",
      "passed test ifft: N =  32 L =  32\n",
      "passed test fft: N =  64 L =  64\n",
      "passed test ifft: N =  64 L =  64\n",
      "passed test fft: N =  128 L =  64\n",
      "passed test ifft: N =  128 L =  128\n"
     ]
    }
   ],
   "source": [
    "for N in [32, 64, 128]:\n",
    "    x = np.random.randint(-128, 128, 64)\n",
    "    X = fft(x, N)\n",
    "    X_gold = np.fft.fft(x, N)\n",
    "    assert np.allclose(X, X_gold)\n",
    "    \n",
    "    # print statment for bug catching\n",
    "    print('passed test fft: N = ', N, 'L = ', len(x))\n",
    "    \n",
    "    x = ifft(X, N)\n",
    "    x_gold = np.fft.ifft(X, N)\n",
    "    assert np.allclose(x, x_gold)\n",
    "    print('passed test ifft: N = ', N, 'L = ', len(X))"
   ]
  },
  {
   "cell_type": "code",
   "execution_count": null,
   "metadata": {},
   "outputs": [],
   "source": []
  }
 ],
 "metadata": {
  "kernelspec": {
   "display_name": "Python 3",
   "language": "python",
   "name": "python3"
  },
  "language_info": {
   "codemirror_mode": {
    "name": "ipython",
    "version": 3
   },
   "file_extension": ".py",
   "mimetype": "text/x-python",
   "name": "python",
   "nbconvert_exporter": "python",
   "pygments_lexer": "ipython3",
   "version": "3.6.5"
  }
 },
 "nbformat": 4,
 "nbformat_minor": 2
}
