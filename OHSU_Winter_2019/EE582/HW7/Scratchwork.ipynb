{
 "cells": [
  {
   "cell_type": "code",
   "execution_count": 157,
   "metadata": {},
   "outputs": [],
   "source": [
    "%matplotlib notebook\n",
    "import matplotlib.pyplot as plt\n",
    "import sounddevice as sd\n"
   ]
  },
  {
   "cell_type": "code",
   "execution_count": 158,
   "metadata": {},
   "outputs": [],
   "source": [
    "import numpy as np\n",
    "from numpy.fft import fft, ifft, rfft, irfft\n",
    "\n",
    "def dft(x, N=None, inverse=False):\n",
    "    \"\"\"DFT, ~6 lines\"\"\"\n",
    "    L = len(x)\n",
    "    if N is None:\n",
    "        N = L\n",
    "\n",
    "    X = np.array([((1/float(N))**(inverse))*np.sum(x[:N]*np.exp(((-1)**(not inverse))*2j*np.pi*k*np.arange(L)[:N]/N)) for k in np.arange(N)])\n",
    "\n",
    "    return X\n",
    "\n",
    "def idft(X, N=None):\n",
    "    \"\"\"IDFT, 1 line\"\"\"\n",
    "    return dft(X, N, inverse=True)\n",
    "\n",
    "def p1():\n",
    "    \"\"\"roll-your-own DFT and IDFT\"\"\"\n",
    "\n",
    "    for N in [32, 64, 128]:\n",
    "        x = np.random.randint(-128, 128, 64)\n",
    "        X = dft(x, N)\n",
    "        assert np.allclose(X, fft(x, N))\n",
    "        x2 = idft(X, N)\n",
    "        assert np.allclose(x2, ifft(X, N))\n",
    "    print(\"pass\")"
   ]
  },
  {
   "cell_type": "code",
   "execution_count": 159,
   "metadata": {
    "scrolled": false
   },
   "outputs": [
    {
     "name": "stdout",
     "output_type": "stream",
     "text": [
      "pass\n"
     ]
    }
   ],
   "source": [
    "p1()"
   ]
  },
  {
   "cell_type": "code",
   "execution_count": 160,
   "metadata": {},
   "outputs": [],
   "source": [
    "def p2():\n",
    "    \"\"\"create an A major chord via spectral synthesis, ~10 lines\"\"\"\n",
    "    fs = 16000\n",
    "    f1 = 440  # A4\n",
    "    f2 = 554  # C#5\n",
    "    f3 = 659  # E5\n",
    "    X = np.zeros(fs//2).astype('float32')\n",
    "    X[f1] = 1\n",
    "    X[f2] = 1\n",
    "    X[f3] = 1\n",
    "    x = irfft(X)\n",
    "    x /= np.max(x)\n",
    "    from scipy.io import wavfile\n",
    "    wavfile.write('chord.wav', fs, (x * 32000).astype(np.int16))\n",
    "    #plt.plot((x*32000).astype(np.int16))\n"
   ]
  },
  {
   "cell_type": "code",
   "execution_count": 161,
   "metadata": {},
   "outputs": [],
   "source": [
    "p2()"
   ]
  },
  {
   "cell_type": "code",
   "execution_count": 162,
   "metadata": {},
   "outputs": [],
   "source": [
    "def p3():\n",
    "    \"\"\"overlap-add approach\"\"\"\n",
    "    def overlap_add(x, h, L=128):\n",
    "        \"\"\"OLA, ~13 lines\"\"\"\n",
    "        N = len(x)\n",
    "        assert N % L == 0, 'len(x) must be a multiple of the block length'\n",
    "        \n",
    "        windows = [np.convolve(x[i*L:(i+1)*L], h) for i in range(N//L)]\n",
    "        y = np.zeros(N+len(h)-1)\n",
    "        for i in range(len(windows)):\n",
    "            y[i*L:(i+1)*L + len(h) - 1] += windows[i] \n",
    "        \n",
    "        \n",
    "        return y\n",
    "\n",
    "    L = 128  # block size\n",
    "    x = np.random.randint(-128, 128, L * 8)\n",
    "    h = np.random.randint(-128, 128, 42)\n",
    "    y1 = np.convolve(x, h)\n",
    "    y2 = overlap_add(x, h, L)\n",
    "    \n",
    "    assert np.allclose(y1, y2)"
   ]
  },
  {
   "cell_type": "code",
   "execution_count": 163,
   "metadata": {},
   "outputs": [],
   "source": [
    "p3()"
   ]
  },
  {
   "cell_type": "code",
   "execution_count": 164,
   "metadata": {},
   "outputs": [
    {
     "data": {
      "text/plain": [
       "array([ 1,  4, 10, 20, 35, 44, 46, 40, 25])"
      ]
     },
     "execution_count": 164,
     "metadata": {},
     "output_type": "execute_result"
    }
   ],
   "source": [
    "a = np.array([1,2,3,4,5])\n",
    "b = np.array([1,2,3,4,5])\n",
    "np.convolve(a,b)"
   ]
  },
  {
   "cell_type": "code",
   "execution_count": null,
   "metadata": {},
   "outputs": [],
   "source": []
  }
 ],
 "metadata": {
  "kernelspec": {
   "display_name": "Python 3",
   "language": "python",
   "name": "python3"
  },
  "language_info": {
   "codemirror_mode": {
    "name": "ipython",
    "version": 3
   },
   "file_extension": ".py",
   "mimetype": "text/x-python",
   "name": "python",
   "nbconvert_exporter": "python",
   "pygments_lexer": "ipython3",
   "version": "3.6.5"
  }
 },
 "nbformat": 4,
 "nbformat_minor": 2
}
