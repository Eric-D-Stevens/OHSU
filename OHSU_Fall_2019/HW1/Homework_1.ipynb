{
 "cells": [
  {
   "cell_type": "markdown",
   "metadata": {},
   "source": [
    "# Deep Learning: Homework 1\n",
    "\n",
    "### Eric Stevens\n",
    "#### October 16 2019"
   ]
  },
  {
   "cell_type": "markdown",
   "metadata": {},
   "source": [
    "## Softmax Layer\n",
    "\n",
    "<div style=\"font-size:16pt;\">\n",
    "\n",
    "<center>$softmax(x) = softmax(x+c)$</center>\n",
    "<br>\n",
    "<center>$softmax(x) = \\frac{e^x_i}{\\sum_{j}e^x_j}$</center>\n",
    "<br>\n",
    "<center>$softmax(x+c) = \\frac{e^{x_{i}+c}}{\\sum_{j}e^{x_{j}+c}}$</center>\n",
    "<br>\n",
    "<center>$softmax(x+c) = \\frac{e\n",
    "^{x_{i}}e^{c}}{\\sum_{j}e^{x_{j}}e^{c}}$</center>\n",
    "<br>\n",
    "<center>$softmax(x+c) = \\frac{e^{c}}{e^{c}}\\frac{e^{x_{i}}}{\\sum_{j}e^{x_{j}}}$</center>\n",
    "<br>\n",
    "<center>$softmax(x+c) = \\frac{e^{x_{i}}}{\\sum_{j}e^{x_{j}}}$</center>\n",
    "<br>\n",
    "<center>$softmax(x+c) = softmax(x)$</center>\n",
    "</div>"
   ]
  },
  {
   "cell_type": "markdown",
   "metadata": {},
   "source": [
    "## Neural Network\n",
    "\n",
    "## a)\n",
    "\n",
    "<div style=\"font-size:16pt;\">\n",
    "\n",
    "<center>$\\frac{\\partial CE(y,\\hat{y})}{\\partial z_{j}} = \n",
    "    \\frac{\\partial CE(y,\\hat{y})}{\\partial \\hat{y}}\n",
    "    \\frac{\\partial  \\hat{y}}{\\partial z_{j}}$</center>\n",
    "<br>\n",
    "<center>$\\hat{y} = softmax(z)$</center>\n",
    "<br>\n",
    "<center>$\\frac{\\partial  \\hat{y}}{\\partial z_{j}} = \n",
    "    \\frac{\\partial}{\\partial z_{j}} \\frac{e^{z_{j}}}{\\sum_{K}e^{z_{k}}}\n",
    "    $</center>\n",
    "</div>\n",
    "Using the product rule\n",
    "\n",
    "<div style=\"font-size:16pt;\">\n",
    "    <center>\n",
    "        $\\frac{\\partial}{\\partial z_{j}} \\frac{e^{z_{i}}}{\\sum_{J}e^{z_{j}}} = \n",
    "           \\frac{{(e^{z_{i}})}'\\sum_{J}e^{z_{j}} - {e^{z_{i}}}(\\sum_{K}e^{z_{J}})'}{(\\sum_{J}e^{z_{j}})^2} $\n",
    "    </center>\n",
    "</div>   \n",
    "\n",
    "\n",
    "\n",
    "\n",
    "<div style=\"font-size:16pt;\">\n",
    "</div>\n",
    "\n",
    "<center></center>"
   ]
  },
  {
   "cell_type": "code",
   "execution_count": null,
   "metadata": {},
   "outputs": [],
   "source": []
  }
 ],
 "metadata": {
  "kernelspec": {
   "display_name": "Python 3",
   "language": "python",
   "name": "python3"
  },
  "language_info": {
   "codemirror_mode": {
    "name": "ipython",
    "version": 3
   },
   "file_extension": ".py",
   "mimetype": "text/x-python",
   "name": "python",
   "nbconvert_exporter": "python",
   "pygments_lexer": "ipython3",
   "version": "3.6.6"
  }
 },
 "nbformat": 4,
 "nbformat_minor": 2
}
