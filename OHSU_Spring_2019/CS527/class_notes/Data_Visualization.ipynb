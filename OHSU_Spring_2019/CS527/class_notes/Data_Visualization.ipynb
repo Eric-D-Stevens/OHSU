{
 "cells": [
  {
   "cell_type": "code",
   "execution_count": 5,
   "metadata": {},
   "outputs": [],
   "source": [
    "import xarray as xr\n",
    "import numpy as np"
   ]
  },
  {
   "cell_type": "markdown",
   "metadata": {},
   "source": [
    "### `xarray` package\n",
    "\n",
    "Allows for naming of array objects. Easily converts to pandas. String indexing, much in the same way that pandas does it. \"Keeps track of where you are in your coordinate system\""
   ]
  },
  {
   "cell_type": "code",
   "execution_count": 9,
   "metadata": {},
   "outputs": [
    {
     "data": {
      "text/plain": [
       "<xarray.DataArray (x: 3, x-add: 3)>\n",
       "array([[0, 1, 2],\n",
       "       [1, 2, 3],\n",
       "       [2, 3, 4]])\n",
       "Dimensions without coordinates: x, x-add"
      ]
     },
     "execution_count": 9,
     "metadata": {},
     "output_type": "execute_result"
    }
   ],
   "source": [
    "a = xr.DataArray(np.arange(3), dims='x')\n",
    "b = xr.DataArray(np.arange(3), dims='x-add')\n",
    "a+b"
   ]
  },
  {
   "cell_type": "markdown",
   "metadata": {},
   "source": [
    "# Data Visualizations"
   ]
  },
  {
   "cell_type": "markdown",
   "metadata": {},
   "source": [
    "* plotnine - ggplot like\n",
    "* altair - new, in dev, also similar to ggplot\n",
    "* pandas - uses matplot lib\n",
    "* seaborne - sits ontop of matplot lib\n",
    "* bokeh - interactive\n",
    "* dash - interactive"
   ]
  },
  {
   "cell_type": "markdown",
   "metadata": {},
   "source": [
    "### plotnine\n",
    "\n",
    "Seems to literally import all of Ggplot, uses the exact same syntax. "
   ]
  },
  {
   "cell_type": "markdown",
   "metadata": {},
   "source": [
    "### Altair\n",
    "\n",
    "* Declaritive and statistical\n",
    "* Only builds a json object and is then rendered by 'Vega'\n"
   ]
  },
  {
   "cell_type": "markdown",
   "metadata": {},
   "source": [
    "### Matplotlib\n",
    "\n",
    "ALOT OF STUFF!!! GET THAT NOTEBOOK!!!"
   ]
  },
  {
   "cell_type": "markdown",
   "metadata": {},
   "source": [
    "### Seaborne\n",
    "\n",
    "* on top of matplotlib\n",
    "* Ggplot like ease of categroical seperation"
   ]
  },
  {
   "cell_type": "markdown",
   "metadata": {},
   "source": [
    "### Bokeh\n",
    "\n",
    "* geared towards beautiful interactive plots on browser\n"
   ]
  },
  {
   "cell_type": "markdown",
   "metadata": {},
   "source": [
    "### OpenGL\n",
    "\n",
    "* low level stuff.\n",
    "* alter light, perspective, ect"
   ]
  },
  {
   "cell_type": "code",
   "execution_count": null,
   "metadata": {},
   "outputs": [],
   "source": []
  }
 ],
 "metadata": {
  "kernelspec": {
   "display_name": "Python 3",
   "language": "python",
   "name": "python3"
  },
  "language_info": {
   "codemirror_mode": {
    "name": "ipython",
    "version": 3
   },
   "file_extension": ".py",
   "mimetype": "text/x-python",
   "name": "python",
   "nbconvert_exporter": "python",
   "pygments_lexer": "ipython3",
   "version": "3.6.5"
  }
 },
 "nbformat": 4,
 "nbformat_minor": 2
}
