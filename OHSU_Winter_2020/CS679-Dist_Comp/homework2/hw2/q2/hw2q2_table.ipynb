{
 "cells": [
  {
   "cell_type": "code",
   "execution_count": 1,
   "metadata": {},
   "outputs": [],
   "source": [
    "import pickle\n",
    "from datetime import datetime, timedelta, date\n",
    "import matplotlib.pyplot as plt\n",
    "from collections import defaultdict\n",
    "from crossref.restful import Works\n",
    "import pandas as pd\n",
    "pd.set_option('max_colwidth', 40)\n",
    "\n",
    "with open('downloads_per_doi.pkl', 'rb') as pkl:\n",
    "    doi_count = pickle.load(pkl)"
   ]
  },
  {
   "cell_type": "code",
   "execution_count": 2,
   "metadata": {},
   "outputs": [
    {
     "data": {
      "text/plain": [
       "[{'name': 'The Cancer Genome Atlas Research Network',\n",
       "  'sequence': 'first',\n",
       "  'affiliation': []}]"
      ]
     },
     "execution_count": 2,
     "metadata": {},
     "output_type": "execute_result"
    }
   ],
   "source": [
    "works = Works()\n",
    "doi = doi_count[1][0]\n",
    "record = works.doi(doi)\n",
    "record['author']"
   ]
  },
  {
   "cell_type": "code",
   "execution_count": 3,
   "metadata": {},
   "outputs": [],
   "source": [
    "def citation_generator(doi):\n",
    "\n",
    "    article = ''\n",
    "    record = works.doi(doi)\n",
    "\n",
    "    # Author information\n",
    "    try:\n",
    "        at_el = False\n",
    "        for a in record['author']:\n",
    "            if a['sequence'] == 'first':\n",
    "                article += '{} {}, '.format(a['given'],a['family'])\n",
    "            else:\n",
    "                at_el = True\n",
    "        article = article[:-2]\n",
    "        if at_el:\n",
    "            article = article + ', at el '\n",
    "    except:\n",
    "        pass\n",
    "    \n",
    "    # Date and Title\n",
    "    try:\n",
    "        year = record['indexed']['date-time'][:4]\n",
    "        title = record['title'][0]\n",
    "        article += '({}) {}. '.format(year, title)\n",
    "    except:\n",
    "        pass\n",
    "    \n",
    "    # Publication\n",
    "    try:\n",
    "        article += '{} ({}):'.format(record['publisher'], record['issue'])\n",
    "        article += '{}'.format(record['page'])\n",
    "    except:\n",
    "        pass   \n",
    "    return article\n",
    "\n"
   ]
  },
  {
   "cell_type": "code",
   "execution_count": 4,
   "metadata": {},
   "outputs": [],
   "source": [
    "table = []\n",
    "for i in range(10):\n",
    "    doi = doi_count[i][0]\n",
    "    cnt = doi_count[i][1]\n",
    "    table.append([cnt, doi, citation_generator(doi)])\n"
   ]
  },
  {
   "cell_type": "code",
   "execution_count": 5,
   "metadata": {},
   "outputs": [
    {
     "data": {
      "text/html": [
       "<div>\n",
       "<style scoped>\n",
       "    .dataframe tbody tr th:only-of-type {\n",
       "        vertical-align: middle;\n",
       "    }\n",
       "\n",
       "    .dataframe tbody tr th {\n",
       "        vertical-align: top;\n",
       "    }\n",
       "\n",
       "    .dataframe thead th {\n",
       "        text-align: right;\n",
       "    }\n",
       "</style>\n",
       "<table border=\"1\" class=\"dataframe\">\n",
       "  <thead>\n",
       "    <tr style=\"text-align: right;\">\n",
       "      <th></th>\n",
       "      <th>Count</th>\n",
       "      <th>DOI</th>\n",
       "      <th>Article</th>\n",
       "    </tr>\n",
       "  </thead>\n",
       "  <tbody>\n",
       "    <tr>\n",
       "      <th>0</th>\n",
       "      <td>7988</td>\n",
       "      <td>10.1007/978-1-4419-9716-6_11</td>\n",
       "      <td>Richard Osgood, at el (2019) Full-scale modal wind turbine tests: comparing shaker excitation with wind excitation.</td>\n",
       "    </tr>\n",
       "    <tr>\n",
       "      <th>1</th>\n",
       "      <td>6117</td>\n",
       "      <td>10.1056/NEJMoa1402121</td>\n",
       "      <td>(2020) Comprehensive, Integrative Genomic Analysis of Diffuse Lower-Grade Gliomas. Massachusetts Medical Society (26):2481-2498</td>\n",
       "    </tr>\n",
       "    <tr>\n",
       "      <th>2</th>\n",
       "      <td>2991</td>\n",
       "      <td>10.1116/1.4904970</td>\n",
       "      <td>Padmashree D. Joshi, at el (2019) Photosensitive field emission study of SnS2 nanosheets. American Vacuum Society (3):03C106</td>\n",
       "    </tr>\n",
       "    <tr>\n",
       "      <th>3</th>\n",
       "      <td>2890</td>\n",
       "      <td>10.1103/PhysRevB.63.224204</td>\n",
       "      <td>Olexei Motrunich, at el (2020) Griffiths effects and quantum critical points in dirty superconductors without spin-rotation invariance: One-dimensional examples. American Physical Society (APS) (22):</td>\n",
       "    </tr>\n",
       "    <tr>\n",
       "      <th>4</th>\n",
       "      <td>2528</td>\n",
       "      <td>10.1182/asheducation-2015.1.8</td>\n",
       "      <td>Clara Camaschella(2020) Iron deficiency: new insights into diagnosis and treatment. American Society of Hematology (1):8-13</td>\n",
       "    </tr>\n",
       "    <tr>\n",
       "      <th>5</th>\n",
       "      <td>2266</td>\n",
       "      <td>10.4028/www.scientific.net/AMM.7-8.159</td>\n",
       "      <td>M.A. Garcia-Romeu-Martinez, at el (2019) Monitoring the Evolution of Fatigue in Corrugated Paperboard under Random Loads.</td>\n",
       "    </tr>\n",
       "    <tr>\n",
       "      <th>6</th>\n",
       "      <td>2241</td>\n",
       "      <td>10.1111/j.1365-277X.2004.00520.x</td>\n",
       "      <td>J. J. Lara, at el (2019) Intentional mis-reporting of food consumption and its relationship with body mass index and psychological scores in women. Wiley (3):209-218</td>\n",
       "    </tr>\n",
       "    <tr>\n",
       "      <th>7</th>\n",
       "      <td>2168</td>\n",
       "      <td>10.1002/pmic.200600525</td>\n",
       "      <td>Dustin Lippert, at el (2019) Conifer defense against insects: Proteome analysis of Sitka spruce (Picea sitchensis) bark induced by mechanical wounding or feeding by white pine weevils (Pissodes st...</td>\n",
       "    </tr>\n",
       "    <tr>\n",
       "      <th>8</th>\n",
       "      <td>2001</td>\n",
       "      <td>10.1161/CIRCRESAHA.117.306290</td>\n",
       "      <td>Parwiz Abrahimi, at el (2019) Efficient Gene Disruption in Cultured Primary Human Endothelial Cells by CRISPR/Cas9. Ovid Technologies (Wolters Kluwer Health) (2):121-128</td>\n",
       "    </tr>\n",
       "    <tr>\n",
       "      <th>9</th>\n",
       "      <td>1806</td>\n",
       "      <td>10.1002/smll.201002009</td>\n",
       "      <td>Xiao Huang, at el (2020) Graphene-Based Materials: Synthesis, Characterization, Properties, and Applications. Wiley (14):1876-1902</td>\n",
       "    </tr>\n",
       "  </tbody>\n",
       "</table>\n",
       "</div>"
      ],
      "text/plain": [
       "   Count                                     DOI  \\\n",
       "0   7988            10.1007/978-1-4419-9716-6_11   \n",
       "1   6117                   10.1056/NEJMoa1402121   \n",
       "2   2991                       10.1116/1.4904970   \n",
       "3   2890              10.1103/PhysRevB.63.224204   \n",
       "4   2528           10.1182/asheducation-2015.1.8   \n",
       "5   2266  10.4028/www.scientific.net/AMM.7-8.159   \n",
       "6   2241        10.1111/j.1365-277X.2004.00520.x   \n",
       "7   2168                  10.1002/pmic.200600525   \n",
       "8   2001           10.1161/CIRCRESAHA.117.306290   \n",
       "9   1806                  10.1002/smll.201002009   \n",
       "\n",
       "                                                                                                                                                                                                   Article  \n",
       "0                                                                                     Richard Osgood, at el (2019) Full-scale modal wind turbine tests: comparing shaker excitation with wind excitation.   \n",
       "1                                                                          (2020) Comprehensive, Integrative Genomic Analysis of Diffuse Lower-Grade Gliomas. Massachusetts Medical Society (26):2481-2498  \n",
       "2                                                                             Padmashree D. Joshi, at el (2019) Photosensitive field emission study of SnS2 nanosheets. American Vacuum Society (3):03C106  \n",
       "3  Olexei Motrunich, at el (2020) Griffiths effects and quantum critical points in dirty superconductors without spin-rotation invariance: One-dimensional examples. American Physical Society (APS) (22):  \n",
       "4                                                                              Clara Camaschella(2020) Iron deficiency: new insights into diagnosis and treatment. American Society of Hematology (1):8-13  \n",
       "5                                                                               M.A. Garcia-Romeu-Martinez, at el (2019) Monitoring the Evolution of Fatigue in Corrugated Paperboard under Random Loads.   \n",
       "6                                    J. J. Lara, at el (2019) Intentional mis-reporting of food consumption and its relationship with body mass index and psychological scores in women. Wiley (3):209-218  \n",
       "7  Dustin Lippert, at el (2019) Conifer defense against insects: Proteome analysis of Sitka spruce (Picea sitchensis) bark induced by mechanical wounding or feeding by white pine weevils (Pissodes st...  \n",
       "8                                Parwiz Abrahimi, at el (2019) Efficient Gene Disruption in Cultured Primary Human Endothelial Cells by CRISPR/Cas9. Ovid Technologies (Wolters Kluwer Health) (2):121-128  \n",
       "9                                                                       Xiao Huang, at el (2020) Graphene-Based Materials: Synthesis, Characterization, Properties, and Applications. Wiley (14):1876-1902  "
      ]
     },
     "execution_count": 5,
     "metadata": {},
     "output_type": "execute_result"
    }
   ],
   "source": [
    "pd.set_option('max_colwidth', 200)\n",
    "pd_table = pd.DataFrame(table, columns=['Count', 'DOI', 'Article'])\n",
    "pd_table"
   ]
  },
  {
   "cell_type": "code",
   "execution_count": 6,
   "metadata": {},
   "outputs": [
    {
     "name": "stdout",
     "output_type": "stream",
     "text": [
      "[7988, '10.1007/978-1-4419-9716-6_11', 'Richard Osgood, at el (2019) Full-scale modal wind turbine tests: comparing shaker excitation with wind excitation. ']\n",
      "\n",
      "[6117, '10.1056/NEJMoa1402121', '(2020) Comprehensive, Integrative Genomic Analysis of Diffuse Lower-Grade Gliomas. Massachusetts Medical Society (26):2481-2498']\n",
      "\n",
      "[2991, '10.1116/1.4904970', 'Padmashree D. Joshi, at el (2019) Photosensitive field emission study of SnS2 nanosheets. American Vacuum Society (3):03C106']\n",
      "\n",
      "[2890, '10.1103/PhysRevB.63.224204', 'Olexei Motrunich, at el (2020) Griffiths effects and quantum critical points in dirty superconductors without spin-rotation invariance: One-dimensional examples. American Physical Society (APS) (22):']\n",
      "\n",
      "[2528, '10.1182/asheducation-2015.1.8', 'Clara Camaschella(2020) Iron deficiency: new insights into diagnosis and treatment. American Society of Hematology (1):8-13']\n",
      "\n",
      "[2266, '10.4028/www.scientific.net/AMM.7-8.159', 'M.A. Garcia-Romeu-Martinez, at el (2019) Monitoring the Evolution of Fatigue in Corrugated Paperboard under Random Loads. ']\n",
      "\n",
      "[2241, '10.1111/j.1365-277X.2004.00520.x', 'J. J. Lara, at el (2019) Intentional mis-reporting of food consumption and its relationship with body mass index and psychological scores in women. Wiley (3):209-218']\n",
      "\n",
      "[2168, '10.1002/pmic.200600525', 'Dustin Lippert, at el (2019) Conifer defense against insects: Proteome analysis of Sitka spruce (Picea sitchensis) bark induced by mechanical wounding or feeding by white pine weevils (Pissodes strobi). Wiley (2):248-270']\n",
      "\n",
      "[2001, '10.1161/CIRCRESAHA.117.306290', 'Parwiz Abrahimi, at el (2019) Efficient Gene Disruption in Cultured Primary Human Endothelial Cells by CRISPR/Cas9. Ovid Technologies (Wolters Kluwer Health) (2):121-128']\n",
      "\n",
      "[1806, '10.1002/smll.201002009', 'Xiao Huang, at el (2020) Graphene-Based Materials: Synthesis, Characterization, Properties, and Applications. Wiley (14):1876-1902']\n",
      "\n"
     ]
    }
   ],
   "source": [
    "for i in range(10):\n",
    "    print(table[i])\n",
    "    print('')"
   ]
  },
  {
   "cell_type": "code",
   "execution_count": null,
   "metadata": {},
   "outputs": [],
   "source": []
  }
 ],
 "metadata": {
  "kernelspec": {
   "display_name": "Python 3",
   "language": "python",
   "name": "python3"
  },
  "language_info": {
   "codemirror_mode": {
    "name": "ipython",
    "version": 3
   },
   "file_extension": ".py",
   "mimetype": "text/x-python",
   "name": "python",
   "nbconvert_exporter": "python",
   "pygments_lexer": "ipython3",
   "version": "3.6.5"
  }
 },
 "nbformat": 4,
 "nbformat_minor": 4
}
