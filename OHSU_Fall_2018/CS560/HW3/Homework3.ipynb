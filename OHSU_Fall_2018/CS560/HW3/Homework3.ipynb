{
 "cells": [
  {
   "cell_type": "markdown",
   "metadata": {},
   "source": [
    "# CS 560: Homework 3\n",
    "### Eric Stevens\n",
    "### October 21, 2018\n"
   ]
  },
  {
   "cell_type": "markdown",
   "metadata": {},
   "source": [
    "## Question 1\n",
    "\n",
    "Let $I = \\{D,\\phi,\\pi\\}$ be any model of KB. <br>\n",
    "Let $\\phi(a) = A$<br>\n",
    "Let $\\phi(b) = B$<br>\n",
    "Let $\\rho$ be the variable assignment that maps a to A and b to B respectivly.<br><br>\n",
    "\n",
    "Since $p(X,Y) \\in KB$, $I_\\rho(P(X,Y))$ is true.<br>\n",
    "So, $\\pi(p)(\\rho(X),\\rho(Y))$ is true.<br>\n",
    "So, $\\pi(p)(A,B)$ is true. <br>\n",
    "Therefore, $I(p(a,b))$ is true.<br><br>\n",
    "\n",
    "Since $I$ is a modle of $KB$ it follows that $KB \\models p(a,b)$"
   ]
  },
  {
   "cell_type": "markdown",
   "metadata": {},
   "source": [
    "## Question 1 Critique\n",
    "Since there is no provided solution for this problem I cannot offer a critique. I based this solution on the solution from question 2.2."
   ]
  },
  {
   "cell_type": "markdown",
   "metadata": {},
   "source": [
    "## Question 2\n",
    "\n",
    "animal(X) <-- dog(X) <br>\n",
    "gets_pleasure(X) <-- animal(X) ^ feeding(X) <br>\n",
    "likes(X,Y) <-- person(X) ^ animal(Y) ^ owns(X,Y) <br>\n",
    "does_for(X,Y) <-- person(X) ^ animal(Y) ^ gets_pleasure(Y)\n"
   ]
  },
  {
   "cell_type": "markdown",
   "metadata": {},
   "source": [
    "## Question 2 Critique\n",
    "\n",
    "Several mistakes were made in this solution. I missunderstood that feeding was a constant and entered it as a predicate. The provided solution took the form \"X gets pleasure from feeding if X is an animal\". My solution read \"X gets pleasure if X is an animal and X is feeding. This mistake cascaded through the solution and caused. I was not able to the \"does()\" predicate 3-ary because my feeding predicate can not be an argument of another predicate. I added \"person()\" predicate which wasn't needed. Finally, I forgot to add the gound clauses."
   ]
  },
  {
   "cell_type": "markdown",
   "metadata": {},
   "source": [
    "## Question 3\n",
    "\n",
    "? does_for(mary,Y)"
   ]
  },
  {
   "cell_type": "markdown",
   "metadata": {},
   "source": [
    "## Question 3 Critique\n",
    "\n",
    "Here my mistake from the previous problem led to a similar problem. I did not think of the action of feeding as a constant and instead thought of it as a predicate. Therefore I could not have a variable for action in the query."
   ]
  },
  {
   "cell_type": "markdown",
   "metadata": {},
   "source": [
    "## Question 4\n",
    "\n",
    "Did not complete"
   ]
  },
  {
   "cell_type": "markdown",
   "metadata": {},
   "source": [
    "## Question 5\n",
    "\n",
    "?- append(A,[a|B],[b,a,d,a,c,a]). <br>\n",
    "A = [b],<br>\n",
    "B = [d, a, c, a] ;<br>\n",
    "A = [b, a, d],<br>\n",
    "B = [c, a] ;<br>\n",
    "A = [b, a, d, a, c],<br>\n",
    "B = [] ;<br><br>\n",
    "\n",
    "?- append(X,[A,B|Y],[a,b,c,d,e]).<br>\n",
    "X = [],<br>\n",
    "A = a,<br>\n",
    "B = b,<br>\n",
    "Y = [c, d, e] ;<br>\n",
    "X = [a],<br>\n",
    "A = b,<br>\n",
    "B = c,<br>\n",
    "Y = [d, e] ;<br>\n",
    "X = [a, b],<br>\n",
    "A = c,<br>\n",
    "B = d,<br>\n",
    "Y = [e] ;<br>\n",
    "X = [a, b, c],<br>\n",
    "A = d,<br>\n",
    "B = e,<br>\n",
    "Y = [] ;<br><br>"
   ]
  },
  {
   "cell_type": "markdown",
   "metadata": {},
   "source": [
    "## Question 5 Critique\n",
    "This solution appears to be correct"
   ]
  },
  {
   "cell_type": "markdown",
   "metadata": {},
   "source": [
    "## Question 6\n",
    "\n",
    "?- subset([a,b],[b,a,d]).<br>\n",
    "true.<br><br>\n",
    "\n",
    "?- subset([X,Y],[b,a,d]).<br>\n",
    "X = a,<br>\n",
    "Y = a;<br>\n",
    "X = b,<br>\n",
    "Y = b;<br>\n",
    "X = d,<br>\n",
    "Y = d;<br>\n",
    "X = a,<br>\n",
    "Y = b;<br>\n",
    "X = b,<br>\n",
    "Y = a;<br>\n",
    "X = a,<br>\n",
    "Y = c;<br>\n",
    "X = c,<br>\n",
    "Y = a;<br>\n",
    "X = a,<br>\n",
    "Y = d;<br>\n",
    "X = d,<br>\n",
    "Y = a;<br>\n",
    "X = b,<br>\n",
    "Y = d;<br>\n",
    "X = d,<br>\n",
    "Y = b;<br><br>\n",
    "\n",
    "?- subset(S,[b,a,d]).<br>\n",
    "S = [];<br>\n",
    "S = [a];<br>\n",
    "S = [b];<br>\n",
    "S = [d];<br>\n",
    "S = [a,a];<br>\n",
    "S = [a,b];<br>\n",
    "S = [a,c];<br>\n",
    "...<br><br>\n",
    "\n",
    "This usage of set does not fit the mathematical difinition of a  set because in this situation the same value can occour multiple times in a set. A dictionary would be a better structure for a set."
   ]
  },
  {
   "cell_type": "markdown",
   "metadata": {},
   "source": [
    "## Question 6 Critique\n",
    "\n",
    "This solution also appears to be mostly correct. Looking back at what I did in my haste, I probably should hav added several more examples to the final query befoe the ... I knew what I was doing here, every combination of three or less length list with a, b, and d as elements. This would have been $3^0 + 3^1 + 3^2 +3^3$ lines so I did not write all of them. \n",
    "\n",
    "I think my explanation of why the list is not the proper representation of a set is valid, but incomplete. I forgot to add that multiple lists can represent the same set."
   ]
  },
  {
   "cell_type": "markdown",
   "metadata": {},
   "source": [
    "## Question 7\n",
    "\n",
    "shorter([\\_],\\_). <br>\n",
    "shorter([\\_|B],[\\_|J]) <- shorter(B,J).<br><br>\n",
    " \n",
    "?- shorter([a,g],[b,a,d,a]).<br>\n",
    "true.<br><br>\n",
    "\n",
    "?- shorter([a,a,d,a],[a,g]).<br>\n",
    "false.<br><br>\n",
    "\n",
    "?- shorter([a,a,a,a],[a,b]).<br>\n",
    "false.<br><br>\n",
    "\n",
    "?- shorter(L,[b,a,d,a]).<br>\n",
    "L = [] ;<br>\n",
    "L = [W] ;<br>\n",
    "L = [W, X] ;<br>\n",
    "L = [W, X, Y] ;<br>\n",
    "L = [W, X, Y, Z] ;<br>\n",
    "\n",
    "?- shorter([b,a,d,a],L).<br>\n",
    "L = [W, X, Y, Z|K].<br><br>\n",
    "\n",
    "\n"
   ]
  },
  {
   "cell_type": "markdown",
   "metadata": {},
   "source": [
    "## Question 7 Critique\n",
    "\n",
    "My solutions to these problems is correct but I made some variations to the output that may have not been needed. Also my formatting of the prolog scripts was different because this is my first time writing Prolog and it was less confusing to write them this way. When I wrote them the way the solution has them I got \"singleton variable\" warnings and thought that I was doing something wrong. The way I wrote the code did not cause this warning. Also, when I got the ouput of the form _GXXX I replaced it with variables because I did not know what the _GXXX represented. "
   ]
  },
  {
   "cell_type": "markdown",
   "metadata": {},
   "source": [
    "## Question 8\n",
    "remove(E,[E|Y], Y).<br>\n",
    "remove(E,[A|B],[A|C]) <- remove(E,B,C).<br><br>\n",
    "\n",
    "\n",
    "?- remove(a,[b,a,d,a],R).<br>\n",
    "R = [b, d, a] ;<br>\n",
    "R = [b, a, d] ;<br><br>\n",
    "\n",
    "?- remove(E,[b,a,d,a],R).<br>\n",
    "E = b,<br>\n",
    "R = [a, d, a] ;<br>\n",
    "E = a,<br>\n",
    "R = [b, d, a] ;<br>\n",
    "E = d,<br>\n",
    "R = [b, a, a] ;<br>\n",
    "E = a,<br>\n",
    "R = [b, a, d] ;<br><br>\n",
    "\n",
    "?- remove(E,L,[b,a,d]).<br>\n",
    "L = [E, b, a, d] ;<br>\n",
    "L = [b, E, a, d] ;<br>\n",
    "L = [b, a, E, d] ;<br>\n",
    "L = [b, a, d, E] ;<br><br>\n",
    "\n",
    "?- remove(p(X),[a,p(a),p(p(a)),p(p(p(a)))], R).<br>\n",
    "X = a,<br>\n",
    "R = [a, p(p(a)), p(p(p(a)))] ;<br>\n",
    "X = p(a),<br>\n",
    "R = [a, p(a), p(p(p(a)))] ;<br>\n",
    "X = p(p(a)),<br>\n",
    "R = [a, p(a), p(p(a))] ;<br><br>"
   ]
  },
  {
   "cell_type": "markdown",
   "metadata": {},
   "source": [
    "## Question 8 Critique\n",
    "\n",
    "This solution is correct. I did use different variable names."
   ]
  },
  {
   "cell_type": "markdown",
   "metadata": {},
   "source": [
    "## Question 9"
   ]
  },
  {
   "cell_type": "markdown",
   "metadata": {},
   "source": [
    "## Question 10\n",
    "\n",
    "plus(X,0,X).<br>\n",
    "plus(X, s(Y), Z) <-- plus(s(X), Y, Z).\n",
    "\n"
   ]
  },
  {
   "cell_type": "markdown",
   "metadata": {},
   "source": [
    "## Question 10 Critique\n",
    "\n",
    "This solution is not the same as the solution provided. I see how the provided solution works, as Y counts down s()s are wrapped around Z and cout up on the way out. That being said I think my solution may work two. It increments X while decrementing Y and hits the base case when Y is 0 and X is the first X + the first Y."
   ]
  },
  {
   "cell_type": "markdown",
   "metadata": {},
   "source": [
    "## Question 11\n",
    "times(X,0,0). <br>\n",
    "times(X,1,X). <br>\n",
    "times(X,s(Y),Z) <-- times(X,Y,Z) ^ plus(Z,X,Z)<br><br>\n",
    "\n",
    "neq(X,Y) <-- lt(X,Y) <br>\n",
    "neq(X,Y) <-- lt(Y,X)\n",
    "\n"
   ]
  },
  {
   "cell_type": "markdown",
   "metadata": {},
   "source": [
    "## Question 11 Critique\n",
    "\n",
    "It looks like I was very close to this solution. I must be making a mistake thinking that recursive calls can take the form Z = Z + X. In the solution Z = XY + X. I can see where this is a mistake since prolog is trying to find a solution the predicate by itself can be true. Therefore my plus(Z,X,Z) statement could only be possible if X was 0. The introduction of the variable XY allows for a storage variable."
   ]
  },
  {
   "cell_type": "markdown",
   "metadata": {},
   "source": [
    "## Question 12\n",
    "\n",
    "Did not complete"
   ]
  },
  {
   "cell_type": "markdown",
   "metadata": {},
   "source": [
    "## Question 13\n",
    "\n",
    "Did not complete"
   ]
  },
  {
   "cell_type": "markdown",
   "metadata": {},
   "source": [
    "## Question 14\n",
    "\n",
    "Did not complete"
   ]
  },
  {
   "cell_type": "markdown",
   "metadata": {},
   "source": [
    "## Question 15\n",
    "\n",
    "Did not complete"
   ]
  }
 ],
 "metadata": {
  "kernelspec": {
   "display_name": "Python 3",
   "language": "python",
   "name": "python3"
  },
  "language_info": {
   "codemirror_mode": {
    "name": "ipython",
    "version": 3
   },
   "file_extension": ".py",
   "mimetype": "text/x-python",
   "name": "python",
   "nbconvert_exporter": "python",
   "pygments_lexer": "ipython3",
   "version": "3.6.5"
  }
 },
 "nbformat": 4,
 "nbformat_minor": 2
}
