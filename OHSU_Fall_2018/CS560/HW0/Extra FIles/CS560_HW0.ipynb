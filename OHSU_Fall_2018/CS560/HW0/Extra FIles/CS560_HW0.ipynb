{
 "cells": [
  {
   "cell_type": "markdown",
   "metadata": {},
   "source": [
    "## Question 3"
   ]
  },
  {
   "cell_type": "code",
   "execution_count": 1,
   "metadata": {},
   "outputs": [],
   "source": [
    "list1 = [1, 2, \"c\", 4, \"e\"]\n",
    "list2 = [6, \"g\", 7, \"i\", \"j\"]"
   ]
  },
  {
   "cell_type": "code",
   "execution_count": 2,
   "metadata": {},
   "outputs": [
    {
     "name": "stdout",
     "output_type": "stream",
     "text": [
      "list1:  [1, 2, 'c', 4, 'e']\n",
      "list2:  [6, 'g', 7, 'i', 'j']\n"
     ]
    }
   ],
   "source": [
    "print(\"list1: \", list1)\n",
    "print(\"list2: \", list2)"
   ]
  },
  {
   "cell_type": "code",
   "execution_count": 5,
   "metadata": {},
   "outputs": [
    {
     "name": "stdout",
     "output_type": "stream",
     "text": [
      "[1, 2, 'c', 4, 'e', 6, 'g', 7, 'i', 'j']\n"
     ]
    }
   ],
   "source": [
    "list3 = list1 + list2\n",
    "print(list3)"
   ]
  },
  {
   "cell_type": "code",
   "execution_count": 4,
   "metadata": {},
   "outputs": [
    {
     "name": "stdout",
     "output_type": "stream",
     "text": [
      "[[1, 2, 'c', 4, 'e'], [6, 'g', 7, 'i', 'j']]\n"
     ]
    }
   ],
   "source": [
    "list4 = [list1,list2]\n",
    "print(list4)"
   ]
  },
  {
   "cell_type": "code",
   "execution_count": 5,
   "metadata": {},
   "outputs": [
    {
     "name": "stdout",
     "output_type": "stream",
     "text": [
      "[1, 2, 'c', 4, 'e', 'x']\n"
     ]
    }
   ],
   "source": [
    "list1.append(\"x\")\n",
    "print(list1)"
   ]
  },
  {
   "cell_type": "code",
   "execution_count": 6,
   "metadata": {},
   "outputs": [
    {
     "name": "stdout",
     "output_type": "stream",
     "text": [
      "[1, 2, 'c', 4, 'e', 'x', 6, 'g', 7, 'i', 'j']\n"
     ]
    }
   ],
   "source": [
    "list1.extend(list2)\n",
    "print(list1)"
   ]
  },
  {
   "cell_type": "code",
   "execution_count": 7,
   "metadata": {},
   "outputs": [
    {
     "name": "stdout",
     "output_type": "stream",
     "text": [
      "1\n",
      "4\n",
      "e\n"
     ]
    }
   ],
   "source": [
    "list1 = [1, 2, \"c\", 4, \"e\"]\n",
    "print(list1[0])\n",
    "print(list1[3])\n",
    "print(list1[-1])"
   ]
  },
  {
   "cell_type": "code",
   "execution_count": 9,
   "metadata": {},
   "outputs": [
    {
     "name": "stdout",
     "output_type": "stream",
     "text": [
      "[2, 'c']\n",
      "[1, 2, 'c', 4, 'e']\n",
      "['c', 4, 'e']\n",
      "['c', 4]\n"
     ]
    }
   ],
   "source": [
    "print(list1[1:3])\n",
    "print(list1[:])\n",
    "print(list1[2:])\n",
    "print(list1[-3:-1])"
   ]
  },
  {
   "cell_type": "code",
   "execution_count": 10,
   "metadata": {},
   "outputs": [
    {
     "name": "stdout",
     "output_type": "stream",
     "text": [
      "['c']\n",
      "c\n"
     ]
    }
   ],
   "source": [
    "print(list1[2:3])\n",
    "print(list1[2])"
   ]
  },
  {
   "cell_type": "markdown",
   "metadata": {},
   "source": [
    "In the code above the first line returns a slice of list1 with a range of one index. The second line returns the value at a single index of the list."
   ]
  },
  {
   "cell_type": "code",
   "execution_count": 11,
   "metadata": {},
   "outputs": [
    {
     "name": "stdout",
     "output_type": "stream",
     "text": [
      "[1, 2, 'c', 4, 'e', 'x']\n"
     ]
    }
   ],
   "source": [
    "list1 = [1, 2, \"c\", 4, \"e\"]\n",
    "list2 = list1\n",
    "list1.append(\"x\")\n",
    "print(list2)"
   ]
  },
  {
   "cell_type": "markdown",
   "metadata": {},
   "source": [
    "In this statement, setting list2 equal to list1 is not actually creating a new list variable and copying data over from list one but rather creating a list pointer object that points to the same object that list one points to."
   ]
  },
  {
   "cell_type": "code",
   "execution_count": 13,
   "metadata": {},
   "outputs": [
    {
     "name": "stdout",
     "output_type": "stream",
     "text": [
      "[1, 2, 'c', 4, 'e', 6]\n",
      "[1, 2, 'c', 4, 'e']\n"
     ]
    }
   ],
   "source": [
    "list1 = [1, 2, \"c\", 4, \"e\"]\n",
    "list2 = list1\n",
    "list1 = list1 + [6]\n",
    "print(list1)\n",
    "print(list2)"
   ]
  },
  {
   "cell_type": "markdown",
   "metadata": {},
   "source": [
    "In this situation you are setting list1 equal to itself and another list. This requires the creation of a new object. List two is still pointing to the first object."
   ]
  },
  {
   "cell_type": "code",
   "execution_count": 6,
   "metadata": {},
   "outputs": [
    {
     "name": "stdout",
     "output_type": "stream",
     "text": [
      "[1, 2, 'c', 4, 'e', 'x']\n",
      "[1, 2, 'c', 4, 'e']\n"
     ]
    }
   ],
   "source": [
    "list1 = [1, 2, \"c\", 4, \"e\"]\n",
    "list2 = list1[:]\n",
    "list1.append(\"x\")\n",
    "print(list1)\n",
    "print(list2)"
   ]
  },
  {
   "cell_type": "markdown",
   "metadata": {},
   "source": [
    "Here we are setting list2 equal to the values within list1 as opposed to list1 itself. In this situation a new object is created and pointed to by list2."
   ]
  },
  {
   "cell_type": "markdown",
   "metadata": {},
   "source": [
    "## Question 4"
   ]
  },
  {
   "cell_type": "code",
   "execution_count": 10,
   "metadata": {},
   "outputs": [],
   "source": [
    "def parse(atom):\n",
    "    for x in range(1,len(atom)):\n",
    "        if atom[x][0].islower():\n",
    "            print(\"constant \", atom[x])\n",
    "        else:\n",
    "            print(\"variable \", atom[x])"
   ]
  },
  {
   "cell_type": "code",
   "execution_count": 11,
   "metadata": {},
   "outputs": [
    {
     "name": "stdout",
     "output_type": "stream",
     "text": [
      "constant  foyer\n",
      "variable  X\n",
      "constant  foyer\n",
      "constant  parlour\n",
      "variable  Y\n",
      "variable  X\n"
     ]
    }
   ],
   "source": [
    "myatom = [\"pred\", \"foyer\", \"X\", \"foyer\", \"parlour\", \"Y\", \"X\"]\n",
    "parse(myatom)"
   ]
  },
  {
   "cell_type": "markdown",
   "metadata": {},
   "source": [
    "## Question 5"
   ]
  },
  {
   "cell_type": "code",
   "execution_count": 23,
   "metadata": {},
   "outputs": [],
   "source": [
    "def parse(atom):\n",
    "    d={}\n",
    "    for x in range(1,len(atom)):\n",
    "        if atom[x][0].islower():\n",
    "            d[atom[x]] = \"constant \"\n",
    "        else:\n",
    "            d[atom[x]] = \"variable \"\n",
    "            \n",
    "    for i in d:\n",
    "        print ( d[i], i)"
   ]
  },
  {
   "cell_type": "code",
   "execution_count": 24,
   "metadata": {},
   "outputs": [
    {
     "name": "stdout",
     "output_type": "stream",
     "text": [
      "constant  foyer\n",
      "variable  X\n",
      "constant  parlour\n",
      "variable  Y\n"
     ]
    }
   ],
   "source": [
    "myatom = [\"pred\", \"foyer\", \"X\", \"foyer\", \"parlour\", \"Y\", \"X\"]\n",
    "parse(myatom)"
   ]
  },
  {
   "cell_type": "code",
   "execution_count": null,
   "metadata": {},
   "outputs": [],
   "source": []
  }
 ],
 "metadata": {
  "kernelspec": {
   "display_name": "Python 3",
   "language": "python",
   "name": "python3"
  },
  "language_info": {
   "codemirror_mode": {
    "name": "ipython",
    "version": 3
   },
   "file_extension": ".py",
   "mimetype": "text/x-python",
   "name": "python",
   "nbconvert_exporter": "python",
   "pygments_lexer": "ipython3",
   "version": "3.6.5"
  }
 },
 "nbformat": 4,
 "nbformat_minor": 2
}
