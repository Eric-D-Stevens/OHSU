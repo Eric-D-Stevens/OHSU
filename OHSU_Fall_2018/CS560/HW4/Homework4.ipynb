{
 "cells": [
  {
   "cell_type": "markdown",
   "metadata": {},
   "source": [
    "# CS 560: Homework 4\n",
    "### Eric Stevens\n",
    "### October 27, 2018"
   ]
  },
  {
   "cell_type": "markdown",
   "metadata": {},
   "source": [
    "## Question 1:\n",
    "\n",
    "My initial thought was to add a `n(0)` predicate but then we would have the problem of being able to have expressions like `s(0) == s(n(s(0)))`, resulting in the same number being represented in two different ways. Therefore, it seems that they best way to extend the scheme is to add another constant. We will add the constant `-0`, which will represent a negative zero. The `s(X)` in increment the numerical value of `X` in the direction of the sign of `X`. Examples of the way this would work follows: \n",
    "\n",
    "```\n",
    "s('0') = 1\n",
    "s(s('0')) = 2\n",
    "s(s(s('0'))) = 3\n",
    "\n",
    "s('-0') = -1\n",
    "s(s('-0')) = -2\n",
    "s(s(s('-0'))) = -3\n",
    "```\n",
    "\n",
    "If we ensure that we dont map `-0` to `0` and instead map `s(-0)` to `-1` we will have a number system where there will be exactly one representation for each numerical value.\n",
    "\n"
   ]
  },
  {
   "cell_type": "markdown",
   "metadata": {},
   "source": [
    "## Question 1 Critique:\n",
    "\n",
    "I am very disheartened by the provided solution. I spent a long time trying to solve this problem in a way that adheared to the requirements of the quesrion, which stated explicitly state: **\"there should be exactly one way to represent any number.\"** Neither of the provided solutions held to this, allowing any number to be produced in an infinite number of ways and then using the hand waving statement that **this will be considered not \"well-formed\"**. \n",
    "\n",
    "```\n",
    "p(s(0)) = p(p(s(s(0)))) = p(s(p(s(0)))) = 0\n",
    "n(s(0)) = n(n(n(s(0)))) = n(n(n(n(n(s(0)))))) = -1\n",
    "etc..\n",
    "```\n",
    "We have not learned anything about functions that says that this can be prevented and I dont see how any implementation of these functions could pervent this. Nothing to prevent this is provided in the solutions. My solution actually does acomplish the abbility to represent each number in only one way.\n",
    "\n",
    "This is disapointing to me because the provided solutions are the ones that were obvious to. I would have undoubtedly used one of them had it not been for the statement restricting us from schemes that have multiple representations for a given number. Furthermore, this confusion cascaded into the following problems. I hope this misunderstanding will be considered during the grading of this assignment."
   ]
  },
  {
   "cell_type": "markdown",
   "metadata": {},
   "source": [
    "## Question 2:\n",
    "\n",
    "The language of this question confused me. There seems to be a mixing of Prolog and Datalog in the instructions: \"check your definition in Prolog with ‘succ(s(s(s(0))),X)’\". It is my understanding that functions are meaningless in Prolog and are treated as constants. Therefore there is no way to parse the `s()` predicates and I believe that they would have to be hard coded. As a result I am turnning in both a Datalog definition and a working simple Prolog line to cover my bases.\n",
    "\n",
    "###### Datalog\n",
    "```\n",
    "% if X is greater than 0\n",
    "succ(X,s(X)) :- lt(0,X)\n",
    "\n",
    "% if X is less than 0\n",
    "succ(s(X),X) :- lt(X,0)\n",
    "\n",
    "```\n",
    "\n",
    "###### Prolog\n",
    "Here I am also adding a `predecessor` function to aid in the next question.\n",
    "\n",
    "```\n",
    "% simple addition of 1\n",
    "succ(X,Y) :- Y is X+1.\n",
    "\n",
    "% predecessor function\n",
    "pred(X,Y) :- Y is X-1.\n",
    "```\n",
    "\n"
   ]
  },
  {
   "cell_type": "markdown",
   "metadata": {},
   "source": [
    "## Question 2 Critique:\n",
    "\n",
    "Again, I had confusion about this problem as a result of the previous question. Also there is confusion about whether you are expecting Prolog solutions or Datalog solutions, which is also true in the next problem. I also forgot to include a base case for the problems."
   ]
  },
  {
   "cell_type": "markdown",
   "metadata": {},
   "source": [
    "## Question 3:"
   ]
  },
  {
   "cell_type": "markdown",
   "metadata": {},
   "source": [
    "```\n",
    "% base: X+0=X\n",
    "plus(X,0,X).\n",
    "% decrement Y and put onto Z\n",
    "plus(X,Y,Z) :-\n",
    "        succ(X,NewX),\n",
    "        pred(Y,NewY), % see previous code sample\n",
    "        plus(NewX,NewY,Z).\n",
    "\n",
    "% Alternative plus function\n",
    "alt_plus(X,Y,Z) :- Z is X+Y.\n",
    "```"
   ]
  },
  {
   "cell_type": "markdown",
   "metadata": {},
   "source": [
    "## Question 3 Critique:\n",
    "\n",
    "As in previous cases I was confused again about what was expected. I wrote a function that works in Prolog. My mistake from the first question has cascaded down to this point. This function works in Prolog."
   ]
  },
  {
   "cell_type": "markdown",
   "metadata": {},
   "source": [
    "## Question 4:"
   ]
  },
  {
   "cell_type": "markdown",
   "metadata": {},
   "source": [
    "```\n",
    "% Base Case: if tower height is 1 then a list of a single block should be returned.\n",
    "multicolortower4(1,[X]) :- block(X).\n",
    "    \n",
    "% Recursive: Builds on the way out.\n",
    "multicolortower4(Height,[Top|Rest]) :-\n",
    "        Height > 1,\n",
    "        block(Top),\n",
    "        NewHeight is Height-1,\n",
    "        multicolortower4(NewHeight,Rest).\n",
    "```"
   ]
  },
  {
   "cell_type": "markdown",
   "metadata": {},
   "source": [
    "The following is a query and its ouput using the above predicates:\n",
    "\n",
    "```\n",
    "?- multicolortower4(9,List).\n",
    "List = [red1, red1, red1, red1, red1, red1, red1, red1, red1] ;\n",
    "List = [red1, red1, red1, red1, red1, red1, red1, red1, red2] ;\n",
    "List = [red1, red1, red1, red1, red1, red1, red1, red1, red3] ;\n",
    "List = [red1, red1, red1, red1, red1, red1, red1, red1, red4] ;\n",
    "List = [red1, red1, red1, red1, red1, red1, red1, red1, red5] ;\n",
    "List = [red1, red1, red1, red1, red1, red1, red1, red1, red6] ;\n",
    "List = [red1, red1, red1, red1, red1, red1, red1, red1, red7] ;\n",
    "List = [red1, red1, red1, red1, red1, red1, red1, red1, gre1] ;\n",
    "List = [red1, red1, red1, red1, red1, red1, red1, red1, gre2] ;\n",
    "List = [red1, red1, red1, red1, red1, red1, red1, red1, gre3] ;\n",
    "List = [red1, red1, red1, red1, red1, red1, red1, red1, blu1] ;\n",
    "List = [red1, red1, red1, red1, red1, red1, red1, red1, blu2] ;\n",
    "List = [red1, red1, red1, red1, red1, red1, red1, red1, yel1] ;\n",
    "List = [red1, red1, red1, red1, red1, red1, red1, red1, bla1] ;\n",
    "List = [red1, red1, red1, red1, red1, red1, red1, red2, red1] ;\n",
    "List = [red1, red1, red1, red1, red1, red1, red1, red2, red2] ;\n",
    "...\n",
    "...\n",
    "...\n",
    "```"
   ]
  },
  {
   "cell_type": "markdown",
   "metadata": {},
   "source": [
    "## Question 4 Critique:\n",
    "\n",
    "It appears that I am building the list at the time of the function call where the solution builds on the way in. As can be seen from the output, my function works."
   ]
  },
  {
   "cell_type": "markdown",
   "metadata": {},
   "source": [
    "## Question 5:"
   ]
  },
  {
   "cell_type": "markdown",
   "metadata": {},
   "source": [
    "```\n",
    "% Base Case: any block will be different in empty list\n",
    "differentFromList(Block,[]) :- block(Block).   \n",
    "% recurse through list and ensure Block is not equal to Top\n",
    "differentFromList(Block,[Top|Rest]) :-\n",
    "        block(Block),\n",
    "        not(Block = Top),\n",
    "        differentFromList(Block,Rest).\n",
    "\n",
    "% mct5: This function adds Height blocks to list and \n",
    "% ensures that the blocks that are added are not \n",
    "% already in the list. This builds the list on the \n",
    "% way in to minimize the search space. \n",
    "\n",
    "% Base Case: 0 hight will return Out with List\n",
    "mct5(0,List,Out) :-\n",
    "        Out = List.\n",
    "% Build on way in in at the recursive call\n",
    "mct5(Height,List,Out) :-\n",
    "        Height > 0,\n",
    "        Height < 14, % only 13 blocks\n",
    "        block(Top), \n",
    "        differentFromList(Top,List), % distinct\n",
    "        NewHeight is Height-1,\n",
    "        mct5(NewHeight,[Top|List],Out). % build\n",
    "\n",
    "        \n",
    "% multicolortower5(Height,List): This function formats the operation\n",
    "% in the way described in the assignment. It allows user to ignore \n",
    "% extra input variable and ensures the desired result, as mct5 can\n",
    "% have results that are not what is required if used directly.\n",
    "multicolortower5(Height,List) :-\n",
    "        mct5(Height,_,List).\n",
    "\n",
    "```"
   ]
  },
  {
   "cell_type": "markdown",
   "metadata": {},
   "source": [
    "The following is a query and its ouput using the above predicates:\n",
    "\n",
    "```\n",
    "?- multicolortower5(9,List).\n",
    "List = [gre2, gre1, red7, red6, red5, red4, red3, red2, red1] ;\n",
    "List = [gre3, gre1, red7, red6, red5, red4, red3, red2, red1] ;\n",
    "List = [blu1, gre1, red7, red6, red5, red4, red3, red2, red1] ;\n",
    "List = [blu2, gre1, red7, red6, red5, red4, red3, red2, red1] ;\n",
    "List = [yel1, gre1, red7, red6, red5, red4, red3, red2, red1] ;\n",
    "List = [bla1, gre1, red7, red6, red5, red4, red3, red2, red1] ;\n",
    "List = [gre1, gre2, red7, red6, red5, red4, red3, red2, red1] ;\n",
    "List = [gre3, gre2, red7, red6, red5, red4, red3, red2, red1] ;\n",
    "List = [blu1, gre2, red7, red6, red5, red4, red3, red2, red1] ;\n",
    "List = [blu2, gre2, red7, red6, red5, red4, red3, red2, red1] ;\n",
    "List = [yel1, gre2, red7, red6, red5, red4, red3, red2, red1] ;\n",
    "List = [bla1, gre2, red7, red6, red5, red4, red3, red2, red1] ;\n",
    "List = [gre1, gre3, red7, red6, red5, red4, red3, red2, red1] ;\n",
    "List = [gre2, gre3, red7, red6, red5, red4, red3, red2, red1] ;\n",
    "List = [blu1, gre3, red7, red6, red5, red4, red3, red2, red1] ;\n",
    "List = [blu2, gre3, red7, red6, red5, red4, red3, red2, red1] ;\n",
    "...\n",
    "...\n",
    "...\n",
    "```"
   ]
  },
  {
   "cell_type": "markdown",
   "metadata": {},
   "source": [
    "## Question 5 Critique:\n",
    "\n",
    "When looking at the notes I saw that building lists on the way in involved a storage variable. I wrote the function after looking at notes that set an extra variable after the recursive call. In the case of this function the setting of the ouput variable is done in the base case. Otherwise, the function seems to be correct as the output is correct."
   ]
  },
  {
   "cell_type": "markdown",
   "metadata": {},
   "source": [
    "## Question 6:"
   ]
  },
  {
   "cell_type": "markdown",
   "metadata": {},
   "source": [
    "```\n",
    "% differentcolor(): Simply checks to ensure that two blocks\n",
    "% are not the same color.\n",
    "differentcolor(X,Y) :-\n",
    "        block(X),\n",
    "        block(Y),\n",
    "        color(X,CX),\n",
    "        color(Y,CY),\n",
    "        not(CX=CY).\n",
    "\n",
    "\n",
    "% performs way in list building while checking to ensure that\n",
    "% any two touching blocks do not have the same color.\n",
    "mct6(1,List,Out) :-\n",
    "        Out = List.\n",
    "mct6(Height,[Tl|List],Out) :- % needs top of list to check for color\n",
    "        Height > 1,\n",
    "        Height < 14,\n",
    "        block(Top),\n",
    "        differentFromList(Top,List),\n",
    "        differentcolor(Top,Tl), % ensure color difference\n",
    "        NewHeight is Height-1,\n",
    "        mct6(NewHeight,[Top|[Tl|List]],Out).\n",
    "\n",
    "% same purpose as in question 5\n",
    "multicolortower6(Height,List) :-\n",
    "        mct6(Height,_,List).\n",
    "```\n"
   ]
  },
  {
   "cell_type": "markdown",
   "metadata": {},
   "source": [
    "The following is a query and its ouput using the above predicates:\n",
    "\n",
    "```\n",
    "?- multicolortower6(9,List).\n",
    "List = [blu2, red4, blu1, red3, gre3, red2, gre2, red1, gre1] ;\n",
    "List = [yel1, red4, blu1, red3, gre3, red2, gre2, red1, gre1] ;\n",
    "List = [bla1, red4, blu1, red3, gre3, red2, gre2, red1, gre1] ;\n",
    "List = [blu2, red5, blu1, red3, gre3, red2, gre2, red1, gre1] ;\n",
    "List = [yel1, red5, blu1, red3, gre3, red2, gre2, red1, gre1] ;\n",
    "List = [bla1, red5, blu1, red3, gre3, red2, gre2, red1, gre1] ;\n",
    "List = [blu2, red6, blu1, red3, gre3, red2, gre2, red1, gre1] ;\n",
    "List = [yel1, red6, blu1, red3, gre3, red2, gre2, red1, gre1] ;\n",
    "List = [bla1, red6, blu1, red3, gre3, red2, gre2, red1, gre1] ;\n",
    "List = [blu2, red7, blu1, red3, gre3, red2, gre2, red1, gre1] ;\n",
    "List = [yel1, red7, blu1, red3, gre3, red2, gre2, red1, gre1] ;\n",
    "List = [bla1, red7, blu1, red3, gre3, red2, gre2, red1, gre1] ;\n",
    "List = [red4, yel1, blu1, red3, gre3, red2, gre2, red1, gre1] ;\n",
    "List = [red5, yel1, blu1, red3, gre3, red2, gre2, red1, gre1] ;\n",
    "List = [red6, yel1, blu1, red3, gre3, red2, gre2, red1, gre1] ;\n",
    "...\n",
    "...\n",
    "...\n",
    "```"
   ]
  },
  {
   "cell_type": "markdown",
   "metadata": {},
   "source": [
    "## Question 6 Critique:\n",
    "\n",
    "When looking at the notes I saw that building lists on the way in involved a storage variable. I wrote the function after looking at notes that set an extra variable after the recursive call. In the case of this function the setting of the ouput variable is done in the base case. Otherwise, the function seems to be correct as the output is correct."
   ]
  },
  {
   "cell_type": "markdown",
   "metadata": {},
   "source": [
    "## Question 7:"
   ]
  },
  {
   "cell_type": "code",
   "execution_count": 8,
   "metadata": {},
   "outputs": [],
   "source": [
    "# Question 7\n",
    "\n",
    "import random\n",
    "from hw4standard import *\n",
    "\n",
    "# time seed random variable\n",
    "from datetime import datetime\n",
    "random.seed(datetime.now())\n",
    "\n",
    "def prove(query,kb):\n",
    "    \n",
    "    #******************************************************************#\n",
    "    answer = query.copy() # Make a copy of query so query is not altered.\n",
    "    answer.insert(0,findvariables(query,[])) # add variables from query\n",
    "    answer[0].insert(0,'yes') # add 'yes'\n",
    "    #******************************************************************#\n",
    "    \n",
    "    print(\"Initial answer clause is %s \\n\\n\" % prettyclause(answer))\n",
    "   \n",
    "    while len(answer) > 1:\n",
    "        #give answer clause fresh variables\n",
    "        answer = freshvariables(answer)\n",
    "        matches = []\n",
    "        for r in kb:\n",
    "            #unify right most atom for scripting ease\n",
    "            if unify(answer[-1],r[0],{}):\n",
    "                matches.append(r)\n",
    "\n",
    "\n",
    "        if matches == []:\n",
    "            print(\"No rules match %s\" % prettyexpr(answer[-1]))\n",
    "            return False\n",
    "        \n",
    "        #******************************************************************#\n",
    "        print(prettyclause(answer)) # output formatting\n",
    "        \n",
    "        # Unification\n",
    "        a = answer[-1] # right-most atom\n",
    "        b = matches[random.randint(0,len(matches)-1)] # random match\n",
    "        sub = {} # get subs\n",
    "        unify(a,b[0],sub)\n",
    "        \n",
    "        # Substitution \n",
    "        resolution = substitute(b,sub) # sub for match to be used in resolution\n",
    "        answer = substitute(answer,sub) # sub current answer clause\n",
    "        \n",
    "        # output formatting\n",
    "        print(\"Resolve with: \",prettyclause(b))\n",
    "        print(\"Substitution: \" ,sub, \"\\n\\n\")\n",
    "        \n",
    "        # Replace \n",
    "        answer = answer[:-1] # cut right-most atom\n",
    "        for a in resolution[1:]: answer.append(a) # add resolution body\n",
    "        #******************************************************************#\n",
    "\n",
    "\n",
    "    print(prettyclause(answer))\n",
    "    return True\n",
    "\n",
    "def multiprove(query,kb):\n",
    "    proved = False\n",
    "    for n in range(100):\n",
    "        print(\"------------------------------------------------------------------------------\")\n",
    "        print(\"Iteration \", n,\"\\n\")\n",
    "        if prove(query,kb):\n",
    "            print(\"Proved on iteration %d\" % n)\n",
    "            print(\"------------------------------------------------------------------------------\\n\")\n",
    "            return True\n",
    "    print(\"Could not prove\")\n",
    "    print(\"------------------------------------------------------------------------------\\n\")\n",
    "    return False\n",
    "\n"
   ]
  },
  {
   "cell_type": "code",
   "execution_count": null,
   "metadata": {
    "scrolled": false
   },
   "outputs": [],
   "source": [
    "kb = [[['animal','X'],['dog','X']],\n",
    "    [['gets_pleasure','X','feeding'],['animal','X']],\n",
    "    [['likes','X','Y'],['animal','Y'],['owns','X','Y']],\n",
    "    [['does','X','Y','Z'],['likes','X','Y'],['gets_pleasure','Y','Z']],\n",
    "    [['dog','fido']],\n",
    "    [['owns','mary','fido']]]\n",
    "\n",
    "query=[['does','mary','X','Y']]\n",
    "\n",
    "multiprove(query,kb)\n",
    "\n",
    "\n"
   ]
  },
  {
   "cell_type": "markdown",
   "metadata": {},
   "source": [
    "## Question 8:"
   ]
  },
  {
   "cell_type": "code",
   "execution_count": null,
   "metadata": {
    "scrolled": false
   },
   "outputs": [],
   "source": [
    "kb2 = [\n",
    "    [['has_tree','T','T']],\n",
    "    [['has_tree','T',['n','N','LT','RT']],['has_tree','T','LT']],\n",
    "    [['has_tree','T',['n','N','LT','RT']],['has_tree','T','RT']]\n",
    "    ]\n",
    "\n",
    "\n",
    "query2 = [['has_tree',['n','X',['e', 'e4'],'Y'],['n','n1',['n','n2',['e', 'e1'],['e', 'e2']],['n','n3',['e', 'e3'],\n",
    "        ['n','n4',['e', 'e4'],['e', 'e5']]]]]]\n",
    "\n",
    "# call \n",
    "multiprove(query2,kb2)\n",
    "\n",
    "# selecting submission output of smaller number of iterations.\n",
    "# somtimes it took 80 iterations to resolve, other times it\n",
    "# happened on the first iteration."
   ]
  },
  {
   "cell_type": "markdown",
   "metadata": {},
   "source": [
    "## Question 9:\n",
    "\n",
    "**This code does not work.** Below are two different attempts that I made to solve this problem. The first tries to call a function recursivly and hold the frontier in the recursion. The second tries to maintain the frontier in a list in the the for loop of the program. I have not had success. These functions are both capable of solving the first query as the output demonstrates, but are unable to solve the second query. Something is wrong with the way they move from child back up to parent nodes. They either get stuck in an infinite loop or terminate without completing the proof. I ran out of time to solve the problem."
   ]
  },
  {
   "cell_type": "code",
   "execution_count": 54,
   "metadata": {},
   "outputs": [],
   "source": [
    "def depth_first(answerclause,kb):\n",
    "    \n",
    "    answer = answerclause.copy()\n",
    "    \n",
    "\n",
    "    # fresh\n",
    "    answer = freshvariables(answer)\n",
    "\n",
    "    \n",
    "    # get list of matches for right most pred\n",
    "    matches = []\n",
    "    for r in kb:\n",
    "        if unify(answer[-1],r[0],{}):\n",
    "            matches.append(r)\n",
    "    \n",
    "    if matches == []: return False\n",
    "    for m in matches:\n",
    "        print(prettyclause(answer))\n",
    "        a = answer[-1]\n",
    "        b = m\n",
    "        sub = {}\n",
    "        unify(a,b[0],sub)\n",
    "        \n",
    "        resolution = substitute(b,sub)\n",
    "        answer = substitute(answer,sub)\n",
    "        #print(\"matches: \", matches[0])\n",
    "        print(\"Resolve with: \",prettyclause(b))\n",
    "        print(\"Substitution: \" ,sub, \"\\n\\n\")\n",
    "        \n",
    "        \n",
    "        answer = answer[:-1]\n",
    "        \n",
    "        if len(resolution) > 0:\n",
    "            for z in resolution[1:]: answer.append(z)\n",
    "        else:\n",
    "            answer.append(resolution)\n",
    "        \n",
    "        if len(answer)==1:\n",
    "            \n",
    "            print(prettyclause(answer))\n",
    "            return True\n",
    "        if depth_first(answer,kb): return True\n",
    "\n",
    "    return False\n",
    "\n",
    "def dfr(query,kb):\n",
    "    print(\"QUERY: \", prettyclause(query),\"\\n\\n\")\n",
    "    # add yes to answer clause\n",
    "    answer = query.copy() \n",
    "    answer.insert(0,findvariables(query,[])) # add variables from query\n",
    "    answer[0].insert(0,'yes') # add 'yes'\n",
    "    return depth_first(answer,kb)"
   ]
  },
  {
   "cell_type": "code",
   "execution_count": null,
   "metadata": {},
   "outputs": [],
   "source": [
    "dfr(query,kb)"
   ]
  },
  {
   "cell_type": "code",
   "execution_count": 56,
   "metadata": {},
   "outputs": [],
   "source": [
    "# Question 7\n",
    "\n",
    "import random\n",
    "from hw4standard import *\n",
    "\n",
    "# time seed random variable\n",
    "from datetime import datetime\n",
    "random.seed(datetime.now())\n",
    "\n",
    "def deep(query,kb,front):\n",
    "    \n",
    "    #******************************************************************#\n",
    "    answer = query.copy() # Make a copy of query so query is not altered.\n",
    "    answer.insert(0,findvariables(query,[])) # add variables from query\n",
    "    answer[0].insert(0,'yes') # add 'yes'\n",
    "    #******************************************************************#\n",
    "    \n",
    "    print(\"Initial answer clause is %s \\n\\n\" % prettyclause(answer))\n",
    "   \n",
    "    while len(answer) > 1:\n",
    "        #give answer clause fresh variables\n",
    "        answer = freshvariables(answer)\n",
    "        matches = []\n",
    "        for r in kb:\n",
    "            #unify right most atom for scripting ease\n",
    "            if unify(answer[-1],r[0],{}):\n",
    "                matches.append(r)\n",
    "                front.append(r)\n",
    "\n",
    "\n",
    "        if matches == []:\n",
    "            if front == []:\n",
    "                print(\"No rules match %s\" % prettyexpr(answer[0]))\n",
    "                return False\n",
    "            else:\n",
    "                front.pop()\n",
    "                deep(front[-1],kb,front)\n",
    "        #******************************************************************#\n",
    "        print(prettyclause(answer)) # output formatting\n",
    "        \n",
    "        # Unification\n",
    "        a = answer[-1] # right-most atom\n",
    "        b = front.pop() # random match\n",
    "        sub = {} # get subs\n",
    "        unify(a,b[0],sub)\n",
    "        \n",
    "        # Substitution \n",
    "        resolution = substitute(b,sub) # sub for match to be used in resolution\n",
    "        answer = substitute(answer,sub) # sub current answer clause\n",
    "        \n",
    "        # output formatting\n",
    "        print(\"Resolve with: \",prettyclause(b))\n",
    "        print(\"Substitution: \" ,sub, \"\\n\\n\")\n",
    "        \n",
    "        # Replace \n",
    "        answer = answer[:-1] # cut right-most atom\n",
    "        for a in resolution[1:]: answer.append(a) # add resolution body\n",
    "        #******************************************************************#\n",
    "\n",
    "\n",
    "    print(prettyclause(answer))\n",
    "    return True\n"
   ]
  },
  {
   "cell_type": "code",
   "execution_count": null,
   "metadata": {},
   "outputs": [],
   "source": [
    "deep(query,kb,[])"
   ]
  },
  {
   "cell_type": "markdown",
   "metadata": {},
   "source": [
    "## Question 9 Critique:\n",
    "\n",
    "My second attempt seems to be closer to what was intended so I will discuss that attempt. The idea was to append the frontier with any match that is found in the process of colecting matches. After each matching round, the final match is popped of the list and unified. In other words, I am treating frontier as a stack in which matches are pushed onto and poped off of. The idea was that treating the matches as a stack and poping the top of the stack to resolve would result in a depth first search. For some reason I could not get it to resolve clauses that faild on some braches.  The case above results in an infinite loop with a building frontier. Other options I tried resulted in termination at the bottom of a failed branch. \n",
    "\n"
   ]
  }
 ],
 "metadata": {
  "kernelspec": {
   "display_name": "Python 3",
   "language": "python",
   "name": "python3"
  },
  "language_info": {
   "codemirror_mode": {
    "name": "ipython",
    "version": 3
   },
   "file_extension": ".py",
   "mimetype": "text/x-python",
   "name": "python",
   "nbconvert_exporter": "python",
   "pygments_lexer": "ipython3",
   "version": "3.6.5"
  }
 },
 "nbformat": 4,
 "nbformat_minor": 2
}
