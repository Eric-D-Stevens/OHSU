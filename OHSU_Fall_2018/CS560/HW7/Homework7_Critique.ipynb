{
 "cells": [
  {
   "cell_type": "markdown",
   "metadata": {},
   "source": [
    "# CS 560: Homework 7 Critique\n",
    "# Eric Stevens\n",
    "# November 25, 2018"
   ]
  },
  {
   "cell_type": "markdown",
   "metadata": {},
   "source": [
    "### Question 1\n",
    "KB<br>\n",
    "$\\neg mortal \\lor \\neg mythical$ (1)<br>\n",
    "$mortal \\lor mythical$ (2)<br>\n",
    "$mammal \\lor mythical$ (3)<br>\n",
    "$horned \\lor mortal $ (4)<br>\n",
    "$horned \\lor \\neg mammal$ (5)<br>\n",
    "$magical \\lor \\neg horned$ (6)\n",
    "\n",
    "Proof <br>\n",
    "$ yes \\lor \\neg horned $ (7)<br>\n",
    "&emsp;&emsp;Use (4) <br>\n",
    "$ yes \\lor mortal$ (8) <br>\n",
    "&emsp;&emsp;Use (1) <br>\n",
    "$ yes \\lor \\neg mythical $ (9) <br>\n",
    "&emsp;&emsp;Use (3) <br>\n",
    "$ yes \\lor mammal $ (10) <br>\n",
    "&emsp;&emsp;Use (5)<br>\n",
    "$ yes \\lor horned $ (11)<br>\n",
    "&emsp;&emsp;Use(7)<br>\n",
    "$yes$\n",
    "\n",
    "\n"
   ]
  },
  {
   "cell_type": "markdown",
   "metadata": {},
   "source": [
    "### Question 1 Critique\n",
    "\n",
    "In a silly way, I managed to get caught up in the proof and overlooked the **Difference with Datalog** section. I assure you that I would have been able to answer this question. I do recognize the ability to use clauses that were derived durring the process of attempting to resolve the initial query is something that is not a part a Datalog. "
   ]
  },
  {
   "cell_type": "markdown",
   "metadata": {},
   "source": [
    "### Question 2\n",
    "\n",
    "(∀X∀Y p(X,Z)→q(X, Y )∨r(Y, Z)) <br>\n",
    "\n",
    "(¬∃Y (∀X¬p(X, Z))→¬q(X, Y )∧r(Y, Z)) <br>\n",
    "\n"
   ]
  },
  {
   "cell_type": "markdown",
   "metadata": {},
   "source": [
    "### Question 2 Critique\n",
    "\n",
    "I find this notation incredibly confusing. I do not understand it at all and hope that we can discuss it more in class. I believe this whole process would be much more straight forward if the term to be applied across the inside of parentheticals was outside of them, as seen in phrases like 5(2+3) = 25."
   ]
  },
  {
   "cell_type": "markdown",
   "metadata": {},
   "source": [
    "### Question 3\n",
    "\n",
    "George is a male butcher. <br>\n",
    "$male(george) \\land butcher(george)$ <br>\n",
    "\n",
    "Everybody likes George.<br>\n",
    "$\\forall X \\ likes(X,george)$<br>\n",
    "\n",
    "Everybody is a butcher.<br>\n",
    "$\\forall X \\ butcher(X)$<br>\n",
    "\n",
    "Nobody is a butcher.<br>\n",
    "$\\forall X \\ \\neg butcher(X)$<br>\n",
    "\n",
    "There is a male butcher.<br>\n",
    "$\\exists X \\ male(X) \\land butcher(X)$ <br>\n",
    "\n",
    "No man is a butcher.<br>\n",
    "$\\forall X \\ \\neg(male(X) \\land butcher(X))$<br>\n",
    "$\\forall X \\ \\neg male(X) \\lor \\neg butcher(X)$"
   ]
  },
  {
   "cell_type": "markdown",
   "metadata": {},
   "source": [
    "### Question 3 Critique\n",
    "\n",
    "I believe my solution to the first section of this question \"George is a **male** butcher\" is more correct than the provided solution, as the matter of sex appears later in the problem.\n",
    "\n",
    "I believe that my solutions are different but logically equivlant to those in the provided solution.\n",
    "\n",
    "Again, in haste I made the mistake of overlooking the last section of this question that involves the rabbit."
   ]
  },
  {
   "cell_type": "markdown",
   "metadata": {},
   "source": [
    "### Question 4\n",
    "\n",
    "Part a:<br> \n",
    "$\\neg ( \\exists X \\ (boy(X)))$<br>\n",
    "$\\exists X \\ \\neg boy(X)$<br>\n",
    "$\\neg boy(f(X))$<br>\n",
    "\n",
    "Part b: <br>\n",
    "$\\exists X \\ (\\neg(\\exists Y \\ (likes(X,Y))))$<br>\n",
    "$ \\exists X \\ \\exists Y \\ \\neg likes(X,Y))$<br>\n",
    "$\\neg likes(f(X),g(Y)))$<br>\n",
    "\n",
    "\n",
    "Part c: <br>\n",
    "$\\forall X \\ (\\neg(\\forall Y \\ (likes(X,Y) \\longleftarrow mother(X,Y))))$<br>\n",
    "$\\forall X \\ ( \\neg ( \\forall Y \\ (likes(X,Y) \\lor \\neg mother(X,Y))))$<br>\n",
    "$\\forall X \\ (  ( \\forall Y \\ \\neg likes(X,Y) \\land mother(X,Y))))$<br>\n",
    "$\\neg likes(X,Y) \\land mother(X,Y)$"
   ]
  },
  {
   "cell_type": "markdown",
   "metadata": {},
   "source": [
    "### Question 4 Critique\n",
    "\n",
    "In this question I had one misunderstanding that resulted in cascading errors throughout the problem. I failed to realize that as part of the negation process of universal quantifiers we are expected to change the $\\exists$s to $\\forall$s and vice versa. It seems that if I had distributed the negation properly I would have ended up with a correct solution."
   ]
  },
  {
   "cell_type": "markdown",
   "metadata": {},
   "source": [
    "### Question 5\n",
    "\n",
    "* $hunting$\n",
    "* $robbing$"
   ]
  },
  {
   "cell_type": "markdown",
   "metadata": {},
   "source": [
    "### Question 6\n",
    "\n",
    "* $robbing$\n",
    "* $hunting \\land banking$"
   ]
  },
  {
   "cell_type": "markdown",
   "metadata": {},
   "source": [
    "### Question 7\n",
    "\n",
    "$H = \\{ $<br>\n",
    "&emsp; $\\neg f(X) \\longleftarrow c(X)$<br>\n",
    "&emsp; $f(X) \\longleftarrow q(X)$<br>\n",
    "$\\}$<br>\n",
    "\n",
    "$F = \\{$<br>\n",
    "&emsp;$c(X) \\longleftarrow q(X)$<br>\n",
    "&emsp;$q(r)$<br>\n",
    "$\\}$<br>"
   ]
  },
  {
   "cell_type": "markdown",
   "metadata": {},
   "source": [
    "### Question 7 Critique\n",
    "\n",
    "I believe that my solution is correct. There appears to be a typo in the provided solution."
   ]
  },
  {
   "cell_type": "markdown",
   "metadata": {},
   "source": [
    "### Question 8\n",
    "\n",
    "* Robert is a francophone:<br>\n",
    "$f(X) \\longleftarrow q(X)$<br>\n",
    "<br>\n",
    "* Robert is not a francophone:<br>\n",
    "$\\neg f(X) \\longleftarrow c(X)$<br>"
   ]
  },
  {
   "cell_type": "markdown",
   "metadata": {},
   "source": [
    "### Question 9\n",
    "\n",
    "$H = \\{ $<br>\n",
    "&emsp; $f(X) \\longleftarrow q(X)$<br>\n",
    "$\\}$<br>\n",
    "\n",
    "$F = \\{$<br>\n",
    "&emsp;$c(X) \\longleftarrow q(X)$<br>\n",
    "&emsp;$q(r)$<br>\n",
    "$\\}$<br>"
   ]
  },
  {
   "cell_type": "markdown",
   "metadata": {},
   "source": [
    "### Question 10\n",
    "\n",
    "```\n",
    "\n",
    "step2(not(not(X)),NewX) :-\n",
    "        !,\n",
    "        step2(X,NewX).\n",
    "\n",
    "step2(not(or(X,Y)),and(NewX,NewY)) :-\n",
    "        !,\n",
    "        step2(not(X),NewX),\n",
    "        step2(not(Y),NewY).\n",
    "\n",
    "step2(not(and(X,Y)),or(NewX,NewY)) :-\n",
    "        !,\n",
    "        step2(not(X),NewX),\n",
    "        step2(not(Y),NewY).\n",
    "\n",
    "step2(not(X),not(NewX)) :-\n",
    "        !,\n",
    "        step2(X,NewX).\n",
    "\n",
    "step2(or(X,Y),or(NewX,NewY)) :-\n",
    "        !,  \n",
    "        step2(X,NewX),\n",
    "        step2(Y,NewY).\n",
    "\n",
    "step2(and(X,Y),and(NewX,NewY)) :-\n",
    "        !,  \n",
    "        step2(X,NewX),\n",
    "        step2(Y,NewY).\n",
    "\n",
    "step2(X,X).\n",
    "\n",
    "\n",
    "\n",
    "test2 :-\n",
    "        findall(X,step2(or(d,not(e)),X),L1),\n",
    "        write(L1),nl,\n",
    "        findall(X,step2(or(d,not(not(e))),X),L2),\n",
    "        write(L2),nl,\n",
    "        findall(X,step2(or(d,not(or(e,not(f)))),X),L3),\n",
    "        write(L3),nl,\n",
    "        findall(X,step2(or(or(a,not(b)),not(or(e,not(f)))),X),L4),\n",
    "        write(L4),nl,\n",
    "        findall(X,step2(and(a,or(b,or(c,not(or(d,not(e)))))),X),L5),\n",
    "        write(L5),nl.\n",
    "\n",
    "/**\n",
    "RESULTS:\n",
    "\n",
    "?- test2.\n",
    "[or(d,not(e))]\n",
    "[or(d,e)]\n",
    "[or(d,and(not(e),f))]\n",
    "[or(or(a,not(b)),and(not(e),f))]\n",
    "[and(a,or(b,or(c,and(not(d),e))))]\n",
    "true.\n",
    "**/\n",
    "\n",
    "\n",
    "```"
   ]
  },
  {
   "cell_type": "code",
   "execution_count": null,
   "metadata": {},
   "outputs": [],
   "source": []
  }
 ],
 "metadata": {
  "kernelspec": {
   "display_name": "Python 3",
   "language": "python",
   "name": "python3"
  },
  "language_info": {
   "codemirror_mode": {
    "name": "ipython",
    "version": 3
   },
   "file_extension": ".py",
   "mimetype": "text/x-python",
   "name": "python",
   "nbconvert_exporter": "python",
   "pygments_lexer": "ipython3",
   "version": "3.6.5"
  }
 },
 "nbformat": 4,
 "nbformat_minor": 2
}
