{
 "cells": [
  {
   "cell_type": "markdown",
   "metadata": {},
   "source": [
    "# CS 560: Homework 8\n",
    "### Eric Stevens\n",
    "### December 2, 2018"
   ]
  },
  {
   "cell_type": "markdown",
   "metadata": {},
   "source": [
    "### Question 1\n",
    "\n",
    "Everyone is either a male or a female but not both. <br>\n",
    "$\\forall X \\ (female(X) \\lor male(X)) \\land \\lnot(female(X) \\land male(X))$\n",
    "\n",
    "All female vegetarians are butchers.<br>\n",
    "$\\forall X \\ female(X) \\land vegetarian(X) \\longrightarrow butcher(X)$\n",
    "\n",
    "Only female vegetarians are butchers.<br>\n",
    "$\\forall X \\ \\lnot female(X) \\lor \\lnot vegetarian(X) \\longrightarrow \\lnot butcher(X)$\n",
    "\n",
    "All butchers are female vegetarians.<br>\n",
    "$\\forall X \\ butcher(X) \\longrightarrow female(X) \\land vegetarian(X)$\n",
    "\n",
    "No woman likes a butcher who is male.<br>\n",
    "$\\lnot \\exists X \\ woman(X) \\longrightarrow \\forall Y \\ butcher(Y) \\land likes(X,Y)$"
   ]
  },
  {
   "cell_type": "markdown",
   "metadata": {},
   "source": [
    "### Question 2\n",
    "```\n",
    "pickup(Obj, X)\n",
    "    Preconditions:  empty, on(Obj,X), block(Obj), block(X), clear(Obj)\n",
    "    Delete List:    empty, on(Obj,X), clear(Obj)                                 \n",
    "    Add List:       holding(Obj), clear(X)                  \n",
    "```\n",
    "\n",
    "```\n",
    "pickup(Obj, X)\n",
    "    Preconditions:  empty, on(Obj,X), block(Obj), table(X), clear(Obj) \n",
    "    Delete List:    empty, on(Obj,X), clear(Obj)                                   \n",
    "    Add List:       holding(Obj)                  \n",
    "```\n",
    "\n",
    "```\n",
    "putdown(Obj, X)\n",
    "    Preconditions:  holding(Obj), block(X), clear(X)\n",
    "    Delete List:    holding(Obj), clear(X)\n",
    "    Add List:       empty, on(Obj,X), clear(Obj)\n",
    "```\n",
    "\n",
    "```\n",
    "putdown(Obj, X)\n",
    "    Preconditions:  holding(Obj), table(X)\n",
    "    Delete List:    holding(Obj)\n",
    "    Add List:       empty, on(Obj,X), clear(Obj)\n",
    "```"
   ]
  },
  {
   "cell_type": "markdown",
   "metadata": {},
   "source": [
    "### Question 3\n",
    "\n",
    "```\n",
    "block(a), block(b), block(c), table(t)\n",
    "on(a,t), on(c,a), clear(c)\n",
    "on(b,t), clear(b)\n",
    "empty\n",
    "```"
   ]
  },
  {
   "cell_type": "markdown",
   "metadata": {},
   "source": [
    "### Question 4\n",
    "\n",
    "```\n",
    "block(a), block(b), block(c), table(t)\n",
    "on(a,t), on(c,a), clear(c)\n",
    "on(b,t), clear(b)\n",
    "empty\n",
    "\n",
    "pickup(c,a)\n",
    "\n",
    "block(a), block(b), block(c), table(t)\n",
    "on(a,t), clear(a)\n",
    "on(b,t), clear(b)\n",
    "holding(c)\n",
    "\n",
    "putdown(c,t)\n",
    "\n",
    "block(a), block(b), block(c), table(t)\n",
    "on(a,t), clear(a)\n",
    "on(b,t), clear(b)\n",
    "on(c,t), clear(c)\n",
    "empty\n",
    "\n",
    "pickup(b,t)\n",
    "\n",
    "block(a), block(b), block(c), table(t)\n",
    "on(a,t), clear(a)\n",
    "on(c,t), clear(c)\n",
    "holding(b)\n",
    "\n",
    "```"
   ]
  },
  {
   "cell_type": "markdown",
   "metadata": {},
   "source": [
    "```\n",
    "\n",
    "putdown(b,c)\n",
    "\n",
    "block(a), block(b), block(c), table(t)\n",
    "on(a,t), clear(a)\n",
    "on(c,t), on(b,c), clear(b)\n",
    "empty\n",
    "\n",
    "pickup(a,t)\n",
    "\n",
    "block(a), block(b), block(c), table(t)\n",
    "on(c,t), on(b,c), clear(b)\n",
    "holding(a)\n",
    "\n",
    "putdown(a,b)\n",
    "\n",
    "block(a), block(b), block(c), table(t)\n",
    "on(c,t), on(b,c), on(a,b), clear(a)\n",
    "empty\n",
    "```"
   ]
  },
  {
   "cell_type": "markdown",
   "metadata": {},
   "source": [
    "### Question 5\n",
    "\n",
    "```\n",
    "peg(a), peg(b), peg(c)\n",
    "disc(grade), disc(large), disc(medium), disc(small)\n",
    "bigger(grande, large), bigger(grade, medium), bigger(grande, small)\n",
    "bigger(large, medium) bigger(large, small)\n",
    "bigger(medium, small)\n",
    "```"
   ]
  },
  {
   "cell_type": "markdown",
   "metadata": {},
   "source": [
    "### Question 6\n",
    "\n",
    "```\n",
    "on(grande, pega), on(large, grande), on(medium, large), on(small, medium)\n",
    "clear(small), clear(pegb), clear(pegc)\n",
    "```"
   ]
  },
  {
   "cell_type": "markdown",
   "metadata": {},
   "source": [
    "### Question 7\n",
    "\n",
    "```\n",
    "on(grande, pegc) ^ on(large, grande) ^ on(medium, large) ^ on(small, medium)\n",
    "```"
   ]
  },
  {
   "cell_type": "markdown",
   "metadata": {},
   "source": [
    "### Question 8\n",
    "\n",
    "```\n",
    "move(X,Y,Z)\n",
    "    Preconditions:  disc(X), clear(X), on(X,Y), disc(Z), clear(Z), bigger(Z,X)\n",
    "    Delete List:    on(X,Y), clear(Z)\n",
    "    Add List:       on(X,Z), clear(Y)\n",
    "    \n",
    "move(X,Y,Z)\n",
    "    Preconditions:  disc(X), clear(X), on(X,Y), peg(Z), clear(Z)\n",
    "    Delete List:    on(X,Y), clear(Z)\n",
    "    Add List:       on(X,Z), clear(Y)  \n",
    "    \n",
    "```"
   ]
  },
  {
   "cell_type": "markdown",
   "metadata": {},
   "source": [
    "### Question 8 Critique\n",
    "\n",
    "In the first version of move I added the predicate `disc` to ensure that the predecate acted on the object it was intended to act on. Due to smart knowledge engineering, this is taken care of by the `bigger` predicate, making my `disc` predicate unneeded."
   ]
  },
  {
   "cell_type": "markdown",
   "metadata": {},
   "source": [
    "### Question 9\n",
    "\n",
    "To represent the primitive predicates in the initial state of the world you need to add 'init' as a term in each of the preimitive predicates in the initial state. This represents the fact these predicates are true in the initial state and could be false in others. \n",
    "\n",
    "This does not need to be done to static primatives because the static primatives are defined to be true in all states of the world."
   ]
  },
  {
   "cell_type": "markdown",
   "metadata": {},
   "source": [
    "### Question 10\n",
    "\n",
    "$poss(move(X,Y,Z),S) \\longleftarrow$<br>\n",
    "$ \\hspace{2em} disc(X) \\land $<br>\n",
    "$ \\hspace{2em} clear(X,S) \\land $<br>\n",
    "$ \\hspace{2em} on(X,Y,S) \\land $<br>\n",
    "$ \\hspace{2em} disc(Z) \\land$<br>\n",
    "$ \\hspace{2em} clear(Z)\\land$<br>\n",
    "$ \\hspace{2em} bigger(Z,X)$<br>\n",
    "\n",
    "$poss(move(X,Y,Z),S) \\longleftarrow$<br>\n",
    "$ \\hspace{2em} disc(X) \\land $<br>\n",
    "$ \\hspace{2em} clear(X,S) \\land $<br>\n",
    "$ \\hspace{2em} on(X,Y,S) \\land $<br>\n",
    "$ \\hspace{2em} peg(Z) \\land$<br>\n",
    "$ \\hspace{2em} clear(Z)$<br>"
   ]
  },
  {
   "cell_type": "markdown",
   "metadata": {},
   "source": [
    "### Question 10 Critique\n",
    "\n",
    "In the first version of `move` I added the predicate `disc` to ensure that the predecate acted on the object it was intended to act on. Due to smart knowledge engineering, this is taken care of by the `bigger` predicate, making my `disc` predicate unneeded."
   ]
  },
  {
   "cell_type": "markdown",
   "metadata": {},
   "source": [
    "### Question 11\n",
    "\n"
   ]
  },
  {
   "cell_type": "markdown",
   "metadata": {},
   "source": [
    "### Question 12"
   ]
  },
  {
   "cell_type": "code",
   "execution_count": 68,
   "metadata": {},
   "outputs": [
    {
     "name": "stdout",
     "output_type": "stream",
     "text": [
      "Action pickup(Obj,X)\n",
      "  Preconditions: on(Obj,X) empty block(Obj) block(X) clear(Obj)\n",
      "  Add list:      holding(Obj) clear(X)\n",
      "  Delete list:   empty on(Obj,X) clear(Obj)  Variables are Obj X\n",
      " \n",
      "Action pickup(Obj,X)\n",
      "  Preconditions: on(Obj,X) empty block(Obj) table(X) clear(Obj)\n",
      "  Add list:      holding(Obj)\n",
      "  Delete list:   empty on(Obj,X) clear(Obj)  Variables are Obj X\n",
      " \n",
      "Action putdown(Obj,X)\n",
      "  Preconditions: holding(Obj) block(X) clear(X)\n",
      "  Add list:      empty on(Obj,X) clear(Obj)\n",
      "  Delete list:   holding(Obj) clear(X)  Variables are Obj X\n",
      " \n",
      "Action putdown(Obj,X)\n",
      "  Preconditions: holding(Obj) table(X)\n",
      "  Add list:      empty on(Obj,X) clear(Obj)\n",
      "  Delete list:   holding(Obj)  Variables are Obj X\n",
      " \n"
     ]
    }
   ],
   "source": [
    "from hw4standard import *\n",
    "\n",
    "NumActions = 0\n",
    "Action = {}\n",
    "\n",
    "class Action:\n",
    "    all = []\n",
    "    def __init__(self,head,pre,add,dele):\n",
    "        self.head = head\n",
    "        self.pre = pre\n",
    "        self.add = add\n",
    "        self.dele = dele\n",
    "        Action.all.append(self)\n",
    "\n",
    "        vars = findvariables(head,[])\n",
    "        vars = findvariables(pre,vars)\n",
    "        self.vars = vars\n",
    "\n",
    "    def __str__(self):\n",
    "        s = \"Action %s\\n\" % prettyexpr(self.head)\n",
    "        s += \"  Preconditions:\"\n",
    "        for i in self.pre:\n",
    "            s += \" %s\" % prettyexpr(i)\n",
    "        s += \"\\n\"\n",
    "        s += \"  Add list:     \"\n",
    "        for i in self.add:\n",
    "            s += \" %s\" % prettyexpr(i)\n",
    "        s += \"\\n\"\n",
    "        s += \"  Delete list:  \"\n",
    "        for i in self.dele:\n",
    "            s += \" %s\" % prettyexpr(i)\n",
    "        s += \"  Variables are\"\n",
    "        for i in self.vars:\n",
    "            s += \" \" + i\n",
    "        return s\n",
    "\n",
    "# pickup block on block\n",
    "Action(['pickup', 'Obj', 'X'], \n",
    "       [['on','Obj','X'],['empty'],['block','Obj'],['block','X'],['clear','Obj']],\n",
    "       [['holding','Obj'],['clear','X']],\n",
    "       [['empty'],['on','Obj','X'],['clear','Obj']])\n",
    "\n",
    "# pickup block on table\n",
    "Action(['pickup', 'Obj', 'X'], \n",
    "       [['on','Obj','X'],['empty'],['block','Obj'],['table','X'],['clear','Obj']],\n",
    "       [['holding','Obj']],\n",
    "       [['empty'],['on','Obj','X'],['clear','Obj']])\n",
    "\n",
    "# putdown block on block\n",
    "Action(['putdown', 'Obj', 'X'], \n",
    "       [['holding','Obj'],['block','X'],['clear','X']],\n",
    "       [['empty'],['on','Obj','X'],['clear','Obj']],\n",
    "       [['holding','Obj'],['clear','X']])\n",
    "\n",
    "# putdown block on table\n",
    "Action(['putdown', 'Obj', 'X'], \n",
    "       [['holding','Obj'],['table','X']],\n",
    "       [['empty'],['on','Obj','X'],['clear','Obj']],\n",
    "       [['holding','Obj']])\n",
    "\n",
    "for a in Action.all:\n",
    "    print(a.__str__())\n",
    "    print(' ')"
   ]
  },
  {
   "cell_type": "markdown",
   "metadata": {},
   "source": [
    "The `Action` class is a very interesting class that I do not fully understand. It appears that when the `Action` constructor is called it generates the action variable, then accesses a list, `all`, which was initialized at the calling of class but does not appear to be a member variable. Yet at the end of the constructor `all` is accesed as a member of `Action` in order to append `self` to it. It seems some sort of temporary class is being created called `self` that stores the action that the constructor is initializing, and then that is stored in the only `Action` class member variable `all`. I want to learn more about this design."
   ]
  },
  {
   "cell_type": "markdown",
   "metadata": {},
   "source": [
    "### Question 13"
   ]
  },
  {
   "cell_type": "code",
   "execution_count": 69,
   "metadata": {},
   "outputs": [],
   "source": [
    "\n",
    "Constants = ['a','b','c','t']\n",
    "Primitives = ['on','clear','empty','holding']\n",
    "\n",
    "Initial = [['block','a'],['block','b'], ['block','c'], ['table','t'],\n",
    "           ['on','a','b'],['on','b','c'],['on','c','t'],\n",
    "           ['clear','a'],['empty']]\n",
    "\n",
    "Goal = [['on','c','b'],['on','b','a'],['on','a','t'] ]\n",
    "\n"
   ]
  },
  {
   "cell_type": "markdown",
   "metadata": {},
   "source": [
    "### Question 14\n",
    "\n",
    "The only thing added to the prove function is checking to see if the Goal is in topWorld.\n",
    "\n",
    "**MY CODE DOES NOT WORK**\n",
    "\n"
   ]
  },
  {
   "cell_type": "code",
   "execution_count": 71,
   "metadata": {},
   "outputs": [],
   "source": [
    "\n",
    "\n",
    "def subset(sub,set):\n",
    "    for i in sub:\n",
    "        if not i in set:\n",
    "            return False\n",
    "    return True\n",
    "\n",
    "def remove(sub,set):\n",
    "    newset = []\n",
    "    for i in set:\n",
    "        if not i in sub:\n",
    "            newset.append(i)\n",
    "    return newset\n",
    "\n",
    "def printWorld(world,indent):\n",
    "    str = indent\n",
    "    for p in world:\n",
    "        if p[0] in Primitives:\n",
    "            str += \" \" + prettyexpr(p)\n",
    "    print(str)\n",
    "\n",
    "def printPlan(plan,indent):\n",
    "    str = indent\n",
    "    for p in plan:\n",
    "        str += \" \" + prettyexpr(p)\n",
    "    print(str)\n",
    "\n",
    "def prove():\n",
    "    worldcnt = 0\n",
    "    # each item on frontier is a tuple of plan + world that results from executing plan\n",
    "    frontier = [[[],Initial]]\n",
    "\n",
    "    while frontier:\n",
    "        topPlan,topWorld = frontier[0]\n",
    "\n",
    "        print(\"Current plan:\")\n",
    "        printPlan(topPlan,\"   \")\n",
    "\n",
    "        print(\"Current world (primitives):\")\n",
    "        printWorld(topWorld,\"   \")\n",
    "\n",
    "        # check if the topWolrd has goal true in it\n",
    "        # if so, say that the goal was found and return true\n",
    "\n",
    "        # YOUR CODE HERE\n",
    "        if subset(Goal, topWorld): return True\n",
    "\n",
    "        # Your code should be able to find the plan after exploring all plans of length 6\n",
    "        # I put in this stop code in case your code has a bug, so that you won't keep going forever\n",
    "        print(\"\")\n",
    "        if len(topPlan) > 6:\n",
    "            print(\"Could not find plan in 8 steps\")\n",
    "            return False\n",
    "\n",
    "        neighbors = []\n",
    "\n",
    "        for action in Action.all:\n",
    "\n",
    "            # We could use a theorem prover to find variable instantiaions that make the\n",
    "            # the preconditions true.\n",
    "            # Instead, let's enumerae over all variable instantiations\n",
    "\n",
    "            #--------------------\n",
    "            # The code between the two sets of dashes iterates all variable instantiations\n",
    "            # One of the questions asks you to explain how it works\n",
    "\n",
    "            vars = action.vars\n",
    "            numvars = len(vars)\n",
    "            numconstants = len(Constants)\n",
    "            cnt = int(pow(numconstants,numvars))\n",
    "            for i in range(cnt):\n",
    "                subs = {}\n",
    "                j = i\n",
    "                for v in vars:\n",
    "                    c = j % numconstants\n",
    "                    subs[v] = Constants[c]\n",
    "                    j = (j - c)//numconstants\n",
    "                #-----------------\n",
    "\n",
    "                head = substitute(action.head,subs)\n",
    "                pre  = substitute(action.pre,subs)\n",
    "                add  = substitute(action.add,subs)\n",
    "                dele = substitute(action.dele,subs)\n",
    "\n",
    "                if subset(pre,topWorld):\n",
    "                    worldcnt += 1\n",
    "                    print(\"%d: Found applicable action\" % worldcnt)\n",
    "                    print(action)\n",
    "\n",
    "                    # Create the new world and the new plan\n",
    "                    # And add them to the neighbors\n",
    "\n",
    "                    # YOUR CODE HERE\n",
    "\n",
    "                    print(\"    New world:\")\n",
    "                    printWorld(newWorld,\"     \")\n",
    "                    print(\"    New plan :\")\n",
    "                    printPlan(newPlan,\"     \")\n",
    "                    print(\"\")\n",
    "\n",
    "        frontier = frontier[1:]+ neighbors\n",
    "\n",
    "    print(\"No world with goal true was found\")\n",
    "\n"
   ]
  },
  {
   "cell_type": "markdown",
   "metadata": {},
   "source": [
    "### Question 15\n",
    "\n"
   ]
  },
  {
   "cell_type": "markdown",
   "metadata": {},
   "source": [
    "### Question 16\n",
    "\n"
   ]
  },
  {
   "cell_type": "markdown",
   "metadata": {},
   "source": [
    "### Question 17\n",
    "\n",
    "A depth first search would result in cyclical action patterns that would loop infinitely and fail to resolve. Patterns such and puton(a,b) -> takeoff(a,b) -> puton(a,b) -> takeoff(a,b) would occour."
   ]
  },
  {
   "cell_type": "markdown",
   "metadata": {},
   "source": [
    "### Question 18\n",
    "\n",
    "```\n",
    "kb([has_tree(T,T)]).\n",
    "kb([has_tree(T,n(N,LT,RT)), has_tree(T,LT)]).\n",
    "kb([has_tree(T,n(N,LT,RT)), has_tree(T,RT)]).\n",
    "```"
   ]
  },
  {
   "cell_type": "markdown",
   "metadata": {},
   "source": [
    "### Question 19\n",
    "\n",
    "```\n",
    "depthFirstProve([yes(X,Y),has_tree(n(X,l(l4),Y),n(n1,n(n2,l(l1),l(l2)),n(n3,l(l3),n(n4,l(l4),l(l5)))))])\n",
    "```"
   ]
  },
  {
   "cell_type": "markdown",
   "metadata": {},
   "source": [
    "### Question 20\n",
    "\n",
    "```\n",
    " neighbor(AnswerClause,NewAnswerClause) :-\n",
    "        [Yes,Head|Body] = AnswerClause,\n",
    "        kb([Head|NewBody]),\n",
    "        NewAnswerClause = [Yes,Head,NewBody].\n",
    "```\n",
    "\n",
    "Results:\n",
    "```     \n",
    "?- neighbor([yes(X,Y),has_tree(n(X,l(l4),Y),n(n1,n(n2,l(l1),l(l2)),n(n3,l(l3),n(n4,l(l4),l(l5)))))],X).\n",
    "\n",
    "X = [yes(X, Y), has_tree(n(X, l(l4), Y), n(n1, n(n2, l(l1), l(l2)), n(n3, l(l3), n(n4, l(l4), l(l5))))),\n",
    "[has_tree(n(X, l(l4), Y), n(n2, l(l1), l(l2)))]] ;\n",
    "\n",
    "X = [yes(X, Y), has_tree(n(X, l(l4), Y), n(n1, n(n2, l(l1), l(l2)), n(n3, l(l3), n(n4, l(l4), l(l5))))),\n",
    "[has_tree(n(X, l(l4), Y), n(n3, l(l3), n(n4, l(l4), l(l5))))]]. \n",
    "\n",
    "        \n",
    "```"
   ]
  },
  {
   "cell_type": "markdown",
   "metadata": {},
   "source": [
    "### Question 20 Critique\n",
    "\n",
    "Here, I had a missunderstanding in terms of what should be returned. I believe that I would have the correct solution with only a slight alteration to my origional predicate.\n",
    "\n",
    "```\n",
    " neighbor(AnswerClause,NewAnswerClause) :-\n",
    "        [Yes,Head|Body] = AnswerClause,\n",
    "        kb([Head|NewBody]),\n",
    "        NewAnswerClause = [Yes,Body,NewBody].\n",
    "```"
   ]
  }
 ],
 "metadata": {
  "kernelspec": {
   "display_name": "Python 2",
   "language": "python",
   "name": "python2"
  },
  "language_info": {
   "codemirror_mode": {
    "name": "ipython",
    "version": 2
   },
   "file_extension": ".py",
   "mimetype": "text/x-python",
   "name": "python",
   "nbconvert_exporter": "python",
   "pygments_lexer": "ipython2",
   "version": "2.7.15"
  }
 },
 "nbformat": 4,
 "nbformat_minor": 2
}
