{
 "cells": [
  {
   "cell_type": "markdown",
   "metadata": {},
   "source": [
    "# CS 560: Homework 2\n",
    "### Eric Stevens\n",
    "### October 14, 2018"
   ]
  },
  {
   "cell_type": "markdown",
   "metadata": {},
   "source": [
    "## Question 1: <div style=\"color:red\">Incomplete</div>\n",
    "\n",
    "To answer this question it is best to build a table:\n",
    "\n",
    " p(X)    | q(X)      | p(X) ← q(X)\n",
    " --------|-----------|--------------\n",
    " TRUE    | TRUE      | TRUE\n",
    " TRUE  | FALSE | TRUE\n",
    " FALSE | TRUE"
   ]
  },
  {
   "cell_type": "markdown",
   "metadata": {},
   "source": [
    "## Question 2:<div style=\"color:red\">Incomplete</div>\n",
    "\n",
    "$ KB = \\{p(X)\\} $\n",
    "\n",
    "<b>Proof: </b>\n",
    "\n",
    "$ yes ← p(a)"
   ]
  },
  {
   "cell_type": "markdown",
   "metadata": {},
   "source": [
    "## Question 3:\n",
    "\n",
    "\n",
    "#### ?p(e)\n",
    "\n",
    "yes ← p(e)\n",
    "> <b>Use: </b>p(X1) ← q(X1) ^ r(X1) <br>\n",
    "> <b>Sub: </b>{ X1/e }\n",
    "\n",
    "yes ← q(e) ^ r(e)\n",
    "> <b>Use: </b>r(e)<br>\n",
    "> <b>Sub: </b>{ }\n",
    "\n",
    "\n",
    "yes ← q(e) \n",
    "> <b>Use: </b>q(X2) ← s(X2, Y2) ^ q(Y2)<br>\n",
    "> <b>Sub: </b>{ X2/e, Y2,d }\n",
    "\n",
    "yes ← s(e, d) ^ q(d)\n",
    "> <b>Use: s(e, d)</b> <br>\n",
    "> <b>Sub: </b>{ }\n",
    "\n",
    "yes ← q(d)\n",
    "> <b>Use:</b> q(X3) ← s(X3, Y3) ^ q(Y3)<br>\n",
    "> <b>Sub:</b> { X3/d, Y3/b }\n",
    "\n",
    "yes ← s(d, b) ^ q(b)\n",
    "> <b>Use:</b> s(d, b)<br>\n",
    "> <b>Sub:</b> { }\n",
    "\n",
    "yes ← q(b)\n",
    "> <b>Use:</b> q(b)<br>\n",
    "> <b>Sub:</b> { }\n",
    "\n",
    "yes ← \n",
    "\n",
    "\n",
    "Since we end up with a yes in the head and an empty\n",
    "body, we can conclude that KB implies p(e).\n",
    "\n"
   ]
  },
  {
   "cell_type": "markdown",
   "metadata": {},
   "source": [
    "## Question 4:\n",
    "\n",
    "#### ?p(e)\n",
    "\n",
    "yes ← p(e)\n",
    "> <b>Use: </b>p(X1) ← q(X1) ^ r(X1) <br>\n",
    "> <b>Sub: </b>{ X1/e }\n",
    "\n",
    "yes ← q(e) ^ r(e)\n",
    "> <b>Use: </b>r(e)<br>\n",
    "> <b>Sub: </b>{ }\n",
    "\n",
    "yes ← q(e) \n",
    "> <b>Use: </b>q(X2) ← s(X2, Y2) ^ q(Y2)<br>\n",
    "> <b>Sub: </b>{ X2/e, Y2/f }   THIS IS WHERE f IS USED\n",
    "\n",
    "yes ← s(e, f) ^ q(f)\n",
    "> <b>Use:</b> q(f) <br>\n",
    "> <b>Sub: </b>{ }\n",
    "\n",
    "yes ← s(e, f)\n",
    "> <b>*** FAIL ***</b> \n",
    "\n",
    "Here the derivation fails to come to a conclusion. \n",
    "This failure does not imply that it is not possible \n",
    "to derive p(e), it simply implies that there was a \n",
    "conjunct choice or substitution choice that led \n",
    "down a derivation path that could not resolve the \n",
    "query. In fact, we could have performed the same \n",
    "derivation as we did in the previous question; the \n",
    "introduction of p(f) would not change anything.\n",
    "\n"
   ]
  },
  {
   "cell_type": "markdown",
   "metadata": {},
   "source": [
    "## Question 5:\n",
    "\n",
    "#### ? s(e, Y) ^  q(Y)\n",
    "\n",
    "yes ← s(e, Y) ^  q(Y)\n",
    "> <b>Use:</b> q(X) ← s(X, Y) ^ q(Y)<br>\n",
    "> <b>Sub:</b> { X/Y }\n"
   ]
  },
  {
   "cell_type": "code",
   "execution_count": null,
   "metadata": {},
   "outputs": [],
   "source": [
    "yes ← \n",
    "> <b>Use:</b>  ← <br>\n",
    "> <b>Sub:</b> { }"
   ]
  }
 ],
 "metadata": {
  "kernelspec": {
   "display_name": "Python 3",
   "language": "python",
   "name": "python3"
  },
  "language_info": {
   "codemirror_mode": {
    "name": "ipython",
    "version": 3
   },
   "file_extension": ".py",
   "mimetype": "text/x-python",
   "name": "python",
   "nbconvert_exporter": "python",
   "pygments_lexer": "ipython3",
   "version": "3.6.5"
  }
 },
 "nbformat": 4,
 "nbformat_minor": 2
}
