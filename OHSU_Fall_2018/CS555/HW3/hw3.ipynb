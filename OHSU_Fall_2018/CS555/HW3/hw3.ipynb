{
 "cells": [
  {
   "cell_type": "markdown",
   "metadata": {},
   "source": [
    "# CS 555: Homework 3\n",
    "### Eric Stevens\n",
    "### November 1, 2018"
   ]
  },
  {
   "cell_type": "code",
   "execution_count": 24,
   "metadata": {},
   "outputs": [],
   "source": [
    "# If you what use ngrams.py you should use python2\n",
    "# Or, otherwise, you need to modify ngrams.py by yourself in order to use it in python3.\n",
    "from __future__ import print_function\n",
    "from __future__ import unicode_literals\n",
    "from string import punctuation\n",
    "import re\n",
    "import numpy as np\n",
    "from ngrams import ngrams\n",
    "from collections import defaultdict\n",
    "from bitweight import BitWeight, BitWeightRangeError"
   ]
  },
  {
   "cell_type": "code",
   "execution_count": 25,
   "metadata": {},
   "outputs": [],
   "source": [
    "\n",
    "small_corpus = ['Why dont we start here',\n",
    "                  'Why dont we end there',\n",
    "                  'Let us start with a few other examples',\n",
    "                  'We never start with an example with so few tokens',\n",
    "                  'Tokens can be words that we start with in example docs']\n"
   ]
  },
  {
   "cell_type": "code",
   "execution_count": 26,
   "metadata": {},
   "outputs": [],
   "source": [
    "# TOKENIZE - converts lists of sentences, like in the small_corpus\n",
    "# to list of list of tokens. All of the other functions will require\n",
    "# their parameters in the form of the outupt of the tokenize function.\n",
    "def tokenize(corpus):\n",
    "    tokens = [sentence.split(' ') for sentence in corpus]\n",
    "    return tokens\n",
    "\n"
   ]
  },
  {
   "cell_type": "markdown",
   "metadata": {},
   "source": [
    "# HW3: Language Modeling\n",
    "For this part of the assignment, you will implement two simple count-based n-gram language models: one based on maximum-likelihood estimation, and another based on Witten-Bell smoothing. The data you will be using is a subset of the Penn Treebank's tagged Wall Street Journal articles on which we have done some initial processing. There are two versions of the data for this assignment:\n",
    "\n",
    "##### wsj.pos.gz\n",
    "##### wsj-normalized.pos.gz\n",
    "The difference is that, in the second (normalized) version of the data, we have collapsed some entries from certain tag categories (e.g. CDs, NNPs, etc.) into type-tokens to help reduce sparsity. Take a look at the data and see for yourself. Consider: what would be the benefits and drawbacks to this method of sparsity reduction? Note that, for this part of the assignment, the tags are un-necessary, so you'll want to work with the un-normalized version of the corpus."
   ]
  },
  {
   "cell_type": "markdown",
   "metadata": {},
   "source": [
    "### Task 1: produce a tag-free corpus\n",
    "\n",
    "For this task, you have two jobs. \n",
    "* First, you need to write a function to filter out all tags. \n",
    "* Second, Make sure your code works for both wsj.pos.gz and wsj-normalized.pos.gz\n",
    "\n",
    "####What to turn in\n",
    "* your code\n",
    "* some samples to show me that your code works as it should be"
   ]
  },
  {
   "cell_type": "markdown",
   "metadata": {},
   "source": [
    "### POS Filter for 'wsj.pos' and 'wsj-normalized.pos'"
   ]
  },
  {
   "cell_type": "code",
   "execution_count": 27,
   "metadata": {
    "scrolled": true
   },
   "outputs": [],
   "source": [
    "# FILE_TO_LIST - turns the wsj files into the form of the 'small_corpus'\n",
    "# to prepare it to be the input parameter of the 'tokenize()' function.\n",
    "def file_to_list(filename):\n",
    "    with open(filename, 'r') as content_file:\n",
    "        content = content_file.read()\n",
    "        no_tags = re.sub('(<[A-Z$]{2,4}>)|(/[A-Z$]{2,4})|(\\.\\s+[a-z])|(/[.,$])|[\\\\,/\\'`]', '', content)\n",
    "        return re.split('[\\n]',no_tags)\n",
    "    \n",
    "# NOTE: This function assumes that 'wsj.pos' and 'wsj-normalised.pos' have been unzipped."
   ]
  },
  {
   "cell_type": "markdown",
   "metadata": {},
   "source": [
    "### Demonstrate Filtering On 'wsj.pos'"
   ]
  },
  {
   "cell_type": "code",
   "execution_count": 28,
   "metadata": {},
   "outputs": [
    {
     "data": {
      "text/plain": [
       "[u'Digital Equipment Corp. reported a 32 % decline in net income on a modest revenue gain in its fiscal first quarter  causing some analysts to predict weaker results ahead than they had expected .',\n",
       " u'Although the second-largest computer maker had prepared Wall Street for a poor quarter  analysts said they were troubled by signs of flat U.S. orders and a slowdown in the rate of gain in foreign orders . The Maynard  Mass.  company is in a transition in which it is trying to reduce its reliance on mid-range machines and establish a presence in workstations and mainframes .',\n",
       " u'Net for the quarter ended Sept. 30 fell to $ 150.8 million  or $ 1.20 a share  from $ 223 million  or $ 1.71 a share  a year ago . Revenue rose 6.4 % to $ 3.13 billion from $ 2.94 billion .',\n",
       " u'Digital said a shift in its product mix toward low-end products and strong growth in workstation sales yielded lower gross margins . A spokesman also said margins for the company s service business narrowed somewhat because of heavy investments made in that sector .',\n",
       " u'The lack of a strong product at the high end of Digital s line was a significant drag on sales . Digital hopes to address that with the debut of its first mainframe-class computers next Tuesday . The new line is aimed directly at International Business Machines Corp .',\n",
       " u' Until the new mainframe products kick in  there wo nt be a lot of revenue contribution at the high end  and that s hurt us   said Mark Steinkrauss  Digital s director of investor relations . He said unfavorable currency translations were also a factor in the quarter .',\n",
       " u'DEC shares rose $ 1.375 to $ 89.75 apiece in consolidated New York Stock Exchange trading yesterday . But analysts said that against the backdrop of a nearly 40-point rise in the Dow Jones Industrial Average  that should nt necessarily be taken as a sign of great strength . Some cut their earnings estimates for the stock this year and predicted more efforts to control costs ahead .',\n",
       " u' I think the next few quarters will be difficult   said Steven Milunovich of First Boston .  Margins will remain under pressure  and when the new mainframe does ship  I m not sure it will be a big winner .  Mr. Milunovich said he was revising his estimate for DEC s current year from $ 8.20 a share to  well below $ 8   although he has nt settled on a final number .',\n",
       " u'One troubling aspect of DEC s results  analysts said  was its performance in Europe . DEC said its overseas business  which now accounts for more than half of sales  improved in the quarter . It even took the unusually frank step of telling analysts in a morning conference call that orders in Europe were up in  double digits  in foreign-currency terms .',\n",
       " u'That gain probably translated into about 5 % to 7 % in dollar terms  well below recent quarters  gains of above 20 %  reckons Jay Stevens of Dean Witter Reynolds .  That was a disappointment  and a sign of overall computer-market softness in Europe  Mr. Stevens said .']"
      ]
     },
     "execution_count": 28,
     "metadata": {},
     "output_type": "execute_result"
    }
   ],
   "source": [
    "# Top 10 values of 'wsj.pos'\n",
    "wsj_filtered = file_to_list('wsj.pos')\n",
    "wsj_filtered[:10]"
   ]
  },
  {
   "cell_type": "markdown",
   "metadata": {},
   "source": [
    "### Demonstrate Filtering On 'wsj-normalized.pos'"
   ]
  },
  {
   "cell_type": "code",
   "execution_count": 6,
   "metadata": {},
   "outputs": [
    {
     "data": {
      "text/plain": [
       "[u'   reported a  % decline in net income on a modest revenue gain in its fiscal first quarter  causing some analysts to predict weaker results ahead than they had expected .',\n",
       " u'Although the second-largest computer maker had prepared   for a poor quarter  analysts said they were troubled by signs of flat  orders and a slowdown in the rate of gain in foreign orders . The     company is in a transition in which it is trying to reduce its reliance on mid-range machines and establish a presence in workstations and mainframes .',\n",
       " u'Net for the quarter ended   fell to $    or $  a share  from $    or $  a share  a year ago . Revenue rose  % to $   from $   .',\n",
       " u'Digital said a shift in its product mix toward low-end products and strong growth in workstation sales yielded lower gross margins . A spokesman also said margins for the company s service business narrowed somewhat because of heavy investments made in that sector .',\n",
       " u'The lack of a strong product at the high end of  s line was a significant drag on sales .  hopes to address that with the debut of its first mainframe-class computers next  . The new line is aimed directly at     .',\n",
       " u' Until the new mainframe products kick in  there wo nt be a lot of revenue contribution at the high end  and that s hurt us   said     s director of investor relations . He said unfavorable currency translations were also a factor in the quarter .',\n",
       " u' shares rose $  to $  apiece in consolidated     trading yesterday . But analysts said that against the backdrop of a nearly 40-point rise in the      that should nt necessarily be taken as a sign of great strength . Some cut their earnings estimates for the stock this year and predicted more efforts to control costs ahead .',\n",
       " u' I think the next few quarters will be difficult   said   of   .  Margins will remain under pressure  and when the new mainframe does ship  I m not sure it will be a big winner .    said he was revising his estimate for  s current year from $  a share to  well below $    although he has nt settled on a final number .',\n",
       " u' troubling aspect of  s results  analysts said  was its performance in  .  said its overseas business  which now accounts for more than half of sales  improved in the quarter . It even took the unusually frank step of telling analysts in a morning conference call that orders in  were up in  double digits  in foreign-currency terms .',\n",
       " u'That gain probably translated into about  % to  % in dollar terms  well below recent quarters  gains of above  %  reckons   of    .  That was a disappointment  and a sign of overall computer-market softness in     said .']"
      ]
     },
     "execution_count": 6,
     "metadata": {},
     "output_type": "execute_result"
    }
   ],
   "source": [
    "# Top 10 values of 'wsj-normalized.pos'\n",
    "wsj_normalized_filtered = file_to_list('wsj-normalized.pos')\n",
    "wsj_normalized_filtered[:10]"
   ]
  },
  {
   "cell_type": "markdown",
   "metadata": {},
   "source": [
    "<font color=\"red\">Self assessment:</font>"
   ]
  },
  {
   "cell_type": "markdown",
   "metadata": {},
   "source": [
    "### Maximum Likelihood\n",
    "Now, start by producing code to compute maximum-likelihood estimate probabilities. Your code should be configurable with respect to the n-gram order- i.e., you should be able to set it to compute bigram, trigram, 4-gram, etc. probabilities. Refer to J&M and the lecture slides for definitions as needed. If you would like to write your own n-gram tokenization code, feel free to do so, but you may also use the ngrams.py utility class which contains a routine to take a list of tokens and produce a stream of n-grams with appropriate padding for the start and end of sentences.\n",
    "\n",
    "#### Tip: \n",
    "* Start with a very small \"toy\" corpus of just a couple of sentences for debugging. \n",
    "\n",
    "* As discussed in class, I strongly recommend using nested defaultdicts as the foundational data structure for your language model, where the \"outer\" key is the prefix, and the value retrieved by that prefix is a second defaultdict  containing possible suffices for that prefix, each of which is an \"inner\" key. E.g., p(\"TRUTHS\" | \"HOLD THESE\") would be retrieved by first looking up \"HOLD THESE\" and then from the resulting dictionary, looking up \"TRUTHS\": prob = trigrams[(\"HOLD\",\"THESE\")][\"TRUTHS\"] . Note that this arrangement makes it very easy to e.g. find out the number of times a given history occurs, the total probability mass assigned to all of a history's continuations, etc., all of which will be extremely helpful in the next part of the assignment.\n",
    "\n",
    "* Use tuples to represent prefixes. E.g., instead of the string \"HOLD THESE\", use the tuple (\"HOLD\", \"THESE\"). Note that, in Python, lists are mutable, and therefore may not be used as keys in dictionaries- but tuples are immutable, and so make excellent keys.\n",
    "\n",
    "* Don't forget about numerical underflow issues! You'll want to represent probabilities as negative base-2 log probabilities, and modify your arithmetic accordingly. I recommend experimenting with [the bitweight Python library](https://github.com/stevenbedrick/bitweight) (see its unit tests for example usage).\n",
    "* \n",
    "\n",
    "#### What to turn in:\n",
    "* your code \n",
    "* use your code to create a simple language model for small_corpus named as small_lm and show me that your output is correct(This is a small coupus so you could manully calculate the probalility).\n",
    "* use your code to create language model for wsj.pos.gz named as wsj_lm"
   ]
  },
  {
   "cell_type": "markdown",
   "metadata": {},
   "source": [
    "### Simple Counting, Maximum Likelihood and Utility Functions"
   ]
  },
  {
   "cell_type": "code",
   "execution_count": 7,
   "metadata": {},
   "outputs": [],
   "source": [
    "# TOKENIZE - converts lists of sentences, like in the small_corpus\n",
    "# to list of list of tokens. All of the other functions will require\n",
    "# their parameters in the form of the outupt of the tokenize function.\n",
    "def tokenize(corpus):\n",
    "    tokens = [sentence.split(' ') for sentence in corpus]\n",
    "    return tokens\n",
    "\n",
    "\n",
    "# COUNT_BUILDER - generates count models where 'corpus' is in \n",
    "# the form output by 'tokenize()'. Order is the 'n' in n-gram.\n",
    "def count_builder(corpus, order):\n",
    "    \n",
    "    #ngram\n",
    "    ng = ngrams(corpus, order)\n",
    "\n",
    "    # describe model datatype\n",
    "    model = defaultdict(lambda: defaultdict(int))\n",
    "    \n",
    "    # loop to build embedded defaultdict    \n",
    "    for gram in ng: \n",
    "        if not gram[1] in model[gram[0]]:\n",
    "            model[gram[0]][gram[1]] = 1\n",
    "        else:\n",
    "            model[gram[0]][gram[1]] += 1\n",
    "\n",
    "    # Count Model\n",
    "    return model\n",
    "\n",
    "\n",
    "# MAX_LIKELIHOOD - converts a count model into its MLE form.\n",
    "# 'count_model' is in the form output by 'count_builder()'\n",
    "def max_likelihood(count_model):\n",
    "    \n",
    "    # Container for MLE model with BitWeight probabilities\n",
    "    # Returns 0 for unseen values.\n",
    "    model = defaultdict(lambda: defaultdict(lambda: BitWeight(0)))\n",
    "    \n",
    "    # for prefixes in model...\n",
    "    for prefix, suffix_dict in count_model.iteritems():\n",
    "        w_minus = BitWeight(0) # used to count total tokens\n",
    "        \n",
    "        # for words with hist prefix ...\n",
    "        for suffix, count in suffix_dict.iteritems():\n",
    "            w_minus += BitWeight(count) # add to total number of tokens\n",
    "        \n",
    "        # again, for words with hist prefix ...\n",
    "        for suffix, count in suffix_dict.iteritems():\n",
    "            model[prefix][suffix] = BitWeight.__itruediv__(BitWeight(count),w_minus) # set output probabilities\n",
    "    \n",
    "    # MLE Probabilities\n",
    "    return model\n",
    "\n",
    "\n",
    "# MODEL_PRINTER: Utility to print models with 'BitWeight' values\n",
    "def model_printer(model):\n",
    "    for prefix, suffix_dict in model.iteritems():\n",
    "        for suffix, value in suffix_dict.iteritems():\n",
    "            print(prefix, \" : \", suffix, \" : \", value.real())"
   ]
  },
  {
   "cell_type": "markdown",
   "metadata": {},
   "source": [
    "### Demonstrate MLE Model Build on 'small_corpus'"
   ]
  },
  {
   "cell_type": "code",
   "execution_count": 8,
   "metadata": {},
   "outputs": [
    {
     "name": "stdout",
     "output_type": "stream",
     "text": [
      "(u'us', u'start')  :  with  :  1.0\n",
      "(u'few', u'other')  :  examples  :  1.0\n",
      "(u'start', u'with')  :  a  :  0.333333333333\n",
      "(u'start', u'with')  :  an  :  0.333333333333\n",
      "(u'start', u'with')  :  in  :  0.333333333333\n",
      "('<S_1>', u'We')  :  never  :  1.0\n",
      "('<S_0>', '<S_1>')  :  Tokens  :  0.2\n",
      "('<S_0>', '<S_1>')  :  We  :  0.2\n",
      "('<S_0>', '<S_1>')  :  Let  :  0.2\n",
      "('<S_0>', '<S_1>')  :  Why  :  0.4\n",
      "(u'start', u'here')  :  </S_1>  :  1.0\n",
      "(u'Let', u'us')  :  start  :  1.0\n",
      "(u'that', u'we')  :  start  :  1.0\n",
      "(u'example', u'with')  :  so  :  1.0\n",
      "(u'example', u'docs')  :  </S_1>  :  1.0\n",
      "(u'in', u'example')  :  docs  :  1.0\n",
      "(u'we', u'end')  :  there  :  1.0\n",
      "(u'a', u'few')  :  other  :  1.0\n",
      "(u'with', u'an')  :  example  :  1.0\n",
      "(u'with', u'so')  :  few  :  1.0\n",
      "(u'words', u'that')  :  we  :  1.0\n",
      "(u'end', u'there')  :  </S_1>  :  1.0\n",
      "(u'other', u'examples')  :  </S_1>  :  1.0\n",
      "(u'dont', u'we')  :  start  :  0.5\n",
      "(u'dont', u'we')  :  end  :  0.5\n",
      "('<S_1>', u'Let')  :  us  :  1.0\n",
      "(u'never', u'start')  :  with  :  1.0\n",
      "(u'can', u'be')  :  words  :  1.0\n",
      "(u'docs', '</S_1>')  :  </S_0>  :  1.0\n",
      "('<S_1>', u'Tokens')  :  can  :  1.0\n",
      "(u'there', '</S_1>')  :  </S_0>  :  1.0\n",
      "(u'with', u'a')  :  few  :  1.0\n",
      "(u'so', u'few')  :  tokens  :  1.0\n",
      "(u'here', '</S_1>')  :  </S_0>  :  1.0\n",
      "(u'Why', u'dont')  :  we  :  1.0\n",
      "(u'be', u'words')  :  that  :  1.0\n",
      "(u'examples', '</S_1>')  :  </S_0>  :  1.0\n",
      "(u'with', u'in')  :  example  :  1.0\n",
      "(u'We', u'never')  :  start  :  1.0\n",
      "(u'tokens', '</S_1>')  :  </S_0>  :  1.0\n",
      "(u'an', u'example')  :  with  :  1.0\n",
      "('<S_1>', u'Why')  :  dont  :  1.0\n",
      "(u'Tokens', u'can')  :  be  :  1.0\n",
      "(u'few', u'tokens')  :  </S_1>  :  1.0\n",
      "(u'we', u'start')  :  with  :  0.5\n",
      "(u'we', u'start')  :  here  :  0.5\n"
     ]
    }
   ],
   "source": [
    "# Create a trigram MLE language model for 'small_corpus' and show result\n",
    "small_tokens = tokenize(small_corpus)\n",
    "small_count = count_builder(small_tokens, 3)\n",
    "small_lm = max_likelihood(small_count)\n",
    "model_printer(small_lm)"
   ]
  },
  {
   "cell_type": "markdown",
   "metadata": {},
   "source": [
    "### Demonstrate MLE Model Build on 'wsj.pos'"
   ]
  },
  {
   "cell_type": "code",
   "execution_count": 16,
   "metadata": {},
   "outputs": [
    {
     "name": "stdout",
     "output_type": "stream",
     "text": [
      "(u'have', u'made')  :    :  0.0217391304348\n",
      "(u'have', u'made')  :  some  :  0.0434782608696\n",
      "(u'have', u'made')  :  it  :  0.130434782609\n",
      "(u'have', u'made')  :  trading  :  0.0217391304348\n",
      "(u'have', u'made')  :  use  :  0.0434782608696\n",
      "(u'have', u'made')  :  for  :  0.0217391304348\n",
      "(u'have', u'made')  :  no  :  0.0652173913043\n",
      "(u'have', u'made')  :  leveraged  :  0.0217391304348\n",
      "(u'have', u'made')  :  .  :  0.0217391304348\n",
      "(u'have', u'made')  :  their  :  0.0434782608696\n",
      "(u'have', u'made')  :  much  :  0.0217391304348\n",
      "(u'have', u'made')  :  China  :  0.0217391304348\n",
      "(u'have', u'made')  :  health  :  0.0217391304348\n",
      "(u'have', u'made')  :  available  :  0.0217391304348\n",
      "(u'have', u'made')  :  them  :  0.0217391304348\n",
      "(u'have', u'made')  :  his  :  0.0217391304348\n",
      "(u'have', u'made')  :  big  :  0.0217391304348\n",
      "(u'have', u'made')  :  metrics  :  0.0217391304348\n",
      "(u'have', u'made')  :  nearly  :  0.0217391304348\n",
      "(u'have', u'made')  :  excellent  :  0.0217391304348\n",
      "(u'have', u'made')  :  such  :  0.0217391304348\n",
      "(u'have', u'made')  :  him  :  0.0217391304348\n",
      "(u'have', u'made')  :  a  :  0.152173913043\n",
      "(u'have', u'made')  :  the  :  0.152173913043\n",
      "(u'love', u'--:')  :  and  :  1.0\n",
      "(u'webs', u'of')  :  cross-shareholdings  :  1.0\n",
      "(u'a', u'picture-postcard')  :  vista  :  1.0\n",
      "(u'on', u'atmospheric')  :  pollution  :  1.0\n",
      "(u'strike', u'last')  :  month  :  1.0\n",
      "(u'selloff', u'followed')  :  by  :  1.0\n",
      "(u'small', u'account')  :    :  1.0\n",
      "(u'Partly', u'because')  :  of  :  0.75\n",
      "(u'Partly', u'because')  :  the  :  0.25\n",
      "(u'Chicago', u'businessman')  :  William  :  0.5\n",
      "(u'Chicago', u'businessman')  :  Sam  :  0.5\n"
     ]
    }
   ],
   "source": [
    "# Create trigram MLE language model for 'wsj.pos' and show subset\n",
    "wsj_tokens = tokenize(wsj_filtered)\n",
    "wsj_count = count_builder(wsj_tokens, 3)\n",
    "wsj_lm = max_likelihood(wsj_count)\n",
    "\n",
    "# grab 10 keys\n",
    "top_keys = wsj_lm.keys()[:10]\n",
    "\n",
    "# subset of language model\n",
    "sub_wsj = defaultdict(lambda: defaultdict(lambda: BitWeight(0)))\n",
    "for key in top_keys: sub_wsj[key] = wsj_lm[key]\n",
    "                      \n",
    "# print subsample of wsj_model\n",
    "model_printer(sub_wsj)\n"
   ]
  },
  {
   "cell_type": "markdown",
   "metadata": {},
   "source": [
    "<font color=\"red\">Self assessment:</font>"
   ]
  },
  {
   "cell_type": "markdown",
   "metadata": {},
   "source": [
    "### Smoothing\n",
    "\n",
    "Once you’ve got an unsmoothed model working, move on to implementing Witten-Bell smoothing. Refer to the slides and J&M for details on how that ought to work.\n",
    "\n",
    "#### Tip: \n",
    "* You can modify an already-populated defaultdict to change its default value (for example, to store a default backoff value for a particular history) by changing the object’s default_factory attribute. Consult the documentation for examples of how this works.\n",
    "* As defined, W-B smoothing is highly recursive; you may find it more efficient to re-frame the algorithm in iterative terms.\n",
    "* As in the previous section, start small.\n",
    "* [This may offer you some help on how to implement Witten-Bell smoothing](http://www.ee.columbia.edu/~stanchen/e6884/labs/lab3/x207.html)\n",
    "\n",
    "\n",
    "#### What to turn in:\n",
    "* your code \n",
    "* use your code to create a simple smoothed language model based on small_lm  and show me that your output is correct(This is a small coupus so you could manully calculate the probalility).\n",
    "* use your code to create a smoothed language model based on wsj_lm"
   ]
  },
  {
   "cell_type": "markdown",
   "metadata": {},
   "source": [
    "### Whitten-Bell Ngram Model Builder Function"
   ]
  },
  {
   "cell_type": "code",
   "execution_count": 18,
   "metadata": {},
   "outputs": [],
   "source": [
    "\n",
    "def wb_model_builder(tokens, order):\n",
    "    \n",
    "    # build count model and MLE model to calculate WB values\n",
    "    count_mod = count_builder(tokens, order)\n",
    "    mle_mod = max_likelihood(count_mod)\n",
    "    \n",
    "    \n",
    "    # Base Case: Unigram Model Builder\n",
    "    if order == 1:\n",
    "        \n",
    "        # get tokens and types to calc lmbda(.)\n",
    "        tks = sum(count_mod[()].values())\n",
    "        tps = len(count_mod[()].keys())\n",
    "        \n",
    "        # use above to build lambda(.)\n",
    "        lambda_dot = BitWeight(tks,(tks+tps))\n",
    "        one_minus_lambda_dot = BitWeight(tps,(tks+tps))\n",
    "        one_over_V = BitWeight(1,tps)\n",
    "        \n",
    "        # create return for unseen values Pwb(.) = (1 - lambda) * (1/V)\n",
    "        default_return = one_minus_lambda_dot*one_over_V\n",
    "\n",
    "        # declare WB unigram model to be handed back\n",
    "        wb_model = defaultdict(lambda: defaultdict(lambda: default_return))\n",
    "        \n",
    "        # build WB unigram model\n",
    "        for prefix, suffix_dict in mle_mod.iteritems() :\n",
    "            for suffix, mle_prob in suffix_dict.iteritems():\n",
    "                \n",
    "                # Set WB Probability: Pwb(w) = lambda(.)*Pmle + one_minus_lambda(.)*one_over_V\n",
    "                wb_model[prefix][suffix] = (lambda_dot * mle_prob) + (one_minus_lambda_dot*one_over_V)\n",
    "        \n",
    "        # return WB unigram model\n",
    "        return wb_model\n",
    "    \n",
    "    \n",
    "    # Recursive Case: If the order is greater than 1\n",
    "    else:\n",
    "\n",
    "        # get the model of P(w|h_n-1)\n",
    "        wb_minus_one_model = wb_model_builder(tokens, order-1)\n",
    "\n",
    "        # retrieve default value from lower order model\n",
    "        default_return = wb_minus_one_model[\"x\"][\"x\"] # xx will not be in any model\n",
    "\n",
    "        # declare WB model with inhereted default\n",
    "        wb_model = defaultdict(lambda: defaultdict(lambda: default_return))\n",
    "\n",
    "        # for each history... \n",
    "        for prefix, suffix_dict in count_mod.iteritems():\n",
    "\n",
    "            # calculate history parameters\n",
    "            c_hist = sum(suffix_dict.values())\n",
    "            N_one_plus = len(suffix_dict.keys())\n",
    "\n",
    "            # build lambda terms\n",
    "            lambda_hist = BitWeight(c_hist,(c_hist+N_one_plus))\n",
    "            one_minus_lambda_hist = BitWeight(N_one_plus,(c_hist+N_one_plus))\n",
    "\n",
    "            # set default returns for inner dictionary\n",
    "            wb_model[prefix] = defaultdict(lambda: one_minus_lambda_hist*wb_minus_one_model[prefix[1:]]['xxxxx'])\n",
    "\n",
    "            # for each word that follows that history ... \n",
    "            for suffix, wb_minus_prob in mle_mod[prefix].iteritems():\n",
    "\n",
    "                # Set WB Probability: Pwb(w|hist) = lambda_hist*Pmle(w|hist) + one_minus_lambda_hist*Pwb(w|hist-1)\n",
    "                lambda_hist_x_mle = lambda_hist*mle_mod[prefix][suffix]\n",
    "                one_minus_lambda_x_wb_minus = one_minus_lambda_hist*wb_minus_one_model[prefix[1:]][suffix]\n",
    "                wb_model[prefix][suffix] = lambda_hist_x_mle + one_minus_lambda_x_wb_minus\n",
    "    \n",
    "    # return WB ngram model\n",
    "    return wb_model\n"
   ]
  },
  {
   "cell_type": "markdown",
   "metadata": {},
   "source": [
    "### Demonstrate WB Model Build on 'small_corpus'"
   ]
  },
  {
   "cell_type": "code",
   "execution_count": 22,
   "metadata": {},
   "outputs": [
    {
     "name": "stdout",
     "output_type": "stream",
     "text": [
      "(u'us', u'start')  :  with  :  0.762626262626\n",
      "(u'few', u'other')  :  examples  :  0.757575757576\n",
      "(u'start', u'with')  :  a  :  0.236742424242\n",
      "(u'start', u'with')  :  in  :  0.236742424242\n",
      "(u'start', u'with')  :  an  :  0.236742424242\n",
      "('<S_1>', u'We')  :  never  :  0.757575757576\n",
      "('<S_0>', '<S_1>')  :  Tokens  :  0.117845117845\n",
      "('<S_0>', '<S_1>')  :  We  :  0.117845117845\n",
      "('<S_0>', '<S_1>')  :  Let  :  0.117845117845\n",
      "('<S_0>', '<S_1>')  :  Why  :  0.228956228956\n",
      "(u'start', u'here')  :  </S_1>  :  0.503787878788\n",
      "(u'Let', u'us')  :  start  :  0.768939393939\n",
      "(u'that', u'we')  :  start  :  0.715151515152\n",
      "(u'example', u'with')  :  so  :  0.570075757576\n",
      "(u'example', u'docs')  :  </S_1>  :  0.503787878788\n",
      "(u'in', u'example')  :  docs  :  0.632575757576\n",
      "(u'we', u'end')  :  there  :  0.757575757576\n",
      "(u'a', u'few')  :  other  :  0.632575757576\n",
      "(u'with', u'an')  :  example  :  0.761363636364\n",
      "(u'with', u'so')  :  few  :  0.761363636364\n",
      "(u'words', u'that')  :  we  :  0.765151515152\n",
      "(u'end', u'there')  :  </S_1>  :  0.503787878788\n",
      "(u'other', u'examples')  :  </S_1>  :  0.503787878788\n",
      "(u'dont', u'we')  :  start  :  0.465151515152\n",
      "(u'dont', u'we')  :  end  :  0.356060606061\n",
      "('<S_1>', u'Let')  :  us  :  0.757575757576\n",
      "(u'never', u'start')  :  with  :  0.762626262626\n",
      "(u'can', u'be')  :  words  :  0.757575757576\n",
      "(u'docs', '</S_1>')  :  </S_0>  :  0.507575757576\n",
      "('<S_1>', u'Tokens')  :  can  :  0.757575757576\n",
      "(u'there', '</S_1>')  :  </S_0>  :  0.507575757576\n",
      "(u'with', u'a')  :  few  :  0.761363636364\n",
      "(u'so', u'few')  :  tokens  :  0.632575757576\n",
      "(u'here', '</S_1>')  :  </S_0>  :  0.507575757576\n",
      "(u'Why', u'dont')  :  we  :  0.895622895623\n",
      "(u'be', u'words')  :  that  :  0.757575757576\n",
      "(u'examples', '</S_1>')  :  </S_0>  :  0.507575757576\n",
      "(u'with', u'in')  :  example  :  0.761363636364\n",
      "(u'We', u'never')  :  start  :  0.768939393939\n",
      "(u'tokens', '</S_1>')  :  </S_0>  :  0.507575757576\n",
      "(u'an', u'example')  :  with  :  0.643939393939\n",
      "('<S_1>', u'Why')  :  dont  :  0.893939393939\n",
      "(u'Tokens', u'can')  :  be  :  0.757575757576\n",
      "(u'few', u'tokens')  :  </S_1>  :  0.503787878788\n",
      "(u'we', u'start')  :  with  :  0.512626262626\n",
      "(u'we', u'start')  :  here  :  0.338383838384\n"
     ]
    }
   ],
   "source": [
    "# Create a trigram Witten-Bell language model for 'small_corpus' and show result\n",
    "small_wb_lm = wb_model_builder(small_tokens, 3)\n",
    "model_printer(small_wb_lm)"
   ]
  },
  {
   "cell_type": "markdown",
   "metadata": {},
   "source": [
    "### Demonstrate WB Model Build on 'wsj.pos'"
   ]
  },
  {
   "cell_type": "code",
   "execution_count": 23,
   "metadata": {},
   "outputs": [
    {
     "name": "stdout",
     "output_type": "stream",
     "text": [
      "(u'have', u'made')  :    :  0.0252579988058\n",
      "(u'have', u'made')  :  some  :  0.0322898182942\n",
      "(u'have', u'made')  :  it  :  0.0985314164297\n",
      "(u'have', u'made')  :  trading  :  0.0151694649735\n",
      "(u'have', u'made')  :  use  :  0.0294008936134\n",
      "(u'have', u'made')  :  for  :  0.0200837338128\n",
      "(u'have', u'made')  :  no  :  0.0465345516891\n",
      "(u'have', u'made')  :  leveraged  :  0.0146961241648\n",
      "(u'have', u'made')  :  .  :  0.0254601258789\n",
      "(u'have', u'made')  :  their  :  0.0311126497499\n",
      "(u'have', u'made')  :  much  :  0.0151413958702\n",
      "(u'have', u'made')  :  China  :  0.0147014572944\n",
      "(u'have', u'made')  :  health  :  0.0146977521728\n",
      "(u'have', u'made')  :  available  :  0.0183245804806\n",
      "(u'have', u'made')  :  them  :  0.0163468019325\n",
      "(u'have', u'made')  :  his  :  0.0188346356764\n",
      "(u'have', u'made')  :  big  :  0.014721723187\n",
      "(u'have', u'made')  :  metrics  :  0.0146887700597\n",
      "(u'have', u'made')  :  nearly  :  0.0151065340439\n",
      "(u'have', u'made')  :  excellent  :  0.014689668271\n",
      "(u'have', u'made')  :  such  :  0.0155566897733\n",
      "(u'have', u'made')  :  him  :  0.0171295038484\n",
      "(u'have', u'made')  :  a  :  0.129140257279\n",
      "(u'have', u'made')  :  the  :  0.122291687472\n",
      "(u'love', u'--:')  :  and  :  0.528217839631\n",
      "(u'webs', u'of')  :  cross-shareholdings  :  0.500014659898\n",
      "(u'a', u'picture-postcard')  :  vista  :  0.750000402716\n",
      "(u'on', u'atmospheric')  :  pollution  :  0.545460037035\n",
      "(u'strike', u'last')  :  month  :  0.553436928335\n",
      "(u'selloff', u'followed')  :  by  :  0.638709016767\n",
      "(u'small', u'account')  :    :  0.557882903283\n",
      "(u'Partly', u'because')  :  of  :  0.603062524896\n",
      "(u'Partly', u'because')  :  the  :  0.201577644547\n",
      "(u'Chicago', u'businessman')  :  William  :  0.263919137329\n",
      "(u'Chicago', u'businessman')  :  Sam  :  0.263894974374\n"
     ]
    }
   ],
   "source": [
    "# Create trigram Witten-Bell language model for 'wsj.pos' and show subset\n",
    "wsj_wb_lm = wb_model_builder(wsj_tokens, 3)\n",
    "\n",
    "# grab 10 keys\n",
    "top_keys = wsj_wb_lm.keys()[:10]\n",
    "\n",
    "# subset of language model\n",
    "sub_wsj_wb = defaultdict(lambda: defaultdict(lambda: BitWeight(0)))\n",
    "for key in top_keys: sub_wsj_wb[key] = wsj_wb_lm[key]\n",
    "                      \n",
    "# print subsample of wsj_wb_model\n",
    "model_printer(sub_wsj_wb)"
   ]
  },
  {
   "cell_type": "markdown",
   "metadata": {},
   "source": [
    "<font color=\"red\">Self assessment:</font>"
   ]
  },
  {
   "cell_type": "markdown",
   "metadata": {},
   "source": [
    "### Evaluation via Perplexity\n",
    "Explore the effects of n-gram order using perplexity. Perform ten-fold cross-validation on the WSJ corpus. On each iteration, this will give you a different 90/10 training/test split; train a smoothed language model on the 9 training sections, and compute the average per-token perplexity of the tenth section. The slides from the language modeling lecture give the equation for perplexity computation (as does J&M chapter 4); you'll need to modify the equation a bit, since we're using log-probabilities. \n",
    "\n",
    "Now, try this for unigram, bigram, trigram, and 4-gram models. \n",
    "\n",
    "#### What to turn in\n",
    "* your cross-validation function. You are not suppose to use any cross-validation function from any module. You should implement it by yourself.\n",
    "* your perplexity function\n",
    "* cross-validation result for unigram, bigram, trigram, and 4-gram models on wsj.pos.gz\n",
    "* cross-validation result for unigram, bigram, trigram, and 4-gram models on wsj-normalized.pos.gz.\n",
    "* Answer following 2 questions: \n",
    "    * How does perplexity change as the model order size increases?\n",
    "    * How does perplexity change as the data changed?"
   ]
  },
  {
   "cell_type": "markdown",
   "metadata": {},
   "source": [
    "### Functions for N Fold Cross Validation and Perplexity Calculation"
   ]
  },
  {
   "cell_type": "code",
   "execution_count": 159,
   "metadata": {},
   "outputs": [],
   "source": [
    "\n",
    "#N_FOLD: generalized n_fold cross validation\n",
    "#\n",
    "#   # INPUTS\n",
    "#   data: the dataset as a list\n",
    "#   n: number of folds\n",
    "#   scoring_function: function used to evaluate\n",
    "#   param_list: list of parameters for scoring_function\n",
    "#\n",
    "#   # OUTPUTS\n",
    "#   score_list: a list of the scores for the different test runs\n",
    "def n_fold(data, n, scoring_function, param_list):\n",
    "    \n",
    "    # get lenght of corpus and use it to get test set size\n",
    "    size_of_data = len(data)\n",
    "    size_of_test_set = int(size_of_data/n)\n",
    "    \n",
    "    # score list holds onto results\n",
    "    score_list = []\n",
    "    \n",
    "    ###  n folds  ##\n",
    "    for x in range(n):\n",
    "        \n",
    "        # build test set and trainging set\n",
    "        test_set = data[x*size_of_test_set:(x+1)*size_of_test_set]\n",
    "        training_set = data[:x*size_of_test_set]+data[(x+1)*size_of_test_set:]        \n",
    "        \n",
    "        # evaluate\n",
    "        score_list.append(scoring_function(test_set, training_set, *param_list))\n",
    "          \n",
    "    return score_list\n",
    "\n",
    "# perplexity evaluation function\n",
    "def wb_perplexity(test_set, training_set, order):\n",
    "    \n",
    "    # count number of tests\n",
    "    N = 0.0\n",
    "    \n",
    "    # build witten_bell model from training data\n",
    "    training_tokens = tokenize(training_set)\n",
    "    wb_model = wb_model_builder(training_tokens, order)\n",
    "    \n",
    "    # get ngram of test set\n",
    "    test_tokens = tokenize(test_set)\n",
    "    test_grams = ngrams(test_tokens, order)\n",
    "\n",
    "    # declare probability product holder\n",
    "    p_w_all = BitWeight(1)\n",
    "    \n",
    "    # loop through all test data\n",
    "    for history, word in test_grams:\n",
    "        N += 1.0 # increment test count\n",
    "        p_w_all *= wb_model[history][word]\n",
    "    \n",
    "    # perplexity in log from\n",
    "    return (-1/N)*p_w_all.log() \n"
   ]
  },
  {
   "cell_type": "markdown",
   "metadata": {},
   "source": [
    "### Whitten-Bell Perplexity 10 Fold Cross validation for 'wsj.pos'\n",
    "##### Unigram, Bigram, Trigram, and 4-gram"
   ]
  },
  {
   "cell_type": "code",
   "execution_count": 160,
   "metadata": {},
   "outputs": [
    {
     "data": {
      "text/plain": [
       "[-10.422096761477599,\n",
       " -10.45987762639243,\n",
       " -10.390216144723228,\n",
       " -10.401447688780395,\n",
       " -10.401991318443159,\n",
       " -10.383062018619954,\n",
       " -10.429966097216424,\n",
       " -10.33098178113066,\n",
       " -10.383009808610066,\n",
       " -10.458665963681328]"
      ]
     },
     "execution_count": 160,
     "metadata": {},
     "output_type": "execute_result"
    }
   ],
   "source": [
    "# 10 Fold Cross Validation for 'wsj.pos' showing results\n",
    "# Whitten-Bell Unigram\n",
    "tl = file_to_list('wsj.pos')\n",
    "n_fold(tl,10, wb_perplexity, [1])"
   ]
  },
  {
   "cell_type": "code",
   "execution_count": 161,
   "metadata": {},
   "outputs": [
    {
     "data": {
      "text/plain": [
       "[-10.429471678720232,\n",
       " -10.569299379698139,\n",
       " -10.210676165552446,\n",
       " -10.255455726445804,\n",
       " -10.224240746015122,\n",
       " -10.116058976377726,\n",
       " -10.397244046784385,\n",
       " -10.116824865169251,\n",
       " -10.176933112809474,\n",
       " -10.313393760153046]"
      ]
     },
     "execution_count": 161,
     "metadata": {},
     "output_type": "execute_result"
    }
   ],
   "source": [
    "# Whitten-Bell Bigram\n",
    "n_fold(tl,10, wb_perplexity, [2])"
   ]
  },
  {
   "cell_type": "code",
   "execution_count": 162,
   "metadata": {},
   "outputs": [
    {
     "data": {
      "text/plain": [
       "[-15.050208494884064,\n",
       " -15.139986528825176,\n",
       " -14.767778917626604,\n",
       " -14.742619734061412,\n",
       " -14.692135408294163,\n",
       " -14.620025683422407,\n",
       " -14.924272638298024,\n",
       " -14.628735285548975,\n",
       " -14.699512379465391,\n",
       " -14.787838561061625]"
      ]
     },
     "execution_count": 162,
     "metadata": {},
     "output_type": "execute_result"
    }
   ],
   "source": [
    "# Whitten-Bell Trigram\n",
    "n_fold(tl,10, wb_perplexity, [3])"
   ]
  },
  {
   "cell_type": "code",
   "execution_count": 163,
   "metadata": {},
   "outputs": [
    {
     "data": {
      "text/plain": [
       "[-17.561782143002407,\n",
       " -17.57941885843227,\n",
       " -17.37648354408899,\n",
       " -17.358313582718672,\n",
       " -17.31948023526535,\n",
       " -17.312129805600605,\n",
       " -17.498584976944848,\n",
       " -17.325220475785834,\n",
       " -17.383820103722027,\n",
       " -17.356262932871307]"
      ]
     },
     "execution_count": 163,
     "metadata": {},
     "output_type": "execute_result"
    }
   ],
   "source": [
    "# Whitten-Bell 4-gram\n",
    "n_fold(tl,10, wb_perplexity, [4])"
   ]
  },
  {
   "cell_type": "markdown",
   "metadata": {},
   "source": [
    "### Whitten-Bell Perplexity 10 Fold Cross validation for 'wsj-normalize.pos'\n",
    "##### Unigram, Bigram, Trigram, and 4-gram"
   ]
  },
  {
   "cell_type": "code",
   "execution_count": 164,
   "metadata": {},
   "outputs": [
    {
     "data": {
      "text/plain": [
       "[-9.139841449952604,\n",
       " -9.090189144811731,\n",
       " -8.994569726520528,\n",
       " -9.00566048016694,\n",
       " -8.99029134688309,\n",
       " -8.934111762343461,\n",
       " -8.976347463234887,\n",
       " -8.907302152696895,\n",
       " -8.991991926757937,\n",
       " -8.992503727615507]"
      ]
     },
     "execution_count": 164,
     "metadata": {},
     "output_type": "execute_result"
    }
   ],
   "source": [
    "# 10 Fold Cross Validation for 'wsj-normalized.pos' showing results\n",
    "# Whitten-Bell Unigram\n",
    "tln = file_to_list('wsj-normalized.pos')\n",
    "n_fold(tln,10, wb_perplexity, [1])"
   ]
  },
  {
   "cell_type": "code",
   "execution_count": 165,
   "metadata": {},
   "outputs": [
    {
     "data": {
      "text/plain": [
       "[-8.886379038978031,\n",
       " -8.871260685136237,\n",
       " -8.556239133816296,\n",
       " -8.659173421699325,\n",
       " -8.580873334142375,\n",
       " -8.40541043191283,\n",
       " -8.602130967327128,\n",
       " -8.403942713660749,\n",
       " -8.521394160644576,\n",
       " -8.585333997959253]"
      ]
     },
     "execution_count": 165,
     "metadata": {},
     "output_type": "execute_result"
    }
   ],
   "source": [
    "# Whitten-Bell Bigram\n",
    "n_fold(tln,10, wb_perplexity, [2])"
   ]
  },
  {
   "cell_type": "code",
   "execution_count": 166,
   "metadata": {},
   "outputs": [
    {
     "data": {
      "text/plain": [
       "[-12.725209756920828,\n",
       " -12.61834251039997,\n",
       " -12.432612715120497,\n",
       " -12.327071449985883,\n",
       " -12.33476832164793,\n",
       " -12.179958747984426,\n",
       " -12.416473294111954,\n",
       " -12.248306302410391,\n",
       " -12.314861205078136,\n",
       " -12.275600221224876]"
      ]
     },
     "execution_count": 166,
     "metadata": {},
     "output_type": "execute_result"
    }
   ],
   "source": [
    "# Whitten-Bell Trigram\n",
    "n_fold(tln,10, wb_perplexity, [3])"
   ]
  },
  {
   "cell_type": "code",
   "execution_count": 167,
   "metadata": {},
   "outputs": [
    {
     "data": {
      "text/plain": [
       "[-15.31460434529303,\n",
       " -15.215397812061918,\n",
       " -15.119107808367305,\n",
       " -15.031293781066399,\n",
       " -14.994357118905963,\n",
       " -14.851657548784262,\n",
       " -15.014035985130482,\n",
       " -14.95445233656557,\n",
       " -14.957400540425956,\n",
       " -14.833688024612025]"
      ]
     },
     "execution_count": 167,
     "metadata": {},
     "output_type": "execute_result"
    }
   ],
   "source": [
    "# Whitten-Bell 4-gram\n",
    "n_fold(tln,10, wb_perplexity, [4])"
   ]
  },
  {
   "cell_type": "markdown",
   "metadata": {},
   "source": [
    "### Questions\n",
    "\n",
    "##### 1. How does perplexity change as the model order size increases?\n",
    "It can be seen from the results of both the 'wsj.pos' and the 'wsj-normalized.pos' that as the order of the model increases the perplexity decreases. This indicates that the higher order models we see here are more accurate than the lower ones.\n",
    "\n",
    "##### 2. How does perplexity change as the data changed?\n",
    "It can be seen in the results that the model was less acurate in prediction the outcomes of the normalized file. Im guessing that this is the result of trying to make the number of individual words more even, thus reducing the abbility that the Whitten Bell learning algorithm has of biasing words that it has seen more often."
   ]
  },
  {
   "cell_type": "markdown",
   "metadata": {},
   "source": [
    "<font color=\"red\">Self assessment:</font>"
   ]
  }
 ],
 "metadata": {
  "kernelspec": {
   "display_name": "Python 2",
   "language": "python",
   "name": "python2"
  },
  "language_info": {
   "codemirror_mode": {
    "name": "ipython",
    "version": 2
   },
   "file_extension": ".py",
   "mimetype": "text/x-python",
   "name": "python",
   "nbconvert_exporter": "python",
   "pygments_lexer": "ipython2",
   "version": "2.7.15"
  }
 },
 "nbformat": 4,
 "nbformat_minor": 2
}
