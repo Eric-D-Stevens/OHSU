{
 "cells": [
  {
   "cell_type": "markdown",
   "metadata": {},
   "source": [
    "# CS 555: Homework 3\n",
    "### Eric Stevens\n",
    "### November 6, 2018"
   ]
  },
  {
   "cell_type": "code",
   "execution_count": 3,
   "metadata": {},
   "outputs": [],
   "source": [
    "# If you what use ngrams.py you should use python2\n",
    "# Or, otherwise, you need to modify ngrams.py by yourself in order to use it in python3.\n",
    "from __future__ import print_function\n",
    "from __future__ import unicode_literals\n",
    "from string import punctuation\n",
    "import re\n",
    "import numpy as np\n",
    "from ngrams import ngrams\n",
    "from collections import defaultdict\n",
    "from bitweight import BitWeight, BitWeightRangeError"
   ]
  },
  {
   "cell_type": "code",
   "execution_count": 4,
   "metadata": {},
   "outputs": [],
   "source": [
    "\n",
    "small_corpus = ['Why dont we start here',\n",
    "                  'Why dont we end there',\n",
    "                  'Let us start with a few other examples',\n",
    "                  'We never start with an example with so few tokens',\n",
    "                  'Tokens can be words that we start with in example docs']\n"
   ]
  },
  {
   "cell_type": "code",
   "execution_count": 5,
   "metadata": {},
   "outputs": [],
   "source": [
    "# TOKENIZE - converts lists of sentences, like in the small_corpus\n",
    "# to list of list of tokens. All of the other functions will require\n",
    "# their parameters in the form of the outupt of the tokenize function.\n",
    "def tokenize(corpus):\n",
    "    tokens = [sentence.split(' ') for sentence in corpus]\n",
    "    return tokens\n",
    "\n"
   ]
  },
  {
   "cell_type": "markdown",
   "metadata": {},
   "source": [
    "# HW3: Language Modeling\n",
    "For this part of the assignment, you will implement two simple count-based n-gram language models: one based on maximum-likelihood estimation, and another based on Witten-Bell smoothing. The data you will be using is a subset of the Penn Treebank's tagged Wall Street Journal articles on which we have done some initial processing. There are two versions of the data for this assignment:\n",
    "\n",
    "##### wsj.pos.gz\n",
    "##### wsj-normalized.pos.gz\n",
    "The difference is that, in the second (normalized) version of the data, we have collapsed some entries from certain tag categories (e.g. CDs, NNPs, etc.) into type-tokens to help reduce sparsity. Take a look at the data and see for yourself. Consider: what would be the benefits and drawbacks to this method of sparsity reduction? Note that, for this part of the assignment, the tags are un-necessary, so you'll want to work with the un-normalized version of the corpus."
   ]
  },
  {
   "cell_type": "markdown",
   "metadata": {},
   "source": [
    "### Task 1: produce a tag-free corpus\n",
    "\n",
    "For this task, you have two jobs. \n",
    "* First, you need to write a function to filter out all tags. \n",
    "* Second, Make sure your code works for both wsj.pos.gz and wsj-normalized.pos.gz\n",
    "\n",
    "####What to turn in\n",
    "* your code\n",
    "* some samples to show me that your code works as it should be"
   ]
  },
  {
   "cell_type": "markdown",
   "metadata": {},
   "source": [
    "### POS Filter for 'wsj.pos' and 'wsj-normalized.pos'"
   ]
  },
  {
   "cell_type": "code",
   "execution_count": 6,
   "metadata": {
    "scrolled": true
   },
   "outputs": [],
   "source": [
    "# FILE_TO_LIST - turns the wsj files into the form of the 'small_corpus'\n",
    "# to prepare it to be the input parameter of the 'tokenize()' function.\n",
    "def file_to_list(filename):\n",
    "    with open(filename, 'r') as content_file:\n",
    "        content = content_file.read()\n",
    "        no_tags = re.sub('(<[A-Z$]{2,4}>)|(/[A-Z$]{2,4})|(\\.\\s+[a-z])|(/[,$])|[\\\\,/\\'`]', '', content)\n",
    "        return re.split('\\.\\.|[\\n]',no_tags)\n",
    "    \n",
    "# NOTE: This function assumes that 'wsj.pos' and 'wsj-normalised.pos' have been unzipped."
   ]
  },
  {
   "cell_type": "markdown",
   "metadata": {},
   "source": [
    "### Demonstrate Filtering On 'wsj.pos'"
   ]
  },
  {
   "cell_type": "code",
   "execution_count": 7,
   "metadata": {},
   "outputs": [
    {
     "data": {
      "text/plain": [
       "[u'Digital Equipment Corp. reported a 32 % decline in net income on a modest revenue gain in its fiscal first quarter  causing some analysts to predict weaker results ahead than they had expected ',\n",
       " u'',\n",
       " u'Although the second-largest computer maker had prepared Wall Street for a poor quarter  analysts said they were troubled by signs of flat U.S. orders and a slowdown in the rate of gain in foreign orders ',\n",
       " u' The Maynard  Mass.  company is in a transition in which it is trying to reduce its reliance on mid-range machines and establish a presence in workstations and mainframes ',\n",
       " u'',\n",
       " u'Net for the quarter ended Sept. 30 fell to $ 150.8 million  or $ 1.20 a share  from $ 223 million  or $ 1.71 a share  a year ago ',\n",
       " u' Revenue rose 6.4 % to $ 3.13 billion from $ 2.94 billion ',\n",
       " u'',\n",
       " u'Digital said a shift in its product mix toward low-end products and strong growth in workstation sales yielded lower gross margins ',\n",
       " u' A spokesman also said margins for the company s service business narrowed somewhat because of heavy investments made in that sector ']"
      ]
     },
     "execution_count": 7,
     "metadata": {},
     "output_type": "execute_result"
    }
   ],
   "source": [
    "# Top 10 values of 'wsj.pos'\n",
    "wsj_filtered = file_to_list('wsj.pos')\n",
    "wsj_filtered[:10]"
   ]
  },
  {
   "cell_type": "markdown",
   "metadata": {},
   "source": [
    "### Demonstrate Filtering On 'wsj-normalized.pos'"
   ]
  },
  {
   "cell_type": "code",
   "execution_count": 8,
   "metadata": {},
   "outputs": [
    {
     "data": {
      "text/plain": [
       "[u'   reported a  % decline in net income on a modest revenue gain in its fiscal first quarter  causing some analysts to predict weaker results ahead than they had expected ',\n",
       " u'',\n",
       " u'Although the second-largest computer maker had prepared   for a poor quarter  analysts said they were troubled by signs of flat  orders and a slowdown in the rate of gain in foreign orders ',\n",
       " u' The     company is in a transition in which it is trying to reduce its reliance on mid-range machines and establish a presence in workstations and mainframes ',\n",
       " u'',\n",
       " u'Net for the quarter ended   fell to $    or $  a share  from $    or $  a share  a year ago ',\n",
       " u' Revenue rose  % to $   from $   ',\n",
       " u'',\n",
       " u'Digital said a shift in its product mix toward low-end products and strong growth in workstation sales yielded lower gross margins ',\n",
       " u' A spokesman also said margins for the company s service business narrowed somewhat because of heavy investments made in that sector ']"
      ]
     },
     "execution_count": 8,
     "metadata": {},
     "output_type": "execute_result"
    }
   ],
   "source": [
    "# Top 10 values of 'wsj-normalized.pos'\n",
    "wsj_normalized_filtered = file_to_list('wsj-normalized.pos')\n",
    "wsj_normalized_filtered[:10]"
   ]
  },
  {
   "cell_type": "markdown",
   "metadata": {},
   "source": [
    "<font color=\"red\">Self assessment:</font>"
   ]
  },
  {
   "cell_type": "markdown",
   "metadata": {},
   "source": [
    "### Maximum Likelihood\n",
    "Now, start by producing code to compute maximum-likelihood estimate probabilities. Your code should be configurable with respect to the n-gram order- i.e., you should be able to set it to compute bigram, trigram, 4-gram, etc. probabilities. Refer to J&M and the lecture slides for definitions as needed. If you would like to write your own n-gram tokenization code, feel free to do so, but you may also use the ngrams.py utility class which contains a routine to take a list of tokens and produce a stream of n-grams with appropriate padding for the start and end of sentences.\n",
    "\n",
    "#### Tip: \n",
    "* Start with a very small \"toy\" corpus of just a couple of sentences for debugging. \n",
    "\n",
    "* As discussed in class, I strongly recommend using nested defaultdicts as the foundational data structure for your language model, where the \"outer\" key is the prefix, and the value retrieved by that prefix is a second defaultdict  containing possible suffices for that prefix, each of which is an \"inner\" key. E.g., p(\"TRUTHS\" | \"HOLD THESE\") would be retrieved by first looking up \"HOLD THESE\" and then from the resulting dictionary, looking up \"TRUTHS\": prob = trigrams[(\"HOLD\",\"THESE\")][\"TRUTHS\"] . Note that this arrangement makes it very easy to e.g. find out the number of times a given history occurs, the total probability mass assigned to all of a history's continuations, etc., all of which will be extremely helpful in the next part of the assignment.\n",
    "\n",
    "* Use tuples to represent prefixes. E.g., instead of the string \"HOLD THESE\", use the tuple (\"HOLD\", \"THESE\"). Note that, in Python, lists are mutable, and therefore may not be used as keys in dictionaries- but tuples are immutable, and so make excellent keys.\n",
    "\n",
    "* Don't forget about numerical underflow issues! You'll want to represent probabilities as negative base-2 log probabilities, and modify your arithmetic accordingly. I recommend experimenting with [the bitweight Python library](https://github.com/stevenbedrick/bitweight) (see its unit tests for example usage).\n",
    "* \n",
    "\n",
    "#### What to turn in:\n",
    "* your code \n",
    "* use your code to create a simple language model for small_corpus named as small_lm and show me that your output is correct(This is a small coupus so you could manully calculate the probalility).\n",
    "* use your code to create language model for wsj.pos.gz named as wsj_lm"
   ]
  },
  {
   "cell_type": "markdown",
   "metadata": {},
   "source": [
    "### Simple Counting, Maximum Likelihood and Utility Functions"
   ]
  },
  {
   "cell_type": "code",
   "execution_count": 9,
   "metadata": {},
   "outputs": [],
   "source": [
    "# TOKENIZE - converts lists of sentences, like in the small_corpus\n",
    "# to list of list of tokens. All of the other functions will require\n",
    "# their parameters in the form of the outupt of the tokenize function.\n",
    "def tokenize(corpus):\n",
    "    tokens = [sentence.split(' ') for sentence in corpus]\n",
    "    return tokens\n",
    "\n",
    "\n",
    "# COUNT_BUILDER - generates count models where 'corpus' is in \n",
    "# the form output by 'tokenize()'. Order is the 'n' in n-gram.\n",
    "def count_builder(corpus, order):\n",
    "    \n",
    "    #ngram\n",
    "    ng = ngrams(corpus, order)\n",
    "\n",
    "    # describe model datatype\n",
    "    model = defaultdict(lambda: defaultdict(lambda: 0))\n",
    "    \n",
    "    # loop to build embedded defaultdict    \n",
    "    for gram in ng: \n",
    "        if not gram[1] in model[gram[0]]:\n",
    "            model[gram[0]][gram[1]] = 1\n",
    "        else:\n",
    "            model[gram[0]][gram[1]] += 1\n",
    "\n",
    "    # Count Model\n",
    "    return model\n",
    "\n",
    "\n",
    "# MAX_LIKELIHOOD - converts a count model into its MLE form.\n",
    "# 'count_model' is in the form output by 'count_builder()'\n",
    "def max_likelihood(count_model):\n",
    "    \n",
    "    # Container for MLE model with BitWeight probabilities\n",
    "    # Returns 0 for unseen values.\n",
    "    model = defaultdict(lambda: defaultdict(lambda: BitWeight(0)))\n",
    "    \n",
    "    # for prefixes in model...\n",
    "    for prefix, suffix_dict in count_model.iteritems():\n",
    "        w_minus = BitWeight(0) # used to count total tokens\n",
    "        \n",
    "        # for words with hist prefix ...\n",
    "        for suffix, count in suffix_dict.iteritems():\n",
    "            w_minus += BitWeight(count) # add to total number of tokens\n",
    "        \n",
    "        # again, for words with hist prefix ...\n",
    "        for suffix, count in suffix_dict.iteritems():\n",
    "            model[prefix][suffix] = BitWeight.__itruediv__(BitWeight(count),w_minus) # set output probabilities\n",
    "    \n",
    "    # MLE Probabilities\n",
    "    return model\n",
    "\n",
    "\n",
    "# MODEL_PRINTER: Utility to print models with 'BitWeight' values\n",
    "def model_printer(model):\n",
    "    for prefix, suffix_dict in model.iteritems():\n",
    "        for suffix, value in suffix_dict.iteritems():\n",
    "            print(prefix, \" : \", suffix, \" : \", value.real())\n"
   ]
  },
  {
   "cell_type": "markdown",
   "metadata": {},
   "source": [
    "### Demonstrate MLE Model Build on 'small_corpus'"
   ]
  },
  {
   "cell_type": "code",
   "execution_count": 10,
   "metadata": {},
   "outputs": [
    {
     "name": "stdout",
     "output_type": "stream",
     "text": [
      "(u'examples',)  :  </S_0>  :  1.0\n",
      "(u'few',)  :  tokens  :  0.5\n",
      "(u'few',)  :  other  :  0.5\n",
      "(u'in',)  :  example  :  1.0\n",
      "(u'We',)  :  never  :  1.0\n",
      "(u'Why',)  :  dont  :  1.0\n",
      "(u'end',)  :  there  :  1.0\n",
      "(u'start',)  :  with  :  0.75\n",
      "(u'start',)  :  here  :  0.25\n",
      "(u'other',)  :  examples  :  1.0\n",
      "(u'here',)  :  </S_0>  :  1.0\n",
      "(u'words',)  :  that  :  1.0\n",
      "(u'an',)  :  example  :  1.0\n",
      "(u'we',)  :  start  :  0.666666666667\n",
      "(u'we',)  :  end  :  0.333333333333\n",
      "(u'dont',)  :  we  :  1.0\n",
      "(u'there',)  :  </S_0>  :  1.0\n",
      "('<S_0>',)  :  Tokens  :  0.2\n",
      "('<S_0>',)  :  We  :  0.2\n",
      "('<S_0>',)  :  Let  :  0.2\n",
      "('<S_0>',)  :  Why  :  0.4\n",
      "(u'so',)  :  few  :  1.0\n",
      "(u'us',)  :  start  :  1.0\n",
      "(u'a',)  :  few  :  1.0\n",
      "(u'example',)  :  docs  :  0.5\n",
      "(u'example',)  :  with  :  0.5\n",
      "(u'docs',)  :  </S_0>  :  1.0\n",
      "(u'Tokens',)  :  can  :  1.0\n",
      "(u'never',)  :  start  :  1.0\n",
      "(u'Let',)  :  us  :  1.0\n",
      "(u'can',)  :  be  :  1.0\n",
      "(u'be',)  :  words  :  1.0\n",
      "(u'with',)  :  a  :  0.25\n",
      "(u'with',)  :  an  :  0.25\n",
      "(u'with',)  :  so  :  0.25\n",
      "(u'with',)  :  in  :  0.25\n",
      "(u'tokens',)  :  </S_0>  :  1.0\n",
      "(u'that',)  :  we  :  1.0\n",
      "\n",
      "\n",
      "\n"
     ]
    }
   ],
   "source": [
    "# Create a trigram MLE language model for 'small_corpus' and show result\n",
    "small_tokens = tokenize(small_corpus)\n",
    "small_count = count_builder(small_tokens, 2)\n",
    "small_lm = max_likelihood(small_count)\n",
    "model_printer(small_lm)\n",
    "print('\\n\\n')\n"
   ]
  },
  {
   "cell_type": "markdown",
   "metadata": {},
   "source": [
    "### Demonstrate MLE Model Build on 'wsj.pos'"
   ]
  },
  {
   "cell_type": "code",
   "execution_count": 87,
   "metadata": {},
   "outputs": [
    {
     "name": "stdout",
     "output_type": "stream",
     "text": [
      "(u'have', u'made')  :    :  0.0434782608696\n",
      "(u'have', u'made')  :  some  :  0.0434782608696\n",
      "(u'have', u'made')  :  it  :  0.130434782609\n",
      "(u'have', u'made')  :  trading  :  0.0217391304348\n",
      "(u'have', u'made')  :  use  :  0.0434782608696\n",
      "(u'have', u'made')  :  for  :  0.0217391304348\n",
      "(u'have', u'made')  :  no  :  0.0652173913043\n",
      "(u'have', u'made')  :  leveraged  :  0.0217391304348\n",
      "(u'have', u'made')  :  their  :  0.0434782608696\n",
      "(u'have', u'made')  :  much  :  0.0217391304348\n",
      "(u'have', u'made')  :  China  :  0.0217391304348\n",
      "(u'have', u'made')  :  health  :  0.0217391304348\n",
      "(u'have', u'made')  :  available  :  0.0217391304348\n",
      "(u'have', u'made')  :  them  :  0.0217391304348\n",
      "(u'have', u'made')  :  his  :  0.0217391304348\n",
      "(u'have', u'made')  :  big  :  0.0217391304348\n",
      "(u'have', u'made')  :  metrics  :  0.0217391304348\n",
      "(u'have', u'made')  :  nearly  :  0.0217391304348\n",
      "(u'have', u'made')  :  excellent  :  0.0217391304348\n",
      "(u'have', u'made')  :  such  :  0.0217391304348\n",
      "(u'have', u'made')  :  him  :  0.0217391304348\n",
      "(u'have', u'made')  :  a  :  0.152173913043\n",
      "(u'have', u'made')  :  the  :  0.152173913043\n",
      "(u'love', u'--:')  :  and  :  1.0\n",
      "(u'webs', u'of')  :  cross-shareholdings  :  1.0\n",
      "(u'a', u'picture-postcard')  :  vista  :  1.0\n",
      "(u'on', u'atmospheric')  :  pollution  :  1.0\n",
      "(u'strike', u'last')  :  month  :  1.0\n",
      "(u'selloff', u'followed')  :  by  :  1.0\n",
      "(u'small', u'account')  :    :  1.0\n",
      "(u'Partly', u'because')  :  of  :  0.75\n",
      "(u'Partly', u'because')  :  the  :  0.25\n",
      "(u'Chicago', u'businessman')  :  William  :  0.5\n",
      "(u'Chicago', u'businessman')  :  Sam  :  0.5\n"
     ]
    }
   ],
   "source": [
    "# Create trigram MLE language model for 'wsj.pos' and show subset\n",
    "wsj_tokens = tokenize(wsj_filtered)\n",
    "wsj_count = count_builder(wsj_tokens, 3)\n",
    "wsj_lm = max_likelihood(wsj_count)\n",
    "\n",
    "# grab 10 keys\n",
    "top_keys = wsj_lm.keys()[:10]\n",
    "\n",
    "# subset of language model\n",
    "sub_wsj = defaultdict(lambda: defaultdict(lambda: BitWeight(0)))\n",
    "for key in top_keys: sub_wsj[key] = wsj_lm[key]\n",
    "                      \n",
    "# print subsample of wsj_model\n",
    "model_printer(sub_wsj)\n"
   ]
  },
  {
   "cell_type": "markdown",
   "metadata": {},
   "source": [
    "<font color=\"red\">Self assessment:</font>"
   ]
  },
  {
   "cell_type": "markdown",
   "metadata": {},
   "source": [
    "### Smoothing\n",
    "\n",
    "Once you’ve got an unsmoothed model working, move on to implementing Witten-Bell smoothing. Refer to the slides and J&M for details on how that ought to work.\n",
    "\n",
    "#### Tip: \n",
    "* You can modify an already-populated defaultdict to change its default value (for example, to store a default backoff value for a particular history) by changing the object’s default_factory attribute. Consult the documentation for examples of how this works.\n",
    "* As defined, W-B smoothing is highly recursive; you may find it more efficient to re-frame the algorithm in iterative terms.\n",
    "* As in the previous section, start small.\n",
    "* [This may offer you some help on how to implement Witten-Bell smoothing](http://www.ee.columbia.edu/~stanchen/e6884/labs/lab3/x207.html)\n",
    "\n",
    "\n",
    "#### What to turn in:\n",
    "* your code \n",
    "* use your code to create a simple smoothed language model based on small_lm  and show me that your output is correct(This is a small coupus so you could manully calculate the probalility).\n",
    "* use your code to create a smoothed language model based on wsj_lm"
   ]
  },
  {
   "cell_type": "markdown",
   "metadata": {},
   "source": [
    "### Whitten-Bell Ngram Model Builder Functions"
   ]
  },
  {
   "cell_type": "code",
   "execution_count": 73,
   "metadata": {},
   "outputs": [],
   "source": [
    "# build list of counts from order of grams\n",
    "def count_list_builder(corpus, order):\n",
    "    \n",
    "    # holds count models of each order\n",
    "    count_list = []\n",
    "    \n",
    "    # tokenize the corpus\n",
    "    tokens = tokenize(corpus)\n",
    "    \n",
    "    # for each order, add count model to count list\n",
    "    for n in range(order):\n",
    "        count_list.append(count_builder(tokens, n+1))\n",
    "        \n",
    "    # return the count list for use in the calc wb function\n",
    "    return count_list\n",
    "    \n",
    "# take input list of counts and calculate wb\n",
    "def calculate_wb(prefix, suffix, count_list):\n",
    "    \n",
    "    # unigram calculations\n",
    "    ch = BitWeight(sum(count_list[0][()].values()))\n",
    "    N_one = BitWeight(len(count_list[0][()].keys()))\n",
    "    lam = BitWeight.__truediv__(ch,(ch+N_one))\n",
    "    one_min_lam = BitWeight.__truediv__(N_one,(ch+N_one))\n",
    "    \n",
    "    # unigram maximum likelihood\n",
    "    Pmle = BitWeight.__truediv__(BitWeight(count_list[0][()][suffix]), ch)\n",
    "    \n",
    "    # unigram witten bell probability\n",
    "    pb = (lam * Pmle) + BitWeight.__truediv__(BitWeight(1),(ch+N_one))\n",
    "\n",
    "    \n",
    "    # if order is greater than 1 get values from other \n",
    "    for x in range(1,len(prefix)+1):\n",
    "        #print(\"inside\")\n",
    "        ch = BitWeight(sum(count_list[x][prefix[-x:]].values()))\n",
    "        N_one = BitWeight(len(count_list[x][prefix[-x:]].keys()))\n",
    "\n",
    "        lam = BitWeight.__truediv__(ch,(ch+N_one))\n",
    "        one_min_lam = BitWeight.__truediv__(N_one,(ch+N_one))\n",
    "        \n",
    "        Pmle = BitWeight.__truediv__(BitWeight(count_list[x][prefix[-x:]][suffix]), ch)\n",
    "        \n",
    "        pb += (lam*Pmle) + (one_min_lam*pb)\n",
    "    \n",
    "    return pb\n",
    "\n",
    "def wb_model_builder(corpus, order):\n",
    "    wb_model = defaultdict(lambda: defaultdict(lambda: BitWeight))\n",
    "    counts = count_list_builder(corpus, order)\n",
    "    for prefix, suffix_dict in counts[len(counts)-1].iteritems():\n",
    "        for suffix, value in suffix_dict.iteritems():\n",
    "            wb_model[prefix][suffix] = calculate_wb(prefix,suffix,counts)\n",
    "    return wb_model"
   ]
  },
  {
   "cell_type": "code",
   "execution_count": 28,
   "metadata": {},
   "outputs": [
    {
     "ename": "NameError",
     "evalue": "name 'x' is not defined",
     "output_type": "error",
     "traceback": [
      "\u001b[0;31m---------------------------------------------------------------------------\u001b[0m",
      "\u001b[0;31mNameError\u001b[0m                                 Traceback (most recent call last)",
      "\u001b[0;32m<ipython-input-28-50cfe4fa4f4e>\u001b[0m in \u001b[0;36m<module>\u001b[0;34m()\u001b[0m\n\u001b[0;32m----> 1\u001b[0;31m \u001b[0mcalculate_wb\u001b[0m\u001b[0;34m(\u001b[0m\u001b[0;34m(\u001b[0m\u001b[0;34m)\u001b[0m\u001b[0;34m,\u001b[0m\u001b[0;34m\"limited\"\u001b[0m\u001b[0;34m,\u001b[0m\u001b[0mx\u001b[0m\u001b[0;34m)\u001b[0m\u001b[0;34m\u001b[0m\u001b[0m\n\u001b[0m",
      "\u001b[0;31mNameError\u001b[0m: name 'x' is not defined"
     ]
    }
   ],
   "source": [
    "calculate_wb((),\"limited\",x)"
   ]
  },
  {
   "cell_type": "markdown",
   "metadata": {},
   "source": [
    "### Demonstrate WB Model Build on 'small_corpus'"
   ]
  },
  {
   "cell_type": "code",
   "execution_count": 72,
   "metadata": {},
   "outputs": [
    {
     "ename": "IndexError",
     "evalue": "list index out of range",
     "output_type": "error",
     "traceback": [
      "\u001b[0;31m---------------------------------------------------------------------------\u001b[0m",
      "\u001b[0;31mIndexError\u001b[0m                                Traceback (most recent call last)",
      "\u001b[0;32m<ipython-input-72-14a0c894e9d3>\u001b[0m in \u001b[0;36m<module>\u001b[0;34m()\u001b[0m\n\u001b[1;32m      1\u001b[0m \u001b[0;31m# Create a trigram Witten-Bell language model for 'small_corpus' and show result\u001b[0m\u001b[0;34m\u001b[0m\u001b[0;34m\u001b[0m\u001b[0m\n\u001b[0;32m----> 2\u001b[0;31m \u001b[0msmall_wb_lm\u001b[0m \u001b[0;34m=\u001b[0m \u001b[0mwb_model_builder\u001b[0m\u001b[0;34m(\u001b[0m\u001b[0msmall_corpus\u001b[0m\u001b[0;34m,\u001b[0m \u001b[0;36m2\u001b[0m\u001b[0;34m)\u001b[0m\u001b[0;34m\u001b[0m\u001b[0m\n\u001b[0m\u001b[1;32m      3\u001b[0m \u001b[0mmodel_printer\u001b[0m\u001b[0;34m(\u001b[0m\u001b[0msmall_wb_lm\u001b[0m\u001b[0;34m)\u001b[0m\u001b[0;34m\u001b[0m\u001b[0m\n",
      "\u001b[0;32m<ipython-input-71-f580921fde83>\u001b[0m in \u001b[0;36mwb_model_builder\u001b[0;34m(corpus, order)\u001b[0m\n\u001b[1;32m     51\u001b[0m     \u001b[0;32mfor\u001b[0m \u001b[0mprefix\u001b[0m\u001b[0;34m,\u001b[0m \u001b[0msuffix_dict\u001b[0m \u001b[0;32min\u001b[0m \u001b[0mcounts\u001b[0m\u001b[0;34m[\u001b[0m\u001b[0mlen\u001b[0m\u001b[0;34m(\u001b[0m\u001b[0mcounts\u001b[0m\u001b[0;34m)\u001b[0m\u001b[0;34m-\u001b[0m\u001b[0;36m1\u001b[0m\u001b[0;34m]\u001b[0m\u001b[0;34m.\u001b[0m\u001b[0miteritems\u001b[0m\u001b[0;34m(\u001b[0m\u001b[0;34m)\u001b[0m\u001b[0;34m:\u001b[0m\u001b[0;34m\u001b[0m\u001b[0m\n\u001b[1;32m     52\u001b[0m         \u001b[0;32mfor\u001b[0m \u001b[0msuffix\u001b[0m\u001b[0;34m,\u001b[0m \u001b[0mvalue\u001b[0m \u001b[0;32min\u001b[0m \u001b[0msuffix_dict\u001b[0m\u001b[0;34m.\u001b[0m\u001b[0miteritems\u001b[0m\u001b[0;34m(\u001b[0m\u001b[0;34m)\u001b[0m\u001b[0;34m:\u001b[0m\u001b[0;34m\u001b[0m\u001b[0m\n\u001b[0;32m---> 53\u001b[0;31m             \u001b[0mwb_model\u001b[0m\u001b[0;34m[\u001b[0m\u001b[0mprefix\u001b[0m\u001b[0;34m]\u001b[0m\u001b[0;34m[\u001b[0m\u001b[0msuffix\u001b[0m\u001b[0;34m]\u001b[0m \u001b[0;34m=\u001b[0m \u001b[0mcalculate_wb\u001b[0m\u001b[0;34m(\u001b[0m\u001b[0mprefix\u001b[0m\u001b[0;34m,\u001b[0m\u001b[0msuffix\u001b[0m\u001b[0;34m,\u001b[0m\u001b[0mcounts\u001b[0m\u001b[0;34m)\u001b[0m\u001b[0;34m\u001b[0m\u001b[0m\n\u001b[0m\u001b[1;32m     54\u001b[0m     \u001b[0;32mreturn\u001b[0m \u001b[0mwb_model\u001b[0m\u001b[0;34m\u001b[0m\u001b[0m\n",
      "\u001b[0;32m<ipython-input-71-f580921fde83>\u001b[0m in \u001b[0;36mcalculate_wb\u001b[0;34m(prefix, suffix, count_list)\u001b[0m\n\u001b[1;32m     34\u001b[0m     \u001b[0;32mfor\u001b[0m \u001b[0mx\u001b[0m \u001b[0;32min\u001b[0m \u001b[0mrange\u001b[0m\u001b[0;34m(\u001b[0m\u001b[0;36m1\u001b[0m\u001b[0;34m,\u001b[0m\u001b[0mlen\u001b[0m\u001b[0;34m(\u001b[0m\u001b[0mprefix\u001b[0m\u001b[0;34m)\u001b[0m\u001b[0;34m+\u001b[0m\u001b[0;36m3\u001b[0m\u001b[0;34m)\u001b[0m\u001b[0;34m:\u001b[0m\u001b[0;34m\u001b[0m\u001b[0m\n\u001b[1;32m     35\u001b[0m         \u001b[0;31m#print(\"inside\")\u001b[0m\u001b[0;34m\u001b[0m\u001b[0;34m\u001b[0m\u001b[0m\n\u001b[0;32m---> 36\u001b[0;31m         \u001b[0mch\u001b[0m \u001b[0;34m=\u001b[0m \u001b[0mBitWeight\u001b[0m\u001b[0;34m(\u001b[0m\u001b[0msum\u001b[0m\u001b[0;34m(\u001b[0m\u001b[0mcount_list\u001b[0m\u001b[0;34m[\u001b[0m\u001b[0mx\u001b[0m\u001b[0;34m]\u001b[0m\u001b[0;34m[\u001b[0m\u001b[0mprefix\u001b[0m\u001b[0;34m[\u001b[0m\u001b[0;34m-\u001b[0m\u001b[0mx\u001b[0m\u001b[0;34m:\u001b[0m\u001b[0;34m]\u001b[0m\u001b[0;34m]\u001b[0m\u001b[0;34m.\u001b[0m\u001b[0mvalues\u001b[0m\u001b[0;34m(\u001b[0m\u001b[0;34m)\u001b[0m\u001b[0;34m)\u001b[0m\u001b[0;34m)\u001b[0m\u001b[0;34m\u001b[0m\u001b[0m\n\u001b[0m\u001b[1;32m     37\u001b[0m         \u001b[0mN_one\u001b[0m \u001b[0;34m=\u001b[0m \u001b[0mBitWeight\u001b[0m\u001b[0;34m(\u001b[0m\u001b[0mlen\u001b[0m\u001b[0;34m(\u001b[0m\u001b[0mcount_list\u001b[0m\u001b[0;34m[\u001b[0m\u001b[0mx\u001b[0m\u001b[0;34m]\u001b[0m\u001b[0;34m[\u001b[0m\u001b[0mprefix\u001b[0m\u001b[0;34m[\u001b[0m\u001b[0;34m-\u001b[0m\u001b[0mx\u001b[0m\u001b[0;34m:\u001b[0m\u001b[0;34m]\u001b[0m\u001b[0;34m]\u001b[0m\u001b[0;34m.\u001b[0m\u001b[0mkeys\u001b[0m\u001b[0;34m(\u001b[0m\u001b[0;34m)\u001b[0m\u001b[0;34m)\u001b[0m\u001b[0;34m)\u001b[0m\u001b[0;34m\u001b[0m\u001b[0m\n\u001b[1;32m     38\u001b[0m \u001b[0;34m\u001b[0m\u001b[0m\n",
      "\u001b[0;31mIndexError\u001b[0m: list index out of range"
     ]
    }
   ],
   "source": [
    "# Create a trigram Witten-Bell language model for 'small_corpus' and show result\n",
    "small_wb_lm = wb_model_builder(small_corpus, 2)\n",
    "model_printer(small_wb_lm)"
   ]
  },
  {
   "cell_type": "markdown",
   "metadata": {},
   "source": [
    "### Demonstrate WB Model Build on 'wsj.pos'"
   ]
  },
  {
   "cell_type": "code",
   "execution_count": 42,
   "metadata": {},
   "outputs": [],
   "source": [
    "# Create trigram Witten-Bell language model for 'wsj.pos' and show subset\n",
    "wsj_wb_lm = wb_model_builder(tl[:3000], 2)\n",
    "\n",
    "# grab 10 keys\n",
    "top_keys = wsj_wb_lm.keys()[:50]\n",
    "\n",
    "# subset of language model\n",
    "sub_wsj_wb = defaultdict(lambda: defaultdict(lambda: BitWeight(0)))\n",
    "for key in top_keys: sub_wsj_wb[key] = wsj_wb_lm[key]\n",
    "                      \n",
    "# print subsample of wsj_wb_model\n",
    "#model_printer(sub_wsj_wb)"
   ]
  },
  {
   "cell_type": "code",
   "execution_count": 57,
   "metadata": {},
   "outputs": [
    {
     "ename": "TypeError",
     "evalue": "can only concatenate list (not \"unicode\") to list",
     "output_type": "error",
     "traceback": [
      "\u001b[0;31m---------------------------------------------------------------------------\u001b[0m",
      "\u001b[0;31mTypeError\u001b[0m                                 Traceback (most recent call last)",
      "\u001b[0;32m<ipython-input-57-833bae4886f0>\u001b[0m in \u001b[0;36m<module>\u001b[0;34m()\u001b[0m\n\u001b[1;32m      1\u001b[0m \u001b[0mdata\u001b[0m \u001b[0;34m=\u001b[0m \u001b[0mfile_to_list\u001b[0m\u001b[0;34m(\u001b[0m\u001b[0;34m'wsj.pos'\u001b[0m\u001b[0;34m)\u001b[0m\u001b[0;34m\u001b[0m\u001b[0m\n\u001b[0;32m----> 2\u001b[0;31m \u001b[0mm\u001b[0m \u001b[0;34m=\u001b[0m \u001b[0mcount_builder\u001b[0m\u001b[0;34m(\u001b[0m\u001b[0mdata\u001b[0m\u001b[0;34m[\u001b[0m\u001b[0;34m:\u001b[0m\u001b[0;36m1000\u001b[0m\u001b[0;34m]\u001b[0m\u001b[0;34m,\u001b[0m\u001b[0;36m2\u001b[0m\u001b[0;34m)\u001b[0m\u001b[0;34m\u001b[0m\u001b[0m\n\u001b[0m\u001b[1;32m      3\u001b[0m \u001b[0mcalculate_wb\u001b[0m\u001b[0;34m(\u001b[0m\u001b[0;34m(\u001b[0m\u001b[0;34mu'that'\u001b[0m\u001b[0;34m)\u001b[0m\u001b[0;34m,\u001b[0m\u001b[0;34mu'we'\u001b[0m\u001b[0;34m,\u001b[0m\u001b[0mm\u001b[0m\u001b[0;34m)\u001b[0m\u001b[0;34m\u001b[0m\u001b[0m\n",
      "\u001b[0;32m<ipython-input-9-28f468b8d262>\u001b[0m in \u001b[0;36mcount_builder\u001b[0;34m(corpus, order)\u001b[0m\n\u001b[1;32m     18\u001b[0m \u001b[0;34m\u001b[0m\u001b[0m\n\u001b[1;32m     19\u001b[0m     \u001b[0;31m# loop to build embedded defaultdict\u001b[0m\u001b[0;34m\u001b[0m\u001b[0;34m\u001b[0m\u001b[0m\n\u001b[0;32m---> 20\u001b[0;31m     \u001b[0;32mfor\u001b[0m \u001b[0mgram\u001b[0m \u001b[0;32min\u001b[0m \u001b[0mng\u001b[0m\u001b[0;34m:\u001b[0m\u001b[0;34m\u001b[0m\u001b[0m\n\u001b[0m\u001b[1;32m     21\u001b[0m         \u001b[0;32mif\u001b[0m \u001b[0;32mnot\u001b[0m \u001b[0mgram\u001b[0m\u001b[0;34m[\u001b[0m\u001b[0;36m1\u001b[0m\u001b[0;34m]\u001b[0m \u001b[0;32min\u001b[0m \u001b[0mmodel\u001b[0m\u001b[0;34m[\u001b[0m\u001b[0mgram\u001b[0m\u001b[0;34m[\u001b[0m\u001b[0;36m0\u001b[0m\u001b[0;34m]\u001b[0m\u001b[0;34m]\u001b[0m\u001b[0;34m:\u001b[0m\u001b[0;34m\u001b[0m\u001b[0m\n\u001b[1;32m     22\u001b[0m             \u001b[0mmodel\u001b[0m\u001b[0;34m[\u001b[0m\u001b[0mgram\u001b[0m\u001b[0;34m[\u001b[0m\u001b[0;36m0\u001b[0m\u001b[0;34m]\u001b[0m\u001b[0;34m]\u001b[0m\u001b[0;34m[\u001b[0m\u001b[0mgram\u001b[0m\u001b[0;34m[\u001b[0m\u001b[0;36m1\u001b[0m\u001b[0;34m]\u001b[0m\u001b[0;34m]\u001b[0m \u001b[0;34m=\u001b[0m \u001b[0;36m1\u001b[0m\u001b[0;34m\u001b[0m\u001b[0m\n",
      "\u001b[0;32m/Users/Eric/Desktop/OHSU/OHSU_Fall_2018/CS555/HW3/ngrams.pyc\u001b[0m in \u001b[0;36mngrams\u001b[0;34m(corpus, order)\u001b[0m\n\u001b[1;32m     39\u001b[0m     \u001b[0mright_pad\u001b[0m \u001b[0;34m=\u001b[0m \u001b[0;34m[\u001b[0m\u001b[0;34m'</S_{}>'\u001b[0m\u001b[0;34m.\u001b[0m\u001b[0mformat\u001b[0m\u001b[0;34m(\u001b[0m\u001b[0mi\u001b[0m\u001b[0;34m)\u001b[0m \u001b[0;32mfor\u001b[0m \u001b[0mi\u001b[0m \u001b[0;32min\u001b[0m \u001b[0mxrange\u001b[0m\u001b[0;34m(\u001b[0m\u001b[0morder\u001b[0m \u001b[0;34m-\u001b[0m \u001b[0;36m2\u001b[0m\u001b[0;34m,\u001b[0m \u001b[0;34m-\u001b[0m\u001b[0;36m1\u001b[0m\u001b[0;34m,\u001b[0m \u001b[0;34m-\u001b[0m\u001b[0;36m1\u001b[0m\u001b[0;34m)\u001b[0m\u001b[0;34m]\u001b[0m\u001b[0;34m\u001b[0m\u001b[0m\n\u001b[1;32m     40\u001b[0m     \u001b[0;32mfor\u001b[0m \u001b[0msentence\u001b[0m \u001b[0;32min\u001b[0m \u001b[0mcorpus\u001b[0m\u001b[0;34m:\u001b[0m\u001b[0;34m\u001b[0m\u001b[0m\n\u001b[0;32m---> 41\u001b[0;31m         \u001b[0mpadded_sentence\u001b[0m \u001b[0;34m=\u001b[0m \u001b[0mleft_pad\u001b[0m \u001b[0;34m+\u001b[0m \u001b[0msentence\u001b[0m \u001b[0;34m+\u001b[0m \u001b[0mright_pad\u001b[0m\u001b[0;34m\u001b[0m\u001b[0m\n\u001b[0m\u001b[1;32m     42\u001b[0m         \u001b[0;32mfor\u001b[0m \u001b[0mi\u001b[0m \u001b[0;32min\u001b[0m \u001b[0mxrange\u001b[0m\u001b[0;34m(\u001b[0m\u001b[0mlen\u001b[0m\u001b[0;34m(\u001b[0m\u001b[0mpadded_sentence\u001b[0m\u001b[0;34m)\u001b[0m \u001b[0;34m-\u001b[0m \u001b[0morder\u001b[0m \u001b[0;34m+\u001b[0m \u001b[0;36m1\u001b[0m\u001b[0;34m)\u001b[0m\u001b[0;34m:\u001b[0m\u001b[0;34m\u001b[0m\u001b[0m\n\u001b[1;32m     43\u001b[0m             \u001b[0mprefix\u001b[0m \u001b[0;34m=\u001b[0m \u001b[0mtuple\u001b[0m\u001b[0;34m(\u001b[0m\u001b[0mpadded_sentence\u001b[0m\u001b[0;34m[\u001b[0m\u001b[0mi\u001b[0m\u001b[0;34m:\u001b[0m\u001b[0mi\u001b[0m \u001b[0;34m+\u001b[0m \u001b[0morder\u001b[0m \u001b[0;34m-\u001b[0m \u001b[0;36m1\u001b[0m\u001b[0;34m]\u001b[0m\u001b[0;34m)\u001b[0m\u001b[0;34m\u001b[0m\u001b[0m\n",
      "\u001b[0;31mTypeError\u001b[0m: can only concatenate list (not \"unicode\") to list"
     ]
    }
   ],
   "source": [
    "data = file_to_list('wsj.pos')\n",
    "m = count_builder(data[:1000],2)\n",
    "calculate_wb((u'that'),u'we',m)"
   ]
  },
  {
   "cell_type": "markdown",
   "metadata": {},
   "source": [
    "<font color=\"red\">Self assessment:</font>"
   ]
  },
  {
   "cell_type": "markdown",
   "metadata": {},
   "source": [
    "### Evaluation via Perplexity\n",
    "Explore the effects of n-gram order using perplexity. Perform ten-fold cross-validation on the WSJ corpus. On each iteration, this will give you a different 90/10 training/test split; train a smoothed language model on the 9 training sections, and compute the average per-token perplexity of the tenth section. The slides from the language modeling lecture give the equation for perplexity computation (as does J&M chapter 4); you'll need to modify the equation a bit, since we're using log-probabilities. \n",
    "\n",
    "Now, try this for unigram, bigram, trigram, and 4-gram models. \n",
    "\n",
    "#### What to turn in\n",
    "* your cross-validation function. You are not suppose to use any cross-validation function from any module. You should implement it by yourself.\n",
    "* your perplexity function\n",
    "* cross-validation result for unigram, bigram, trigram, and 4-gram models on wsj.pos.gz\n",
    "* cross-validation result for unigram, bigram, trigram, and 4-gram models on wsj-normalized.pos.gz.\n",
    "* Answer following 2 questions: \n",
    "    * How does perplexity change as the model order size increases?\n",
    "    * How does perplexity change as the data changed?"
   ]
  },
  {
   "cell_type": "markdown",
   "metadata": {},
   "source": [
    "### Functions for N Fold Cross Validation and Perplexity Calculation"
   ]
  },
  {
   "cell_type": "code",
   "execution_count": 60,
   "metadata": {},
   "outputs": [],
   "source": [
    "\n",
    "#N_FOLD: generalized n_fold cross validation\n",
    "#\n",
    "#   # INPUTS\n",
    "#   data: the dataset as a list\n",
    "#   n: number of folds\n",
    "#   scoring_function: function used to evaluate\n",
    "#   param_list: list of parameters for scoring_function\n",
    "#\n",
    "#   # OUTPUTS\n",
    "#   score_list: a list of the scores for the different test runs\n",
    "def n_fold(data, n, scoring_function, param_list):\n",
    "    print(n, \" FOLD CROSS VALIDATION\")\n",
    "    # get lenght of corpus and use it to get test set size\n",
    "    size_of_data = len(data)\n",
    "    size_of_test_set = int(size_of_data/n)\n",
    "    \n",
    "    # score list holds onto results\n",
    "    score_list = []\n",
    "    \n",
    "    ###  n folds  ##\n",
    "    for x in range(n):\n",
    "        print(\"-------  FOLD\" , x, \" ------------\")\n",
    "        # build test set and trainging set\n",
    "        test_set = data[x*size_of_test_set:(x+1)*size_of_test_set]\n",
    "        training_set = data[:x*size_of_test_set]+data[(x+1)*size_of_test_set:]        \n",
    "        \n",
    "        # evaluate\n",
    "        score = scoring_function(test_set, training_set, *param_list)\n",
    "        print(\"Score: \",score)\n",
    "        score_list.append(score)\n",
    "    \n",
    "\n",
    "    print(\"\\nMean Score: \",sum(score_list)/float(len(score_list)))\n",
    "    \n",
    "    return score_list\n",
    "\n",
    "def n_fold_on_training(data, n, scoring_function, param_list):\n",
    "    print(n,\" FOLDING ON TRAINING\")\n",
    "    # get lenght of corpus and use it to get test set size\n",
    "    size_of_data = len(data)\n",
    "    size_of_test_set = int(size_of_data/n)\n",
    "    \n",
    "    # score list holds onto results\n",
    "    score_list = []\n",
    "    \n",
    "    print(\"Starting\")\n",
    "    \n",
    "    ###  n folds  ##\n",
    "    for x in range(0,n):\n",
    "        print(\"-------  FOLD\" , x, \" ------------\")\n",
    "        # build test set and trainging set\n",
    "        test_set = data[((x+1)%10)*size_of_test_set:((x+2)%10)*size_of_test_set]\n",
    "        training_set = data[:x*size_of_test_set]+data[(x+1)*size_of_test_set:]        \n",
    "        \n",
    "        # evaluate\n",
    "        score = scoring_function(test_set, training_set, *param_list)\n",
    "        print(\"Score: \",score)\n",
    "        score_list.append(score)\n",
    "            \n",
    "    print(\"\\nMean Score: \",sum(score_list)/float(len(score_list)))  \n",
    "\n",
    "    return score_list\n",
    "\n",
    "\n"
   ]
  },
  {
   "cell_type": "code",
   "execution_count": 61,
   "metadata": {},
   "outputs": [],
   "source": [
    "def perplex(test_set, training_set, order):\n",
    "    \n",
    "    # holds the cascading product\n",
    "    PP = BitWeight(1)\n",
    "    \n",
    "    # count the number of grams\n",
    "    N = 0.0\n",
    "    \n",
    "    # build model\n",
    "    count_list = count_list_builder(training_set, order)\n",
    "    \n",
    "    # tokenize and then get the grams\n",
    "    toks = tokenize(test_set)\n",
    "    grams = ngrams(toks, order)\n",
    "    \n",
    "    # for each gram, multiply into the cascading ghrams\n",
    "    for lines in grams:\n",
    "        N += 1.0\n",
    "        PP *= calculate_wb(lines[0], lines[1], count_list)\n",
    "    \n",
    "    # return the decimal form\n",
    "    return 2**((1/N)*PP.log())"
   ]
  },
  {
   "cell_type": "markdown",
   "metadata": {},
   "source": [
    "### Whitten-Bell Perplexity 10 Fold Cross validation for 'wsj.pos'\n",
    "##### Unigram, Bigram, Trigram, and 4-gram"
   ]
  },
  {
   "cell_type": "code",
   "execution_count": 37,
   "metadata": {},
   "outputs": [
    {
     "name": "stdout",
     "output_type": "stream",
     "text": [
      "10  FOLD CROSS VALIDATION\n",
      "-------  FOLD 0  ------------\n",
      "Score:  965.033203404\n",
      "-------  FOLD 1  ------------\n",
      "Score:  1030.53236006\n",
      "-------  FOLD 2  ------------\n",
      "Score:  992.010260191\n",
      "-------  FOLD 3  ------------\n",
      "Score:  1013.64542823\n",
      "-------  FOLD 4  ------------\n",
      "Score:  992.170878986\n",
      "-------  FOLD 5  ------------\n",
      "Score:  983.736779422\n",
      "-------  FOLD 6  ------------\n",
      "Score:  961.503379617\n",
      "-------  FOLD 7  ------------\n",
      "Score:  965.316053679\n",
      "-------  FOLD 8  ------------\n",
      "Score:  1029.93735751\n",
      "-------  FOLD 9  ------------\n",
      "Score:  1051.86799403\n",
      "\n",
      "Mean Score:  998.575369513\n"
     ]
    }
   ],
   "source": [
    "# 10 Fold Cross Validation for 'wsj.pos' showing results\n",
    "# Whitten-Bell Unigram\n",
    "tl = file_to_list('wsj.pos')\n",
    "_ = n_fold(tl[:10000],10, perplex, [1])"
   ]
  },
  {
   "cell_type": "code",
   "execution_count": 62,
   "metadata": {},
   "outputs": [
    {
     "name": "stdout",
     "output_type": "stream",
     "text": [
      "10  FOLDING ON TRAINING\n",
      "Starting\n",
      "-------  FOLD 0  ------------\n",
      "Score:  27.3265146752\n",
      "-------  FOLD 1  ------------\n",
      "Score:  26.9251846692\n",
      "-------  FOLD 2  ------------\n",
      "Score:  26.0166584514\n",
      "-------  FOLD 3  ------------\n",
      "Score:  25.2006041686\n",
      "-------  FOLD 4  ------------\n",
      "Score:  27.0158645825\n",
      "-------  FOLD 5  ------------\n"
     ]
    },
    {
     "ename": "KeyboardInterrupt",
     "evalue": "",
     "output_type": "error",
     "traceback": [
      "\u001b[0;31m---------------------------------------------------------------------------\u001b[0m",
      "\u001b[0;31mKeyboardInterrupt\u001b[0m                         Traceback (most recent call last)",
      "\u001b[0;32m<ipython-input-62-f9406427d37f>\u001b[0m in \u001b[0;36m<module>\u001b[0;34m()\u001b[0m\n\u001b[1;32m      1\u001b[0m \u001b[0;31m# Whitten-Bell Biigram\u001b[0m\u001b[0;34m\u001b[0m\u001b[0;34m\u001b[0m\u001b[0m\n\u001b[0;32m----> 2\u001b[0;31m \u001b[0m_\u001b[0m \u001b[0;34m=\u001b[0m \u001b[0mn_fold_on_training\u001b[0m\u001b[0;34m(\u001b[0m\u001b[0mtl\u001b[0m\u001b[0;34m[\u001b[0m\u001b[0;34m:\u001b[0m\u001b[0;36m5000\u001b[0m\u001b[0;34m]\u001b[0m\u001b[0;34m,\u001b[0m\u001b[0;36m10\u001b[0m\u001b[0;34m,\u001b[0m \u001b[0mperplex\u001b[0m\u001b[0;34m,\u001b[0m \u001b[0;34m[\u001b[0m\u001b[0;36m2\u001b[0m\u001b[0;34m]\u001b[0m\u001b[0;34m)\u001b[0m\u001b[0;34m\u001b[0m\u001b[0m\n\u001b[0m",
      "\u001b[0;32m<ipython-input-60-3a6bbf1fafc5>\u001b[0m in \u001b[0;36mn_fold_on_training\u001b[0;34m(data, n, scoring_function, param_list)\u001b[0m\n\u001b[1;32m     55\u001b[0m \u001b[0;34m\u001b[0m\u001b[0m\n\u001b[1;32m     56\u001b[0m         \u001b[0;31m# evaluate\u001b[0m\u001b[0;34m\u001b[0m\u001b[0;34m\u001b[0m\u001b[0m\n\u001b[0;32m---> 57\u001b[0;31m         \u001b[0mscore\u001b[0m \u001b[0;34m=\u001b[0m \u001b[0mscoring_function\u001b[0m\u001b[0;34m(\u001b[0m\u001b[0mtest_set\u001b[0m\u001b[0;34m,\u001b[0m \u001b[0mtraining_set\u001b[0m\u001b[0;34m,\u001b[0m \u001b[0;34m*\u001b[0m\u001b[0mparam_list\u001b[0m\u001b[0;34m)\u001b[0m\u001b[0;34m\u001b[0m\u001b[0m\n\u001b[0m\u001b[1;32m     58\u001b[0m         \u001b[0;32mprint\u001b[0m\u001b[0;34m(\u001b[0m\u001b[0;34m\"Score: \"\u001b[0m\u001b[0;34m,\u001b[0m\u001b[0mscore\u001b[0m\u001b[0;34m)\u001b[0m\u001b[0;34m\u001b[0m\u001b[0m\n\u001b[1;32m     59\u001b[0m         \u001b[0mscore_list\u001b[0m\u001b[0;34m.\u001b[0m\u001b[0mappend\u001b[0m\u001b[0;34m(\u001b[0m\u001b[0mscore\u001b[0m\u001b[0;34m)\u001b[0m\u001b[0;34m\u001b[0m\u001b[0m\n",
      "\u001b[0;32m<ipython-input-61-1a39c2f8630f>\u001b[0m in \u001b[0;36mperplex\u001b[0;34m(test_set, training_set, order)\u001b[0m\n\u001b[1;32m     17\u001b[0m     \u001b[0;32mfor\u001b[0m \u001b[0mlines\u001b[0m \u001b[0;32min\u001b[0m \u001b[0mgrams\u001b[0m\u001b[0;34m:\u001b[0m\u001b[0;34m\u001b[0m\u001b[0m\n\u001b[1;32m     18\u001b[0m         \u001b[0mN\u001b[0m \u001b[0;34m+=\u001b[0m \u001b[0;36m1.0\u001b[0m\u001b[0;34m\u001b[0m\u001b[0m\n\u001b[0;32m---> 19\u001b[0;31m         \u001b[0mPP\u001b[0m \u001b[0;34m*=\u001b[0m \u001b[0mcalculate_wb\u001b[0m\u001b[0;34m(\u001b[0m\u001b[0mlines\u001b[0m\u001b[0;34m[\u001b[0m\u001b[0;36m0\u001b[0m\u001b[0;34m]\u001b[0m\u001b[0;34m,\u001b[0m \u001b[0mlines\u001b[0m\u001b[0;34m[\u001b[0m\u001b[0;36m1\u001b[0m\u001b[0;34m]\u001b[0m\u001b[0;34m,\u001b[0m \u001b[0mcount_list\u001b[0m\u001b[0;34m)\u001b[0m\u001b[0;34m\u001b[0m\u001b[0m\n\u001b[0m\u001b[1;32m     20\u001b[0m \u001b[0;34m\u001b[0m\u001b[0m\n\u001b[1;32m     21\u001b[0m     \u001b[0;31m# return the decimal form\u001b[0m\u001b[0;34m\u001b[0m\u001b[0;34m\u001b[0m\u001b[0m\n",
      "\u001b[0;32m<ipython-input-27-a4600372a3b1>\u001b[0m in \u001b[0;36mcalculate_wb\u001b[0;34m(prefix, suffix, count_list)\u001b[0m\n\u001b[1;32m     19\u001b[0m \u001b[0;34m\u001b[0m\u001b[0m\n\u001b[1;32m     20\u001b[0m     \u001b[0;31m# unigram calculations\u001b[0m\u001b[0;34m\u001b[0m\u001b[0;34m\u001b[0m\u001b[0m\n\u001b[0;32m---> 21\u001b[0;31m     \u001b[0mch\u001b[0m \u001b[0;34m=\u001b[0m \u001b[0mBitWeight\u001b[0m\u001b[0;34m(\u001b[0m\u001b[0msum\u001b[0m\u001b[0;34m(\u001b[0m\u001b[0mcount_list\u001b[0m\u001b[0;34m[\u001b[0m\u001b[0;36m0\u001b[0m\u001b[0;34m]\u001b[0m\u001b[0;34m[\u001b[0m\u001b[0;34m(\u001b[0m\u001b[0;34m)\u001b[0m\u001b[0;34m]\u001b[0m\u001b[0;34m.\u001b[0m\u001b[0mvalues\u001b[0m\u001b[0;34m(\u001b[0m\u001b[0;34m)\u001b[0m\u001b[0;34m)\u001b[0m\u001b[0;34m)\u001b[0m\u001b[0;34m\u001b[0m\u001b[0m\n\u001b[0m\u001b[1;32m     22\u001b[0m     \u001b[0mN_one\u001b[0m \u001b[0;34m=\u001b[0m \u001b[0mBitWeight\u001b[0m\u001b[0;34m(\u001b[0m\u001b[0mlen\u001b[0m\u001b[0;34m(\u001b[0m\u001b[0mcount_list\u001b[0m\u001b[0;34m[\u001b[0m\u001b[0;36m0\u001b[0m\u001b[0;34m]\u001b[0m\u001b[0;34m[\u001b[0m\u001b[0;34m(\u001b[0m\u001b[0;34m)\u001b[0m\u001b[0;34m]\u001b[0m\u001b[0;34m.\u001b[0m\u001b[0mkeys\u001b[0m\u001b[0;34m(\u001b[0m\u001b[0;34m)\u001b[0m\u001b[0;34m)\u001b[0m\u001b[0;34m)\u001b[0m\u001b[0;34m\u001b[0m\u001b[0m\n\u001b[1;32m     23\u001b[0m     \u001b[0mlam\u001b[0m \u001b[0;34m=\u001b[0m \u001b[0mBitWeight\u001b[0m\u001b[0;34m.\u001b[0m\u001b[0m__truediv__\u001b[0m\u001b[0;34m(\u001b[0m\u001b[0mch\u001b[0m\u001b[0;34m,\u001b[0m\u001b[0;34m(\u001b[0m\u001b[0mch\u001b[0m\u001b[0;34m+\u001b[0m\u001b[0mN_one\u001b[0m\u001b[0;34m)\u001b[0m\u001b[0;34m)\u001b[0m\u001b[0;34m\u001b[0m\u001b[0m\n",
      "\u001b[0;31mKeyboardInterrupt\u001b[0m: "
     ]
    }
   ],
   "source": [
    "# Whitten-Bell Biigram\n",
    "_ = n_fold_on_training(tl[:5000],10, perplex, [2])"
   ]
  },
  {
   "cell_type": "code",
   "execution_count": 63,
   "metadata": {},
   "outputs": [
    {
     "name": "stdout",
     "output_type": "stream",
     "text": [
      "10  FOLDING ON TRAINING\n",
      "Starting\n",
      "-------  FOLD 0  ------------\n",
      "Score:  3.64763441887\n",
      "-------  FOLD 1  ------------\n",
      "Score:  3.7169044152\n",
      "-------  FOLD 2  ------------\n",
      "Score:  3.67497969974\n",
      "-------  FOLD 3  ------------\n",
      "Score:  3.70604527245\n",
      "-------  FOLD 4  ------------\n",
      "Score:  3.75259675846\n",
      "-------  FOLD 5  ------------\n",
      "Score:  3.7102204507\n",
      "-------  FOLD 6  ------------\n",
      "Score:  3.76444966694\n",
      "-------  FOLD 7  ------------\n"
     ]
    },
    {
     "ename": "KeyboardInterrupt",
     "evalue": "",
     "output_type": "error",
     "traceback": [
      "\u001b[0;31m---------------------------------------------------------------------------\u001b[0m",
      "\u001b[0;31mKeyboardInterrupt\u001b[0m                         Traceback (most recent call last)",
      "\u001b[0;32m<ipython-input-63-b592176664bc>\u001b[0m in \u001b[0;36m<module>\u001b[0;34m()\u001b[0m\n\u001b[1;32m      1\u001b[0m \u001b[0;31m# Whitten-Bell Trigram\u001b[0m\u001b[0;34m\u001b[0m\u001b[0;34m\u001b[0m\u001b[0m\n\u001b[0;32m----> 2\u001b[0;31m \u001b[0m_\u001b[0m \u001b[0;34m=\u001b[0m \u001b[0mn_fold_on_training\u001b[0m\u001b[0;34m(\u001b[0m\u001b[0mtl\u001b[0m\u001b[0;34m[\u001b[0m\u001b[0;34m:\u001b[0m\u001b[0;36m10000\u001b[0m\u001b[0;34m]\u001b[0m\u001b[0;34m,\u001b[0m\u001b[0;36m10\u001b[0m\u001b[0;34m,\u001b[0m \u001b[0mperplex\u001b[0m\u001b[0;34m,\u001b[0m \u001b[0;34m[\u001b[0m\u001b[0;36m3\u001b[0m\u001b[0;34m]\u001b[0m\u001b[0;34m)\u001b[0m\u001b[0;34m\u001b[0m\u001b[0m\n\u001b[0m",
      "\u001b[0;32m<ipython-input-60-3a6bbf1fafc5>\u001b[0m in \u001b[0;36mn_fold_on_training\u001b[0;34m(data, n, scoring_function, param_list)\u001b[0m\n\u001b[1;32m     55\u001b[0m \u001b[0;34m\u001b[0m\u001b[0m\n\u001b[1;32m     56\u001b[0m         \u001b[0;31m# evaluate\u001b[0m\u001b[0;34m\u001b[0m\u001b[0;34m\u001b[0m\u001b[0m\n\u001b[0;32m---> 57\u001b[0;31m         \u001b[0mscore\u001b[0m \u001b[0;34m=\u001b[0m \u001b[0mscoring_function\u001b[0m\u001b[0;34m(\u001b[0m\u001b[0mtest_set\u001b[0m\u001b[0;34m,\u001b[0m \u001b[0mtraining_set\u001b[0m\u001b[0;34m,\u001b[0m \u001b[0;34m*\u001b[0m\u001b[0mparam_list\u001b[0m\u001b[0;34m)\u001b[0m\u001b[0;34m\u001b[0m\u001b[0m\n\u001b[0m\u001b[1;32m     58\u001b[0m         \u001b[0;32mprint\u001b[0m\u001b[0;34m(\u001b[0m\u001b[0;34m\"Score: \"\u001b[0m\u001b[0;34m,\u001b[0m\u001b[0mscore\u001b[0m\u001b[0;34m)\u001b[0m\u001b[0;34m\u001b[0m\u001b[0m\n\u001b[1;32m     59\u001b[0m         \u001b[0mscore_list\u001b[0m\u001b[0;34m.\u001b[0m\u001b[0mappend\u001b[0m\u001b[0;34m(\u001b[0m\u001b[0mscore\u001b[0m\u001b[0;34m)\u001b[0m\u001b[0;34m\u001b[0m\u001b[0m\n",
      "\u001b[0;32m<ipython-input-61-1a39c2f8630f>\u001b[0m in \u001b[0;36mperplex\u001b[0;34m(test_set, training_set, order)\u001b[0m\n\u001b[1;32m     17\u001b[0m     \u001b[0;32mfor\u001b[0m \u001b[0mlines\u001b[0m \u001b[0;32min\u001b[0m \u001b[0mgrams\u001b[0m\u001b[0;34m:\u001b[0m\u001b[0;34m\u001b[0m\u001b[0m\n\u001b[1;32m     18\u001b[0m         \u001b[0mN\u001b[0m \u001b[0;34m+=\u001b[0m \u001b[0;36m1.0\u001b[0m\u001b[0;34m\u001b[0m\u001b[0m\n\u001b[0;32m---> 19\u001b[0;31m         \u001b[0mPP\u001b[0m \u001b[0;34m*=\u001b[0m \u001b[0mcalculate_wb\u001b[0m\u001b[0;34m(\u001b[0m\u001b[0mlines\u001b[0m\u001b[0;34m[\u001b[0m\u001b[0;36m0\u001b[0m\u001b[0;34m]\u001b[0m\u001b[0;34m,\u001b[0m \u001b[0mlines\u001b[0m\u001b[0;34m[\u001b[0m\u001b[0;36m1\u001b[0m\u001b[0;34m]\u001b[0m\u001b[0;34m,\u001b[0m \u001b[0mcount_list\u001b[0m\u001b[0;34m)\u001b[0m\u001b[0;34m\u001b[0m\u001b[0m\n\u001b[0m\u001b[1;32m     20\u001b[0m \u001b[0;34m\u001b[0m\u001b[0m\n\u001b[1;32m     21\u001b[0m     \u001b[0;31m# return the decimal form\u001b[0m\u001b[0;34m\u001b[0m\u001b[0;34m\u001b[0m\u001b[0m\n",
      "\u001b[0;32m<ipython-input-27-a4600372a3b1>\u001b[0m in \u001b[0;36mcalculate_wb\u001b[0;34m(prefix, suffix, count_list)\u001b[0m\n\u001b[1;32m     20\u001b[0m     \u001b[0;31m# unigram calculations\u001b[0m\u001b[0;34m\u001b[0m\u001b[0;34m\u001b[0m\u001b[0m\n\u001b[1;32m     21\u001b[0m     \u001b[0mch\u001b[0m \u001b[0;34m=\u001b[0m \u001b[0mBitWeight\u001b[0m\u001b[0;34m(\u001b[0m\u001b[0msum\u001b[0m\u001b[0;34m(\u001b[0m\u001b[0mcount_list\u001b[0m\u001b[0;34m[\u001b[0m\u001b[0;36m0\u001b[0m\u001b[0;34m]\u001b[0m\u001b[0;34m[\u001b[0m\u001b[0;34m(\u001b[0m\u001b[0;34m)\u001b[0m\u001b[0;34m]\u001b[0m\u001b[0;34m.\u001b[0m\u001b[0mvalues\u001b[0m\u001b[0;34m(\u001b[0m\u001b[0;34m)\u001b[0m\u001b[0;34m)\u001b[0m\u001b[0;34m)\u001b[0m\u001b[0;34m\u001b[0m\u001b[0m\n\u001b[0;32m---> 22\u001b[0;31m     \u001b[0mN_one\u001b[0m \u001b[0;34m=\u001b[0m \u001b[0mBitWeight\u001b[0m\u001b[0;34m(\u001b[0m\u001b[0mlen\u001b[0m\u001b[0;34m(\u001b[0m\u001b[0mcount_list\u001b[0m\u001b[0;34m[\u001b[0m\u001b[0;36m0\u001b[0m\u001b[0;34m]\u001b[0m\u001b[0;34m[\u001b[0m\u001b[0;34m(\u001b[0m\u001b[0;34m)\u001b[0m\u001b[0;34m]\u001b[0m\u001b[0;34m.\u001b[0m\u001b[0mkeys\u001b[0m\u001b[0;34m(\u001b[0m\u001b[0;34m)\u001b[0m\u001b[0;34m)\u001b[0m\u001b[0;34m)\u001b[0m\u001b[0;34m\u001b[0m\u001b[0m\n\u001b[0m\u001b[1;32m     23\u001b[0m     \u001b[0mlam\u001b[0m \u001b[0;34m=\u001b[0m \u001b[0mBitWeight\u001b[0m\u001b[0;34m.\u001b[0m\u001b[0m__truediv__\u001b[0m\u001b[0;34m(\u001b[0m\u001b[0mch\u001b[0m\u001b[0;34m,\u001b[0m\u001b[0;34m(\u001b[0m\u001b[0mch\u001b[0m\u001b[0;34m+\u001b[0m\u001b[0mN_one\u001b[0m\u001b[0;34m)\u001b[0m\u001b[0;34m)\u001b[0m\u001b[0;34m\u001b[0m\u001b[0m\n\u001b[1;32m     24\u001b[0m     \u001b[0mone_min_lam\u001b[0m \u001b[0;34m=\u001b[0m \u001b[0mBitWeight\u001b[0m\u001b[0;34m.\u001b[0m\u001b[0m__truediv__\u001b[0m\u001b[0;34m(\u001b[0m\u001b[0mN_one\u001b[0m\u001b[0;34m,\u001b[0m\u001b[0;34m(\u001b[0m\u001b[0mch\u001b[0m\u001b[0;34m+\u001b[0m\u001b[0mN_one\u001b[0m\u001b[0;34m)\u001b[0m\u001b[0;34m)\u001b[0m\u001b[0;34m\u001b[0m\u001b[0m\n",
      "\u001b[0;31mKeyboardInterrupt\u001b[0m: "
     ]
    }
   ],
   "source": [
    "# Whitten-Bell Trigram\n",
    "_ = n_fold_on_training(tl[:10000],10, perplex, [3])"
   ]
  },
  {
   "cell_type": "code",
   "execution_count": 70,
   "metadata": {},
   "outputs": [
    {
     "name": "stdout",
     "output_type": "stream",
     "text": [
      "10  FOLD CROSS VALIDATION\n",
      "-------  FOLD 0  ------------\n",
      "Score:  0.00691358466856\n",
      "-------  FOLD 1  ------------\n",
      "Score:  0.00803444392229\n",
      "-------  FOLD 2  ------------\n",
      "Score:  0.00598712444934\n",
      "-------  FOLD 3  ------------\n",
      "Score:  0.00808935584471\n",
      "-------  FOLD 4  ------------\n",
      "Score:  0.0100803767591\n",
      "-------  FOLD 5  ------------\n",
      "Score:  0.00732284131484\n",
      "-------  FOLD 6  ------------\n",
      "Score:  0.00646183848128\n",
      "-------  FOLD 7  ------------\n",
      "Score:  0.00884412283697\n",
      "-------  FOLD 8  ------------\n",
      "Score:  0.0100804495269\n",
      "-------  FOLD 9  ------------\n",
      "Score:  0.00834024323432\n",
      "\n",
      "Mean Score:  0.00801543810383\n"
     ]
    }
   ],
   "source": [
    "# Whitten-Bell 4-gram\n",
    "_ = n_fold(tl[:1000],10, perplex, [20])"
   ]
  },
  {
   "cell_type": "markdown",
   "metadata": {},
   "source": [
    "### Whitten-Bell Perplexity 10 Fold Cross validation for 'wsj-normalize.pos'\n",
    "##### Unigram, Bigram, Trigram, and 4-gram"
   ]
  },
  {
   "cell_type": "code",
   "execution_count": 190,
   "metadata": {},
   "outputs": [
    {
     "name": "stdout",
     "output_type": "stream",
     "text": [
      "10  FOLD CROSS VALIDATION\n",
      "-------  FOLD 0  ------------\n",
      "Score:  385.314744887\n",
      "-------  FOLD 1  ------------\n",
      "Score:  362.588721062\n",
      "-------  FOLD 2  ------------\n",
      "Score:  345.103155197\n",
      "-------  FOLD 3  ------------\n",
      "Score:  325.047961849\n",
      "-------  FOLD 4  ------------\n",
      "Score:  292.448955251\n",
      "-------  FOLD 5  ------------\n",
      "Score:  301.972188781\n",
      "-------  FOLD 6  ------------\n",
      "Score:  334.213259241\n",
      "-------  FOLD 7  ------------\n",
      "Score:  372.325382191\n",
      "-------  FOLD 8  ------------\n",
      "Score:  333.449559403\n",
      "-------  FOLD 9  ------------\n",
      "Score:  287.906906725\n",
      "\n",
      "Mean Score:  334.037083459\n"
     ]
    }
   ],
   "source": [
    "# 10 Fold Cross Validation for 'wsj-normalized.pos' showing results\n",
    "# Whitten-Bell Unigram\n",
    "tln = file_to_list('wsj-normalized.pos')\n",
    "_ = n_fold(tln[:10000],10, perplex, [1])"
   ]
  },
  {
   "cell_type": "code",
   "execution_count": 191,
   "metadata": {},
   "outputs": [
    {
     "name": "stdout",
     "output_type": "stream",
     "text": [
      "10  FOLD CROSS VALIDATION\n",
      "-------  FOLD 0  ------------\n",
      "Score:  536.668123777\n",
      "-------  FOLD 1  ------------\n",
      "Score:  504.52841606\n",
      "-------  FOLD 2  ------------\n",
      "Score:  487.908528265\n",
      "-------  FOLD 3  ------------\n",
      "Score:  455.026915521\n",
      "-------  FOLD 4  ------------\n",
      "Score:  410.815966191\n",
      "-------  FOLD 5  ------------\n",
      "Score:  426.592805702\n",
      "-------  FOLD 6  ------------\n",
      "Score:  466.590636597\n",
      "-------  FOLD 7  ------------\n",
      "Score:  512.722089735\n",
      "-------  FOLD 8  ------------\n",
      "Score:  470.998593417\n",
      "-------  FOLD 9  ------------\n",
      "Score:  403.667070549\n",
      "\n",
      "Mean Score:  467.551914581\n"
     ]
    }
   ],
   "source": [
    "# Whitten-Bell Bigram\n",
    "_ = n_fold(tln[:10000],10, perplex, [2])"
   ]
  },
  {
   "cell_type": "code",
   "execution_count": 192,
   "metadata": {},
   "outputs": [
    {
     "name": "stdout",
     "output_type": "stream",
     "text": [
      "10  FOLD CROSS VALIDATION\n",
      "-------  FOLD 0  ------------\n",
      "Score:  243.518151366\n",
      "-------  FOLD 1  ------------\n",
      "Score:  233.307136954\n",
      "-------  FOLD 2  ------------\n",
      "Score:  218.783410549\n",
      "-------  FOLD 3  ------------\n",
      "Score:  208.789728743\n",
      "-------  FOLD 4  ------------\n",
      "Score:  180.233674194\n",
      "-------  FOLD 5  ------------\n",
      "Score:  193.155898579\n",
      "-------  FOLD 6  ------------\n",
      "Score:  223.024881755\n",
      "-------  FOLD 7  ------------\n",
      "Score:  229.468134118\n",
      "-------  FOLD 8  ------------\n",
      "Score:  213.999522079\n",
      "-------  FOLD 9  ------------\n",
      "Score:  196.872233605\n",
      "\n",
      "Mean Score:  214.115277194\n"
     ]
    }
   ],
   "source": [
    "# Whitten-Bell Trigram\n",
    "_ = n_fold(tln[:10000],10, perplex, [3])"
   ]
  },
  {
   "cell_type": "code",
   "execution_count": 38,
   "metadata": {},
   "outputs": [
    {
     "ename": "NameError",
     "evalue": "name 'tln' is not defined",
     "output_type": "error",
     "traceback": [
      "\u001b[0;31m---------------------------------------------------------------------------\u001b[0m",
      "\u001b[0;31mNameError\u001b[0m                                 Traceback (most recent call last)",
      "\u001b[0;32m<ipython-input-38-341c99822b58>\u001b[0m in \u001b[0;36m<module>\u001b[0;34m()\u001b[0m\n\u001b[1;32m      1\u001b[0m \u001b[0;31m# Whitten-Bell 4-gram\u001b[0m\u001b[0;34m\u001b[0m\u001b[0;34m\u001b[0m\u001b[0m\n\u001b[0;32m----> 2\u001b[0;31m \u001b[0m_\u001b[0m \u001b[0;34m=\u001b[0m \u001b[0mn_fold\u001b[0m\u001b[0;34m(\u001b[0m\u001b[0mtln\u001b[0m\u001b[0;34m[\u001b[0m\u001b[0;34m:\u001b[0m\u001b[0;36m10000\u001b[0m\u001b[0;34m]\u001b[0m\u001b[0;34m,\u001b[0m\u001b[0;36m10\u001b[0m\u001b[0;34m,\u001b[0m \u001b[0mperplex\u001b[0m\u001b[0;34m,\u001b[0m \u001b[0;34m[\u001b[0m\u001b[0;36m4\u001b[0m\u001b[0;34m]\u001b[0m\u001b[0;34m)\u001b[0m\u001b[0;34m\u001b[0m\u001b[0m\n\u001b[0m",
      "\u001b[0;31mNameError\u001b[0m: name 'tln' is not defined"
     ]
    }
   ],
   "source": [
    "# Whitten-Bell 4-gram\n",
    "_ = n_fold(tln[:10000],10, perplex, [4])"
   ]
  },
  {
   "cell_type": "markdown",
   "metadata": {},
   "source": [
    "### Questions\n",
    "\n",
    "##### 1. How does perplexity change as the model order size increases?\n",
    "It can be seen from the results of both the 'wsj.pos' and the 'wsj-normalized.pos' that as the order of the model increases the perplexity decreases. This indicates that the higher order models we see here are more accurate than the lower ones.\n",
    "\n",
    "##### 2. How does perplexity change as the data changed?\n",
    "It can be seen in the results that the model was more acurate in prediction the outcomes of the normalized file."
   ]
  },
  {
   "cell_type": "code",
   "execution_count": 74,
   "metadata": {},
   "outputs": [
    {
     "data": {
      "text/plain": [
       "0"
      ]
     },
     "execution_count": 74,
     "metadata": {},
     "output_type": "execute_result"
    }
   ],
   "source": []
  },
  {
   "cell_type": "markdown",
   "metadata": {},
   "source": [
    "<font color=\"red\">Self assessment:</font>"
   ]
  }
 ],
 "metadata": {
  "kernelspec": {
   "display_name": "Python 2",
   "language": "python",
   "name": "python2"
  },
  "language_info": {
   "codemirror_mode": {
    "name": "ipython",
    "version": 2
   },
   "file_extension": ".py",
   "mimetype": "text/x-python",
   "name": "python",
   "nbconvert_exporter": "python",
   "pygments_lexer": "ipython2",
   "version": "2.7.15"
  }
 },
 "nbformat": 4,
 "nbformat_minor": 2
}
