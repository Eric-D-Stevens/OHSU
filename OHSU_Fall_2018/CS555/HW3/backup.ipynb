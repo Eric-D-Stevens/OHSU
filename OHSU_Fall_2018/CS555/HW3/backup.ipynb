{
 "cells": [
  {
   "cell_type": "code",
   "execution_count": 1,
   "metadata": {},
   "outputs": [],
   "source": [
    "# If you what use ngrams.py you should use python2\n",
    "# Or, otherwise, you need to modify ngrams.py by yourself in order to use it in python3.\n",
    "from __future__ import print_function\n",
    "#from __future__ import unicode_literals\n",
    "from string import punctuation\n",
    "import re\n",
    "import numpy as np\n",
    "from ngrams import ngrams\n",
    "from collections import defaultdict\n",
    "from bitweight import BitWeight, BitWeightRangeError"
   ]
  },
  {
   "cell_type": "code",
   "execution_count": 2,
   "metadata": {},
   "outputs": [],
   "source": [
    "small_corpus = ['Why dont we start here',\n",
    "                  'Why dont we end there',\n",
    "                  'Let us start with a few other examples',\n",
    "                  'We never start with an example with so few tokens',\n",
    "                  'Tokens can be words that we start with in example docs']\n"
   ]
  },
  {
   "cell_type": "code",
   "execution_count": 3,
   "metadata": {},
   "outputs": [],
   "source": [
    "def tokenize(corpus):\n",
    "    tokens = [sentence.split(' ') for sentence in corpus]\n",
    "    return tokens\n"
   ]
  },
  {
   "cell_type": "code",
   "execution_count": null,
   "metadata": {},
   "outputs": [],
   "source": []
  },
  {
   "cell_type": "markdown",
   "metadata": {},
   "source": [
    "# HW3: Language Modeling\n",
    "For this part of the assignment, you will implement two simple count-based n-gram language models: one based on maximum-likelihood estimation, and another based on Witten-Bell smoothing. The data you will be using is a subset of the Penn Treebank's tagged Wall Street Journal articles on which we have done some initial processing. There are two versions of the data for this assignment:\n",
    "\n",
    "##### wsj.pos.gz\n",
    "##### wsj-normalized.pos.gz\n",
    "The difference is that, in the second (normalized) version of the data, we have collapsed some entries from certain tag categories (e.g. CDs, NNPs, etc.) into type-tokens to help reduce sparsity. Take a look at the data and see for yourself. Consider: what would be the benefits and drawbacks to this method of sparsity reduction? Note that, for this part of the assignment, the tags are un-necessary, so you'll want to work with the un-normalized version of the corpus."
   ]
  },
  {
   "cell_type": "markdown",
   "metadata": {},
   "source": [
    "### Task 1: produce a tag-free corpus\n",
    "\n",
    "For this task, you have two jobs. \n",
    "* First, you need to write a function to filter out all tags. \n",
    "* Second, Make sure your code works for both wsj.pos.gz and wsj-normalized.pos.gz\n",
    "\n",
    "####What to turn in\n",
    "* your code\n",
    "* some samples to show me that your code works as it should be"
   ]
  },
  {
   "cell_type": "code",
   "execution_count": 4,
   "metadata": {},
   "outputs": [
    {
     "name": "stdout",
     "output_type": "stream",
     "text": [
      "Digital Equipment Corp. reported a 32 % decline in net income on a modest revenue gain in its fiscal first quarter  causing some analysts to predict weaker results ahead than they had expected . \n",
      "\n",
      "Although the second-largest computer maker had prepared Wall Street for a poor quarter  analysts said they were troubled by signs of flat U.S. orders and a slowdown in the rate of gain in foreign orders . The Maynard  Mass.  company is in a transition in which it is trying to reduce its reliance on mid-range machines and establish a presence in workstations and mainframes . \n",
      "\n",
      "Net for the quarter ended Sept. 30 fell to $ 150.8 million  or $ 1.20 a share  from $ 223 million  or $ 1.71 a share  a year ago . Revenue rose 6.4 % to $ 3.13 billion from $ 2.94 billion . \n",
      "\n",
      "Digital said a shift in its product mix toward low-end products and strong growth in workstation sales yielded lower gross margins . A spokesman also said margins for the company s service business narrowed somewhat because of heavy investments made in that sector . \n",
      "\n",
      "The lack of a strong product at the high end of Digital s line was a significant drag on sales . Digital hopes to address that with the debut of its first mainframe-class computers next Tuesday . The new line is aimed directly at International Business Machines Corp . \n",
      "\n",
      " Until the new mainframe products kick in  there wo nt be a lot of revenue contribution at the high end  and that s hurt us   said Mark Steinkrauss  Digital s director of investor relations . He said unfavorable currency translations were also a factor in the quarter . \n",
      "\n",
      "DEC shares rose $ 1.375 to $ 89.75 apiece in consolidated New York Stock Exchange trading yesterday . But analysts said that against the backdrop of a nearly 40-point rise in the Dow Jones Industrial Average  that should nt necessarily be taken as a sign of great strength . Some cut their earnings estimates for the stock this year and predicted more efforts to control costs ahead . \n",
      "\n",
      " I think the next few quarters will be difficult   said Steven Milunovich of First Boston .  Margins will remain under pressure  and when the new mainframe does ship  I m not sure it will be a big winner .  Mr. Milunovich said he was revising his estimate for DEC s current year from $ 8.20 a share to  well below $ 8   although he has nt settled on a final number . \n",
      "\n",
      "One troubling aspect of DEC s results  analysts said  was its performance in Europe . DEC said its overseas business  which now accounts for more than half of sales  improved in the quarter . It even took the unusually frank step of telling analysts in a morning conference call that orders in Europe were up in  double digits  in foreign-currency terms . \n",
      "\n",
      "That gain probably translated into about 5 % to 7 % in dollar terms  well below recent quarters  gains of above 20 %  reckons Jay Stevens of Dean Witter Reynolds .  That was a disappointment  and a sign of overall computer-market softness in Europe  Mr. Stevens said . \n",
      "\n"
     ]
    }
   ],
   "source": [
    "def file_to_list(filename):\n",
    "    with open(filename, 'r') as content_file:\n",
    "        content = content_file.read()\n",
    "        no_tags = re.sub('(/[A-Z$]{2,4})|(\\.\\s+[a-z])|(/[.,$])|[\\\\,/\\'`]', '', content)\n",
    "        return re.split('[\\n]',no_tags)\n",
    "        \n",
    "s = file_to_list(\"./wsj.pos\")\n",
    "for x in range(10): print(s[x],'\\n')"
   ]
  },
  {
   "cell_type": "markdown",
   "metadata": {},
   "source": [
    "<font color=\"red\">Self assessment:</font>"
   ]
  },
  {
   "cell_type": "markdown",
   "metadata": {},
   "source": [
    "### Maximum Likelihood\n",
    "Now, start by producing code to compute maximum-likelihood estimate probabilities. Your code should be configurable with respect to the n-gram order- i.e., you should be able to set it to compute bigram, trigram, 4-gram, etc. probabilities. Refer to J&M and the lecture slides for definitions as needed. If you would like to write your own n-gram tokenization code, feel free to do so, but you may also use the ngrams.py utility class which contains a routine to take a list of tokens and produce a stream of n-grams with appropriate padding for the start and end of sentences.\n",
    "\n",
    "#### Tip: \n",
    "* Start with a very small \"toy\" corpus of just a couple of sentences for debugging. \n",
    "\n",
    "* As discussed in class, I strongly recommend using nested defaultdicts as the foundational data structure for your language model, where the \"outer\" key is the prefix, and the value retrieved by that prefix is a second defaultdict  containing possible suffices for that prefix, each of which is an \"inner\" key. E.g., p(\"TRUTHS\" | \"HOLD THESE\") would be retrieved by first looking up \"HOLD THESE\" and then from the resulting dictionary, looking up \"TRUTHS\": prob = trigrams[(\"HOLD\",\"THESE\")][\"TRUTHS\"] . Note that this arrangement makes it very easy to e.g. find out the number of times a given history occurs, the total probability mass assigned to all of a history's continuations, etc., all of which will be extremely helpful in the next part of the assignment.\n",
    "\n",
    "* Use tuples to represent prefixes. E.g., instead of the string \"HOLD THESE\", use the tuple (\"HOLD\", \"THESE\"). Note that, in Python, lists are mutable, and therefore may not be used as keys in dictionaries- but tuples are immutable, and so make excellent keys.\n",
    "\n",
    "* Don't forget about numerical underflow issues! You'll want to represent probabilities as negative base-2 log probabilities, and modify your arithmetic accordingly. I recommend experimenting with [the bitweight Python library](https://github.com/stevenbedrick/bitweight) (see its unit tests for example usage).\n",
    "* \n",
    "\n",
    "#### What to turn in:\n",
    "* your code \n",
    "* use your code to create a simple language model for small_corpus named as small_lm and show me that your output is correct(This is a small coupus so you could manully calculate the probalility).\n",
    "* use your code to create language model for wsj.pos.gz named as wsj_lm"
   ]
  },
  {
   "cell_type": "code",
   "execution_count": 77,
   "metadata": {},
   "outputs": [
    {
     "name": "stdout",
     "output_type": "stream",
     "text": [
      "0\n",
      "()  :  dont  :  2.0\n",
      "()  :  an  :  1.0\n",
      "()  :  examples  :  1.0\n",
      "()  :  in  :  1.0\n",
      "()  :  We  :  1.0\n",
      "()  :  end  :  1.0\n",
      "()  :  start  :  4.0\n",
      "()  :  there  :  1.0\n",
      "()  :  Tokens  :  1.0\n",
      "()  :  few  :  2.0\n",
      "()  :  other  :  1.0\n",
      "()  :  Let  :  1.0\n",
      "()  :  Why  :  2.0\n",
      "()  :  be  :  1.0\n",
      "()  :  we  :  3.0\n",
      "()  :  that  :  1.0\n",
      "()  :  docs  :  1.0\n",
      "()  :  never  :  1.0\n",
      "()  :  here  :  1.0\n",
      "()  :  tokens  :  1.0\n",
      "()  :  words  :  1.0\n",
      "()  :  with  :  4.0\n",
      "()  :  a  :  1.0\n",
      "()  :  us  :  1.0\n",
      "()  :  so  :  1.0\n",
      "()  :  can  :  1.0\n",
      "()  :  example  :  2.0\n"
     ]
    }
   ],
   "source": [
    "\n",
    "# generates a model with just counts\n",
    "def max_likelihood(corpus, order):\n",
    "    \n",
    "    #ngram\n",
    "    ng = ngrams(corpus, order)\n",
    "\n",
    "    # describe model datatype\n",
    "    model = defaultdict(lambda: defaultdict(BitWeight))\n",
    "    \n",
    "    # loop to build embedded defaultdict    \n",
    "    for gram in ng: \n",
    "        if not gram[1] in model[gram[0]]:\n",
    "            model[gram[0]][gram[1]] = BitWeight(1)\n",
    "        else:\n",
    "            model[gram[0]][gram[1]] += BitWeight(1)\n",
    "\n",
    "    return model\n",
    "\n",
    "# converts counts into maximum likelihood probabilities\n",
    "def model_probabilities(model):\n",
    "    \n",
    "    # for prefixes in model\n",
    "    for prefix, suffix_dict in model.iteritems():\n",
    "        w_minus = BitWeight(0)\n",
    "        for suffix, count in suffix_dict.iteritems():\n",
    "            w_minus += count\n",
    "        for suffix, count in suffix_dict.iteritems():\n",
    "            count = BitWeight.__itruediv__(count,w_minus)\n",
    "    \n",
    "    return\n",
    "\n",
    "\n",
    "\n",
    "# model printer\n",
    "def model_printer(model):\n",
    "    for prefix, suffix_dict in model.iteritems() :\n",
    "        for suffix, value in suffix_dict.iteritems():\n",
    "            print(prefix,\" : \", suffix, \" : \", value.real())\n",
    "\n",
    "\n",
    " \n",
    "            \n",
    "\n",
    "small_tokens = tokenize(small_corpus)\n",
    "mx = max_likelihood(small_tokens, 1)\n",
    "#model_probabilities(mx)\n",
    "print(len(mx[('<S_0>', '<S_1>')].keys()))\n",
    "#print(sum(mx[('<S_0>', '<S_1>')].values()))\n",
    "model_printer(mx)\n",
    "\n"
   ]
  },
  {
   "cell_type": "code",
   "execution_count": 54,
   "metadata": {},
   "outputs": [
    {
     "name": "stdout",
     "output_type": "stream",
     "text": [
      "2.0\n"
     ]
    },
    {
     "data": {
      "text/plain": [
       "0.5"
      ]
     },
     "execution_count": 54,
     "metadata": {},
     "output_type": "execute_result"
    }
   ],
   "source": [
    "\n",
    "x = BitWeight(1)\n",
    "m = x+BitWeight(1)\n",
    "print(m.real())\n",
    "\n",
    "d = {}\n",
    "d['a']=BitWeight(1)\n",
    "d['b']=BitWeight(2)\n",
    "\n",
    "\n",
    "BitWeight.__itruediv__(d['a'],d['b']).real()"
   ]
  },
  {
   "cell_type": "markdown",
   "metadata": {},
   "source": [
    "<font color=\"red\">Self assessment:</font>"
   ]
  },
  {
   "cell_type": "markdown",
   "metadata": {},
   "source": [
    "### Smoothing\n",
    "\n",
    "Once you’ve got an unsmoothed model working, move on to implementing Witten-Bell smoothing. Refer to the slides and J&M for details on how that ought to work.\n",
    "\n",
    "#### Tip: \n",
    "* You can modify an already-populated defaultdict to change its default value (for example, to store a default backoff value for a particular history) by changing the object’s default_factory attribute. Consult the documentation for examples of how this works.\n",
    "* As defined, W-B smoothing is highly recursive; you may find it more efficient to re-frame the algorithm in iterative terms.\n",
    "* As in the previous section, start small.\n",
    "* [This may offer you some help on how to implement Witten-Bell smoothing](http://www.ee.columbia.edu/~stanchen/e6884/labs/lab3/x207.html)\n",
    "\n",
    "\n",
    "#### What to turn in:\n",
    "* your code \n",
    "* use your code to create a simple smoothed language model based on small_lm  and show me that your output is correct(This is a small coupus so you could manully calculate the probalility).\n",
    "* use your code to create a smoothed language model based on wsj_lm"
   ]
  },
  {
   "cell_type": "markdown",
   "metadata": {},
   "source": [
    "<font color=\"red\">Self assessment:</font>"
   ]
  },
  {
   "cell_type": "markdown",
   "metadata": {},
   "source": [
    "### Evaluation via Perplexity\n",
    "Explore the effects of n-gram order using perplexity. Perform ten-fold cross-validation on the WSJ corpus. On each iteration, this will give you a different 90/10 training/test split; train a smoothed language model on the 9 training sections, and compute the average per-token perplexity of the tenth section. The slides from the language modeling lecture give the equation for perplexity computation (as does J&M chapter 4); you'll need to modify the equation a bit, since we're using log-probabilities. \n",
    "\n",
    "Now, try this for unigram, bigram, trigram, and 4-gram models. \n",
    "\n",
    "#### What to turn in\n",
    "* your cross-validation function. You are not suppose to use any cross-validation function from any module. You should implement it by yourself.\n",
    "* your perplexity function\n",
    "* cross-validation result for unigram, bigram, trigram, and 4-gram models on wsj.pos.gz\n",
    "* cross-validation result for unigram, bigram, trigram, and 4-gram models on wsj-normalized.pos.gz.\n",
    "* Answer following 2 questions: \n",
    "    * How does perplexity change as the model order size increases?\n",
    "    * How does perplexity change as the data changed?"
   ]
  },
  {
   "cell_type": "code",
   "execution_count": null,
   "metadata": {},
   "outputs": [],
   "source": [
    "def wb(ngram, prefix, suffix):\n",
    "    \n",
    "    # base case\n",
    "    if prefix == ():\n",
    "        ml = max_likelihood(ngram, 1)\n",
    "        \n",
    "        # get tokens\n",
    "        tokens = sum(ml[()].values())\n",
    "        types = len(ml[()].keys())\n",
    "        \n",
    "        # use above to build lambda(.)\n",
    "        lambda_dot = tokens/(tokens+types)\n",
    "        one-lambda_dot = 1 - lambda_dot\n",
    "        V=types\n",
    "        P_uni = get_probability(ml[prefix][suffix])\n",
    "        \n",
    "        WB = #see slide to assemble\n",
    "        return WB\n",
    "    \n",
    "    \n",
    "    # BUILD LAMBDA HIST\n",
    "    order = len(prefix)\n",
    "    WB = wb(ngram, prefix[1:], suffix)\n",
    "    \n",
    "    ml = max_likelihood(ngram, order)\n",
    "    \n",
    "    Nplus = len(ml[prefix].keys())\n",
    "    countsum = sum(ml[prefix].values())\n",
    "    \n",
    "    \n",
    "    \n",
    "    \n",
    "    \n",
    "    \n",
    "        \n"
   ]
  },
  {
   "cell_type": "markdown",
   "metadata": {},
   "source": [
    "<font color=\"red\">Self assessment:</font>"
   ]
  },
  {
   "cell_type": "code",
   "execution_count": 89,
   "metadata": {},
   "outputs": [],
   "source": [
    "tup = ('a','b','c')"
   ]
  },
  {
   "cell_type": "code",
   "execution_count": 92,
   "metadata": {},
   "outputs": [
    {
     "data": {
      "text/plain": [
       "()"
      ]
     },
     "execution_count": 92,
     "metadata": {},
     "output_type": "execute_result"
    }
   ],
   "source": [
    "tup = tup[1:]\n",
    "tup"
   ]
  },
  {
   "cell_type": "code",
   "execution_count": null,
   "metadata": {},
   "outputs": [],
   "source": []
  }
 ],
 "metadata": {
  "kernelspec": {
   "display_name": "Python 2",
   "language": "python",
   "name": "python2"
  },
  "language_info": {
   "codemirror_mode": {
    "name": "ipython",
    "version": 2
   },
   "file_extension": ".py",
   "mimetype": "text/x-python",
   "name": "python",
   "nbconvert_exporter": "python",
   "pygments_lexer": "ipython2",
   "version": "2.7.15"
  }
 },
 "nbformat": 4,
 "nbformat_minor": 2
}
