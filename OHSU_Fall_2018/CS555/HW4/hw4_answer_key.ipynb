{
 "cells": [
  {
   "cell_type": "code",
   "execution_count": 1,
   "metadata": {},
   "outputs": [],
   "source": [
    "import numpy as np\n",
    "from matplotlib import pyplot as plt"
   ]
  },
  {
   "cell_type": "markdown",
   "metadata": {},
   "source": [
    "# HW4\n",
    "\n",
    "\n",
    "## VQ and EM  algorithm\n",
    "\n",
    "This homework we'll be focusing on EM Algorithm on a very simple coin tossing example. The goal of the homework is to estimate the parameters of the model given training examples. The homework is based on the following paper and you are highly encouraged to read through the paper to fully understand the problem:\n",
    "\n",
    "* Do, Chuong B., and Serafim Batzoglou. \"What is the expectation maximization algorithm?.\" Nature biotechnology 26.8 (2008): 897-899.\n",
    "\n",
    "The observed features are sequences of twenty heads (H) and tails (T) coming from three unfair coins as follow stored at `seq_H_T.txt`. We generate these samples with three different coins. We also offer you the code for sample generation.\n",
    "\n",
    "     \n",
    "### Part 1 - Vector quantization\n",
    "Given the sample sequences of three coins, estimate the biases (centers) using VQ (k-means) algorithm. For implementing k-means, you can randomly initialize three centers from the range of 0 to 1. This mean we will group samples based on their frequency of heads. For example, let's say we have two centers, 0.2 and 0.9, and a sample, frequency of heads is 0.7. Then, this sample would be consider belongs to the second group. \n",
    "\n",
    "Also since we already know that there are only three coins, we fix the total number of centers to 3.\n",
    "\n",
    "\n",
    "#### What to turn in:\n",
    "\n",
    "1. Submit your estimated biases at the end of 25th itration of both VQ and EM along with your codes. \n",
    "    2. Check how quickly parameters of the model (biases in this example) converge by drawing  parametrs in a plot where the X axis is the number of iteration and Y axis is the estimated biased values. It should looks like this ![](VQ.png)"
   ]
  },
  {
   "cell_type": "code",
   "execution_count": 2,
   "metadata": {},
   "outputs": [],
   "source": [
    "class VQ_alg:\n",
    "    def __init__(self, filename='seq_H_T.txt', n_coin=3, Iter=25):\n",
    "        X = np.loadtxt(filename)\n",
    "        self.n_samp, self.n_dim = X.shape\n",
    "        self.n_coin = n_coin\n",
    "        self.samp_prob = 1.0 * np.sum(X, 1) / self.n_dim\n",
    "        self.Iter = Iter  # number of iterations \n",
    "        \n",
    "        \n",
    "        # theta\n",
    "        self.init_coins_prob = [0.4, 0.6, 0.9]\n",
    "        self.history_thera_coins = [self.init_coins_prob]\n",
    "    \n",
    "    def VQ(self):\n",
    "        for iter in range(self.Iter):\n",
    "            group_datas = [[] for i in range(self.n_coin)]\n",
    "            theta_coins = self.history_thera_coins[-1]\n",
    "\n",
    "\n",
    "            ## E-step\n",
    "            for i in range(self.n_samp):\n",
    "                lowest_distance = 1.0\n",
    "                samp_belonging = None\n",
    "                for coin_id in range(self.n_coin):\n",
    "                    distance = np.power(theta_coins[coin_id] - self.samp_prob[i], 2)\n",
    "                    if  distance < lowest_distance:\n",
    "                        lowest_distance = distance\n",
    "                        samp_belonging = coin_id\n",
    "                # assign the sample to the coin\n",
    "                group_datas[samp_belonging].append(self.samp_prob[i])\n",
    "\n",
    "            ## M-step\n",
    "            new_coins_prob = [None] * self.n_coin\n",
    "            for coin_id in range(self.n_coin):\n",
    "                group = np.array(group_datas[coin_id])\n",
    "                new_coins_prob[coin_id] = np.sum(group) / len(group)\n",
    "            \n",
    "            self.history_thera_coins.append(new_coins_prob)\n",
    "            \n",
    "        self.history_thera_coins = np.array(self.history_thera_coins)\n",
    "\n"
   ]
  },
  {
   "cell_type": "code",
   "execution_count": 3,
   "metadata": {},
   "outputs": [],
   "source": [
    "vq = VQ_alg()\n",
    "vq.VQ()"
   ]
  },
  {
   "cell_type": "code",
   "execution_count": 4,
   "metadata": {},
   "outputs": [
    {
     "data": {
      "image/png": "[encoded data removed]",
      "text/plain": [
       "<Figure size 432x288 with 1 Axes>"
      ]
     },
     "metadata": {},
     "output_type": "display_data"
    }
   ],
   "source": [
    "for i in range(3):\n",
    "    plt.plot(vq.history_thera_coins[:,i],label=r'$\\theta_{}$'.format(i))\n",
    "\n",
    "plt.ylabel(r'$\\theta$')\n",
    "plt.xlabel('iteration')\n",
    "plt.legend()\n",
    "plt.show() "
   ]
  },
  {
   "cell_type": "markdown",
   "metadata": {},
   "source": [
    "# Expectation Maximization\n",
    "\n",
    "Given three coins A, B, and C of unknown biases, $\\theta_A$, $\\theta_B$, and $\\theta_C$ and set of training example, \n",
    "the goal of this code is to  etimate the parameters of the model $\\Theta = (\\theta_A, \\theta_B, \\theta_C)$.  The code is based on the following paper and you are highly encouraged to read through the paper to fully understand the problem:\n",
    "\n",
    " * Do, Chuong B., and Serafim Batzoglou. \"What is the expectation maximization algorithm?.\" Nature biotechnology 26.8 (2008): 897-899."
   ]
  },
  {
   "cell_type": "markdown",
   "metadata": {},
   "source": [
    "The observed features are sequences of twenty heads (H) and tails (T) coming from three unfair coins."
   ]
  },
  {
   "cell_type": "markdown",
   "metadata": {},
   "source": [
    "### Model\n",
    "Since the outcome of each coin is either head or tail, a Bernoulli distribution describes the outcome. \n",
    "\n",
    "\\begin{equation}\n",
    "p(H | \\theta_A) = \\theta_A^H (1-\\theta_A)^{T}\n",
    "\\end{equation}\n",
    "\n",
    "Log-likelihood score is given by:\n",
    "$$L(\\Theta|\\textbf{X})=\\sum_{i=1}^N{\\log\\sum_{k=1}^3{\\pi_k p(X_i|\\theta_k)}}$$"
   ]
  },
  {
   "cell_type": "code",
   "execution_count": 5,
   "metadata": {},
   "outputs": [],
   "source": [
    "class EM_alg:\n",
    "    def __init__(self, filename='seq_H_T.txt', n_coin=3):\n",
    "        X = np.loadtxt(filename)\n",
    "        self.n_samp, self.n_dim = X.shape\n",
    "        self.H = np.sum(X,axis=1)\n",
    "        self.T = self.n_dim - self.H\n",
    "        self.n_coin = n_coin\n",
    "        \n",
    "        self. Iter = 25  # number of iterations \n",
    "        \n",
    "        \n",
    "        # theta\n",
    "        init_theta = [0.4, 0.6, 0.9]\n",
    "        self.p_coin_given_x = np.zeros((self.n_coin, self.n_samp))\n",
    "        self.p_x_given_coin = np.zeros((self.n_coin, self.n_samp))\n",
    "\n",
    "        self.LL = np.zeros(self.Iter)\n",
    "        self.Theta_coins = [init_theta]\n",
    "        self.LL = []\n",
    "        \n",
    "    def binom_prb(self, theta, H, T):\n",
    "        return 1.0 * theta**H * (1-theta)**T \n",
    "    \n",
    "    def EM(self):\n",
    "        for iter in range(self.Iter):\n",
    "            if iter == 0:\n",
    "                theta_coins = self.Theta_coins[0]\n",
    "\n",
    "                p_coins = [1.0/self.n_coin] * self.n_coin\n",
    "\n",
    "\n",
    "            ## E-step\n",
    "            for i in range(self.n_samp):\n",
    "                for coin_id in range(self.n_coin):\n",
    "                    self.p_x_given_coin[coin_id][i] = self.binom_prb(theta_coins[coin_id],self.H[i],self.T[i])\n",
    "                    \n",
    "                p_x = np.sum([p_coins[coin_id] * self.p_x_given_coin[coin_id][i] for coin_id in range(self.n_coin)])\n",
    "                \n",
    "                for coin_id in range(self.n_coin):\n",
    "                    self.p_coin_given_x[coin_id][i] = 1.0 * self.p_x_given_coin[coin_id][i] * p_coins[coin_id] / p_x\n",
    "\n",
    "\n",
    "            ## M-step\n",
    "            # updating biases\n",
    "            theta_coins =[ 1.0 * np.sum(self.p_coin_given_x[coin_id]*self.H) / \n",
    "                          (np.sum(self.p_coin_given_x[coin_id]*self.H) +         \n",
    "                           np.sum(self.p_coin_given_x[coin_id]*self.T)) \n",
    "                          for coin_id in range(self.n_coin)]\n",
    "\n",
    "            # updating priors\n",
    "\n",
    "            p_coins = [1.0 * np.sum(self.p_coin_given_x[coin_id])/self.n_samp for coin_id in range(self.n_coin)]\n",
    "\n",
    "\n",
    "            p_LL=0\n",
    "            for i in range(self.n_samp):\n",
    "                p_LL = p_LL + np.log(np.sum([p_coins[coin_id] * self.p_x_given_coin[coin_id][i]\n",
    "                                             for coin_id in range(self.n_coin)]))\n",
    "            self.LL.append(1.0 * p_LL)\n",
    "\n",
    "            self.Theta_coins.append(theta_coins)\n",
    "        self.Theta_coins = np.array(self.Theta_coins)\n"
   ]
  },
  {
   "cell_type": "code",
   "execution_count": 6,
   "metadata": {},
   "outputs": [],
   "source": [
    "t = EM_alg()\n",
    "t.EM()"
   ]
  },
  {
   "cell_type": "code",
   "execution_count": 7,
   "metadata": {},
   "outputs": [
    {
     "data": {
      "image/png": "[encoded data removed]",
      "text/plain": [
       "<Figure size 432x288 with 1 Axes>"
      ]
     },
     "metadata": {},
     "output_type": "display_data"
    }
   ],
   "source": [
    "plt.plot(t.LL)\n",
    "plt.ylabel('LL')\n",
    "plt.ylabel(r'$L(\\theta)$')\n",
    "plt.xlabel('iteration')\n",
    "plt.show()"
   ]
  },
  {
   "cell_type": "code",
   "execution_count": 8,
   "metadata": {},
   "outputs": [
    {
     "data": {
      "image/png": "[encoded data removed]",
      "text/plain": [
       "<Figure size 432x288 with 1 Axes>"
      ]
     },
     "metadata": {},
     "output_type": "display_data"
    }
   ],
   "source": [
    "for i in range(3):\n",
    "    plt.plot(t.Theta_coins[:,i],label=r'$\\theta_{}$'.format(i))\n",
    "\n",
    "plt.ylabel(r'$\\theta$')\n",
    "plt.xlabel('iteration')\n",
    "plt.legend()\n",
    "plt.show() "
   ]
  },
  {
   "cell_type": "code",
   "execution_count": null,
   "metadata": {},
   "outputs": [],
   "source": []
  }
 ],
 "metadata": {
  "kernelspec": {
   "display_name": "Python 3",
   "language": "python",
   "name": "python3"
  },
  "language_info": {
   "codemirror_mode": {
    "name": "ipython",
    "version": 3
   },
   "file_extension": ".py",
   "mimetype": "text/x-python",
   "name": "python",
   "nbconvert_exporter": "python",
   "pygments_lexer": "ipython3",
   "version": "3.6.5"
  }
 },
 "nbformat": 4,
 "nbformat_minor": 2
}
